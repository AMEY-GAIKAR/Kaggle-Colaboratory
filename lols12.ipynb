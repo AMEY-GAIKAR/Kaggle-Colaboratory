{
 "cells": [
  {
   "cell_type": "code",
   "execution_count": 1,
   "id": "960f1fb3",
   "metadata": {
    "_cell_guid": "b1076dfc-b9ad-4769-8c92-a6c4dae69d19",
    "_uuid": "8f2839f25d086af736a60e9eeb907d3b93b6e0e5",
    "execution": {
     "iopub.execute_input": "2023-06-04T11:25:51.663785Z",
     "iopub.status.busy": "2023-06-04T11:25:51.663339Z",
     "iopub.status.idle": "2023-06-04T11:25:54.578894Z",
     "shell.execute_reply": "2023-06-04T11:25:54.577586Z"
    },
    "papermill": {
     "duration": 2.925183,
     "end_time": "2023-06-04T11:25:54.582063",
     "exception": false,
     "start_time": "2023-06-04T11:25:51.656880",
     "status": "completed"
    },
    "tags": []
   },
   "outputs": [],
   "source": [
    "import numpy as np\n",
    "import pandas as pd\n",
    "import plotly.express as px\n",
    "import seaborn as sns"
   ]
  },
  {
   "cell_type": "code",
   "execution_count": 2,
   "id": "e4cc2574",
   "metadata": {
    "execution": {
     "iopub.execute_input": "2023-06-04T11:25:54.591767Z",
     "iopub.status.busy": "2023-06-04T11:25:54.591346Z",
     "iopub.status.idle": "2023-06-04T11:25:54.611706Z",
     "shell.execute_reply": "2023-06-04T11:25:54.610571Z"
    },
    "papermill": {
     "duration": 0.028564,
     "end_time": "2023-06-04T11:25:54.614326",
     "exception": false,
     "start_time": "2023-06-04T11:25:54.585762",
     "status": "completed"
    },
    "tags": []
   },
   "outputs": [],
   "source": [
    "class Patch:\n",
    "    \"\"\"\n",
    "    A class for analyzing League of Legends champion statistics for different roles.\n",
    "\n",
    "    Attributes:\n",
    "    - df (pandas.DataFrame): The dataset containing champion statistics.\n",
    "    - ADC (pandas.DataFrame): Subset of the dataset for ADC role champions.\n",
    "    - TOP (pandas.DataFrame): Subset of the dataset for top lane role champions.\n",
    "    - MID (pandas.DataFrame): Subset of the dataset for mid lane role champions.\n",
    "    - JUNGLE (pandas.DataFrame): Subset of the dataset for jungle role champions.\n",
    "    - SUPPORT (pandas.DataFrame): Subset of the dataset for support role champions.\n",
    "\n",
    "    Methods:\n",
    "    - __init__(self, path): Initializes the Patch object by loading and cleaning the dataset.\n",
    "    - clean(self, df): Cleans the dataset by converting percentage columns to numeric values.\n",
    "    - ban_plot(self, data=None): Generates a bar plot showing the most banned champions.\n",
    "    - pick_plot(self, data=None): Generates a bar plot showing the most picked champions.\n",
    "    - winrate_plot(self, data=None): Generates a bar plot showing the highest win rates of champions.\n",
    "\n",
    "    Usage Example:\n",
    "    patch = Patch(\"path_to_dataset.csv\")\n",
    "    patch.ban_plot()\n",
    "    patch.pick_plot()\n",
    "    patch.winrate_plot()\n",
    "    \"\"\"\n",
    "\n",
    "    def __init__(self, path):\n",
    "        \"\"\"\n",
    "        Initializes the Patch object by loading and cleaning the dataset.\n",
    "\n",
    "        Parameters:\n",
    "        - path (str): The path to the dataset CSV file.\n",
    "\n",
    "        Returns:\n",
    "        None\n",
    "        \"\"\"\n",
    "        self.df = self.clean(pd.read_csv(path, sep=';'))\n",
    "        self.ADC = self.df.loc[self.df['Role'] == 'ADC']\n",
    "        self.TOP = self.df.loc[self.df['Role'] == 'TOP']\n",
    "        self.MID = self.df.loc[self.df['Role'] == 'MID']\n",
    "        self.JUNGLE = self.df.loc[self.df['Role'] == 'JUNGLE']\n",
    "        self.SUPPORT = self.df.loc[self.df['Role'] == 'SUPPORT']\n",
    "\n",
    "    def clean(self, df):\n",
    "        \"\"\"\n",
    "        Cleans the dataset by converting percentage columns to numeric values.\n",
    "\n",
    "        Parameters:\n",
    "        - df (pandas.DataFrame): The dataset to be cleaned.\n",
    "\n",
    "        Returns:\n",
    "        - df (pandas.DataFrame): The cleaned dataset.\n",
    "        \"\"\"\n",
    "        columns = ['Win %', 'Ban %', 'Role %', 'Pick %']\n",
    "        for column in columns:\n",
    "            df[column] = df[column].astype(str).str.replace('%', '')\n",
    "            df[column] = pd.to_numeric(df[column])\n",
    "        return df\n",
    "\n",
    "    def ban_plot(self, data=None):\n",
    "        \"\"\"\n",
    "        Generates a bar plot showing the most banned champions.\n",
    "\n",
    "        Displays a grouped bar plot with the champion names on the x-axis and the ban percentages on the y-axis.\n",
    "        The bars are colored based on the champion's role.\n",
    "\n",
    "        Parameters:\n",
    "        - data (pandas.DataFrame, optional): The dataset to use for generating the plot.\n",
    "          If not provided, the Patch object's main dataset (self.df) will be used.\n",
    "\n",
    "        Returns:\n",
    "        None\n",
    "        \"\"\"\n",
    "        if data is None:\n",
    "            data = self.df\n",
    "\n",
    "        most_banned = data.sort_values(by=\"Ban %\", ascending=False, ignore_index=True)\n",
    "        fig = px.bar(\n",
    "            x=most_banned[\"Name\"],\n",
    "            y=most_banned[\"Ban %\"],\n",
    "            color=most_banned[\"Role\"],\n",
    "            barmode=\"group\",\n",
    "            labels={\"x\": \"Champion\", \"y\": \"Ban %\"},\n",
    "            title=\"Ban %\",\n",
    "        )\n",
    "        fig.show()\n",
    "\n",
    "    def pick_plot(self, data=None):\n",
    "        \"\"\"\n",
    "        Generates a bar plot showing the most picked champions.\n",
    "\n",
    "        Displays a grouped bar plot with the champion names on the x-axis and the pick percentages on the y-axis.\n",
    "        The bars are colored based on the champion's role.\n",
    "\n",
    "        Parameters:\n",
    "        - data (pandas.DataFrame, optional): The dataset to use for generating the plot.\n",
    "          If not provided, the Patch object's main dataset (self.df) will be used.\n",
    "\n",
    "        Returns:\n",
    "        None\n",
    "        \"\"\"\n",
    "        if data is None:\n",
    "            data = self.df\n",
    "\n",
    "        most_picked = data.sort_values(by=\"Pick %\", ascending=False, ignore_index=True)\n",
    "        fig = px.bar(\n",
    "            x=most_picked[\"Name\"],\n",
    "            y=most_picked[\"Pick %\"],\n",
    "            color=most_picked[\"Role\"],\n",
    "            barmode=\"group\",\n",
    "            labels={\"x\": \"Champion\", \"y\": \"Pick %\"},\n",
    "            title=\"Pick %\",\n",
    "        )\n",
    "        fig.show()\n",
    "\n",
    "    def winrate_plot(self, data=None):\n",
    "        \"\"\"\n",
    "        Generates a bar plot showing the highest win rates of champions.\n",
    "\n",
    "        Displays a grouped bar plot with the champion names on the x-axis and the win percentages on the y-axis.\n",
    "        The bars are colored based on the champion's role.\n",
    "\n",
    "        Parameters:\n",
    "        - data (pandas.DataFrame, optional): The dataset to use for generating the plot.\n",
    "          If not provided, the Patch object's main dataset (self.df) will be used.\n",
    "\n",
    "        Returns:\n",
    "        None\n",
    "        \"\"\"\n",
    "        if data is None:\n",
    "            data = self.df\n",
    "\n",
    "        highest_win_rate = data.sort_values(by=\"Win %\", ascending=False, ignore_index=True)\n",
    "        fig = px.bar(\n",
    "            x=highest_win_rate[\"Name\"],\n",
    "            y=highest_win_rate[\"Win %\"],\n",
    "            color=highest_win_rate[\"Role\"],\n",
    "            barmode=\"group\",\n",
    "            labels={\"x\": \"Champion\", \"y\": \"Win %\"},\n",
    "            title=\"Win %\",\n",
    "        )\n",
    "        fig.show()\n"
   ]
  },
  {
   "cell_type": "code",
   "execution_count": 3,
   "id": "7cd745f4",
   "metadata": {
    "execution": {
     "iopub.execute_input": "2023-06-04T11:25:54.623109Z",
     "iopub.status.busy": "2023-06-04T11:25:54.622703Z",
     "iopub.status.idle": "2023-06-04T11:25:55.116229Z",
     "shell.execute_reply": "2023-06-04T11:25:55.114993Z"
    },
    "papermill": {
     "duration": 0.501545,
     "end_time": "2023-06-04T11:25:55.119229",
     "exception": false,
     "start_time": "2023-06-04T11:25:54.617684",
     "status": "completed"
    },
    "tags": []
   },
   "outputs": [],
   "source": [
    "patch_1 = Patch(\"/kaggle/input/league-of-legends-champion-stats/League of Legends Champion Stats 12.1.csv\")\n",
    "patch_2 = Patch(\"/kaggle/input/league-of-legends-champion-stats/League of Legends Champion Stats 12.2.csv\")\n",
    "patch_3 = Patch(\"/kaggle/input/league-of-legends-champion-stats/League of Legends Champion Stats 12.3.csv\")\n",
    "patch_4 = Patch(\"/kaggle/input/league-of-legends-champion-stats/League of Legends Champion Stats 12.4.csv\")\n",
    "patch_5 = Patch(\"/kaggle/input/league-of-legends-champion-stats/League of Legends Champion Stats 12.5.csv\")\n",
    "patch_6 = Patch(\"/kaggle/input/league-of-legends-champion-stats/League of Legends Champion Stats 12.6.csv\")\n",
    "patch_7 = Patch(\"/kaggle/input/league-of-legends-champion-stats/League of Legends Champion Stats 12.7.csv\")\n",
    "patch_8 = Patch(\"/kaggle/input/league-of-legends-champion-stats/League of Legends Champion Stats 12.8.csv\")\n",
    "patch_9 = Patch(\"/kaggle/input/league-of-legends-champion-stats/League of Legends Champion Stats 12.9.csv\")\n",
    "patch_10 = Patch(\"/kaggle/input/league-of-legends-champion-stats/League of Legends Champion Stats 12.10.csv\")\n",
    "patch_11 = Patch(\"/kaggle/input/league-of-legends-champion-stats/League of Legends Champion Stats 12.11.csv\")\n",
    "patch_12 = Patch(\"/kaggle/input/league-of-legends-champion-stats/League of Legends Champion Stats 12.12.csv\")\n",
    "patch_13 = Patch(\"/kaggle/input/league-of-legends-champion-stats/League of Legends Champion Stats 12.13.csv\")\n",
    "patch_14 = Patch(\"/kaggle/input/league-of-legends-champion-stats/League of Legends Champion Stats 12.14.csv\")\n",
    "patch_15 = Patch(\"/kaggle/input/league-of-legends-champion-stats/League of Legends Champion Stats 12.15.csv\")\n",
    "patch_16 = Patch(\"/kaggle/input/league-of-legends-champion-stats/League of Legends Champion Stats 12.16.csv\")\n",
    "patch_17 = Patch(\"/kaggle/input/league-of-legends-champion-stats/League of Legends Champion Stats 12.17.csv\")\n",
    "patch_18 = Patch(\"/kaggle/input/league-of-legends-champion-stats/League of Legends Champion Stats 12.18.csv\")\n",
    "patch_19 = Patch(\"/kaggle/input/league-of-legends-champion-stats/League of Legends Champion Stats 12.19.csv\")\n",
    "patch_20 = Patch(\"/kaggle/input/league-of-legends-champion-stats/League of Legends Champion Stats 12.20.csv\")\n",
    "patch_21 = Patch(\"/kaggle/input/league-of-legends-champion-stats/League of Legends Champion Stats 12.21.csv\")\n",
    "patch_22 = Patch(\"/kaggle/input/league-of-legends-champion-stats/League of Legends Champion Stats 12.22.csv\")\n",
    "patch_23 = Patch(\"/kaggle/input/league-of-legends-champion-stats/League of Legends Champion Stats 12.23.csv\")"
   ]
  },
  {
   "cell_type": "code",
   "execution_count": 4,
   "id": "f8bd196e",
   "metadata": {
    "execution": {
     "iopub.execute_input": "2023-06-04T11:25:55.128905Z",
     "iopub.status.busy": "2023-06-04T11:25:55.127724Z",
     "iopub.status.idle": "2023-06-04T11:25:55.134704Z",
     "shell.execute_reply": "2023-06-04T11:25:55.133367Z"
    },
    "papermill": {
     "duration": 0.014705,
     "end_time": "2023-06-04T11:25:55.137504",
     "exception": false,
     "start_time": "2023-06-04T11:25:55.122799",
     "status": "completed"
    },
    "tags": []
   },
   "outputs": [],
   "source": [
    "patches = [patch_1,patch_2,patch_3,patch_4,patch_5,patch_6,patch_7,patch_8,patch_9,patch_10,patch_11,patch_12,patch_13,patch_14,patch_15,patch_16,patch_17,patch_18,patch_19,patch_20,patch_21,patch_22,patch_23]"
   ]
  },
  {
   "cell_type": "code",
   "execution_count": 5,
   "id": "b892e0f7",
   "metadata": {
    "execution": {
     "iopub.execute_input": "2023-06-04T11:25:55.146655Z",
     "iopub.status.busy": "2023-06-04T11:25:55.146177Z",
     "iopub.status.idle": "2023-06-04T11:25:56.869163Z",
     "shell.execute_reply": "2023-06-04T11:25:56.867679Z"
    },
    "papermill": {
     "duration": 1.731289,
     "end_time": "2023-06-04T11:25:56.872325",
     "exception": false,
     "start_time": "2023-06-04T11:25:55.141036",
     "status": "completed"
    },
    "tags": []
   },
   "outputs": [
    {
     "data": {
      "text/html": [
       "        <script type=\"text/javascript\">\n",
       "        window.PlotlyConfig = {MathJaxConfig: 'local'};\n",
       "        if (window.MathJax && window.MathJax.Hub && window.MathJax.Hub.Config) {window.MathJax.Hub.Config({SVG: {font: \"STIX-Web\"}});}\n",
       "        if (typeof require !== 'undefined') {\n",
       "        require.undef(\"plotly\");\n",
       "        requirejs.config({\n",
       "            paths: {\n",
       "                'plotly': ['https://cdn.plot.ly/plotly-2.18.0.min']\n",
       "            }\n",
       "        });\n",
       "        require(['plotly'], function(Plotly) {\n",
       "            window._Plotly = Plotly;\n",
       "        });\n",
       "        }\n",
       "        </script>\n",
       "        "
      ]
     },
     "metadata": {},
     "output_type": "display_data"
    },
    {
     "data": {
      "text/html": [
       "<div>                            <div id=\"682ce508-4666-474c-a152-2d46858fc635\" class=\"plotly-graph-div\" style=\"height:525px; width:100%;\"></div>            <script type=\"text/javascript\">                require([\"plotly\"], function(Plotly) {                    window.PLOTLYENV=window.PLOTLYENV || {};                                    if (document.getElementById(\"682ce508-4666-474c-a152-2d46858fc635\")) {                    Plotly.newPlot(                        \"682ce508-4666-474c-a152-2d46858fc635\",                        [{\"alignmentgroup\":\"True\",\"hovertemplate\":\"color=ADC<br>Champion=%{x}<br>Pick %=%{y}<extra></extra>\",\"legendgroup\":\"ADC\",\"marker\":{\"color\":\"#636efa\",\"pattern\":{\"shape\":\"\"}},\"name\":\"ADC\",\"offsetgroup\":\"ADC\",\"orientation\":\"v\",\"showlegend\":true,\"textposition\":\"auto\",\"x\":[\"Caitlyn\",\"Ezreal\",\"Kai'Sa\",\"Jhin\",\"Miss Fortune\",\"Samira\",\"Lucian\",\"Zeri\",\"Varus\",\"Tristana\",\"Jinx\",\"Ashe\",\"Vayne\",\"Draven\",\"Twitch\",\"Xayah\",\"Aphelios\",\"Nilah\",\"Sivir\",\"Kalista\",\"Kog'Maw\",\"Yasuo\",\"Seraphine\",\"Ziggs\",\"Veigar\",\"Karthus\",\"Cassiopeia\",\"Quinn\"],\"xaxis\":\"x\",\"y\":[18.88,18.4,18.08,14.93,10.22,10.16,9.75,9.2,8.75,8.12,7.96,7.69,7.58,6.61,6.55,4.54,4.36,4.33,3.54,2.8,2.26,2.06,0.9,0.82,0.78,0.69,0.23,0.18],\"yaxis\":\"y\",\"type\":\"bar\"},{\"alignmentgroup\":\"True\",\"hovertemplate\":\"color=SUPPORT<br>Champion=%{x}<br>Pick %=%{y}<extra></extra>\",\"legendgroup\":\"SUPPORT\",\"marker\":{\"color\":\"#EF553B\",\"pattern\":{\"shape\":\"\"}},\"name\":\"SUPPORT\",\"offsetgroup\":\"SUPPORT\",\"orientation\":\"v\",\"showlegend\":true,\"textposition\":\"auto\",\"x\":[\"Lux\",\"Nami\",\"Yuumi\",\"Thresh\",\"Pyke\",\"Lulu\",\"Morgana\",\"Karma\",\"Blitzcrank\",\"Soraka\",\"Nautilus\",\"Senna\",\"Swain\",\"Janna\",\"Leona\",\"Seraphine\",\"Brand\",\"Ashe\",\"Renata Glasc\",\"Sona\",\"Heimerdinger\",\"Amumu\",\"Xerath\",\"Zilean\",\"Rakan\",\"Zyra\",\"Bard\",\"Alistar\",\"Pantheon\",\"Maokai\",\"Vel'Koz\",\"Twitch\",\"Rell\",\"Taric\",\"Braum\",\"Shaco\",\"Tahm Kench\",\"Neeko\",\"Malphite\",\"Veigar\",\"Shen\",\"Zoe\",\"Gragas\",\"Galio\",\"Fiddlesticks\",\"Anivia\",\"Ziggs\",\"Annie\",\"Taliyah\",\"Poppy\",\"Ivern\"],\"xaxis\":\"x\",\"y\":[14.03,11.32,10.3,9.2,9.09,8.63,8.04,7.58,6.95,6.49,6.35,6.29,4.96,4.95,4.9,4.72,4.35,4.29,4.26,3.78,3.67,3.58,3.38,3.36,3.35,3.33,3.18,2.63,2.49,2.2,2.13,2.1,1.86,1.75,1.73,1.29,0.89,0.81,0.72,0.66,0.51,0.5,0.45,0.45,0.44,0.41,0.33,0.25,0.24,0.24,0.22],\"yaxis\":\"y\",\"type\":\"bar\"},{\"alignmentgroup\":\"True\",\"hovertemplate\":\"color=MID<br>Champion=%{x}<br>Pick %=%{y}<extra></extra>\",\"legendgroup\":\"MID\",\"marker\":{\"color\":\"#00cc96\",\"pattern\":{\"shape\":\"\"}},\"name\":\"MID\",\"offsetgroup\":\"MID\",\"orientation\":\"v\",\"showlegend\":true,\"textposition\":\"auto\",\"x\":[\"Yasuo\",\"Zed\",\"Akali\",\"Yone\",\"Katarina\",\"Sylas\",\"Kassadin\",\"Syndra\",\"Irelia\",\"Viktor\",\"Ahri\",\"Lux\",\"Vex\",\"Malzahar\",\"Veigar\",\"Vladimir\",\"Talon\",\"LeBlanc\",\"Fizz\",\"Zoe\",\"Qiyana\",\"Ryze\",\"Ekko\",\"Diana\",\"Akshan\",\"Azir\",\"Varus\",\"Swain\",\"Lissandra\",\"Anivia\",\"Twisted Fate\",\"Galio\",\"Orianna\",\"Cassiopeia\",\"Neeko\",\"Gangplank\",\"Pantheon\",\"Ziggs\",\"Annie\",\"Xerath\",\"Rumble\",\"Heimerdinger\",\"Corki\",\"Taliyah\",\"Tristana\",\"Vel'Koz\",\"Brand\",\"Gragas\",\"Malphite\",\"Renekton\",\"Aurelion Sol\",\"Tryndamere\",\"Cho'Gath\",\"Nasus\",\"Zilean\",\"Jayce\",\"Kayle\",\"Singed\",\"Karthus\",\"Kennen\",\"Kled\",\"Quinn\"],\"xaxis\":\"x\",\"y\":[12.59,12.43,9.39,9.3,8.74,8.48,6.69,6.11,6.0,5.38,5.37,5.37,5.01,4.87,4.07,3.66,3.43,3.25,3.23,3.19,2.96,2.83,2.8,2.59,2.49,2.46,2.34,2.27,2.03,1.92,1.9,1.85,1.68,1.64,1.63,1.61,1.56,1.41,1.3,1.11,1.08,1.02,1.0,0.98,0.85,0.84,0.78,0.75,0.75,0.74,0.74,0.71,0.6,0.57,0.53,0.51,0.46,0.43,0.34,0.27,0.24,0.18],\"yaxis\":\"y\",\"type\":\"bar\"},{\"alignmentgroup\":\"True\",\"hovertemplate\":\"color=TOP<br>Champion=%{x}<br>Pick %=%{y}<extra></extra>\",\"legendgroup\":\"TOP\",\"marker\":{\"color\":\"#ab63fa\",\"pattern\":{\"shape\":\"\"}},\"name\":\"TOP\",\"offsetgroup\":\"TOP\",\"orientation\":\"v\",\"showlegend\":true,\"textposition\":\"auto\",\"x\":[\"Aatrox\",\"Fiora\",\"Darius\",\"Dr. Mundo\",\"Mordekaiser\",\"K'Sante\",\"Sett\",\"Gangplank\",\"Jax\",\"Camille\",\"Irelia\",\"Teemo\",\"Nasus\",\"Garen\",\"Yone\",\"Riven\",\"Illaoi\",\"Sion\",\"Shen\",\"Renekton\",\"Ornn\",\"Gwen\",\"Akali\",\"Tryndamere\",\"Yasuo\",\"Malphite\",\"Warwick\",\"Urgot\",\"Kayle\",\"Cho'Gath\",\"Yorick\",\"Tahm Kench\",\"Olaf\",\"Gnar\",\"Volibear\",\"Jayce\",\"Singed\",\"Gragas\",\"Kled\",\"Vayne\",\"Pantheon\",\"Quinn\",\"Kennen\",\"Rengar\",\"Wukong\",\"Rumble\",\"Vladimir\",\"Zac\",\"Akshan\",\"Lillia\",\"Poppy\",\"Sejuani\",\"Heimerdinger\",\"Trundle\",\"Maokai\",\"Ryze\",\"Cassiopeia\",\"Shyvana\",\"Neeko\",\"Skarner\"],\"xaxis\":\"x\",\"y\":[9.85,8.93,8.69,8.59,8.58,8.18,8.18,7.04,6.33,5.43,5.36,5.19,4.95,4.85,4.62,4.47,4.1,3.84,3.79,3.74,3.32,3.01,2.95,2.83,2.82,2.79,2.77,2.66,2.56,2.54,2.5,2.37,2.33,2.32,2.05,2.04,1.92,1.9,1.82,1.46,1.44,1.22,1.15,1.11,0.98,0.91,0.91,0.91,0.88,0.84,0.79,0.74,0.65,0.64,0.6,0.46,0.28,0.27,0.22,0.15],\"yaxis\":\"y\",\"type\":\"bar\"},{\"alignmentgroup\":\"True\",\"hovertemplate\":\"color=JUNGLE<br>Champion=%{x}<br>Pick %=%{y}<extra></extra>\",\"legendgroup\":\"JUNGLE\",\"marker\":{\"color\":\"#FFA15A\",\"pattern\":{\"shape\":\"\"}},\"name\":\"JUNGLE\",\"offsetgroup\":\"JUNGLE\",\"orientation\":\"v\",\"showlegend\":true,\"textposition\":\"auto\",\"x\":[\"Sylas\",\"Lee Sin\",\"Kayn\",\"Master Yi\",\"Warwick\",\"Viego\",\"Diana\",\"Udyr\",\"Hecarim\",\"Shaco\",\"Ekko\",\"Kindred\",\"Graves\",\"Rammus\",\"Kha'Zix\",\"Lillia\",\"Evelynn\",\"Mordekaiser\",\"Vi\",\"Rengar\",\"Bel'Veth\",\"Zac\",\"Elise\",\"Zed\",\"Nocturne\",\"Wukong\",\"Sejuani\",\"Nunu\",\"Fiddlesticks\",\"Nidalee\",\"Amumu\",\"Trundle\",\"Volibear\",\"Xin Zhao\",\"Dr. Mundo\",\"Shyvana\",\"Jarvan IV\",\"Maokai\",\"Rek'Sai\",\"Karthus\",\"Talon\",\"Jax\",\"Poppy\",\"Gragas\",\"Ivern\",\"Skarner\",\"Taliyah\",\"Olaf\",\"Qiyana\",\"Gwen\",\"Rumble\"],\"xaxis\":\"x\",\"y\":[9.17,9.16,8.67,7.98,7.61,7.47,7.34,7.28,6.92,6.65,6.58,6.12,6.07,5.53,5.19,4.85,4.83,4.61,4.26,4.17,4.15,4.07,3.85,3.54,3.53,3.53,3.46,3.44,2.97,2.53,2.1,2.09,2.07,2.06,2.01,1.9,1.72,1.72,1.43,1.42,1.31,1.3,1.28,1.26,1.0,0.85,0.82,0.61,0.51,0.47,0.28],\"yaxis\":\"y\",\"type\":\"bar\"}],                        {\"template\":{\"data\":{\"histogram2dcontour\":[{\"type\":\"histogram2dcontour\",\"colorbar\":{\"outlinewidth\":0,\"ticks\":\"\"},\"colorscale\":[[0.0,\"#0d0887\"],[0.1111111111111111,\"#46039f\"],[0.2222222222222222,\"#7201a8\"],[0.3333333333333333,\"#9c179e\"],[0.4444444444444444,\"#bd3786\"],[0.5555555555555556,\"#d8576b\"],[0.6666666666666666,\"#ed7953\"],[0.7777777777777778,\"#fb9f3a\"],[0.8888888888888888,\"#fdca26\"],[1.0,\"#f0f921\"]]}],\"choropleth\":[{\"type\":\"choropleth\",\"colorbar\":{\"outlinewidth\":0,\"ticks\":\"\"}}],\"histogram2d\":[{\"type\":\"histogram2d\",\"colorbar\":{\"outlinewidth\":0,\"ticks\":\"\"},\"colorscale\":[[0.0,\"#0d0887\"],[0.1111111111111111,\"#46039f\"],[0.2222222222222222,\"#7201a8\"],[0.3333333333333333,\"#9c179e\"],[0.4444444444444444,\"#bd3786\"],[0.5555555555555556,\"#d8576b\"],[0.6666666666666666,\"#ed7953\"],[0.7777777777777778,\"#fb9f3a\"],[0.8888888888888888,\"#fdca26\"],[1.0,\"#f0f921\"]]}],\"heatmap\":[{\"type\":\"heatmap\",\"colorbar\":{\"outlinewidth\":0,\"ticks\":\"\"},\"colorscale\":[[0.0,\"#0d0887\"],[0.1111111111111111,\"#46039f\"],[0.2222222222222222,\"#7201a8\"],[0.3333333333333333,\"#9c179e\"],[0.4444444444444444,\"#bd3786\"],[0.5555555555555556,\"#d8576b\"],[0.6666666666666666,\"#ed7953\"],[0.7777777777777778,\"#fb9f3a\"],[0.8888888888888888,\"#fdca26\"],[1.0,\"#f0f921\"]]}],\"heatmapgl\":[{\"type\":\"heatmapgl\",\"colorbar\":{\"outlinewidth\":0,\"ticks\":\"\"},\"colorscale\":[[0.0,\"#0d0887\"],[0.1111111111111111,\"#46039f\"],[0.2222222222222222,\"#7201a8\"],[0.3333333333333333,\"#9c179e\"],[0.4444444444444444,\"#bd3786\"],[0.5555555555555556,\"#d8576b\"],[0.6666666666666666,\"#ed7953\"],[0.7777777777777778,\"#fb9f3a\"],[0.8888888888888888,\"#fdca26\"],[1.0,\"#f0f921\"]]}],\"contourcarpet\":[{\"type\":\"contourcarpet\",\"colorbar\":{\"outlinewidth\":0,\"ticks\":\"\"}}],\"contour\":[{\"type\":\"contour\",\"colorbar\":{\"outlinewidth\":0,\"ticks\":\"\"},\"colorscale\":[[0.0,\"#0d0887\"],[0.1111111111111111,\"#46039f\"],[0.2222222222222222,\"#7201a8\"],[0.3333333333333333,\"#9c179e\"],[0.4444444444444444,\"#bd3786\"],[0.5555555555555556,\"#d8576b\"],[0.6666666666666666,\"#ed7953\"],[0.7777777777777778,\"#fb9f3a\"],[0.8888888888888888,\"#fdca26\"],[1.0,\"#f0f921\"]]}],\"surface\":[{\"type\":\"surface\",\"colorbar\":{\"outlinewidth\":0,\"ticks\":\"\"},\"colorscale\":[[0.0,\"#0d0887\"],[0.1111111111111111,\"#46039f\"],[0.2222222222222222,\"#7201a8\"],[0.3333333333333333,\"#9c179e\"],[0.4444444444444444,\"#bd3786\"],[0.5555555555555556,\"#d8576b\"],[0.6666666666666666,\"#ed7953\"],[0.7777777777777778,\"#fb9f3a\"],[0.8888888888888888,\"#fdca26\"],[1.0,\"#f0f921\"]]}],\"mesh3d\":[{\"type\":\"mesh3d\",\"colorbar\":{\"outlinewidth\":0,\"ticks\":\"\"}}],\"scatter\":[{\"fillpattern\":{\"fillmode\":\"overlay\",\"size\":10,\"solidity\":0.2},\"type\":\"scatter\"}],\"parcoords\":[{\"type\":\"parcoords\",\"line\":{\"colorbar\":{\"outlinewidth\":0,\"ticks\":\"\"}}}],\"scatterpolargl\":[{\"type\":\"scatterpolargl\",\"marker\":{\"colorbar\":{\"outlinewidth\":0,\"ticks\":\"\"}}}],\"bar\":[{\"error_x\":{\"color\":\"#2a3f5f\"},\"error_y\":{\"color\":\"#2a3f5f\"},\"marker\":{\"line\":{\"color\":\"#E5ECF6\",\"width\":0.5},\"pattern\":{\"fillmode\":\"overlay\",\"size\":10,\"solidity\":0.2}},\"type\":\"bar\"}],\"scattergeo\":[{\"type\":\"scattergeo\",\"marker\":{\"colorbar\":{\"outlinewidth\":0,\"ticks\":\"\"}}}],\"scatterpolar\":[{\"type\":\"scatterpolar\",\"marker\":{\"colorbar\":{\"outlinewidth\":0,\"ticks\":\"\"}}}],\"histogram\":[{\"marker\":{\"pattern\":{\"fillmode\":\"overlay\",\"size\":10,\"solidity\":0.2}},\"type\":\"histogram\"}],\"scattergl\":[{\"type\":\"scattergl\",\"marker\":{\"colorbar\":{\"outlinewidth\":0,\"ticks\":\"\"}}}],\"scatter3d\":[{\"type\":\"scatter3d\",\"line\":{\"colorbar\":{\"outlinewidth\":0,\"ticks\":\"\"}},\"marker\":{\"colorbar\":{\"outlinewidth\":0,\"ticks\":\"\"}}}],\"scattermapbox\":[{\"type\":\"scattermapbox\",\"marker\":{\"colorbar\":{\"outlinewidth\":0,\"ticks\":\"\"}}}],\"scatterternary\":[{\"type\":\"scatterternary\",\"marker\":{\"colorbar\":{\"outlinewidth\":0,\"ticks\":\"\"}}}],\"scattercarpet\":[{\"type\":\"scattercarpet\",\"marker\":{\"colorbar\":{\"outlinewidth\":0,\"ticks\":\"\"}}}],\"carpet\":[{\"aaxis\":{\"endlinecolor\":\"#2a3f5f\",\"gridcolor\":\"white\",\"linecolor\":\"white\",\"minorgridcolor\":\"white\",\"startlinecolor\":\"#2a3f5f\"},\"baxis\":{\"endlinecolor\":\"#2a3f5f\",\"gridcolor\":\"white\",\"linecolor\":\"white\",\"minorgridcolor\":\"white\",\"startlinecolor\":\"#2a3f5f\"},\"type\":\"carpet\"}],\"table\":[{\"cells\":{\"fill\":{\"color\":\"#EBF0F8\"},\"line\":{\"color\":\"white\"}},\"header\":{\"fill\":{\"color\":\"#C8D4E3\"},\"line\":{\"color\":\"white\"}},\"type\":\"table\"}],\"barpolar\":[{\"marker\":{\"line\":{\"color\":\"#E5ECF6\",\"width\":0.5},\"pattern\":{\"fillmode\":\"overlay\",\"size\":10,\"solidity\":0.2}},\"type\":\"barpolar\"}],\"pie\":[{\"automargin\":true,\"type\":\"pie\"}]},\"layout\":{\"autotypenumbers\":\"strict\",\"colorway\":[\"#636efa\",\"#EF553B\",\"#00cc96\",\"#ab63fa\",\"#FFA15A\",\"#19d3f3\",\"#FF6692\",\"#B6E880\",\"#FF97FF\",\"#FECB52\"],\"font\":{\"color\":\"#2a3f5f\"},\"hovermode\":\"closest\",\"hoverlabel\":{\"align\":\"left\"},\"paper_bgcolor\":\"white\",\"plot_bgcolor\":\"#E5ECF6\",\"polar\":{\"bgcolor\":\"#E5ECF6\",\"angularaxis\":{\"gridcolor\":\"white\",\"linecolor\":\"white\",\"ticks\":\"\"},\"radialaxis\":{\"gridcolor\":\"white\",\"linecolor\":\"white\",\"ticks\":\"\"}},\"ternary\":{\"bgcolor\":\"#E5ECF6\",\"aaxis\":{\"gridcolor\":\"white\",\"linecolor\":\"white\",\"ticks\":\"\"},\"baxis\":{\"gridcolor\":\"white\",\"linecolor\":\"white\",\"ticks\":\"\"},\"caxis\":{\"gridcolor\":\"white\",\"linecolor\":\"white\",\"ticks\":\"\"}},\"coloraxis\":{\"colorbar\":{\"outlinewidth\":0,\"ticks\":\"\"}},\"colorscale\":{\"sequential\":[[0.0,\"#0d0887\"],[0.1111111111111111,\"#46039f\"],[0.2222222222222222,\"#7201a8\"],[0.3333333333333333,\"#9c179e\"],[0.4444444444444444,\"#bd3786\"],[0.5555555555555556,\"#d8576b\"],[0.6666666666666666,\"#ed7953\"],[0.7777777777777778,\"#fb9f3a\"],[0.8888888888888888,\"#fdca26\"],[1.0,\"#f0f921\"]],\"sequentialminus\":[[0.0,\"#0d0887\"],[0.1111111111111111,\"#46039f\"],[0.2222222222222222,\"#7201a8\"],[0.3333333333333333,\"#9c179e\"],[0.4444444444444444,\"#bd3786\"],[0.5555555555555556,\"#d8576b\"],[0.6666666666666666,\"#ed7953\"],[0.7777777777777778,\"#fb9f3a\"],[0.8888888888888888,\"#fdca26\"],[1.0,\"#f0f921\"]],\"diverging\":[[0,\"#8e0152\"],[0.1,\"#c51b7d\"],[0.2,\"#de77ae\"],[0.3,\"#f1b6da\"],[0.4,\"#fde0ef\"],[0.5,\"#f7f7f7\"],[0.6,\"#e6f5d0\"],[0.7,\"#b8e186\"],[0.8,\"#7fbc41\"],[0.9,\"#4d9221\"],[1,\"#276419\"]]},\"xaxis\":{\"gridcolor\":\"white\",\"linecolor\":\"white\",\"ticks\":\"\",\"title\":{\"standoff\":15},\"zerolinecolor\":\"white\",\"automargin\":true,\"zerolinewidth\":2},\"yaxis\":{\"gridcolor\":\"white\",\"linecolor\":\"white\",\"ticks\":\"\",\"title\":{\"standoff\":15},\"zerolinecolor\":\"white\",\"automargin\":true,\"zerolinewidth\":2},\"scene\":{\"xaxis\":{\"backgroundcolor\":\"#E5ECF6\",\"gridcolor\":\"white\",\"linecolor\":\"white\",\"showbackground\":true,\"ticks\":\"\",\"zerolinecolor\":\"white\",\"gridwidth\":2},\"yaxis\":{\"backgroundcolor\":\"#E5ECF6\",\"gridcolor\":\"white\",\"linecolor\":\"white\",\"showbackground\":true,\"ticks\":\"\",\"zerolinecolor\":\"white\",\"gridwidth\":2},\"zaxis\":{\"backgroundcolor\":\"#E5ECF6\",\"gridcolor\":\"white\",\"linecolor\":\"white\",\"showbackground\":true,\"ticks\":\"\",\"zerolinecolor\":\"white\",\"gridwidth\":2}},\"shapedefaults\":{\"line\":{\"color\":\"#2a3f5f\"}},\"annotationdefaults\":{\"arrowcolor\":\"#2a3f5f\",\"arrowhead\":0,\"arrowwidth\":1},\"geo\":{\"bgcolor\":\"white\",\"landcolor\":\"#E5ECF6\",\"subunitcolor\":\"white\",\"showland\":true,\"showlakes\":true,\"lakecolor\":\"white\"},\"title\":{\"x\":0.05},\"mapbox\":{\"style\":\"light\"}}},\"xaxis\":{\"anchor\":\"y\",\"domain\":[0.0,1.0],\"title\":{\"text\":\"Champion\"}},\"yaxis\":{\"anchor\":\"x\",\"domain\":[0.0,1.0],\"title\":{\"text\":\"Pick %\"}},\"legend\":{\"title\":{\"text\":\"color\"},\"tracegroupgap\":0},\"title\":{\"text\":\"Pick %\"},\"barmode\":\"group\"},                        {\"responsive\": true}                    ).then(function(){\n",
       "                            \n",
       "var gd = document.getElementById('682ce508-4666-474c-a152-2d46858fc635');\n",
       "var x = new MutationObserver(function (mutations, observer) {{\n",
       "        var display = window.getComputedStyle(gd).display;\n",
       "        if (!display || display === 'none') {{\n",
       "            console.log([gd, 'removed!']);\n",
       "            Plotly.purge(gd);\n",
       "            observer.disconnect();\n",
       "        }}\n",
       "}});\n",
       "\n",
       "// Listen for the removal of the full notebook cells\n",
       "var notebookContainer = gd.closest('#notebook-container');\n",
       "if (notebookContainer) {{\n",
       "    x.observe(notebookContainer, {childList: true});\n",
       "}}\n",
       "\n",
       "// Listen for the clearing of the current output cell\n",
       "var outputEl = gd.closest('.output');\n",
       "if (outputEl) {{\n",
       "    x.observe(outputEl, {childList: true});\n",
       "}}\n",
       "\n",
       "                        })                };                });            </script>        </div>"
      ]
     },
     "metadata": {},
     "output_type": "display_data"
    }
   ],
   "source": [
    "patch_23.pick_plot()"
   ]
  },
  {
   "cell_type": "code",
   "execution_count": 6,
   "id": "a831f7b3",
   "metadata": {
    "execution": {
     "iopub.execute_input": "2023-06-04T11:25:56.882871Z",
     "iopub.status.busy": "2023-06-04T11:25:56.882410Z",
     "iopub.status.idle": "2023-06-04T11:25:56.968292Z",
     "shell.execute_reply": "2023-06-04T11:25:56.966994Z"
    },
    "papermill": {
     "duration": 0.094308,
     "end_time": "2023-06-04T11:25:56.971021",
     "exception": false,
     "start_time": "2023-06-04T11:25:56.876713",
     "status": "completed"
    },
    "tags": []
   },
   "outputs": [
    {
     "data": {
      "text/html": [
       "<div>                            <div id=\"6ff673de-6114-4913-b941-118ef793d268\" class=\"plotly-graph-div\" style=\"height:525px; width:100%;\"></div>            <script type=\"text/javascript\">                require([\"plotly\"], function(Plotly) {                    window.PLOTLYENV=window.PLOTLYENV || {};                                    if (document.getElementById(\"6ff673de-6114-4913-b941-118ef793d268\")) {                    Plotly.newPlot(                        \"6ff673de-6114-4913-b941-118ef793d268\",                        [{\"alignmentgroup\":\"True\",\"hovertemplate\":\"color=JUNGLE<br>Champion=%{x}<br>Ban %=%{y}<extra></extra>\",\"legendgroup\":\"JUNGLE\",\"marker\":{\"color\":\"#636efa\",\"pattern\":{\"shape\":\"\"}},\"name\":\"JUNGLE\",\"offsetgroup\":\"JUNGLE\",\"orientation\":\"v\",\"showlegend\":true,\"textposition\":\"auto\",\"x\":[\"Zed\",\"Udyr\",\"Hecarim\",\"Master Yi\",\"Mordekaiser\",\"Sylas\",\"Rammus\",\"Shaco\",\"Dr. Mundo\",\"Bel'Veth\",\"Warwick\",\"Kayn\",\"Jax\",\"Evelynn\",\"Kindred\",\"Rengar\",\"Ekko\",\"Graves\",\"Lillia\",\"Diana\",\"Lee Sin\",\"Zac\",\"Elise\",\"Viego\",\"Amumu\",\"Kha'Zix\",\"Wukong\",\"Trundle\",\"Fiddlesticks\",\"Nocturne\",\"Olaf\",\"Volibear\",\"Karthus\",\"Sejuani\",\"Talon\",\"Qiyana\",\"Gwen\",\"Vi\",\"Rek'Sai\",\"Maokai\",\"Nidalee\",\"Nunu\",\"Shyvana\",\"Poppy\",\"Rumble\",\"Ivern\",\"Gragas\",\"Xin Zhao\",\"Taliyah\",\"Jarvan IV\",\"Skarner\"],\"xaxis\":\"x\",\"y\":[47.72,25.46,24.27,21.92,20.1,17.41,16.92,15.43,13.19,12.23,8.14,7.9,7.66,7.47,6.54,5.96,5.58,5.21,4.94,4.53,4.22,3.38,3.29,3.29,3.07,2.31,2.28,2.2,1.91,1.91,1.6,1.46,1.29,1.17,1.15,1.12,0.99,0.91,0.89,0.87,0.85,0.73,0.67,0.64,0.47,0.47,0.41,0.34,0.34,0.21,0.17],\"yaxis\":\"y\",\"type\":\"bar\"},{\"alignmentgroup\":\"True\",\"hovertemplate\":\"color=MID<br>Champion=%{x}<br>Ban %=%{y}<extra></extra>\",\"legendgroup\":\"MID\",\"marker\":{\"color\":\"#EF553B\",\"pattern\":{\"shape\":\"\"}},\"name\":\"MID\",\"offsetgroup\":\"MID\",\"orientation\":\"v\",\"showlegend\":true,\"textposition\":\"auto\",\"x\":[\"Zed\",\"Yasuo\",\"Sylas\",\"Akali\",\"Irelia\",\"Yone\",\"Kassadin\",\"Lux\",\"Katarina\",\"Vex\",\"Heimerdinger\",\"Syndra\",\"Ekko\",\"Brand\",\"Vladimir\",\"Gangplank\",\"Swain\",\"Tristana\",\"LeBlanc\",\"Malzahar\",\"Diana\",\"Nasus\",\"Varus\",\"Fizz\",\"Akshan\",\"Tryndamere\",\"Viktor\",\"Veigar\",\"Renekton\",\"Xerath\",\"Ahri\",\"Malphite\",\"Zilean\",\"Anivia\",\"Cassiopeia\",\"Pantheon\",\"Karthus\",\"Zoe\",\"Cho'Gath\",\"Talon\",\"Qiyana\",\"Kled\",\"Lissandra\",\"Azir\",\"Quinn\",\"Vel'Koz\",\"Kayle\",\"Neeko\",\"Singed\",\"Annie\",\"Rumble\",\"Gragas\",\"Aurelion Sol\",\"Galio\",\"Ziggs\",\"Taliyah\",\"Kennen\",\"Jayce\",\"Ryze\",\"Corki\",\"Orianna\",\"Twisted Fate\"],\"xaxis\":\"x\",\"y\":[47.72,19.16,17.41,15.86,13.48,11.43,11.02,10.37,9.61,8.31,7.09,6.51,5.58,5.49,5.14,5.03,5.01,4.73,4.61,4.61,4.53,4.38,4.34,4.19,3.87,3.15,3.01,2.69,2.49,2.31,2.28,1.85,1.78,1.78,1.4,1.35,1.29,1.21,1.2,1.15,1.12,0.92,0.77,0.73,0.63,0.6,0.58,0.56,0.55,0.49,0.47,0.41,0.36,0.35,0.34,0.34,0.34,0.29,0.27,0.24,0.19,0.11],\"yaxis\":\"y\",\"type\":\"bar\"},{\"alignmentgroup\":\"True\",\"hovertemplate\":\"color=SUPPORT<br>Champion=%{x}<br>Ban %=%{y}<extra></extra>\",\"legendgroup\":\"SUPPORT\",\"marker\":{\"color\":\"#00cc96\",\"pattern\":{\"shape\":\"\"}},\"name\":\"SUPPORT\",\"offsetgroup\":\"SUPPORT\",\"orientation\":\"v\",\"showlegend\":true,\"textposition\":\"auto\",\"x\":[\"Morgana\",\"Yuumi\",\"Blitzcrank\",\"Pyke\",\"Shaco\",\"Lulu\",\"Lux\",\"Twitch\",\"Nautilus\",\"Heimerdinger\",\"Brand\",\"Leona\",\"Swain\",\"Nami\",\"Soraka\",\"Amumu\",\"Veigar\",\"Renata Glasc\",\"Ashe\",\"Senna\",\"Zyra\",\"Karma\",\"Xerath\",\"Thresh\",\"Janna\",\"Fiddlesticks\",\"Malphite\",\"Zilean\",\"Anivia\",\"Seraphine\",\"Pantheon\",\"Zoe\",\"Tahm Kench\",\"Maokai\",\"Shen\",\"Alistar\",\"Poppy\",\"Neeko\",\"Vel'Koz\",\"Bard\",\"Annie\",\"Ivern\",\"Gragas\",\"Rell\",\"Taric\",\"Galio\",\"Ziggs\",\"Braum\",\"Taliyah\",\"Sona\",\"Rakan\"],\"xaxis\":\"x\",\"y\":[30.56,28.88,18.93,16.61,15.43,10.44,10.37,8.68,8.32,7.09,5.49,5.45,5.01,4.24,3.31,3.07,2.89,2.72,2.59,2.48,2.42,2.33,2.31,2.26,1.95,1.88,1.85,1.78,1.77,1.76,1.35,1.21,1.17,0.87,0.79,0.66,0.63,0.61,0.6,0.58,0.54,0.45,0.41,0.4,0.36,0.36,0.36,0.33,0.33,0.29,0.25],\"yaxis\":\"y\",\"type\":\"bar\"},{\"alignmentgroup\":\"True\",\"hovertemplate\":\"color=TOP<br>Champion=%{x}<br>Ban %=%{y}<extra></extra>\",\"legendgroup\":\"TOP\",\"marker\":{\"color\":\"#ab63fa\",\"pattern\":{\"shape\":\"\"}},\"name\":\"TOP\",\"offsetgroup\":\"TOP\",\"orientation\":\"v\",\"showlegend\":true,\"textposition\":\"auto\",\"x\":[\"Fiora\",\"Darius\",\"Aatrox\",\"Mordekaiser\",\"Yasuo\",\"Akali\",\"K'Sante\",\"Irelia\",\"Dr. Mundo\",\"Yone\",\"Vayne\",\"Teemo\",\"Warwick\",\"Jax\",\"Illaoi\",\"Heimerdinger\",\"Rengar\",\"Sett\",\"Vladimir\",\"Gangplank\",\"Lillia\",\"Nasus\",\"Akshan\",\"Zac\",\"Tryndamere\",\"Yorick\",\"Renekton\",\"Camille\",\"Trundle\",\"Wukong\",\"Malphite\",\"Garen\",\"Olaf\",\"Riven\",\"Volibear\",\"Cassiopeia\",\"Pantheon\",\"Urgot\",\"Cho'Gath\",\"Tahm Kench\",\"Sejuani\",\"Sion\",\"Gwen\",\"Kled\",\"Maokai\",\"Shen\",\"Ornn\",\"Shyvana\",\"Poppy\",\"Quinn\",\"Kayle\",\"Neeko\",\"Singed\",\"Gnar\",\"Rumble\",\"Gragas\",\"Kennen\",\"Jayce\",\"Ryze\",\"Skarner\"],\"xaxis\":\"x\",\"y\":[26.91,23.39,20.8,20.1,19.16,15.86,15.65,13.48,13.19,11.43,8.24,8.22,8.14,8.05,7.31,7.09,5.96,5.92,5.14,5.03,4.94,4.38,3.87,3.38,3.15,2.65,2.49,2.49,2.31,2.28,1.85,1.84,1.6,1.49,1.46,1.4,1.35,1.23,1.2,1.17,1.17,1.13,0.99,0.92,0.83,0.8,0.76,0.7,0.64,0.63,0.58,0.56,0.55,0.48,0.47,0.41,0.39,0.29,0.27,0.16],\"yaxis\":\"y\",\"type\":\"bar\"},{\"alignmentgroup\":\"True\",\"hovertemplate\":\"color=ADC<br>Champion=%{x}<br>Ban %=%{y}<extra></extra>\",\"legendgroup\":\"ADC\",\"marker\":{\"color\":\"#FFA15A\",\"pattern\":{\"shape\":\"\"}},\"name\":\"ADC\",\"offsetgroup\":\"ADC\",\"orientation\":\"v\",\"showlegend\":true,\"textposition\":\"auto\",\"x\":[\"Samira\",\"Draven\",\"Yasuo\",\"Caitlyn\",\"Nilah\",\"Twitch\",\"Vayne\",\"Kai'Sa\",\"Tristana\",\"Lucian\",\"Varus\",\"Ezreal\",\"Zeri\",\"Jhin\",\"Miss Fortune\",\"Veigar\",\"Ashe\",\"Seraphine\",\"Cassiopeia\",\"Karthus\",\"Sivir\",\"Kalista\",\"Jinx\",\"Aphelios\",\"Quinn\",\"Xayah\",\"Kog'Maw\",\"Ziggs\"],\"xaxis\":\"x\",\"y\":[22.06,19.89,19.16,18.15,9.23,8.68,8.24,4.91,4.73,4.37,4.34,3.91,3.9,3.87,3.78,2.69,2.59,1.76,1.43,1.29,0.92,0.88,0.88,0.77,0.67,0.56,0.53,0.34],\"yaxis\":\"y\",\"type\":\"bar\"}],                        {\"template\":{\"data\":{\"histogram2dcontour\":[{\"type\":\"histogram2dcontour\",\"colorbar\":{\"outlinewidth\":0,\"ticks\":\"\"},\"colorscale\":[[0.0,\"#0d0887\"],[0.1111111111111111,\"#46039f\"],[0.2222222222222222,\"#7201a8\"],[0.3333333333333333,\"#9c179e\"],[0.4444444444444444,\"#bd3786\"],[0.5555555555555556,\"#d8576b\"],[0.6666666666666666,\"#ed7953\"],[0.7777777777777778,\"#fb9f3a\"],[0.8888888888888888,\"#fdca26\"],[1.0,\"#f0f921\"]]}],\"choropleth\":[{\"type\":\"choropleth\",\"colorbar\":{\"outlinewidth\":0,\"ticks\":\"\"}}],\"histogram2d\":[{\"type\":\"histogram2d\",\"colorbar\":{\"outlinewidth\":0,\"ticks\":\"\"},\"colorscale\":[[0.0,\"#0d0887\"],[0.1111111111111111,\"#46039f\"],[0.2222222222222222,\"#7201a8\"],[0.3333333333333333,\"#9c179e\"],[0.4444444444444444,\"#bd3786\"],[0.5555555555555556,\"#d8576b\"],[0.6666666666666666,\"#ed7953\"],[0.7777777777777778,\"#fb9f3a\"],[0.8888888888888888,\"#fdca26\"],[1.0,\"#f0f921\"]]}],\"heatmap\":[{\"type\":\"heatmap\",\"colorbar\":{\"outlinewidth\":0,\"ticks\":\"\"},\"colorscale\":[[0.0,\"#0d0887\"],[0.1111111111111111,\"#46039f\"],[0.2222222222222222,\"#7201a8\"],[0.3333333333333333,\"#9c179e\"],[0.4444444444444444,\"#bd3786\"],[0.5555555555555556,\"#d8576b\"],[0.6666666666666666,\"#ed7953\"],[0.7777777777777778,\"#fb9f3a\"],[0.8888888888888888,\"#fdca26\"],[1.0,\"#f0f921\"]]}],\"heatmapgl\":[{\"type\":\"heatmapgl\",\"colorbar\":{\"outlinewidth\":0,\"ticks\":\"\"},\"colorscale\":[[0.0,\"#0d0887\"],[0.1111111111111111,\"#46039f\"],[0.2222222222222222,\"#7201a8\"],[0.3333333333333333,\"#9c179e\"],[0.4444444444444444,\"#bd3786\"],[0.5555555555555556,\"#d8576b\"],[0.6666666666666666,\"#ed7953\"],[0.7777777777777778,\"#fb9f3a\"],[0.8888888888888888,\"#fdca26\"],[1.0,\"#f0f921\"]]}],\"contourcarpet\":[{\"type\":\"contourcarpet\",\"colorbar\":{\"outlinewidth\":0,\"ticks\":\"\"}}],\"contour\":[{\"type\":\"contour\",\"colorbar\":{\"outlinewidth\":0,\"ticks\":\"\"},\"colorscale\":[[0.0,\"#0d0887\"],[0.1111111111111111,\"#46039f\"],[0.2222222222222222,\"#7201a8\"],[0.3333333333333333,\"#9c179e\"],[0.4444444444444444,\"#bd3786\"],[0.5555555555555556,\"#d8576b\"],[0.6666666666666666,\"#ed7953\"],[0.7777777777777778,\"#fb9f3a\"],[0.8888888888888888,\"#fdca26\"],[1.0,\"#f0f921\"]]}],\"surface\":[{\"type\":\"surface\",\"colorbar\":{\"outlinewidth\":0,\"ticks\":\"\"},\"colorscale\":[[0.0,\"#0d0887\"],[0.1111111111111111,\"#46039f\"],[0.2222222222222222,\"#7201a8\"],[0.3333333333333333,\"#9c179e\"],[0.4444444444444444,\"#bd3786\"],[0.5555555555555556,\"#d8576b\"],[0.6666666666666666,\"#ed7953\"],[0.7777777777777778,\"#fb9f3a\"],[0.8888888888888888,\"#fdca26\"],[1.0,\"#f0f921\"]]}],\"mesh3d\":[{\"type\":\"mesh3d\",\"colorbar\":{\"outlinewidth\":0,\"ticks\":\"\"}}],\"scatter\":[{\"fillpattern\":{\"fillmode\":\"overlay\",\"size\":10,\"solidity\":0.2},\"type\":\"scatter\"}],\"parcoords\":[{\"type\":\"parcoords\",\"line\":{\"colorbar\":{\"outlinewidth\":0,\"ticks\":\"\"}}}],\"scatterpolargl\":[{\"type\":\"scatterpolargl\",\"marker\":{\"colorbar\":{\"outlinewidth\":0,\"ticks\":\"\"}}}],\"bar\":[{\"error_x\":{\"color\":\"#2a3f5f\"},\"error_y\":{\"color\":\"#2a3f5f\"},\"marker\":{\"line\":{\"color\":\"#E5ECF6\",\"width\":0.5},\"pattern\":{\"fillmode\":\"overlay\",\"size\":10,\"solidity\":0.2}},\"type\":\"bar\"}],\"scattergeo\":[{\"type\":\"scattergeo\",\"marker\":{\"colorbar\":{\"outlinewidth\":0,\"ticks\":\"\"}}}],\"scatterpolar\":[{\"type\":\"scatterpolar\",\"marker\":{\"colorbar\":{\"outlinewidth\":0,\"ticks\":\"\"}}}],\"histogram\":[{\"marker\":{\"pattern\":{\"fillmode\":\"overlay\",\"size\":10,\"solidity\":0.2}},\"type\":\"histogram\"}],\"scattergl\":[{\"type\":\"scattergl\",\"marker\":{\"colorbar\":{\"outlinewidth\":0,\"ticks\":\"\"}}}],\"scatter3d\":[{\"type\":\"scatter3d\",\"line\":{\"colorbar\":{\"outlinewidth\":0,\"ticks\":\"\"}},\"marker\":{\"colorbar\":{\"outlinewidth\":0,\"ticks\":\"\"}}}],\"scattermapbox\":[{\"type\":\"scattermapbox\",\"marker\":{\"colorbar\":{\"outlinewidth\":0,\"ticks\":\"\"}}}],\"scatterternary\":[{\"type\":\"scatterternary\",\"marker\":{\"colorbar\":{\"outlinewidth\":0,\"ticks\":\"\"}}}],\"scattercarpet\":[{\"type\":\"scattercarpet\",\"marker\":{\"colorbar\":{\"outlinewidth\":0,\"ticks\":\"\"}}}],\"carpet\":[{\"aaxis\":{\"endlinecolor\":\"#2a3f5f\",\"gridcolor\":\"white\",\"linecolor\":\"white\",\"minorgridcolor\":\"white\",\"startlinecolor\":\"#2a3f5f\"},\"baxis\":{\"endlinecolor\":\"#2a3f5f\",\"gridcolor\":\"white\",\"linecolor\":\"white\",\"minorgridcolor\":\"white\",\"startlinecolor\":\"#2a3f5f\"},\"type\":\"carpet\"}],\"table\":[{\"cells\":{\"fill\":{\"color\":\"#EBF0F8\"},\"line\":{\"color\":\"white\"}},\"header\":{\"fill\":{\"color\":\"#C8D4E3\"},\"line\":{\"color\":\"white\"}},\"type\":\"table\"}],\"barpolar\":[{\"marker\":{\"line\":{\"color\":\"#E5ECF6\",\"width\":0.5},\"pattern\":{\"fillmode\":\"overlay\",\"size\":10,\"solidity\":0.2}},\"type\":\"barpolar\"}],\"pie\":[{\"automargin\":true,\"type\":\"pie\"}]},\"layout\":{\"autotypenumbers\":\"strict\",\"colorway\":[\"#636efa\",\"#EF553B\",\"#00cc96\",\"#ab63fa\",\"#FFA15A\",\"#19d3f3\",\"#FF6692\",\"#B6E880\",\"#FF97FF\",\"#FECB52\"],\"font\":{\"color\":\"#2a3f5f\"},\"hovermode\":\"closest\",\"hoverlabel\":{\"align\":\"left\"},\"paper_bgcolor\":\"white\",\"plot_bgcolor\":\"#E5ECF6\",\"polar\":{\"bgcolor\":\"#E5ECF6\",\"angularaxis\":{\"gridcolor\":\"white\",\"linecolor\":\"white\",\"ticks\":\"\"},\"radialaxis\":{\"gridcolor\":\"white\",\"linecolor\":\"white\",\"ticks\":\"\"}},\"ternary\":{\"bgcolor\":\"#E5ECF6\",\"aaxis\":{\"gridcolor\":\"white\",\"linecolor\":\"white\",\"ticks\":\"\"},\"baxis\":{\"gridcolor\":\"white\",\"linecolor\":\"white\",\"ticks\":\"\"},\"caxis\":{\"gridcolor\":\"white\",\"linecolor\":\"white\",\"ticks\":\"\"}},\"coloraxis\":{\"colorbar\":{\"outlinewidth\":0,\"ticks\":\"\"}},\"colorscale\":{\"sequential\":[[0.0,\"#0d0887\"],[0.1111111111111111,\"#46039f\"],[0.2222222222222222,\"#7201a8\"],[0.3333333333333333,\"#9c179e\"],[0.4444444444444444,\"#bd3786\"],[0.5555555555555556,\"#d8576b\"],[0.6666666666666666,\"#ed7953\"],[0.7777777777777778,\"#fb9f3a\"],[0.8888888888888888,\"#fdca26\"],[1.0,\"#f0f921\"]],\"sequentialminus\":[[0.0,\"#0d0887\"],[0.1111111111111111,\"#46039f\"],[0.2222222222222222,\"#7201a8\"],[0.3333333333333333,\"#9c179e\"],[0.4444444444444444,\"#bd3786\"],[0.5555555555555556,\"#d8576b\"],[0.6666666666666666,\"#ed7953\"],[0.7777777777777778,\"#fb9f3a\"],[0.8888888888888888,\"#fdca26\"],[1.0,\"#f0f921\"]],\"diverging\":[[0,\"#8e0152\"],[0.1,\"#c51b7d\"],[0.2,\"#de77ae\"],[0.3,\"#f1b6da\"],[0.4,\"#fde0ef\"],[0.5,\"#f7f7f7\"],[0.6,\"#e6f5d0\"],[0.7,\"#b8e186\"],[0.8,\"#7fbc41\"],[0.9,\"#4d9221\"],[1,\"#276419\"]]},\"xaxis\":{\"gridcolor\":\"white\",\"linecolor\":\"white\",\"ticks\":\"\",\"title\":{\"standoff\":15},\"zerolinecolor\":\"white\",\"automargin\":true,\"zerolinewidth\":2},\"yaxis\":{\"gridcolor\":\"white\",\"linecolor\":\"white\",\"ticks\":\"\",\"title\":{\"standoff\":15},\"zerolinecolor\":\"white\",\"automargin\":true,\"zerolinewidth\":2},\"scene\":{\"xaxis\":{\"backgroundcolor\":\"#E5ECF6\",\"gridcolor\":\"white\",\"linecolor\":\"white\",\"showbackground\":true,\"ticks\":\"\",\"zerolinecolor\":\"white\",\"gridwidth\":2},\"yaxis\":{\"backgroundcolor\":\"#E5ECF6\",\"gridcolor\":\"white\",\"linecolor\":\"white\",\"showbackground\":true,\"ticks\":\"\",\"zerolinecolor\":\"white\",\"gridwidth\":2},\"zaxis\":{\"backgroundcolor\":\"#E5ECF6\",\"gridcolor\":\"white\",\"linecolor\":\"white\",\"showbackground\":true,\"ticks\":\"\",\"zerolinecolor\":\"white\",\"gridwidth\":2}},\"shapedefaults\":{\"line\":{\"color\":\"#2a3f5f\"}},\"annotationdefaults\":{\"arrowcolor\":\"#2a3f5f\",\"arrowhead\":0,\"arrowwidth\":1},\"geo\":{\"bgcolor\":\"white\",\"landcolor\":\"#E5ECF6\",\"subunitcolor\":\"white\",\"showland\":true,\"showlakes\":true,\"lakecolor\":\"white\"},\"title\":{\"x\":0.05},\"mapbox\":{\"style\":\"light\"}}},\"xaxis\":{\"anchor\":\"y\",\"domain\":[0.0,1.0],\"title\":{\"text\":\"Champion\"}},\"yaxis\":{\"anchor\":\"x\",\"domain\":[0.0,1.0],\"title\":{\"text\":\"Ban %\"}},\"legend\":{\"title\":{\"text\":\"color\"},\"tracegroupgap\":0},\"title\":{\"text\":\"Ban %\"},\"barmode\":\"group\"},                        {\"responsive\": true}                    ).then(function(){\n",
       "                            \n",
       "var gd = document.getElementById('6ff673de-6114-4913-b941-118ef793d268');\n",
       "var x = new MutationObserver(function (mutations, observer) {{\n",
       "        var display = window.getComputedStyle(gd).display;\n",
       "        if (!display || display === 'none') {{\n",
       "            console.log([gd, 'removed!']);\n",
       "            Plotly.purge(gd);\n",
       "            observer.disconnect();\n",
       "        }}\n",
       "}});\n",
       "\n",
       "// Listen for the removal of the full notebook cells\n",
       "var notebookContainer = gd.closest('#notebook-container');\n",
       "if (notebookContainer) {{\n",
       "    x.observe(notebookContainer, {childList: true});\n",
       "}}\n",
       "\n",
       "// Listen for the clearing of the current output cell\n",
       "var outputEl = gd.closest('.output');\n",
       "if (outputEl) {{\n",
       "    x.observe(outputEl, {childList: true});\n",
       "}}\n",
       "\n",
       "                        })                };                });            </script>        </div>"
      ]
     },
     "metadata": {},
     "output_type": "display_data"
    }
   ],
   "source": [
    "patch_23.ban_plot()"
   ]
  },
  {
   "cell_type": "code",
   "execution_count": 7,
   "id": "592ecd6e",
   "metadata": {
    "execution": {
     "iopub.execute_input": "2023-06-04T11:25:56.982620Z",
     "iopub.status.busy": "2023-06-04T11:25:56.981322Z",
     "iopub.status.idle": "2023-06-04T11:25:57.066215Z",
     "shell.execute_reply": "2023-06-04T11:25:57.064590Z"
    },
    "papermill": {
     "duration": 0.093844,
     "end_time": "2023-06-04T11:25:57.069098",
     "exception": false,
     "start_time": "2023-06-04T11:25:56.975254",
     "status": "completed"
    },
    "tags": []
   },
   "outputs": [
    {
     "data": {
      "text/html": [
       "<div>                            <div id=\"72413799-9a7e-4bca-bb5b-bc17c47a2102\" class=\"plotly-graph-div\" style=\"height:525px; width:100%;\"></div>            <script type=\"text/javascript\">                require([\"plotly\"], function(Plotly) {                    window.PLOTLYENV=window.PLOTLYENV || {};                                    if (document.getElementById(\"72413799-9a7e-4bca-bb5b-bc17c47a2102\")) {                    Plotly.newPlot(                        \"72413799-9a7e-4bca-bb5b-bc17c47a2102\",                        [{\"alignmentgroup\":\"True\",\"hovertemplate\":\"color=MID<br>Champion=%{x}<br>Win %=%{y}<extra></extra>\",\"legendgroup\":\"MID\",\"marker\":{\"color\":\"#636efa\",\"pattern\":{\"shape\":\"\"}},\"name\":\"MID\",\"offsetgroup\":\"MID\",\"orientation\":\"v\",\"showlegend\":true,\"textposition\":\"auto\",\"x\":[\"Singed\",\"Kled\",\"Zilean\",\"Quinn\",\"Heimerdinger\",\"Nasus\",\"Swain\",\"Vel'Koz\",\"Pantheon\",\"Kassadin\",\"Gangplank\",\"Tristana\",\"Tryndamere\",\"Galio\",\"Cho'Gath\",\"Karthus\",\"Kayle\",\"Viktor\",\"Ziggs\",\"Jayce\",\"Diana\",\"Akshan\",\"Lux\",\"Anivia\",\"Vex\",\"Malphite\",\"Malzahar\",\"Kennen\",\"Ekko\",\"Fizz\",\"Irelia\",\"Veigar\",\"Renekton\",\"Neeko\",\"Gragas\",\"Yone\",\"Xerath\",\"Cassiopeia\",\"Taliyah\",\"Sylas\",\"Rumble\",\"Annie\",\"Zed\",\"Talon\",\"Brand\",\"Vladimir\",\"Corki\",\"Ahri\",\"Orianna\",\"Syndra\",\"Aurelion Sol\",\"Lissandra\",\"Yasuo\",\"Katarina\",\"Akali\",\"Varus\",\"Zoe\",\"LeBlanc\",\"Twisted Fate\",\"Qiyana\",\"Ryze\",\"Azir\"],\"xaxis\":\"x\",\"y\":[58.11,54.96,54.42,54.28,53.71,53.63,53.41,53.37,53.07,52.61,52.49,52.45,52.34,52.33,52.15,51.9,51.79,51.69,51.68,51.64,51.55,51.55,51.54,51.53,51.46,51.46,51.4,51.16,51.14,51.06,50.95,50.93,50.75,50.74,50.6,50.6,50.37,50.26,50.16,50.12,50.02,49.95,49.89,49.84,49.74,49.73,49.66,49.64,49.61,49.51,49.45,49.44,49.39,48.99,48.46,48.37,48.15,47.8,46.94,46.67,46.23,45.21],\"yaxis\":\"y\",\"type\":\"bar\"},{\"alignmentgroup\":\"True\",\"hovertemplate\":\"color=TOP<br>Champion=%{x}<br>Win %=%{y}<extra></extra>\",\"legendgroup\":\"TOP\",\"marker\":{\"color\":\"#EF553B\",\"pattern\":{\"shape\":\"\"}},\"name\":\"TOP\",\"offsetgroup\":\"TOP\",\"orientation\":\"v\",\"showlegend\":true,\"textposition\":\"auto\",\"x\":[\"Dr. Mundo\",\"Zac\",\"Cassiopeia\",\"Olaf\",\"Warwick\",\"Nasus\",\"Singed\",\"Shen\",\"Quinn\",\"Wukong\",\"Yorick\",\"Mordekaiser\",\"Akshan\",\"Fiora\",\"Poppy\",\"Kled\",\"Illaoi\",\"Maokai\",\"Jax\",\"Tryndamere\",\"Neeko\",\"Lillia\",\"Teemo\",\"Darius\",\"Ornn\",\"Gwen\",\"Pantheon\",\"Sett\",\"Skarner\",\"Garen\",\"Aatrox\",\"Camille\",\"Urgot\",\"Irelia\",\"Kayle\",\"Heimerdinger\",\"Sejuani\",\"Cho'Gath\",\"Malphite\",\"Gangplank\",\"Jayce\",\"Renekton\",\"Vayne\",\"K'Sante\",\"Rengar\",\"Yone\",\"Riven\",\"Gnar\",\"Shyvana\",\"Sion\",\"Yasuo\",\"Kennen\",\"Tahm Kench\",\"Trundle\",\"Ryze\",\"Volibear\",\"Vladimir\",\"Gragas\",\"Rumble\",\"Akali\"],\"xaxis\":\"x\",\"y\":[54.35,53.85,53.22,52.4,52.37,52.31,52.02,51.8,51.78,51.71,51.64,51.59,51.55,51.51,51.38,51.28,51.11,51.05,51.05,50.92,50.76,50.68,50.5,50.43,50.43,50.34,50.33,50.26,50.23,50.16,50.1,50.1,50.05,49.83,49.78,49.77,49.73,49.66,49.65,49.44,49.07,49.06,49.01,48.94,48.8,48.8,48.66,48.6,48.15,48.0,47.99,47.73,47.44,47.44,47.26,47.23,47.23,47.08,46.56,45.46],\"yaxis\":\"y\",\"type\":\"bar\"},{\"alignmentgroup\":\"True\",\"hovertemplate\":\"color=ADC<br>Champion=%{x}<br>Win %=%{y}<extra></extra>\",\"legendgroup\":\"ADC\",\"marker\":{\"color\":\"#00cc96\",\"pattern\":{\"shape\":\"\"}},\"name\":\"ADC\",\"offsetgroup\":\"ADC\",\"orientation\":\"v\",\"showlegend\":true,\"textposition\":\"auto\",\"x\":[\"Nilah\",\"Ziggs\",\"Karthus\",\"Samira\",\"Seraphine\",\"Twitch\",\"Zeri\",\"Jhin\",\"Miss Fortune\",\"Kog'Maw\",\"Cassiopeia\",\"Tristana\",\"Draven\",\"Kai'Sa\",\"Varus\",\"Jinx\",\"Ashe\",\"Veigar\",\"Lucian\",\"Vayne\",\"Xayah\",\"Caitlyn\",\"Quinn\",\"Yasuo\",\"Sivir\",\"Ezreal\",\"Kalista\",\"Aphelios\"],\"xaxis\":\"x\",\"y\":[54.28,52.87,52.61,52.2,51.81,51.49,51.48,51.41,51.11,51.1,51.01,50.91,50.86,50.7,50.66,50.5,50.37,50.2,50.17,50.13,50.02,49.98,49.96,49.85,49.45,48.64,48.05,46.75],\"yaxis\":\"y\",\"type\":\"bar\"},{\"alignmentgroup\":\"True\",\"hovertemplate\":\"color=JUNGLE<br>Champion=%{x}<br>Win %=%{y}<extra></extra>\",\"legendgroup\":\"JUNGLE\",\"marker\":{\"color\":\"#ab63fa\",\"pattern\":{\"shape\":\"\"}},\"name\":\"JUNGLE\",\"offsetgroup\":\"JUNGLE\",\"orientation\":\"v\",\"showlegend\":true,\"textposition\":\"auto\",\"x\":[\"Rammus\",\"Maokai\",\"Dr. Mundo\",\"Zac\",\"Vi\",\"Wukong\",\"Nocturne\",\"Diana\",\"Fiddlesticks\",\"Mordekaiser\",\"Shyvana\",\"Skarner\",\"Elise\",\"Udyr\",\"Master Yi\",\"Lillia\",\"Amumu\",\"Ekko\",\"Xin Zhao\",\"Warwick\",\"Bel'Veth\",\"Sejuani\",\"Olaf\",\"Kindred\",\"Trundle\",\"Evelynn\",\"Volibear\",\"Jarvan IV\",\"Kha'Zix\",\"Gragas\",\"Ivern\",\"Sylas\",\"Viego\",\"Hecarim\",\"Graves\",\"Kayn\",\"Nunu\",\"Karthus\",\"Poppy\",\"Shaco\",\"Taliyah\",\"Jax\",\"Rek'Sai\",\"Gwen\",\"Talon\",\"Rengar\",\"Zed\",\"Nidalee\",\"Lee Sin\",\"Rumble\",\"Qiyana\"],\"xaxis\":\"x\",\"y\":[54.18,53.98,53.62,52.95,52.93,52.88,52.49,52.25,52.15,52.09,52.06,52.0,51.79,51.71,51.59,51.57,51.55,51.47,51.26,51.21,51.2,50.96,50.84,50.8,50.74,50.64,50.61,50.38,50.32,50.18,49.95,49.8,49.58,49.33,49.19,49.11,48.84,48.71,48.63,48.55,48.5,48.36,48.22,48.21,48.12,47.94,47.56,47.29,46.57,46.55,42.06],\"yaxis\":\"y\",\"type\":\"bar\"},{\"alignmentgroup\":\"True\",\"hovertemplate\":\"color=SUPPORT<br>Champion=%{x}<br>Win %=%{y}<extra></extra>\",\"legendgroup\":\"SUPPORT\",\"marker\":{\"color\":\"#FFA15A\",\"pattern\":{\"shape\":\"\"}},\"name\":\"SUPPORT\",\"offsetgroup\":\"SUPPORT\",\"orientation\":\"v\",\"showlegend\":true,\"textposition\":\"auto\",\"x\":[\"Nami\",\"Janna\",\"Sona\",\"Zyra\",\"Heimerdinger\",\"Rell\",\"Maokai\",\"Soraka\",\"Amumu\",\"Renata Glasc\",\"Morgana\",\"Brand\",\"Rakan\",\"Shaco\",\"Vel'Koz\",\"Blitzcrank\",\"Taric\",\"Lulu\",\"Lux\",\"Leona\",\"Swain\",\"Fiddlesticks\",\"Seraphine\",\"Zilean\",\"Xerath\",\"Galio\",\"Neeko\",\"Nautilus\",\"Bard\",\"Twitch\",\"Alistar\",\"Karma\",\"Tahm Kench\",\"Braum\",\"Thresh\",\"Pyke\",\"Ashe\",\"Senna\",\"Anivia\",\"Poppy\",\"Gragas\",\"Taliyah\",\"Pantheon\",\"Ziggs\",\"Yuumi\",\"Shen\",\"Zoe\",\"Ivern\",\"Veigar\",\"Annie\",\"Malphite\"],\"xaxis\":\"x\",\"y\":[53.1,52.76,52.72,52.62,52.41,52.25,52.14,51.99,51.94,51.53,51.09,51.06,51.06,51.0,50.88,50.87,50.83,50.83,50.79,50.72,50.44,50.34,50.16,50.12,49.99,49.94,49.94,49.77,49.69,49.57,49.49,49.25,49.1,49.02,48.98,48.87,48.86,48.84,48.66,48.44,48.37,48.25,48.23,48.21,47.94,47.55,47.47,46.06,45.97,45.47,44.91],\"yaxis\":\"y\",\"type\":\"bar\"}],                        {\"template\":{\"data\":{\"histogram2dcontour\":[{\"type\":\"histogram2dcontour\",\"colorbar\":{\"outlinewidth\":0,\"ticks\":\"\"},\"colorscale\":[[0.0,\"#0d0887\"],[0.1111111111111111,\"#46039f\"],[0.2222222222222222,\"#7201a8\"],[0.3333333333333333,\"#9c179e\"],[0.4444444444444444,\"#bd3786\"],[0.5555555555555556,\"#d8576b\"],[0.6666666666666666,\"#ed7953\"],[0.7777777777777778,\"#fb9f3a\"],[0.8888888888888888,\"#fdca26\"],[1.0,\"#f0f921\"]]}],\"choropleth\":[{\"type\":\"choropleth\",\"colorbar\":{\"outlinewidth\":0,\"ticks\":\"\"}}],\"histogram2d\":[{\"type\":\"histogram2d\",\"colorbar\":{\"outlinewidth\":0,\"ticks\":\"\"},\"colorscale\":[[0.0,\"#0d0887\"],[0.1111111111111111,\"#46039f\"],[0.2222222222222222,\"#7201a8\"],[0.3333333333333333,\"#9c179e\"],[0.4444444444444444,\"#bd3786\"],[0.5555555555555556,\"#d8576b\"],[0.6666666666666666,\"#ed7953\"],[0.7777777777777778,\"#fb9f3a\"],[0.8888888888888888,\"#fdca26\"],[1.0,\"#f0f921\"]]}],\"heatmap\":[{\"type\":\"heatmap\",\"colorbar\":{\"outlinewidth\":0,\"ticks\":\"\"},\"colorscale\":[[0.0,\"#0d0887\"],[0.1111111111111111,\"#46039f\"],[0.2222222222222222,\"#7201a8\"],[0.3333333333333333,\"#9c179e\"],[0.4444444444444444,\"#bd3786\"],[0.5555555555555556,\"#d8576b\"],[0.6666666666666666,\"#ed7953\"],[0.7777777777777778,\"#fb9f3a\"],[0.8888888888888888,\"#fdca26\"],[1.0,\"#f0f921\"]]}],\"heatmapgl\":[{\"type\":\"heatmapgl\",\"colorbar\":{\"outlinewidth\":0,\"ticks\":\"\"},\"colorscale\":[[0.0,\"#0d0887\"],[0.1111111111111111,\"#46039f\"],[0.2222222222222222,\"#7201a8\"],[0.3333333333333333,\"#9c179e\"],[0.4444444444444444,\"#bd3786\"],[0.5555555555555556,\"#d8576b\"],[0.6666666666666666,\"#ed7953\"],[0.7777777777777778,\"#fb9f3a\"],[0.8888888888888888,\"#fdca26\"],[1.0,\"#f0f921\"]]}],\"contourcarpet\":[{\"type\":\"contourcarpet\",\"colorbar\":{\"outlinewidth\":0,\"ticks\":\"\"}}],\"contour\":[{\"type\":\"contour\",\"colorbar\":{\"outlinewidth\":0,\"ticks\":\"\"},\"colorscale\":[[0.0,\"#0d0887\"],[0.1111111111111111,\"#46039f\"],[0.2222222222222222,\"#7201a8\"],[0.3333333333333333,\"#9c179e\"],[0.4444444444444444,\"#bd3786\"],[0.5555555555555556,\"#d8576b\"],[0.6666666666666666,\"#ed7953\"],[0.7777777777777778,\"#fb9f3a\"],[0.8888888888888888,\"#fdca26\"],[1.0,\"#f0f921\"]]}],\"surface\":[{\"type\":\"surface\",\"colorbar\":{\"outlinewidth\":0,\"ticks\":\"\"},\"colorscale\":[[0.0,\"#0d0887\"],[0.1111111111111111,\"#46039f\"],[0.2222222222222222,\"#7201a8\"],[0.3333333333333333,\"#9c179e\"],[0.4444444444444444,\"#bd3786\"],[0.5555555555555556,\"#d8576b\"],[0.6666666666666666,\"#ed7953\"],[0.7777777777777778,\"#fb9f3a\"],[0.8888888888888888,\"#fdca26\"],[1.0,\"#f0f921\"]]}],\"mesh3d\":[{\"type\":\"mesh3d\",\"colorbar\":{\"outlinewidth\":0,\"ticks\":\"\"}}],\"scatter\":[{\"fillpattern\":{\"fillmode\":\"overlay\",\"size\":10,\"solidity\":0.2},\"type\":\"scatter\"}],\"parcoords\":[{\"type\":\"parcoords\",\"line\":{\"colorbar\":{\"outlinewidth\":0,\"ticks\":\"\"}}}],\"scatterpolargl\":[{\"type\":\"scatterpolargl\",\"marker\":{\"colorbar\":{\"outlinewidth\":0,\"ticks\":\"\"}}}],\"bar\":[{\"error_x\":{\"color\":\"#2a3f5f\"},\"error_y\":{\"color\":\"#2a3f5f\"},\"marker\":{\"line\":{\"color\":\"#E5ECF6\",\"width\":0.5},\"pattern\":{\"fillmode\":\"overlay\",\"size\":10,\"solidity\":0.2}},\"type\":\"bar\"}],\"scattergeo\":[{\"type\":\"scattergeo\",\"marker\":{\"colorbar\":{\"outlinewidth\":0,\"ticks\":\"\"}}}],\"scatterpolar\":[{\"type\":\"scatterpolar\",\"marker\":{\"colorbar\":{\"outlinewidth\":0,\"ticks\":\"\"}}}],\"histogram\":[{\"marker\":{\"pattern\":{\"fillmode\":\"overlay\",\"size\":10,\"solidity\":0.2}},\"type\":\"histogram\"}],\"scattergl\":[{\"type\":\"scattergl\",\"marker\":{\"colorbar\":{\"outlinewidth\":0,\"ticks\":\"\"}}}],\"scatter3d\":[{\"type\":\"scatter3d\",\"line\":{\"colorbar\":{\"outlinewidth\":0,\"ticks\":\"\"}},\"marker\":{\"colorbar\":{\"outlinewidth\":0,\"ticks\":\"\"}}}],\"scattermapbox\":[{\"type\":\"scattermapbox\",\"marker\":{\"colorbar\":{\"outlinewidth\":0,\"ticks\":\"\"}}}],\"scatterternary\":[{\"type\":\"scatterternary\",\"marker\":{\"colorbar\":{\"outlinewidth\":0,\"ticks\":\"\"}}}],\"scattercarpet\":[{\"type\":\"scattercarpet\",\"marker\":{\"colorbar\":{\"outlinewidth\":0,\"ticks\":\"\"}}}],\"carpet\":[{\"aaxis\":{\"endlinecolor\":\"#2a3f5f\",\"gridcolor\":\"white\",\"linecolor\":\"white\",\"minorgridcolor\":\"white\",\"startlinecolor\":\"#2a3f5f\"},\"baxis\":{\"endlinecolor\":\"#2a3f5f\",\"gridcolor\":\"white\",\"linecolor\":\"white\",\"minorgridcolor\":\"white\",\"startlinecolor\":\"#2a3f5f\"},\"type\":\"carpet\"}],\"table\":[{\"cells\":{\"fill\":{\"color\":\"#EBF0F8\"},\"line\":{\"color\":\"white\"}},\"header\":{\"fill\":{\"color\":\"#C8D4E3\"},\"line\":{\"color\":\"white\"}},\"type\":\"table\"}],\"barpolar\":[{\"marker\":{\"line\":{\"color\":\"#E5ECF6\",\"width\":0.5},\"pattern\":{\"fillmode\":\"overlay\",\"size\":10,\"solidity\":0.2}},\"type\":\"barpolar\"}],\"pie\":[{\"automargin\":true,\"type\":\"pie\"}]},\"layout\":{\"autotypenumbers\":\"strict\",\"colorway\":[\"#636efa\",\"#EF553B\",\"#00cc96\",\"#ab63fa\",\"#FFA15A\",\"#19d3f3\",\"#FF6692\",\"#B6E880\",\"#FF97FF\",\"#FECB52\"],\"font\":{\"color\":\"#2a3f5f\"},\"hovermode\":\"closest\",\"hoverlabel\":{\"align\":\"left\"},\"paper_bgcolor\":\"white\",\"plot_bgcolor\":\"#E5ECF6\",\"polar\":{\"bgcolor\":\"#E5ECF6\",\"angularaxis\":{\"gridcolor\":\"white\",\"linecolor\":\"white\",\"ticks\":\"\"},\"radialaxis\":{\"gridcolor\":\"white\",\"linecolor\":\"white\",\"ticks\":\"\"}},\"ternary\":{\"bgcolor\":\"#E5ECF6\",\"aaxis\":{\"gridcolor\":\"white\",\"linecolor\":\"white\",\"ticks\":\"\"},\"baxis\":{\"gridcolor\":\"white\",\"linecolor\":\"white\",\"ticks\":\"\"},\"caxis\":{\"gridcolor\":\"white\",\"linecolor\":\"white\",\"ticks\":\"\"}},\"coloraxis\":{\"colorbar\":{\"outlinewidth\":0,\"ticks\":\"\"}},\"colorscale\":{\"sequential\":[[0.0,\"#0d0887\"],[0.1111111111111111,\"#46039f\"],[0.2222222222222222,\"#7201a8\"],[0.3333333333333333,\"#9c179e\"],[0.4444444444444444,\"#bd3786\"],[0.5555555555555556,\"#d8576b\"],[0.6666666666666666,\"#ed7953\"],[0.7777777777777778,\"#fb9f3a\"],[0.8888888888888888,\"#fdca26\"],[1.0,\"#f0f921\"]],\"sequentialminus\":[[0.0,\"#0d0887\"],[0.1111111111111111,\"#46039f\"],[0.2222222222222222,\"#7201a8\"],[0.3333333333333333,\"#9c179e\"],[0.4444444444444444,\"#bd3786\"],[0.5555555555555556,\"#d8576b\"],[0.6666666666666666,\"#ed7953\"],[0.7777777777777778,\"#fb9f3a\"],[0.8888888888888888,\"#fdca26\"],[1.0,\"#f0f921\"]],\"diverging\":[[0,\"#8e0152\"],[0.1,\"#c51b7d\"],[0.2,\"#de77ae\"],[0.3,\"#f1b6da\"],[0.4,\"#fde0ef\"],[0.5,\"#f7f7f7\"],[0.6,\"#e6f5d0\"],[0.7,\"#b8e186\"],[0.8,\"#7fbc41\"],[0.9,\"#4d9221\"],[1,\"#276419\"]]},\"xaxis\":{\"gridcolor\":\"white\",\"linecolor\":\"white\",\"ticks\":\"\",\"title\":{\"standoff\":15},\"zerolinecolor\":\"white\",\"automargin\":true,\"zerolinewidth\":2},\"yaxis\":{\"gridcolor\":\"white\",\"linecolor\":\"white\",\"ticks\":\"\",\"title\":{\"standoff\":15},\"zerolinecolor\":\"white\",\"automargin\":true,\"zerolinewidth\":2},\"scene\":{\"xaxis\":{\"backgroundcolor\":\"#E5ECF6\",\"gridcolor\":\"white\",\"linecolor\":\"white\",\"showbackground\":true,\"ticks\":\"\",\"zerolinecolor\":\"white\",\"gridwidth\":2},\"yaxis\":{\"backgroundcolor\":\"#E5ECF6\",\"gridcolor\":\"white\",\"linecolor\":\"white\",\"showbackground\":true,\"ticks\":\"\",\"zerolinecolor\":\"white\",\"gridwidth\":2},\"zaxis\":{\"backgroundcolor\":\"#E5ECF6\",\"gridcolor\":\"white\",\"linecolor\":\"white\",\"showbackground\":true,\"ticks\":\"\",\"zerolinecolor\":\"white\",\"gridwidth\":2}},\"shapedefaults\":{\"line\":{\"color\":\"#2a3f5f\"}},\"annotationdefaults\":{\"arrowcolor\":\"#2a3f5f\",\"arrowhead\":0,\"arrowwidth\":1},\"geo\":{\"bgcolor\":\"white\",\"landcolor\":\"#E5ECF6\",\"subunitcolor\":\"white\",\"showland\":true,\"showlakes\":true,\"lakecolor\":\"white\"},\"title\":{\"x\":0.05},\"mapbox\":{\"style\":\"light\"}}},\"xaxis\":{\"anchor\":\"y\",\"domain\":[0.0,1.0],\"title\":{\"text\":\"Champion\"}},\"yaxis\":{\"anchor\":\"x\",\"domain\":[0.0,1.0],\"title\":{\"text\":\"Win %\"}},\"legend\":{\"title\":{\"text\":\"color\"},\"tracegroupgap\":0},\"title\":{\"text\":\"Win %\"},\"barmode\":\"group\"},                        {\"responsive\": true}                    ).then(function(){\n",
       "                            \n",
       "var gd = document.getElementById('72413799-9a7e-4bca-bb5b-bc17c47a2102');\n",
       "var x = new MutationObserver(function (mutations, observer) {{\n",
       "        var display = window.getComputedStyle(gd).display;\n",
       "        if (!display || display === 'none') {{\n",
       "            console.log([gd, 'removed!']);\n",
       "            Plotly.purge(gd);\n",
       "            observer.disconnect();\n",
       "        }}\n",
       "}});\n",
       "\n",
       "// Listen for the removal of the full notebook cells\n",
       "var notebookContainer = gd.closest('#notebook-container');\n",
       "if (notebookContainer) {{\n",
       "    x.observe(notebookContainer, {childList: true});\n",
       "}}\n",
       "\n",
       "// Listen for the clearing of the current output cell\n",
       "var outputEl = gd.closest('.output');\n",
       "if (outputEl) {{\n",
       "    x.observe(outputEl, {childList: true});\n",
       "}}\n",
       "\n",
       "                        })                };                });            </script>        </div>"
      ]
     },
     "metadata": {},
     "output_type": "display_data"
    }
   ],
   "source": [
    "patch_23.winrate_plot()"
   ]
  },
  {
   "cell_type": "code",
   "execution_count": 8,
   "id": "5e9f8773",
   "metadata": {
    "execution": {
     "iopub.execute_input": "2023-06-04T11:25:57.080549Z",
     "iopub.status.busy": "2023-06-04T11:25:57.080079Z",
     "iopub.status.idle": "2023-06-04T11:25:57.143488Z",
     "shell.execute_reply": "2023-06-04T11:25:57.142092Z"
    },
    "papermill": {
     "duration": 0.072713,
     "end_time": "2023-06-04T11:25:57.146489",
     "exception": false,
     "start_time": "2023-06-04T11:25:57.073776",
     "status": "completed"
    },
    "tags": []
   },
   "outputs": [
    {
     "data": {
      "text/html": [
       "<div>                            <div id=\"0c33b816-dbad-4ccc-bc98-04b908b6071d\" class=\"plotly-graph-div\" style=\"height:525px; width:100%;\"></div>            <script type=\"text/javascript\">                require([\"plotly\"], function(Plotly) {                    window.PLOTLYENV=window.PLOTLYENV || {};                                    if (document.getElementById(\"0c33b816-dbad-4ccc-bc98-04b908b6071d\")) {                    Plotly.newPlot(                        \"0c33b816-dbad-4ccc-bc98-04b908b6071d\",                        [{\"alignmentgroup\":\"True\",\"hovertemplate\":\"color=SUPPORT<br>Champion=%{x}<br>Win %=%{y}<extra></extra>\",\"legendgroup\":\"SUPPORT\",\"marker\":{\"color\":\"#636efa\",\"pattern\":{\"shape\":\"\"}},\"name\":\"SUPPORT\",\"offsetgroup\":\"SUPPORT\",\"orientation\":\"v\",\"showlegend\":true,\"textposition\":\"auto\",\"x\":[\"Nami\",\"Janna\",\"Sona\",\"Zyra\",\"Heimerdinger\",\"Rell\",\"Maokai\",\"Soraka\",\"Amumu\",\"Renata Glasc\",\"Morgana\",\"Rakan\",\"Brand\",\"Shaco\",\"Vel'Koz\",\"Blitzcrank\",\"Lulu\",\"Taric\",\"Lux\",\"Leona\",\"Swain\",\"Fiddlesticks\",\"Seraphine\",\"Zilean\",\"Xerath\",\"Neeko\",\"Galio\",\"Nautilus\",\"Bard\",\"Twitch\",\"Alistar\",\"Karma\",\"Tahm Kench\",\"Braum\",\"Thresh\",\"Pyke\",\"Ashe\",\"Senna\",\"Anivia\",\"Poppy\",\"Gragas\",\"Taliyah\",\"Pantheon\",\"Ziggs\",\"Yuumi\",\"Shen\",\"Zoe\",\"Ivern\",\"Veigar\",\"Annie\",\"Malphite\"],\"xaxis\":\"x\",\"y\":[53.1,52.76,52.72,52.62,52.41,52.25,52.14,51.99,51.94,51.53,51.09,51.06,51.06,51.0,50.88,50.87,50.83,50.83,50.79,50.72,50.44,50.34,50.16,50.12,49.99,49.94,49.94,49.77,49.69,49.57,49.49,49.25,49.1,49.02,48.98,48.87,48.86,48.84,48.66,48.44,48.37,48.25,48.23,48.21,47.94,47.55,47.47,46.06,45.97,45.47,44.91],\"yaxis\":\"y\",\"type\":\"bar\"}],                        {\"template\":{\"data\":{\"histogram2dcontour\":[{\"type\":\"histogram2dcontour\",\"colorbar\":{\"outlinewidth\":0,\"ticks\":\"\"},\"colorscale\":[[0.0,\"#0d0887\"],[0.1111111111111111,\"#46039f\"],[0.2222222222222222,\"#7201a8\"],[0.3333333333333333,\"#9c179e\"],[0.4444444444444444,\"#bd3786\"],[0.5555555555555556,\"#d8576b\"],[0.6666666666666666,\"#ed7953\"],[0.7777777777777778,\"#fb9f3a\"],[0.8888888888888888,\"#fdca26\"],[1.0,\"#f0f921\"]]}],\"choropleth\":[{\"type\":\"choropleth\",\"colorbar\":{\"outlinewidth\":0,\"ticks\":\"\"}}],\"histogram2d\":[{\"type\":\"histogram2d\",\"colorbar\":{\"outlinewidth\":0,\"ticks\":\"\"},\"colorscale\":[[0.0,\"#0d0887\"],[0.1111111111111111,\"#46039f\"],[0.2222222222222222,\"#7201a8\"],[0.3333333333333333,\"#9c179e\"],[0.4444444444444444,\"#bd3786\"],[0.5555555555555556,\"#d8576b\"],[0.6666666666666666,\"#ed7953\"],[0.7777777777777778,\"#fb9f3a\"],[0.8888888888888888,\"#fdca26\"],[1.0,\"#f0f921\"]]}],\"heatmap\":[{\"type\":\"heatmap\",\"colorbar\":{\"outlinewidth\":0,\"ticks\":\"\"},\"colorscale\":[[0.0,\"#0d0887\"],[0.1111111111111111,\"#46039f\"],[0.2222222222222222,\"#7201a8\"],[0.3333333333333333,\"#9c179e\"],[0.4444444444444444,\"#bd3786\"],[0.5555555555555556,\"#d8576b\"],[0.6666666666666666,\"#ed7953\"],[0.7777777777777778,\"#fb9f3a\"],[0.8888888888888888,\"#fdca26\"],[1.0,\"#f0f921\"]]}],\"heatmapgl\":[{\"type\":\"heatmapgl\",\"colorbar\":{\"outlinewidth\":0,\"ticks\":\"\"},\"colorscale\":[[0.0,\"#0d0887\"],[0.1111111111111111,\"#46039f\"],[0.2222222222222222,\"#7201a8\"],[0.3333333333333333,\"#9c179e\"],[0.4444444444444444,\"#bd3786\"],[0.5555555555555556,\"#d8576b\"],[0.6666666666666666,\"#ed7953\"],[0.7777777777777778,\"#fb9f3a\"],[0.8888888888888888,\"#fdca26\"],[1.0,\"#f0f921\"]]}],\"contourcarpet\":[{\"type\":\"contourcarpet\",\"colorbar\":{\"outlinewidth\":0,\"ticks\":\"\"}}],\"contour\":[{\"type\":\"contour\",\"colorbar\":{\"outlinewidth\":0,\"ticks\":\"\"},\"colorscale\":[[0.0,\"#0d0887\"],[0.1111111111111111,\"#46039f\"],[0.2222222222222222,\"#7201a8\"],[0.3333333333333333,\"#9c179e\"],[0.4444444444444444,\"#bd3786\"],[0.5555555555555556,\"#d8576b\"],[0.6666666666666666,\"#ed7953\"],[0.7777777777777778,\"#fb9f3a\"],[0.8888888888888888,\"#fdca26\"],[1.0,\"#f0f921\"]]}],\"surface\":[{\"type\":\"surface\",\"colorbar\":{\"outlinewidth\":0,\"ticks\":\"\"},\"colorscale\":[[0.0,\"#0d0887\"],[0.1111111111111111,\"#46039f\"],[0.2222222222222222,\"#7201a8\"],[0.3333333333333333,\"#9c179e\"],[0.4444444444444444,\"#bd3786\"],[0.5555555555555556,\"#d8576b\"],[0.6666666666666666,\"#ed7953\"],[0.7777777777777778,\"#fb9f3a\"],[0.8888888888888888,\"#fdca26\"],[1.0,\"#f0f921\"]]}],\"mesh3d\":[{\"type\":\"mesh3d\",\"colorbar\":{\"outlinewidth\":0,\"ticks\":\"\"}}],\"scatter\":[{\"fillpattern\":{\"fillmode\":\"overlay\",\"size\":10,\"solidity\":0.2},\"type\":\"scatter\"}],\"parcoords\":[{\"type\":\"parcoords\",\"line\":{\"colorbar\":{\"outlinewidth\":0,\"ticks\":\"\"}}}],\"scatterpolargl\":[{\"type\":\"scatterpolargl\",\"marker\":{\"colorbar\":{\"outlinewidth\":0,\"ticks\":\"\"}}}],\"bar\":[{\"error_x\":{\"color\":\"#2a3f5f\"},\"error_y\":{\"color\":\"#2a3f5f\"},\"marker\":{\"line\":{\"color\":\"#E5ECF6\",\"width\":0.5},\"pattern\":{\"fillmode\":\"overlay\",\"size\":10,\"solidity\":0.2}},\"type\":\"bar\"}],\"scattergeo\":[{\"type\":\"scattergeo\",\"marker\":{\"colorbar\":{\"outlinewidth\":0,\"ticks\":\"\"}}}],\"scatterpolar\":[{\"type\":\"scatterpolar\",\"marker\":{\"colorbar\":{\"outlinewidth\":0,\"ticks\":\"\"}}}],\"histogram\":[{\"marker\":{\"pattern\":{\"fillmode\":\"overlay\",\"size\":10,\"solidity\":0.2}},\"type\":\"histogram\"}],\"scattergl\":[{\"type\":\"scattergl\",\"marker\":{\"colorbar\":{\"outlinewidth\":0,\"ticks\":\"\"}}}],\"scatter3d\":[{\"type\":\"scatter3d\",\"line\":{\"colorbar\":{\"outlinewidth\":0,\"ticks\":\"\"}},\"marker\":{\"colorbar\":{\"outlinewidth\":0,\"ticks\":\"\"}}}],\"scattermapbox\":[{\"type\":\"scattermapbox\",\"marker\":{\"colorbar\":{\"outlinewidth\":0,\"ticks\":\"\"}}}],\"scatterternary\":[{\"type\":\"scatterternary\",\"marker\":{\"colorbar\":{\"outlinewidth\":0,\"ticks\":\"\"}}}],\"scattercarpet\":[{\"type\":\"scattercarpet\",\"marker\":{\"colorbar\":{\"outlinewidth\":0,\"ticks\":\"\"}}}],\"carpet\":[{\"aaxis\":{\"endlinecolor\":\"#2a3f5f\",\"gridcolor\":\"white\",\"linecolor\":\"white\",\"minorgridcolor\":\"white\",\"startlinecolor\":\"#2a3f5f\"},\"baxis\":{\"endlinecolor\":\"#2a3f5f\",\"gridcolor\":\"white\",\"linecolor\":\"white\",\"minorgridcolor\":\"white\",\"startlinecolor\":\"#2a3f5f\"},\"type\":\"carpet\"}],\"table\":[{\"cells\":{\"fill\":{\"color\":\"#EBF0F8\"},\"line\":{\"color\":\"white\"}},\"header\":{\"fill\":{\"color\":\"#C8D4E3\"},\"line\":{\"color\":\"white\"}},\"type\":\"table\"}],\"barpolar\":[{\"marker\":{\"line\":{\"color\":\"#E5ECF6\",\"width\":0.5},\"pattern\":{\"fillmode\":\"overlay\",\"size\":10,\"solidity\":0.2}},\"type\":\"barpolar\"}],\"pie\":[{\"automargin\":true,\"type\":\"pie\"}]},\"layout\":{\"autotypenumbers\":\"strict\",\"colorway\":[\"#636efa\",\"#EF553B\",\"#00cc96\",\"#ab63fa\",\"#FFA15A\",\"#19d3f3\",\"#FF6692\",\"#B6E880\",\"#FF97FF\",\"#FECB52\"],\"font\":{\"color\":\"#2a3f5f\"},\"hovermode\":\"closest\",\"hoverlabel\":{\"align\":\"left\"},\"paper_bgcolor\":\"white\",\"plot_bgcolor\":\"#E5ECF6\",\"polar\":{\"bgcolor\":\"#E5ECF6\",\"angularaxis\":{\"gridcolor\":\"white\",\"linecolor\":\"white\",\"ticks\":\"\"},\"radialaxis\":{\"gridcolor\":\"white\",\"linecolor\":\"white\",\"ticks\":\"\"}},\"ternary\":{\"bgcolor\":\"#E5ECF6\",\"aaxis\":{\"gridcolor\":\"white\",\"linecolor\":\"white\",\"ticks\":\"\"},\"baxis\":{\"gridcolor\":\"white\",\"linecolor\":\"white\",\"ticks\":\"\"},\"caxis\":{\"gridcolor\":\"white\",\"linecolor\":\"white\",\"ticks\":\"\"}},\"coloraxis\":{\"colorbar\":{\"outlinewidth\":0,\"ticks\":\"\"}},\"colorscale\":{\"sequential\":[[0.0,\"#0d0887\"],[0.1111111111111111,\"#46039f\"],[0.2222222222222222,\"#7201a8\"],[0.3333333333333333,\"#9c179e\"],[0.4444444444444444,\"#bd3786\"],[0.5555555555555556,\"#d8576b\"],[0.6666666666666666,\"#ed7953\"],[0.7777777777777778,\"#fb9f3a\"],[0.8888888888888888,\"#fdca26\"],[1.0,\"#f0f921\"]],\"sequentialminus\":[[0.0,\"#0d0887\"],[0.1111111111111111,\"#46039f\"],[0.2222222222222222,\"#7201a8\"],[0.3333333333333333,\"#9c179e\"],[0.4444444444444444,\"#bd3786\"],[0.5555555555555556,\"#d8576b\"],[0.6666666666666666,\"#ed7953\"],[0.7777777777777778,\"#fb9f3a\"],[0.8888888888888888,\"#fdca26\"],[1.0,\"#f0f921\"]],\"diverging\":[[0,\"#8e0152\"],[0.1,\"#c51b7d\"],[0.2,\"#de77ae\"],[0.3,\"#f1b6da\"],[0.4,\"#fde0ef\"],[0.5,\"#f7f7f7\"],[0.6,\"#e6f5d0\"],[0.7,\"#b8e186\"],[0.8,\"#7fbc41\"],[0.9,\"#4d9221\"],[1,\"#276419\"]]},\"xaxis\":{\"gridcolor\":\"white\",\"linecolor\":\"white\",\"ticks\":\"\",\"title\":{\"standoff\":15},\"zerolinecolor\":\"white\",\"automargin\":true,\"zerolinewidth\":2},\"yaxis\":{\"gridcolor\":\"white\",\"linecolor\":\"white\",\"ticks\":\"\",\"title\":{\"standoff\":15},\"zerolinecolor\":\"white\",\"automargin\":true,\"zerolinewidth\":2},\"scene\":{\"xaxis\":{\"backgroundcolor\":\"#E5ECF6\",\"gridcolor\":\"white\",\"linecolor\":\"white\",\"showbackground\":true,\"ticks\":\"\",\"zerolinecolor\":\"white\",\"gridwidth\":2},\"yaxis\":{\"backgroundcolor\":\"#E5ECF6\",\"gridcolor\":\"white\",\"linecolor\":\"white\",\"showbackground\":true,\"ticks\":\"\",\"zerolinecolor\":\"white\",\"gridwidth\":2},\"zaxis\":{\"backgroundcolor\":\"#E5ECF6\",\"gridcolor\":\"white\",\"linecolor\":\"white\",\"showbackground\":true,\"ticks\":\"\",\"zerolinecolor\":\"white\",\"gridwidth\":2}},\"shapedefaults\":{\"line\":{\"color\":\"#2a3f5f\"}},\"annotationdefaults\":{\"arrowcolor\":\"#2a3f5f\",\"arrowhead\":0,\"arrowwidth\":1},\"geo\":{\"bgcolor\":\"white\",\"landcolor\":\"#E5ECF6\",\"subunitcolor\":\"white\",\"showland\":true,\"showlakes\":true,\"lakecolor\":\"white\"},\"title\":{\"x\":0.05},\"mapbox\":{\"style\":\"light\"}}},\"xaxis\":{\"anchor\":\"y\",\"domain\":[0.0,1.0],\"title\":{\"text\":\"Champion\"}},\"yaxis\":{\"anchor\":\"x\",\"domain\":[0.0,1.0],\"title\":{\"text\":\"Win %\"}},\"legend\":{\"title\":{\"text\":\"color\"},\"tracegroupgap\":0},\"title\":{\"text\":\"Win %\"},\"barmode\":\"group\"},                        {\"responsive\": true}                    ).then(function(){\n",
       "                            \n",
       "var gd = document.getElementById('0c33b816-dbad-4ccc-bc98-04b908b6071d');\n",
       "var x = new MutationObserver(function (mutations, observer) {{\n",
       "        var display = window.getComputedStyle(gd).display;\n",
       "        if (!display || display === 'none') {{\n",
       "            console.log([gd, 'removed!']);\n",
       "            Plotly.purge(gd);\n",
       "            observer.disconnect();\n",
       "        }}\n",
       "}});\n",
       "\n",
       "// Listen for the removal of the full notebook cells\n",
       "var notebookContainer = gd.closest('#notebook-container');\n",
       "if (notebookContainer) {{\n",
       "    x.observe(notebookContainer, {childList: true});\n",
       "}}\n",
       "\n",
       "// Listen for the clearing of the current output cell\n",
       "var outputEl = gd.closest('.output');\n",
       "if (outputEl) {{\n",
       "    x.observe(outputEl, {childList: true});\n",
       "}}\n",
       "\n",
       "                        })                };                });            </script>        </div>"
      ]
     },
     "metadata": {},
     "output_type": "display_data"
    }
   ],
   "source": [
    "patch_23.winrate_plot(patch_23.SUPPORT)"
   ]
  },
  {
   "cell_type": "code",
   "execution_count": null,
   "id": "cbc96b7a",
   "metadata": {
    "papermill": {
     "duration": 0.005322,
     "end_time": "2023-06-04T11:25:57.157129",
     "exception": false,
     "start_time": "2023-06-04T11:25:57.151807",
     "status": "completed"
    },
    "tags": []
   },
   "outputs": [],
   "source": []
  }
 ],
 "metadata": {
  "kernelspec": {
   "display_name": "Python 3",
   "language": "python",
   "name": "python3"
  },
  "language_info": {
   "codemirror_mode": {
    "name": "ipython",
    "version": 3
   },
   "file_extension": ".py",
   "mimetype": "text/x-python",
   "name": "python",
   "nbconvert_exporter": "python",
   "pygments_lexer": "ipython3",
   "version": "3.7.12"
  },
  "papermill": {
   "default_parameters": {},
   "duration": 18.052679,
   "end_time": "2023-06-04T11:25:58.089248",
   "environment_variables": {},
   "exception": null,
   "input_path": "__notebook__.ipynb",
   "output_path": "__notebook__.ipynb",
   "parameters": {},
   "start_time": "2023-06-04T11:25:40.036569",
   "version": "2.4.0"
  }
 },
 "nbformat": 4,
 "nbformat_minor": 5
}
