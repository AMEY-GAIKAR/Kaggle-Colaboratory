{
 "cells": [
  {
   "cell_type": "markdown",
   "id": "fbb453c5",
   "metadata": {
    "papermill": {
     "duration": 0.012501,
     "end_time": "2023-09-07T15:34:44.609186",
     "exception": false,
     "start_time": "2023-09-07T15:34:44.596685",
     "status": "completed"
    },
    "tags": []
   },
   "source": [
    "## Importing libraries"
   ]
  },
  {
   "cell_type": "code",
   "execution_count": 1,
   "id": "6256970b",
   "metadata": {
    "_cell_guid": "b1076dfc-b9ad-4769-8c92-a6c4dae69d19",
    "_uuid": "8f2839f25d086af736a60e9eeb907d3b93b6e0e5",
    "execution": {
     "iopub.execute_input": "2023-09-07T15:34:44.634979Z",
     "iopub.status.busy": "2023-09-07T15:34:44.634585Z",
     "iopub.status.idle": "2023-09-07T15:34:57.542951Z",
     "shell.execute_reply": "2023-09-07T15:34:57.541769Z"
    },
    "papermill": {
     "duration": 12.924837,
     "end_time": "2023-09-07T15:34:57.545812",
     "exception": false,
     "start_time": "2023-09-07T15:34:44.620975",
     "status": "completed"
    },
    "tags": []
   },
   "outputs": [],
   "source": [
    "import numpy as np\n",
    "import pandas as pd\n",
    "import matplotlib.pyplot as plt\n",
    "import seaborn as sns\n",
    "from sklearn.model_selection import train_test_split\n",
    "from sklearn.metrics import classification_report, confusion_matrix\n",
    "from sklearn.linear_model import LogisticRegression\n",
    "from sklearn.tree import DecisionTreeClassifier\n",
    "from sklearn.ensemble import RandomForestClassifier\n",
    "from sklearn.cluster import KMeans\n",
    "from tensorflow.keras.models import Sequential\n",
    "from tensorflow.keras.layers import Dense, Dropout\n",
    "from tensorflow.keras.callbacks import EarlyStopping"
   ]
  },
  {
   "cell_type": "markdown",
   "id": "c86872f9",
   "metadata": {
    "papermill": {
     "duration": 0.012029,
     "end_time": "2023-09-07T15:34:57.570364",
     "exception": false,
     "start_time": "2023-09-07T15:34:57.558335",
     "status": "completed"
    },
    "tags": []
   },
   "source": [
    "## Reading the data"
   ]
  },
  {
   "cell_type": "code",
   "execution_count": 2,
   "id": "1b25fb6f",
   "metadata": {
    "execution": {
     "iopub.execute_input": "2023-09-07T15:34:57.596967Z",
     "iopub.status.busy": "2023-09-07T15:34:57.596196Z",
     "iopub.status.idle": "2023-09-07T15:34:57.647894Z",
     "shell.execute_reply": "2023-09-07T15:34:57.646853Z"
    },
    "papermill": {
     "duration": 0.067786,
     "end_time": "2023-09-07T15:34:57.650506",
     "exception": false,
     "start_time": "2023-09-07T15:34:57.582720",
     "status": "completed"
    },
    "tags": []
   },
   "outputs": [],
   "source": [
    "df = pd.read_csv('/kaggle/input/bank-customer-churn-prediction/Churn_Modelling.csv')"
   ]
  },
  {
   "cell_type": "code",
   "execution_count": 3,
   "id": "fcfcc707",
   "metadata": {
    "execution": {
     "iopub.execute_input": "2023-09-07T15:34:57.676780Z",
     "iopub.status.busy": "2023-09-07T15:34:57.676309Z",
     "iopub.status.idle": "2023-09-07T15:34:57.705038Z",
     "shell.execute_reply": "2023-09-07T15:34:57.704045Z"
    },
    "papermill": {
     "duration": 0.045241,
     "end_time": "2023-09-07T15:34:57.708093",
     "exception": false,
     "start_time": "2023-09-07T15:34:57.662852",
     "status": "completed"
    },
    "tags": []
   },
   "outputs": [
    {
     "data": {
      "text/html": [
       "<div>\n",
       "<style scoped>\n",
       "    .dataframe tbody tr th:only-of-type {\n",
       "        vertical-align: middle;\n",
       "    }\n",
       "\n",
       "    .dataframe tbody tr th {\n",
       "        vertical-align: top;\n",
       "    }\n",
       "\n",
       "    .dataframe thead th {\n",
       "        text-align: right;\n",
       "    }\n",
       "</style>\n",
       "<table border=\"1\" class=\"dataframe\">\n",
       "  <thead>\n",
       "    <tr style=\"text-align: right;\">\n",
       "      <th></th>\n",
       "      <th>RowNumber</th>\n",
       "      <th>CustomerId</th>\n",
       "      <th>Surname</th>\n",
       "      <th>CreditScore</th>\n",
       "      <th>Geography</th>\n",
       "      <th>Gender</th>\n",
       "      <th>Age</th>\n",
       "      <th>Tenure</th>\n",
       "      <th>Balance</th>\n",
       "      <th>NumOfProducts</th>\n",
       "      <th>HasCrCard</th>\n",
       "      <th>IsActiveMember</th>\n",
       "      <th>EstimatedSalary</th>\n",
       "      <th>Exited</th>\n",
       "    </tr>\n",
       "  </thead>\n",
       "  <tbody>\n",
       "    <tr>\n",
       "      <th>0</th>\n",
       "      <td>1</td>\n",
       "      <td>15634602</td>\n",
       "      <td>Hargrave</td>\n",
       "      <td>619</td>\n",
       "      <td>France</td>\n",
       "      <td>Female</td>\n",
       "      <td>42</td>\n",
       "      <td>2</td>\n",
       "      <td>0.00</td>\n",
       "      <td>1</td>\n",
       "      <td>1</td>\n",
       "      <td>1</td>\n",
       "      <td>101348.88</td>\n",
       "      <td>1</td>\n",
       "    </tr>\n",
       "    <tr>\n",
       "      <th>1</th>\n",
       "      <td>2</td>\n",
       "      <td>15647311</td>\n",
       "      <td>Hill</td>\n",
       "      <td>608</td>\n",
       "      <td>Spain</td>\n",
       "      <td>Female</td>\n",
       "      <td>41</td>\n",
       "      <td>1</td>\n",
       "      <td>83807.86</td>\n",
       "      <td>1</td>\n",
       "      <td>0</td>\n",
       "      <td>1</td>\n",
       "      <td>112542.58</td>\n",
       "      <td>0</td>\n",
       "    </tr>\n",
       "    <tr>\n",
       "      <th>2</th>\n",
       "      <td>3</td>\n",
       "      <td>15619304</td>\n",
       "      <td>Onio</td>\n",
       "      <td>502</td>\n",
       "      <td>France</td>\n",
       "      <td>Female</td>\n",
       "      <td>42</td>\n",
       "      <td>8</td>\n",
       "      <td>159660.80</td>\n",
       "      <td>3</td>\n",
       "      <td>1</td>\n",
       "      <td>0</td>\n",
       "      <td>113931.57</td>\n",
       "      <td>1</td>\n",
       "    </tr>\n",
       "    <tr>\n",
       "      <th>3</th>\n",
       "      <td>4</td>\n",
       "      <td>15701354</td>\n",
       "      <td>Boni</td>\n",
       "      <td>699</td>\n",
       "      <td>France</td>\n",
       "      <td>Female</td>\n",
       "      <td>39</td>\n",
       "      <td>1</td>\n",
       "      <td>0.00</td>\n",
       "      <td>2</td>\n",
       "      <td>0</td>\n",
       "      <td>0</td>\n",
       "      <td>93826.63</td>\n",
       "      <td>0</td>\n",
       "    </tr>\n",
       "    <tr>\n",
       "      <th>4</th>\n",
       "      <td>5</td>\n",
       "      <td>15737888</td>\n",
       "      <td>Mitchell</td>\n",
       "      <td>850</td>\n",
       "      <td>Spain</td>\n",
       "      <td>Female</td>\n",
       "      <td>43</td>\n",
       "      <td>2</td>\n",
       "      <td>125510.82</td>\n",
       "      <td>1</td>\n",
       "      <td>1</td>\n",
       "      <td>1</td>\n",
       "      <td>79084.10</td>\n",
       "      <td>0</td>\n",
       "    </tr>\n",
       "  </tbody>\n",
       "</table>\n",
       "</div>"
      ],
      "text/plain": [
       "   RowNumber  CustomerId   Surname  CreditScore Geography  Gender  Age  \\\n",
       "0          1    15634602  Hargrave          619    France  Female   42   \n",
       "1          2    15647311      Hill          608     Spain  Female   41   \n",
       "2          3    15619304      Onio          502    France  Female   42   \n",
       "3          4    15701354      Boni          699    France  Female   39   \n",
       "4          5    15737888  Mitchell          850     Spain  Female   43   \n",
       "\n",
       "   Tenure    Balance  NumOfProducts  HasCrCard  IsActiveMember  \\\n",
       "0       2       0.00              1          1               1   \n",
       "1       1   83807.86              1          0               1   \n",
       "2       8  159660.80              3          1               0   \n",
       "3       1       0.00              2          0               0   \n",
       "4       2  125510.82              1          1               1   \n",
       "\n",
       "   EstimatedSalary  Exited  \n",
       "0        101348.88       1  \n",
       "1        112542.58       0  \n",
       "2        113931.57       1  \n",
       "3         93826.63       0  \n",
       "4         79084.10       0  "
      ]
     },
     "execution_count": 3,
     "metadata": {},
     "output_type": "execute_result"
    }
   ],
   "source": [
    "df.head()"
   ]
  },
  {
   "cell_type": "markdown",
   "id": "c2b8664c",
   "metadata": {
    "papermill": {
     "duration": 0.011981,
     "end_time": "2023-09-07T15:34:57.732475",
     "exception": false,
     "start_time": "2023-09-07T15:34:57.720494",
     "status": "completed"
    },
    "tags": []
   },
   "source": [
    "## Data Visualization"
   ]
  },
  {
   "cell_type": "code",
   "execution_count": 4,
   "id": "e6edc064",
   "metadata": {
    "execution": {
     "iopub.execute_input": "2023-09-07T15:34:57.759533Z",
     "iopub.status.busy": "2023-09-07T15:34:57.758648Z",
     "iopub.status.idle": "2023-09-07T15:34:58.085997Z",
     "shell.execute_reply": "2023-09-07T15:34:58.084958Z"
    },
    "papermill": {
     "duration": 0.343569,
     "end_time": "2023-09-07T15:34:58.088543",
     "exception": false,
     "start_time": "2023-09-07T15:34:57.744974",
     "status": "completed"
    },
    "tags": []
   },
   "outputs": [
    {
     "data": {
      "text/plain": [
       "<Axes: xlabel='Gender', ylabel='count'>"
      ]
     },
     "execution_count": 4,
     "metadata": {},
     "output_type": "execute_result"
    },
    {
     "data": {
      "image/png": "[encoded data removed]",
      "text/plain": [
       "<Figure size 640x480 with 1 Axes>"
      ]
     },
     "metadata": {},
     "output_type": "display_data"
    }
   ],
   "source": [
    "sns.countplot(x=df['Gender'], hue=df['Exited'], palette='gray')"
   ]
  },
  {
   "cell_type": "code",
   "execution_count": 5,
   "id": "fcf3ab41",
   "metadata": {
    "execution": {
     "iopub.execute_input": "2023-09-07T15:34:58.116239Z",
     "iopub.status.busy": "2023-09-07T15:34:58.115834Z",
     "iopub.status.idle": "2023-09-07T15:34:58.453373Z",
     "shell.execute_reply": "2023-09-07T15:34:58.452297Z"
    },
    "papermill": {
     "duration": 0.35429,
     "end_time": "2023-09-07T15:34:58.455890",
     "exception": false,
     "start_time": "2023-09-07T15:34:58.101600",
     "status": "completed"
    },
    "tags": []
   },
   "outputs": [
    {
     "data": {
      "text/plain": [
       "<Axes: xlabel='Gender', ylabel='Age'>"
      ]
     },
     "execution_count": 5,
     "metadata": {},
     "output_type": "execute_result"
    },
    {
     "data": {
      "image/png": "[encoded data removed]",
      "text/plain": [
       "<Figure size 640x480 with 1 Axes>"
      ]
     },
     "metadata": {},
     "output_type": "display_data"
    }
   ],
   "source": [
    "sns.boxplot(x=df['Gender'], y=df['Age'], hue=df['Exited'], color='gray')"
   ]
  },
  {
   "cell_type": "code",
   "execution_count": 6,
   "id": "a5bf9e25",
   "metadata": {
    "execution": {
     "iopub.execute_input": "2023-09-07T15:34:58.484439Z",
     "iopub.status.busy": "2023-09-07T15:34:58.484046Z",
     "iopub.status.idle": "2023-09-07T15:34:58.826933Z",
     "shell.execute_reply": "2023-09-07T15:34:58.825780Z"
    },
    "papermill": {
     "duration": 0.359998,
     "end_time": "2023-09-07T15:34:58.829432",
     "exception": false,
     "start_time": "2023-09-07T15:34:58.469434",
     "status": "completed"
    },
    "tags": []
   },
   "outputs": [
    {
     "data": {
      "text/plain": [
       "<Axes: xlabel='Geography', ylabel='Age'>"
      ]
     },
     "execution_count": 6,
     "metadata": {},
     "output_type": "execute_result"
    },
    {
     "data": {
      "image/png": "[encoded data removed]",
      "text/plain": [
       "<Figure size 640x480 with 1 Axes>"
      ]
     },
     "metadata": {},
     "output_type": "display_data"
    }
   ],
   "source": [
    "sns.boxplot(x=df['Geography'], y=df['Age'], hue=df['Exited'], color='gray')"
   ]
  },
  {
   "cell_type": "code",
   "execution_count": 7,
   "id": "584729ba",
   "metadata": {
    "execution": {
     "iopub.execute_input": "2023-09-07T15:34:58.859509Z",
     "iopub.status.busy": "2023-09-07T15:34:58.859073Z",
     "iopub.status.idle": "2023-09-07T15:34:59.352565Z",
     "shell.execute_reply": "2023-09-07T15:34:59.351342Z"
    },
    "papermill": {
     "duration": 0.511583,
     "end_time": "2023-09-07T15:34:59.355116",
     "exception": false,
     "start_time": "2023-09-07T15:34:58.843533",
     "status": "completed"
    },
    "tags": []
   },
   "outputs": [
    {
     "data": {
      "text/plain": [
       "<Axes: xlabel='Geography', ylabel='EstimatedSalary'>"
      ]
     },
     "execution_count": 7,
     "metadata": {},
     "output_type": "execute_result"
    },
    {
     "data": {
      "image/png": "[encoded data removed]",
      "text/plain": [
       "<Figure size 640x480 with 1 Axes>"
      ]
     },
     "metadata": {},
     "output_type": "display_data"
    }
   ],
   "source": [
    "sns.boxplot(x=df['Geography'], y=df['EstimatedSalary'], hue=df['Exited'], color='grey')"
   ]
  },
  {
   "cell_type": "code",
   "execution_count": 8,
   "id": "fc33a756",
   "metadata": {
    "execution": {
     "iopub.execute_input": "2023-09-07T15:34:59.387170Z",
     "iopub.status.busy": "2023-09-07T15:34:59.386750Z",
     "iopub.status.idle": "2023-09-07T15:34:59.711301Z",
     "shell.execute_reply": "2023-09-07T15:34:59.709500Z"
    },
    "papermill": {
     "duration": 0.343448,
     "end_time": "2023-09-07T15:34:59.713735",
     "exception": false,
     "start_time": "2023-09-07T15:34:59.370287",
     "status": "completed"
    },
    "tags": []
   },
   "outputs": [
    {
     "data": {
      "text/plain": [
       "<Axes: xlabel='Geography', ylabel='Balance'>"
      ]
     },
     "execution_count": 8,
     "metadata": {},
     "output_type": "execute_result"
    },
    {
     "data": {
      "image/png": "[encoded data removed]",
      "text/plain": [
       "<Figure size 640x480 with 1 Axes>"
      ]
     },
     "metadata": {},
     "output_type": "display_data"
    }
   ],
   "source": [
    "sns.boxplot(x=df['Geography'], y=df['Balance'], hue=df['Exited'], color='grey')"
   ]
  },
  {
   "cell_type": "code",
   "execution_count": 9,
   "id": "e4d56872",
   "metadata": {
    "execution": {
     "iopub.execute_input": "2023-09-07T15:34:59.747634Z",
     "iopub.status.busy": "2023-09-07T15:34:59.746414Z",
     "iopub.status.idle": "2023-09-07T15:35:00.277612Z",
     "shell.execute_reply": "2023-09-07T15:35:00.276496Z"
    },
    "papermill": {
     "duration": 0.550889,
     "end_time": "2023-09-07T15:35:00.280100",
     "exception": false,
     "start_time": "2023-09-07T15:34:59.729211",
     "status": "completed"
    },
    "tags": []
   },
   "outputs": [
    {
     "data": {
      "text/plain": [
       "<Axes: xlabel='Geography', ylabel='CreditScore'>"
      ]
     },
     "execution_count": 9,
     "metadata": {},
     "output_type": "execute_result"
    },
    {
     "data": {
      "image/png": "[encoded data removed]",
      "text/plain": [
       "<Figure size 640x480 with 1 Axes>"
      ]
     },
     "metadata": {},
     "output_type": "display_data"
    }
   ],
   "source": [
    "sns.boxplot(x=df['Geography'], y=df['CreditScore'], hue=df['Exited'], color='grey')"
   ]
  },
  {
   "cell_type": "markdown",
   "id": "860fc7e8",
   "metadata": {
    "papermill": {
     "duration": 0.015331,
     "end_time": "2023-09-07T15:35:00.311216",
     "exception": false,
     "start_time": "2023-09-07T15:35:00.295885",
     "status": "completed"
    },
    "tags": []
   },
   "source": [
    "## Feature Engineering"
   ]
  },
  {
   "cell_type": "code",
   "execution_count": 10,
   "id": "24f09e02",
   "metadata": {
    "execution": {
     "iopub.execute_input": "2023-09-07T15:35:00.344045Z",
     "iopub.status.busy": "2023-09-07T15:35:00.343615Z",
     "iopub.status.idle": "2023-09-07T15:35:00.357390Z",
     "shell.execute_reply": "2023-09-07T15:35:00.356637Z"
    },
    "papermill": {
     "duration": 0.03279,
     "end_time": "2023-09-07T15:35:00.359522",
     "exception": false,
     "start_time": "2023-09-07T15:35:00.326732",
     "status": "completed"
    },
    "tags": []
   },
   "outputs": [],
   "source": [
    "df.drop(['RowNumber', 'CustomerId', 'Surname'], axis=1, inplace=True)\n",
    "df['Male'] = pd.get_dummies(df['Gender'], drop_first=True)\n",
    "df.drop('Gender', inplace=True, axis=1)"
   ]
  },
  {
   "cell_type": "code",
   "execution_count": 11,
   "id": "bc127d2f",
   "metadata": {
    "execution": {
     "iopub.execute_input": "2023-09-07T15:35:00.392698Z",
     "iopub.status.busy": "2023-09-07T15:35:00.392061Z",
     "iopub.status.idle": "2023-09-07T15:35:00.402091Z",
     "shell.execute_reply": "2023-09-07T15:35:00.400962Z"
    },
    "papermill": {
     "duration": 0.029114,
     "end_time": "2023-09-07T15:35:00.404423",
     "exception": false,
     "start_time": "2023-09-07T15:35:00.375309",
     "status": "completed"
    },
    "tags": []
   },
   "outputs": [],
   "source": [
    "country = pd.get_dummies(df['Geography'])\n",
    "df = pd.concat([df, country], axis=1)\n",
    "df.drop('Geography', axis=1, inplace=True)"
   ]
  },
  {
   "cell_type": "code",
   "execution_count": 12,
   "id": "4d8ec825",
   "metadata": {
    "execution": {
     "iopub.execute_input": "2023-09-07T15:35:00.437533Z",
     "iopub.status.busy": "2023-09-07T15:35:00.437113Z",
     "iopub.status.idle": "2023-09-07T15:35:00.452142Z",
     "shell.execute_reply": "2023-09-07T15:35:00.451366Z"
    },
    "papermill": {
     "duration": 0.033866,
     "end_time": "2023-09-07T15:35:00.454162",
     "exception": false,
     "start_time": "2023-09-07T15:35:00.420296",
     "status": "completed"
    },
    "tags": []
   },
   "outputs": [
    {
     "data": {
      "text/plain": [
       "CreditScore       -0.027094\n",
       "Age                0.285323\n",
       "Tenure            -0.014001\n",
       "Balance            0.118533\n",
       "NumOfProducts     -0.047820\n",
       "HasCrCard         -0.007138\n",
       "IsActiveMember    -0.156128\n",
       "EstimatedSalary    0.012097\n",
       "Exited             1.000000\n",
       "Male              -0.106512\n",
       "France            -0.104955\n",
       "Germany            0.173488\n",
       "Spain             -0.052667\n",
       "Name: Exited, dtype: float64"
      ]
     },
     "execution_count": 12,
     "metadata": {},
     "output_type": "execute_result"
    }
   ],
   "source": [
    "df.corr()['Exited']"
   ]
  },
  {
   "cell_type": "code",
   "execution_count": 13,
   "id": "e80f22d7",
   "metadata": {
    "execution": {
     "iopub.execute_input": "2023-09-07T15:35:00.487802Z",
     "iopub.status.busy": "2023-09-07T15:35:00.486830Z",
     "iopub.status.idle": "2023-09-07T15:35:01.000289Z",
     "shell.execute_reply": "2023-09-07T15:35:00.999258Z"
    },
    "papermill": {
     "duration": 0.532549,
     "end_time": "2023-09-07T15:35:01.002916",
     "exception": false,
     "start_time": "2023-09-07T15:35:00.470367",
     "status": "completed"
    },
    "tags": []
   },
   "outputs": [
    {
     "data": {
      "text/plain": [
       "<Axes: >"
      ]
     },
     "execution_count": 13,
     "metadata": {},
     "output_type": "execute_result"
    },
    {
     "data": {
      "image/png": "[encoded data removed]",
      "text/plain": [
       "<Figure size 640x480 with 2 Axes>"
      ]
     },
     "metadata": {},
     "output_type": "display_data"
    }
   ],
   "source": [
    "sns.heatmap(df.corr(), cmap='coolwarm')"
   ]
  },
  {
   "cell_type": "markdown",
   "id": "01fc1232",
   "metadata": {
    "papermill": {
     "duration": 0.016941,
     "end_time": "2023-09-07T15:35:01.037006",
     "exception": false,
     "start_time": "2023-09-07T15:35:01.020065",
     "status": "completed"
    },
    "tags": []
   },
   "source": [
    "## Creating train and test dataframes"
   ]
  },
  {
   "cell_type": "code",
   "execution_count": 14,
   "id": "b2e7477b",
   "metadata": {
    "execution": {
     "iopub.execute_input": "2023-09-07T15:35:01.073866Z",
     "iopub.status.busy": "2023-09-07T15:35:01.073216Z",
     "iopub.status.idle": "2023-09-07T15:35:01.082829Z",
     "shell.execute_reply": "2023-09-07T15:35:01.081802Z"
    },
    "papermill": {
     "duration": 0.030916,
     "end_time": "2023-09-07T15:35:01.085286",
     "exception": false,
     "start_time": "2023-09-07T15:35:01.054370",
     "status": "completed"
    },
    "tags": []
   },
   "outputs": [],
   "source": [
    "X = df.drop('Exited', axis=1)\n",
    "y = df.Exited\n",
    "X_train, X_test, y_train, y_test = train_test_split(X, y, test_size=0.3)"
   ]
  },
  {
   "cell_type": "markdown",
   "id": "d5a414b2",
   "metadata": {
    "papermill": {
     "duration": 0.01675,
     "end_time": "2023-09-07T15:35:01.119539",
     "exception": false,
     "start_time": "2023-09-07T15:35:01.102789",
     "status": "completed"
    },
    "tags": []
   },
   "source": [
    "# Creating models "
   ]
  },
  {
   "cell_type": "markdown",
   "id": "34474ab8",
   "metadata": {
    "papermill": {
     "duration": 0.017677,
     "end_time": "2023-09-07T15:35:01.154422",
     "exception": false,
     "start_time": "2023-09-07T15:35:01.136745",
     "status": "completed"
    },
    "tags": []
   },
   "source": [
    "# Logistic Regression"
   ]
  },
  {
   "cell_type": "code",
   "execution_count": 15,
   "id": "cc53e68a",
   "metadata": {
    "execution": {
     "iopub.execute_input": "2023-09-07T15:35:01.191147Z",
     "iopub.status.busy": "2023-09-07T15:35:01.190767Z",
     "iopub.status.idle": "2023-09-07T15:35:01.418986Z",
     "shell.execute_reply": "2023-09-07T15:35:01.417338Z"
    },
    "papermill": {
     "duration": 0.252328,
     "end_time": "2023-09-07T15:35:01.424124",
     "exception": false,
     "start_time": "2023-09-07T15:35:01.171796",
     "status": "completed"
    },
    "tags": []
   },
   "outputs": [
    {
     "name": "stdout",
     "output_type": "stream",
     "text": [
      "[[2328   47]\n",
      " [ 603   22]]\n",
      "              precision    recall  f1-score   support\n",
      "\n",
      "           0       0.79      0.98      0.88      2375\n",
      "           1       0.32      0.04      0.06       625\n",
      "\n",
      "    accuracy                           0.78      3000\n",
      "   macro avg       0.56      0.51      0.47      3000\n",
      "weighted avg       0.70      0.78      0.71      3000\n",
      "\n"
     ]
    }
   ],
   "source": [
    "logreg = LogisticRegression()\n",
    "logreg.fit(X_train, y_train)\n",
    "predictions_logreg = logreg.predict(X_test)\n",
    "print(confusion_matrix(y_test, predictions_logreg))\n",
    "print(classification_report(y_test, predictions_logreg))"
   ]
  },
  {
   "cell_type": "markdown",
   "id": "af0fca8a",
   "metadata": {
    "papermill": {
     "duration": 0.037218,
     "end_time": "2023-09-07T15:35:01.498963",
     "exception": false,
     "start_time": "2023-09-07T15:35:01.461745",
     "status": "completed"
    },
    "tags": []
   },
   "source": [
    "# Decision Tree"
   ]
  },
  {
   "cell_type": "code",
   "execution_count": 16,
   "id": "708e82c0",
   "metadata": {
    "execution": {
     "iopub.execute_input": "2023-09-07T15:35:01.605463Z",
     "iopub.status.busy": "2023-09-07T15:35:01.605094Z",
     "iopub.status.idle": "2023-09-07T15:35:01.676729Z",
     "shell.execute_reply": "2023-09-07T15:35:01.675517Z"
    },
    "papermill": {
     "duration": 0.092959,
     "end_time": "2023-09-07T15:35:01.679100",
     "exception": false,
     "start_time": "2023-09-07T15:35:01.586141",
     "status": "completed"
    },
    "tags": []
   },
   "outputs": [
    {
     "name": "stdout",
     "output_type": "stream",
     "text": [
      "[[2081  294]\n",
      " [ 309  316]]\n",
      "              precision    recall  f1-score   support\n",
      "\n",
      "           0       0.87      0.88      0.87      2375\n",
      "           1       0.52      0.51      0.51       625\n",
      "\n",
      "    accuracy                           0.80      3000\n",
      "   macro avg       0.69      0.69      0.69      3000\n",
      "weighted avg       0.80      0.80      0.80      3000\n",
      "\n"
     ]
    }
   ],
   "source": [
    "dtree = DecisionTreeClassifier()\n",
    "dtree.fit(X_train, y_train)\n",
    "predictions_dtree = dtree.predict(X_test)\n",
    "print(confusion_matrix(y_test, predictions_dtree))\n",
    "print(classification_report(y_test, predictions_dtree))"
   ]
  },
  {
   "cell_type": "markdown",
   "id": "006e2d2c",
   "metadata": {
    "papermill": {
     "duration": 0.017863,
     "end_time": "2023-09-07T15:35:01.717666",
     "exception": false,
     "start_time": "2023-09-07T15:35:01.699803",
     "status": "completed"
    },
    "tags": []
   },
   "source": [
    "# Random Forest"
   ]
  },
  {
   "cell_type": "code",
   "execution_count": 17,
   "id": "57df63b5",
   "metadata": {
    "execution": {
     "iopub.execute_input": "2023-09-07T15:35:01.755911Z",
     "iopub.status.busy": "2023-09-07T15:35:01.755106Z",
     "iopub.status.idle": "2023-09-07T15:35:03.011784Z",
     "shell.execute_reply": "2023-09-07T15:35:03.010399Z"
    },
    "papermill": {
     "duration": 1.27871,
     "end_time": "2023-09-07T15:35:03.014410",
     "exception": false,
     "start_time": "2023-09-07T15:35:01.735700",
     "status": "completed"
    },
    "tags": []
   },
   "outputs": [
    {
     "name": "stdout",
     "output_type": "stream",
     "text": [
      "[[2304   71]\n",
      " [ 343  282]]\n",
      "              precision    recall  f1-score   support\n",
      "\n",
      "           0       0.87      0.97      0.92      2375\n",
      "           1       0.80      0.45      0.58       625\n",
      "\n",
      "    accuracy                           0.86      3000\n",
      "   macro avg       0.83      0.71      0.75      3000\n",
      "weighted avg       0.86      0.86      0.85      3000\n",
      "\n"
     ]
    }
   ],
   "source": [
    "rfc = RandomForestClassifier()\n",
    "rfc.fit(X_train, y_train)\n",
    "predictions_rfc = rfc.predict(X_test)\n",
    "print(confusion_matrix(y_test, predictions_rfc))\n",
    "print(classification_report(y_test, predictions_rfc))"
   ]
  },
  {
   "cell_type": "markdown",
   "id": "365e0903",
   "metadata": {
    "papermill": {
     "duration": 0.020018,
     "end_time": "2023-09-07T15:35:03.052761",
     "exception": false,
     "start_time": "2023-09-07T15:35:03.032743",
     "status": "completed"
    },
    "tags": []
   },
   "source": [
    "# K-Means Clustring"
   ]
  },
  {
   "cell_type": "code",
   "execution_count": 18,
   "id": "c08c0dce",
   "metadata": {
    "execution": {
     "iopub.execute_input": "2023-09-07T15:35:03.090628Z",
     "iopub.status.busy": "2023-09-07T15:35:03.090190Z",
     "iopub.status.idle": "2023-09-07T15:35:14.786904Z",
     "shell.execute_reply": "2023-09-07T15:35:14.785271Z"
    },
    "papermill": {
     "duration": 11.721014,
     "end_time": "2023-09-07T15:35:14.791683",
     "exception": false,
     "start_time": "2023-09-07T15:35:03.070669",
     "status": "completed"
    },
    "tags": []
   },
   "outputs": [
    {
     "name": "stdout",
     "output_type": "stream",
     "text": [
      "[[4708 1492]\n",
      " [3255  545]]\n",
      "              precision    recall  f1-score   support\n",
      "\n",
      "           0       0.59      0.76      0.66      6200\n",
      "           1       0.27      0.14      0.19      3800\n",
      "\n",
      "    accuracy                           0.53     10000\n",
      "   macro avg       0.43      0.45      0.43     10000\n",
      "weighted avg       0.47      0.53      0.48     10000\n",
      "\n"
     ]
    }
   ],
   "source": [
    "kmeans = KMeans(n_clusters=2, n_init=100)\n",
    "kmeans.fit(X)\n",
    "print(confusion_matrix(kmeans.labels_, y))\n",
    "print(classification_report(kmeans.labels_, y))"
   ]
  },
  {
   "cell_type": "markdown",
   "id": "62ddc07b",
   "metadata": {
    "papermill": {
     "duration": 0.017725,
     "end_time": "2023-09-07T15:35:14.830601",
     "exception": false,
     "start_time": "2023-09-07T15:35:14.812876",
     "status": "completed"
    },
    "tags": []
   },
   "source": [
    "# Creating a Neural Network"
   ]
  },
  {
   "cell_type": "code",
   "execution_count": 19,
   "id": "c6a0b39c",
   "metadata": {
    "execution": {
     "iopub.execute_input": "2023-09-07T15:35:14.868875Z",
     "iopub.status.busy": "2023-09-07T15:35:14.868148Z",
     "iopub.status.idle": "2023-09-07T15:35:15.009990Z",
     "shell.execute_reply": "2023-09-07T15:35:15.008920Z"
    },
    "papermill": {
     "duration": 0.164004,
     "end_time": "2023-09-07T15:35:15.012760",
     "exception": false,
     "start_time": "2023-09-07T15:35:14.848756",
     "status": "completed"
    },
    "tags": []
   },
   "outputs": [],
   "source": [
    "model = Sequential()\n",
    "model.add(Dense(units=50, activation='relu'))\n",
    "model.add(Dense(units=25, activation='relu'))\n",
    "model.add(Dense(units=10, activation='softmax'))\n",
    "model.add(Dense(units=1, activation='sigmoid'))\n",
    "model.compile(optimizer='adam', loss='binary_crossentropy', metrics=['accuracy'])"
   ]
  },
  {
   "cell_type": "code",
   "execution_count": 20,
   "id": "3d68fbb8",
   "metadata": {
    "execution": {
     "iopub.execute_input": "2023-09-07T15:35:15.050896Z",
     "iopub.status.busy": "2023-09-07T15:35:15.050469Z",
     "iopub.status.idle": "2023-09-07T15:35:15.056033Z",
     "shell.execute_reply": "2023-09-07T15:35:15.054920Z"
    },
    "papermill": {
     "duration": 0.027504,
     "end_time": "2023-09-07T15:35:15.058479",
     "exception": false,
     "start_time": "2023-09-07T15:35:15.030975",
     "status": "completed"
    },
    "tags": []
   },
   "outputs": [],
   "source": [
    "early_stop = EarlyStopping(monitor='loss', mode='min', verbose=1, patience=25)"
   ]
  },
  {
   "cell_type": "code",
   "execution_count": 21,
   "id": "323132ab",
   "metadata": {
    "execution": {
     "iopub.execute_input": "2023-09-07T15:35:15.096492Z",
     "iopub.status.busy": "2023-09-07T15:35:15.096060Z",
     "iopub.status.idle": "2023-09-07T15:35:33.624903Z",
     "shell.execute_reply": "2023-09-07T15:35:33.623668Z"
    },
    "papermill": {
     "duration": 18.55117,
     "end_time": "2023-09-07T15:35:33.627591",
     "exception": false,
     "start_time": "2023-09-07T15:35:15.076421",
     "status": "completed"
    },
    "tags": []
   },
   "outputs": [
    {
     "name": "stdout",
     "output_type": "stream",
     "text": [
      "Epoch 1/60\n",
      "219/219 [==============================] - 2s 3ms/step - loss: 0.5586 - accuracy: 0.7834 - val_loss: 0.5397 - val_accuracy: 0.7917\n",
      "Epoch 2/60\n",
      "219/219 [==============================] - 1s 2ms/step - loss: 0.5230 - accuracy: 0.7983 - val_loss: 0.5224 - val_accuracy: 0.7917\n",
      "Epoch 3/60\n",
      "219/219 [==============================] - 1s 3ms/step - loss: 0.5111 - accuracy: 0.7983 - val_loss: 0.5142 - val_accuracy: 0.7917\n",
      "Epoch 4/60\n",
      "219/219 [==============================] - 1s 2ms/step - loss: 0.5039 - accuracy: 0.7983 - val_loss: 0.5101 - val_accuracy: 0.7917\n",
      "Epoch 5/60\n",
      "219/219 [==============================] - 1s 2ms/step - loss: 0.5005 - accuracy: 0.7983 - val_loss: 0.5077 - val_accuracy: 0.7917\n",
      "Epoch 6/60\n",
      "219/219 [==============================] - 1s 2ms/step - loss: 0.4985 - accuracy: 0.7983 - val_loss: 0.5062 - val_accuracy: 0.7917\n",
      "Epoch 7/60\n",
      "219/219 [==============================] - 1s 2ms/step - loss: 0.4974 - accuracy: 0.7983 - val_loss: 0.5053 - val_accuracy: 0.7917\n",
      "Epoch 8/60\n",
      "219/219 [==============================] - 1s 2ms/step - loss: 0.4991 - accuracy: 0.7983 - val_loss: 0.5194 - val_accuracy: 0.7917\n",
      "Epoch 9/60\n",
      "219/219 [==============================] - 1s 2ms/step - loss: 0.5054 - accuracy: 0.7983 - val_loss: 0.5133 - val_accuracy: 0.7917\n",
      "Epoch 10/60\n",
      "219/219 [==============================] - 1s 2ms/step - loss: 0.5031 - accuracy: 0.7983 - val_loss: 0.5122 - val_accuracy: 0.7917\n",
      "Epoch 11/60\n",
      "219/219 [==============================] - 1s 2ms/step - loss: 0.5029 - accuracy: 0.7983 - val_loss: 0.5120 - val_accuracy: 0.7917\n",
      "Epoch 12/60\n",
      "219/219 [==============================] - 1s 3ms/step - loss: 0.5028 - accuracy: 0.7983 - val_loss: 0.5119 - val_accuracy: 0.7917\n",
      "Epoch 13/60\n",
      "219/219 [==============================] - 1s 2ms/step - loss: 0.5028 - accuracy: 0.7983 - val_loss: 0.5119 - val_accuracy: 0.7917\n",
      "Epoch 14/60\n",
      "219/219 [==============================] - 1s 2ms/step - loss: 0.5028 - accuracy: 0.7983 - val_loss: 0.5119 - val_accuracy: 0.7917\n",
      "Epoch 15/60\n",
      "219/219 [==============================] - 1s 2ms/step - loss: 0.5028 - accuracy: 0.7983 - val_loss: 0.5119 - val_accuracy: 0.7917\n",
      "Epoch 16/60\n",
      "219/219 [==============================] - 1s 2ms/step - loss: 0.5028 - accuracy: 0.7983 - val_loss: 0.5119 - val_accuracy: 0.7917\n",
      "Epoch 17/60\n",
      "219/219 [==============================] - 1s 2ms/step - loss: 0.5028 - accuracy: 0.7983 - val_loss: 0.5119 - val_accuracy: 0.7917\n",
      "Epoch 18/60\n",
      "219/219 [==============================] - 0s 2ms/step - loss: 0.5029 - accuracy: 0.7983 - val_loss: 0.5119 - val_accuracy: 0.7917\n",
      "Epoch 19/60\n",
      "219/219 [==============================] - 1s 2ms/step - loss: 0.5028 - accuracy: 0.7983 - val_loss: 0.5119 - val_accuracy: 0.7917\n",
      "Epoch 20/60\n",
      "219/219 [==============================] - 1s 2ms/step - loss: 0.5029 - accuracy: 0.7983 - val_loss: 0.5119 - val_accuracy: 0.7917\n",
      "Epoch 21/60\n",
      "219/219 [==============================] - 1s 2ms/step - loss: 0.5028 - accuracy: 0.7983 - val_loss: 0.5120 - val_accuracy: 0.7917\n",
      "Epoch 22/60\n",
      "219/219 [==============================] - 1s 2ms/step - loss: 0.5028 - accuracy: 0.7983 - val_loss: 0.5119 - val_accuracy: 0.7917\n",
      "Epoch 23/60\n",
      "219/219 [==============================] - 1s 2ms/step - loss: 0.5028 - accuracy: 0.7983 - val_loss: 0.5118 - val_accuracy: 0.7917\n",
      "Epoch 24/60\n",
      "219/219 [==============================] - 1s 2ms/step - loss: 0.5028 - accuracy: 0.7983 - val_loss: 0.5119 - val_accuracy: 0.7917\n",
      "Epoch 25/60\n",
      "219/219 [==============================] - 1s 2ms/step - loss: 0.5028 - accuracy: 0.7983 - val_loss: 0.5119 - val_accuracy: 0.7917\n",
      "Epoch 26/60\n",
      "219/219 [==============================] - 1s 2ms/step - loss: 0.5028 - accuracy: 0.7983 - val_loss: 0.5119 - val_accuracy: 0.7917\n",
      "Epoch 27/60\n",
      "219/219 [==============================] - 0s 2ms/step - loss: 0.5028 - accuracy: 0.7983 - val_loss: 0.5118 - val_accuracy: 0.7917\n",
      "Epoch 28/60\n",
      "219/219 [==============================] - 1s 2ms/step - loss: 0.5028 - accuracy: 0.7983 - val_loss: 0.5119 - val_accuracy: 0.7917\n",
      "Epoch 29/60\n",
      "219/219 [==============================] - 1s 2ms/step - loss: 0.5028 - accuracy: 0.7983 - val_loss: 0.5119 - val_accuracy: 0.7917\n",
      "Epoch 30/60\n",
      "219/219 [==============================] - 1s 2ms/step - loss: 0.5028 - accuracy: 0.7983 - val_loss: 0.5119 - val_accuracy: 0.7917\n",
      "Epoch 31/60\n",
      "219/219 [==============================] - 1s 3ms/step - loss: 0.5028 - accuracy: 0.7983 - val_loss: 0.5119 - val_accuracy: 0.7917\n",
      "Epoch 32/60\n",
      "219/219 [==============================] - 1s 3ms/step - loss: 0.5028 - accuracy: 0.7983 - val_loss: 0.5119 - val_accuracy: 0.7917\n",
      "Epoch 32: early stopping\n"
     ]
    },
    {
     "data": {
      "text/plain": [
       "<keras.callbacks.History at 0x7ae5076e2800>"
      ]
     },
     "execution_count": 21,
     "metadata": {},
     "output_type": "execute_result"
    }
   ],
   "source": [
    "model.fit(x=np.array(X_train.drop(['France', 'Germany', 'Spain', 'Male'], axis=1)), \n",
    "          y=y_train.values, \n",
    "          epochs=60,\n",
    "          validation_data=(np.array(X_test.drop(['France', 'Germany', 'Spain', 'Male'], axis=1)), y_test.values), verbose=1,\n",
    "          callbacks=[early_stop]\n",
    "          )"
   ]
  },
  {
   "cell_type": "code",
   "execution_count": 22,
   "id": "b81689c8",
   "metadata": {
    "execution": {
     "iopub.execute_input": "2023-09-07T15:35:33.726465Z",
     "iopub.status.busy": "2023-09-07T15:35:33.724131Z",
     "iopub.status.idle": "2023-09-07T15:35:34.024329Z",
     "shell.execute_reply": "2023-09-07T15:35:34.023188Z"
    },
    "papermill": {
     "duration": 0.351987,
     "end_time": "2023-09-07T15:35:34.026950",
     "exception": false,
     "start_time": "2023-09-07T15:35:33.674963",
     "status": "completed"
    },
    "tags": []
   },
   "outputs": [
    {
     "data": {
      "text/plain": [
       "[<matplotlib.lines.Line2D at 0x7ae507388a30>]"
      ]
     },
     "execution_count": 22,
     "metadata": {},
     "output_type": "execute_result"
    },
    {
     "data": {
      "image/png": "[encoded data removed]",
      "text/plain": [
       "<Figure size 640x480 with 1 Axes>"
      ]
     },
     "metadata": {},
     "output_type": "display_data"
    }
   ],
   "source": [
    "plt.plot(model.history.history['loss'], color='red')\n",
    "plt.plot(model.history.history['val_loss'], color='skyblue')"
   ]
  },
  {
   "cell_type": "code",
   "execution_count": 23,
   "id": "7d07d831",
   "metadata": {
    "execution": {
     "iopub.execute_input": "2023-09-07T15:35:34.124793Z",
     "iopub.status.busy": "2023-09-07T15:35:34.123765Z",
     "iopub.status.idle": "2023-09-07T15:35:34.653183Z",
     "shell.execute_reply": "2023-09-07T15:35:34.652063Z"
    },
    "papermill": {
     "duration": 0.581081,
     "end_time": "2023-09-07T15:35:34.655598",
     "exception": false,
     "start_time": "2023-09-07T15:35:34.074517",
     "status": "completed"
    },
    "tags": []
   },
   "outputs": [
    {
     "data": {
      "text/plain": [
       "[<matplotlib.lines.Line2D at 0x7ae4ec384e50>]"
      ]
     },
     "execution_count": 23,
     "metadata": {},
     "output_type": "execute_result"
    },
    {
     "data": {
      "image/png": "[encoded data removed]",
      "text/plain": [
       "<Figure size 640x480 with 1 Axes>"
      ]
     },
     "metadata": {},
     "output_type": "display_data"
    }
   ],
   "source": [
    "plt.plot(model.history.history['accuracy'], color='red')\n",
    "plt.plot(model.history.history['val_accuracy'], color='skyblue')"
   ]
  },
  {
   "cell_type": "code",
   "execution_count": 24,
   "id": "6f7d02b1",
   "metadata": {
    "execution": {
     "iopub.execute_input": "2023-09-07T15:35:34.754353Z",
     "iopub.status.busy": "2023-09-07T15:35:34.753963Z",
     "iopub.status.idle": "2023-09-07T15:35:35.123536Z",
     "shell.execute_reply": "2023-09-07T15:35:35.122056Z"
    },
    "papermill": {
     "duration": 0.422328,
     "end_time": "2023-09-07T15:35:35.126542",
     "exception": false,
     "start_time": "2023-09-07T15:35:34.704214",
     "status": "completed"
    },
    "tags": []
   },
   "outputs": [
    {
     "name": "stdout",
     "output_type": "stream",
     "text": [
      "94/94 [==============================] - 0s 1ms/step\n",
      "[[2375    0]\n",
      " [ 625    0]]\n",
      "              precision    recall  f1-score   support\n",
      "\n",
      "           0       0.79      1.00      0.88      2375\n",
      "           1       0.00      0.00      0.00       625\n",
      "\n",
      "    accuracy                           0.79      3000\n",
      "   macro avg       0.40      0.50      0.44      3000\n",
      "weighted avg       0.63      0.79      0.70      3000\n",
      "\n"
     ]
    },
    {
     "name": "stderr",
     "output_type": "stream",
     "text": [
      "/opt/conda/lib/python3.10/site-packages/sklearn/metrics/_classification.py:1344: UndefinedMetricWarning: Precision and F-score are ill-defined and being set to 0.0 in labels with no predicted samples. Use `zero_division` parameter to control this behavior.\n",
      "  _warn_prf(average, modifier, msg_start, len(result))\n",
      "/opt/conda/lib/python3.10/site-packages/sklearn/metrics/_classification.py:1344: UndefinedMetricWarning: Precision and F-score are ill-defined and being set to 0.0 in labels with no predicted samples. Use `zero_division` parameter to control this behavior.\n",
      "  _warn_prf(average, modifier, msg_start, len(result))\n",
      "/opt/conda/lib/python3.10/site-packages/sklearn/metrics/_classification.py:1344: UndefinedMetricWarning: Precision and F-score are ill-defined and being set to 0.0 in labels with no predicted samples. Use `zero_division` parameter to control this behavior.\n",
      "  _warn_prf(average, modifier, msg_start, len(result))\n"
     ]
    }
   ],
   "source": [
    "model_predictions = model.predict(X_test.drop(['France', 'Germany', 'Spain', 'Male'], axis=1))\n",
    "model_predictions = (model_predictions>0.5)\n",
    "print(confusion_matrix(y_test, model_predictions))\n",
    "print(classification_report(y_test, model_predictions))"
   ]
  }
 ],
 "kernelspec": {
  "display_name": "Python 3",
  "language": "python",
  "name": "python3"
 },
 "language_info": {
  "codemirror_mode": {
   "name": "ipython",
   "version": 3
  },
  "file_extension": ".py",
  "mimetype": "text/x-python",
  "name": "python",
  "nbconvert_exporter": "python",
  "pygments_lexer": "ipython3",
  "version": "3.6.4"
 },
 "metadata": {
  "kernelspec": {
   "display_name": "Python 3",
   "language": "python",
   "name": "python3"
  },
  "language_info": {
   "codemirror_mode": {
    "name": "ipython",
    "version": 3
   },
   "file_extension": ".py",
   "mimetype": "text/x-python",
   "name": "python",
   "nbconvert_exporter": "python",
   "pygments_lexer": "ipython3",
   "version": "3.10.12"
  },
  "papermill": {
   "default_parameters": {},
   "duration": 56.261311,
   "end_time": "2023-09-07T15:35:37.101730",
   "environment_variables": {},
   "exception": null,
   "input_path": "__notebook__.ipynb",
   "output_path": "__notebook__.ipynb",
   "parameters": {},
   "start_time": "2023-09-07T15:34:40.840419",
   "version": "2.4.0"
  }
 },
 "nbformat": 4,
 "nbformat_minor": 5
}
