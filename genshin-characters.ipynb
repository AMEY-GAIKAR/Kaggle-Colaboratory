{
 "cells": [
  {
   "cell_type": "code",
   "execution_count": 1,
   "id": "75dc45d9",
   "metadata": {
    "_cell_guid": "b1076dfc-b9ad-4769-8c92-a6c4dae69d19",
    "_uuid": "8f2839f25d086af736a60e9eeb907d3b93b6e0e5",
    "execution": {
     "iopub.execute_input": "2023-06-05T09:19:20.244485Z",
     "iopub.status.busy": "2023-06-05T09:19:20.243916Z",
     "iopub.status.idle": "2023-06-05T09:19:24.094344Z",
     "shell.execute_reply": "2023-06-05T09:19:24.092955Z"
    },
    "papermill": {
     "duration": 3.869169,
     "end_time": "2023-06-05T09:19:24.098647",
     "exception": false,
     "start_time": "2023-06-05T09:19:20.229478",
     "status": "completed"
    },
    "tags": []
   },
   "outputs": [],
   "source": [
    "import pandas as pd\n",
    "import plotly.express as px\n",
    "import seaborn as sns"
   ]
  },
  {
   "cell_type": "code",
   "execution_count": 2,
   "id": "94c26f0f",
   "metadata": {
    "execution": {
     "iopub.execute_input": "2023-06-05T09:19:24.126142Z",
     "iopub.status.busy": "2023-06-05T09:19:24.125529Z",
     "iopub.status.idle": "2023-06-05T09:19:24.168144Z",
     "shell.execute_reply": "2023-06-05T09:19:24.166751Z"
    },
    "papermill": {
     "duration": 0.059124,
     "end_time": "2023-06-05T09:19:24.172610",
     "exception": false,
     "start_time": "2023-06-05T09:19:24.113486",
     "status": "completed"
    },
    "tags": []
   },
   "outputs": [],
   "source": [
    "df = pd.read_csv('/kaggle/input/genshin-impact-character-data/genshin.csv').copy()"
   ]
  },
  {
   "cell_type": "markdown",
   "id": "33fd5e07",
   "metadata": {
    "papermill": {
     "duration": 0.011107,
     "end_time": "2023-06-05T09:19:24.198016",
     "exception": false,
     "start_time": "2023-06-05T09:19:24.186909",
     "status": "completed"
    },
    "tags": []
   },
   "source": [
    "Making corrections to the dataset"
   ]
  },
  {
   "cell_type": "code",
   "execution_count": 3,
   "id": "52d66d6b",
   "metadata": {
    "_kg_hide-output": true,
    "execution": {
     "iopub.execute_input": "2023-06-05T09:19:24.221828Z",
     "iopub.status.busy": "2023-06-05T09:19:24.220812Z",
     "iopub.status.idle": "2023-06-05T09:19:24.251604Z",
     "shell.execute_reply": "2023-06-05T09:19:24.250086Z"
    },
    "papermill": {
     "duration": 0.048773,
     "end_time": "2023-06-05T09:19:24.257506",
     "exception": false,
     "start_time": "2023-06-05T09:19:24.208733",
     "status": "completed"
    },
    "tags": []
   },
   "outputs": [
    {
     "name": "stderr",
     "output_type": "stream",
     "text": [
      "/opt/conda/lib/python3.7/site-packages/ipykernel_launcher.py:1: SettingWithCopyWarning: \n",
      "A value is trying to be set on a copy of a slice from a DataFrame\n",
      "\n",
      "See the caveats in the documentation: https://pandas.pydata.org/pandas-docs/stable/user_guide/indexing.html#returning-a-view-versus-a-copy\n",
      "  \"\"\"Entry point for launching an IPython kernel.\n",
      "/opt/conda/lib/python3.7/site-packages/ipykernel_launcher.py:2: SettingWithCopyWarning: \n",
      "A value is trying to be set on a copy of a slice from a DataFrame\n",
      "\n",
      "See the caveats in the documentation: https://pandas.pydata.org/pandas-docs/stable/user_guide/indexing.html#returning-a-view-versus-a-copy\n",
      "  \n",
      "/opt/conda/lib/python3.7/site-packages/ipykernel_launcher.py:4: SettingWithCopyWarning: \n",
      "A value is trying to be set on a copy of a slice from a DataFrame\n",
      "\n",
      "See the caveats in the documentation: https://pandas.pydata.org/pandas-docs/stable/user_guide/indexing.html#returning-a-view-versus-a-copy\n",
      "  after removing the cwd from sys.path.\n",
      "/opt/conda/lib/python3.7/site-packages/ipykernel_launcher.py:5: SettingWithCopyWarning: \n",
      "A value is trying to be set on a copy of a slice from a DataFrame\n",
      "\n",
      "See the caveats in the documentation: https://pandas.pydata.org/pandas-docs/stable/user_guide/indexing.html#returning-a-view-versus-a-copy\n",
      "  \"\"\"\n",
      "/opt/conda/lib/python3.7/site-packages/ipykernel_launcher.py:8: SettingWithCopyWarning: \n",
      "A value is trying to be set on a copy of a slice from a DataFrame\n",
      "\n",
      "See the caveats in the documentation: https://pandas.pydata.org/pandas-docs/stable/user_guide/indexing.html#returning-a-view-versus-a-copy\n",
      "  \n"
     ]
    }
   ],
   "source": [
    "df['hp_50_60'][9] = 7120.0\n",
    "df['hp_50_50'][27] = 7092.0\n",
    "df['hp_50_60'], df['hp_60_60'] = df['hp_60_60'], df['hp_60_60'] \n",
    "df['hp_80_90'][44] = 12080.0\n",
    "df['hp_50_60'][24] = 7747.0\n",
    "df['hp_50_60'] = df['hp_50_60'].apply(float)\n",
    "\n",
    "df['def_40_40'][60] = 218.0\n",
    "\n",
    "df['atk_70_80'], df['atk_80_80'] = df['atk_80_80'], df['atk_70_80']"
   ]
  },
  {
   "cell_type": "markdown",
   "id": "d7471414",
   "metadata": {
    "papermill": {
     "duration": 0.009956,
     "end_time": "2023-06-05T09:19:24.280856",
     "exception": false,
     "start_time": "2023-06-05T09:19:24.270900",
     "status": "completed"
    },
    "tags": []
   },
   "source": [
    "Converting 'release_date' column to a datetime object"
   ]
  },
  {
   "cell_type": "code",
   "execution_count": 4,
   "id": "14e8834b",
   "metadata": {
    "execution": {
     "iopub.execute_input": "2023-06-05T09:19:24.306598Z",
     "iopub.status.busy": "2023-06-05T09:19:24.305482Z",
     "iopub.status.idle": "2023-06-05T09:19:24.325661Z",
     "shell.execute_reply": "2023-06-05T09:19:24.323969Z"
    },
    "papermill": {
     "duration": 0.037351,
     "end_time": "2023-06-05T09:19:24.329343",
     "exception": false,
     "start_time": "2023-06-05T09:19:24.291992",
     "status": "completed"
    },
    "tags": []
   },
   "outputs": [],
   "source": [
    "df['release_date'] = pd.to_datetime(df['release_date'])"
   ]
  },
  {
   "cell_type": "code",
   "execution_count": 5,
   "id": "0f9a32ed",
   "metadata": {
    "execution": {
     "iopub.execute_input": "2023-06-05T09:19:24.359338Z",
     "iopub.status.busy": "2023-06-05T09:19:24.358166Z",
     "iopub.status.idle": "2023-06-05T09:19:24.389060Z",
     "shell.execute_reply": "2023-06-05T09:19:24.387535Z"
    },
    "papermill": {
     "duration": 0.049146,
     "end_time": "2023-06-05T09:19:24.393350",
     "exception": false,
     "start_time": "2023-06-05T09:19:24.344204",
     "status": "completed"
    },
    "tags": []
   },
   "outputs": [
    {
     "name": "stdout",
     "output_type": "stream",
     "text": [
      "<class 'pandas.core.frame.DataFrame'>\n",
      "RangeIndex: 63 entries, 0 to 62\n",
      "Data columns (total 71 columns):\n",
      " #   Column               Non-Null Count  Dtype         \n",
      "---  ------               --------------  -----         \n",
      " 0   character_name       63 non-null     object        \n",
      " 1   playable             63 non-null     object        \n",
      " 2   rarity               59 non-null     float64       \n",
      " 3   region               60 non-null     object        \n",
      " 4   vision               63 non-null     object        \n",
      " 5   weapon_type          59 non-null     object        \n",
      " 6   model                62 non-null     object        \n",
      " 7   constellation        59 non-null     object        \n",
      " 8   birthday             58 non-null     object        \n",
      " 9   special_dish         58 non-null     object        \n",
      " 10  affiliation          60 non-null     object        \n",
      " 11  voice_eng            59 non-null     object        \n",
      " 12  voice_cn             60 non-null     object        \n",
      " 13  voice_jp             60 non-null     object        \n",
      " 14  voice_kr             59 non-null     object        \n",
      " 15  release_date         58 non-null     datetime64[ns]\n",
      " 16  ascension            58 non-null     object        \n",
      " 17  ascension_specialty  58 non-null     object        \n",
      " 18  ascension_talent     58 non-null     object        \n",
      " 19  ascension_boss       58 non-null     object        \n",
      " 20  talent_book          58 non-null     object        \n",
      " 21  talent_weekly        58 non-null     object        \n",
      " 22  hp_90_90             58 non-null     float64       \n",
      " 23  atk_90_90            58 non-null     float64       \n",
      " 24  def_90_90            58 non-null     float64       \n",
      " 25  hp_80_90             58 non-null     float64       \n",
      " 26  atk_80_90            58 non-null     float64       \n",
      " 27  def_80_90            58 non-null     float64       \n",
      " 28  hp_80_80             58 non-null     float64       \n",
      " 29  atk_80_80            58 non-null     float64       \n",
      " 30  def_80_80            58 non-null     float64       \n",
      " 31  hp_70_80             58 non-null     float64       \n",
      " 32  atk_70_80            58 non-null     float64       \n",
      " 33  def_70_80            58 non-null     float64       \n",
      " 34  hp_70_70             58 non-null     float64       \n",
      " 35  atk_70_70            58 non-null     float64       \n",
      " 36  def_70_70            58 non-null     float64       \n",
      " 37  hp_60_70             58 non-null     float64       \n",
      " 38  atk_60_70            58 non-null     float64       \n",
      " 39  def_60_70            58 non-null     float64       \n",
      " 40  hp_60_60             58 non-null     float64       \n",
      " 41  atk_60_60            58 non-null     float64       \n",
      " 42  def_60_60            58 non-null     float64       \n",
      " 43  hp_50_60             58 non-null     float64       \n",
      " 44  atk_50_60            58 non-null     float64       \n",
      " 45  def_50_60            58 non-null     float64       \n",
      " 46  hp_50_50             58 non-null     float64       \n",
      " 47  atk_50_50            58 non-null     float64       \n",
      " 48  def_50_50            58 non-null     float64       \n",
      " 49  hp_40_50             58 non-null     float64       \n",
      " 50  atk_40_50            58 non-null     float64       \n",
      " 51  def_40_50            58 non-null     float64       \n",
      " 52  hp_40_40             58 non-null     float64       \n",
      " 53  atk_40_40            58 non-null     float64       \n",
      " 54  def_40_40            58 non-null     float64       \n",
      " 55  hp_20_40             58 non-null     float64       \n",
      " 56  atk_20_40            58 non-null     float64       \n",
      " 57  def_20_40            58 non-null     float64       \n",
      " 58  hp_20_20             58 non-null     float64       \n",
      " 59  atk_20_20            58 non-null     float64       \n",
      " 60  def_20_20            58 non-null     float64       \n",
      " 61  hp_1_20              58 non-null     float64       \n",
      " 62  atk_1_20             58 non-null     float64       \n",
      " 63  def_1_20             58 non-null     float64       \n",
      " 64  spsecial_0           58 non-null     object        \n",
      " 65  special_1            58 non-null     object        \n",
      " 66  special_2            58 non-null     object        \n",
      " 67  special_3            58 non-null     object        \n",
      " 68  special_4            58 non-null     object        \n",
      " 69  special_5            58 non-null     object        \n",
      " 70  special_6            58 non-null     object        \n",
      "dtypes: datetime64[ns](1), float64(43), object(27)\n",
      "memory usage: 35.1+ KB\n"
     ]
    }
   ],
   "source": [
    "df.info()"
   ]
  },
  {
   "cell_type": "code",
   "execution_count": 6,
   "id": "8359bfb4",
   "metadata": {
    "execution": {
     "iopub.execute_input": "2023-06-05T09:19:24.423112Z",
     "iopub.status.busy": "2023-06-05T09:19:24.422119Z",
     "iopub.status.idle": "2023-06-05T09:19:24.571976Z",
     "shell.execute_reply": "2023-06-05T09:19:24.570592Z"
    },
    "papermill": {
     "duration": 0.166164,
     "end_time": "2023-06-05T09:19:24.574772",
     "exception": false,
     "start_time": "2023-06-05T09:19:24.408608",
     "status": "completed"
    },
    "tags": []
   },
   "outputs": [
    {
     "data": {
      "text/html": [
       "<div>\n",
       "<style scoped>\n",
       "    .dataframe tbody tr th:only-of-type {\n",
       "        vertical-align: middle;\n",
       "    }\n",
       "\n",
       "    .dataframe tbody tr th {\n",
       "        vertical-align: top;\n",
       "    }\n",
       "\n",
       "    .dataframe thead th {\n",
       "        text-align: right;\n",
       "    }\n",
       "</style>\n",
       "<table border=\"1\" class=\"dataframe\">\n",
       "  <thead>\n",
       "    <tr style=\"text-align: right;\">\n",
       "      <th></th>\n",
       "      <th>rarity</th>\n",
       "      <th>hp_90_90</th>\n",
       "      <th>atk_90_90</th>\n",
       "      <th>def_90_90</th>\n",
       "      <th>hp_80_90</th>\n",
       "      <th>atk_80_90</th>\n",
       "      <th>def_80_90</th>\n",
       "      <th>hp_80_80</th>\n",
       "      <th>atk_80_80</th>\n",
       "      <th>def_80_80</th>\n",
       "      <th>...</th>\n",
       "      <th>def_40_40</th>\n",
       "      <th>hp_20_40</th>\n",
       "      <th>atk_20_40</th>\n",
       "      <th>def_20_40</th>\n",
       "      <th>hp_20_20</th>\n",
       "      <th>atk_20_20</th>\n",
       "      <th>def_20_20</th>\n",
       "      <th>hp_1_20</th>\n",
       "      <th>atk_1_20</th>\n",
       "      <th>def_1_20</th>\n",
       "    </tr>\n",
       "  </thead>\n",
       "  <tbody>\n",
       "    <tr>\n",
       "      <th>count</th>\n",
       "      <td>59.000000</td>\n",
       "      <td>58.000000</td>\n",
       "      <td>58.000000</td>\n",
       "      <td>58.000000</td>\n",
       "      <td>58.000000</td>\n",
       "      <td>58.000000</td>\n",
       "      <td>58.000000</td>\n",
       "      <td>58.000000</td>\n",
       "      <td>58.000000</td>\n",
       "      <td>58.000000</td>\n",
       "      <td>...</td>\n",
       "      <td>58.000000</td>\n",
       "      <td>58.000000</td>\n",
       "      <td>58.000000</td>\n",
       "      <td>58.000000</td>\n",
       "      <td>58.000000</td>\n",
       "      <td>58.000000</td>\n",
       "      <td>58.000000</td>\n",
       "      <td>58.000000</td>\n",
       "      <td>58.000000</td>\n",
       "      <td>58.000000</td>\n",
       "    </tr>\n",
       "    <tr>\n",
       "      <th>mean</th>\n",
       "      <td>4.525424</td>\n",
       "      <td>11649.120690</td>\n",
       "      <td>247.931034</td>\n",
       "      <td>715.034483</td>\n",
       "      <td>10836.051724</td>\n",
       "      <td>230.620690</td>\n",
       "      <td>665.189655</td>\n",
       "      <td>10299.913793</td>\n",
       "      <td>219.172414</td>\n",
       "      <td>632.224138</td>\n",
       "      <td>...</td>\n",
       "      <td>292.068966</td>\n",
       "      <td>3181.913793</td>\n",
       "      <td>67.672414</td>\n",
       "      <td>195.344828</td>\n",
       "      <td>2426.620690</td>\n",
       "      <td>51.706897</td>\n",
       "      <td>149.051724</td>\n",
       "      <td>941.534483</td>\n",
       "      <td>19.793103</td>\n",
       "      <td>57.689655</td>\n",
       "    </tr>\n",
       "    <tr>\n",
       "      <th>std</th>\n",
       "      <td>0.503640</td>\n",
       "      <td>1675.431299</td>\n",
       "      <td>53.877334</td>\n",
       "      <td>94.444259</td>\n",
       "      <td>1554.882107</td>\n",
       "      <td>49.950441</td>\n",
       "      <td>87.763329</td>\n",
       "      <td>1467.809877</td>\n",
       "      <td>47.246326</td>\n",
       "      <td>83.037519</td>\n",
       "      <td>...</td>\n",
       "      <td>37.881562</td>\n",
       "      <td>427.733984</td>\n",
       "      <td>13.917536</td>\n",
       "      <td>24.793570</td>\n",
       "      <td>310.081756</td>\n",
       "      <td>10.529838</td>\n",
       "      <td>18.472761</td>\n",
       "      <td>118.434113</td>\n",
       "      <td>3.833182</td>\n",
       "      <td>7.128413</td>\n",
       "    </tr>\n",
       "    <tr>\n",
       "      <th>min</th>\n",
       "      <td>4.000000</td>\n",
       "      <td>9189.000000</td>\n",
       "      <td>106.000000</td>\n",
       "      <td>548.000000</td>\n",
       "      <td>8553.000000</td>\n",
       "      <td>99.000000</td>\n",
       "      <td>509.000000</td>\n",
       "      <td>8144.000000</td>\n",
       "      <td>94.000000</td>\n",
       "      <td>483.000000</td>\n",
       "      <td>...</td>\n",
       "      <td>218.000000</td>\n",
       "      <td>2555.000000</td>\n",
       "      <td>29.000000</td>\n",
       "      <td>147.000000</td>\n",
       "      <td>1978.000000</td>\n",
       "      <td>21.000000</td>\n",
       "      <td>111.000000</td>\n",
       "      <td>763.000000</td>\n",
       "      <td>8.000000</td>\n",
       "      <td>43.000000</td>\n",
       "    </tr>\n",
       "    <tr>\n",
       "      <th>25%</th>\n",
       "      <td>4.000000</td>\n",
       "      <td>10298.000000</td>\n",
       "      <td>212.000000</td>\n",
       "      <td>648.000000</td>\n",
       "      <td>9576.250000</td>\n",
       "      <td>198.000000</td>\n",
       "      <td>603.000000</td>\n",
       "      <td>9094.750000</td>\n",
       "      <td>188.000000</td>\n",
       "      <td>575.000000</td>\n",
       "      <td>...</td>\n",
       "      <td>263.250000</td>\n",
       "      <td>2789.500000</td>\n",
       "      <td>59.000000</td>\n",
       "      <td>176.250000</td>\n",
       "      <td>2108.000000</td>\n",
       "      <td>46.000000</td>\n",
       "      <td>133.500000</td>\n",
       "      <td>820.250000</td>\n",
       "      <td>18.000000</td>\n",
       "      <td>51.250000</td>\n",
       "    </tr>\n",
       "    <tr>\n",
       "      <th>50%</th>\n",
       "      <td>5.000000</td>\n",
       "      <td>11418.500000</td>\n",
       "      <td>234.000000</td>\n",
       "      <td>716.500000</td>\n",
       "      <td>10627.500000</td>\n",
       "      <td>217.500000</td>\n",
       "      <td>667.000000</td>\n",
       "      <td>10119.500000</td>\n",
       "      <td>207.000000</td>\n",
       "      <td>635.000000</td>\n",
       "      <td>...</td>\n",
       "      <td>294.500000</td>\n",
       "      <td>3174.500000</td>\n",
       "      <td>64.000000</td>\n",
       "      <td>196.000000</td>\n",
       "      <td>2455.500000</td>\n",
       "      <td>48.500000</td>\n",
       "      <td>150.000000</td>\n",
       "      <td>967.500000</td>\n",
       "      <td>19.000000</td>\n",
       "      <td>57.500000</td>\n",
       "    </tr>\n",
       "    <tr>\n",
       "      <th>75%</th>\n",
       "      <td>5.000000</td>\n",
       "      <td>12962.500000</td>\n",
       "      <td>294.500000</td>\n",
       "      <td>784.000000</td>\n",
       "      <td>12051.000000</td>\n",
       "      <td>273.750000</td>\n",
       "      <td>729.000000</td>\n",
       "      <td>11436.750000</td>\n",
       "      <td>259.750000</td>\n",
       "      <td>692.000000</td>\n",
       "      <td>...</td>\n",
       "      <td>316.750000</td>\n",
       "      <td>3483.000000</td>\n",
       "      <td>79.250000</td>\n",
       "      <td>211.750000</td>\n",
       "      <td>2646.000000</td>\n",
       "      <td>59.500000</td>\n",
       "      <td>161.750000</td>\n",
       "      <td>1027.500000</td>\n",
       "      <td>22.000000</td>\n",
       "      <td>62.750000</td>\n",
       "    </tr>\n",
       "    <tr>\n",
       "      <th>max</th>\n",
       "      <td>5.000000</td>\n",
       "      <td>15552.000000</td>\n",
       "      <td>349.000000</td>\n",
       "      <td>959.000000</td>\n",
       "      <td>14459.000000</td>\n",
       "      <td>325.000000</td>\n",
       "      <td>892.000000</td>\n",
       "      <td>13721.000000</td>\n",
       "      <td>308.000000</td>\n",
       "      <td>846.000000</td>\n",
       "      <td>...</td>\n",
       "      <td>386.000000</td>\n",
       "      <td>4179.000000</td>\n",
       "      <td>94.000000</td>\n",
       "      <td>258.000000</td>\n",
       "      <td>3141.000000</td>\n",
       "      <td>79.000000</td>\n",
       "      <td>194.000000</td>\n",
       "      <td>1211.000000</td>\n",
       "      <td>27.000000</td>\n",
       "      <td>75.000000</td>\n",
       "    </tr>\n",
       "  </tbody>\n",
       "</table>\n",
       "<p>8 rows × 43 columns</p>\n",
       "</div>"
      ],
      "text/plain": [
       "          rarity      hp_90_90   atk_90_90   def_90_90      hp_80_90  \\\n",
       "count  59.000000     58.000000   58.000000   58.000000     58.000000   \n",
       "mean    4.525424  11649.120690  247.931034  715.034483  10836.051724   \n",
       "std     0.503640   1675.431299   53.877334   94.444259   1554.882107   \n",
       "min     4.000000   9189.000000  106.000000  548.000000   8553.000000   \n",
       "25%     4.000000  10298.000000  212.000000  648.000000   9576.250000   \n",
       "50%     5.000000  11418.500000  234.000000  716.500000  10627.500000   \n",
       "75%     5.000000  12962.500000  294.500000  784.000000  12051.000000   \n",
       "max     5.000000  15552.000000  349.000000  959.000000  14459.000000   \n",
       "\n",
       "        atk_80_90   def_80_90      hp_80_80   atk_80_80   def_80_80  ...  \\\n",
       "count   58.000000   58.000000     58.000000   58.000000   58.000000  ...   \n",
       "mean   230.620690  665.189655  10299.913793  219.172414  632.224138  ...   \n",
       "std     49.950441   87.763329   1467.809877   47.246326   83.037519  ...   \n",
       "min     99.000000  509.000000   8144.000000   94.000000  483.000000  ...   \n",
       "25%    198.000000  603.000000   9094.750000  188.000000  575.000000  ...   \n",
       "50%    217.500000  667.000000  10119.500000  207.000000  635.000000  ...   \n",
       "75%    273.750000  729.000000  11436.750000  259.750000  692.000000  ...   \n",
       "max    325.000000  892.000000  13721.000000  308.000000  846.000000  ...   \n",
       "\n",
       "        def_40_40     hp_20_40  atk_20_40   def_20_40     hp_20_20  atk_20_20  \\\n",
       "count   58.000000    58.000000  58.000000   58.000000    58.000000  58.000000   \n",
       "mean   292.068966  3181.913793  67.672414  195.344828  2426.620690  51.706897   \n",
       "std     37.881562   427.733984  13.917536   24.793570   310.081756  10.529838   \n",
       "min    218.000000  2555.000000  29.000000  147.000000  1978.000000  21.000000   \n",
       "25%    263.250000  2789.500000  59.000000  176.250000  2108.000000  46.000000   \n",
       "50%    294.500000  3174.500000  64.000000  196.000000  2455.500000  48.500000   \n",
       "75%    316.750000  3483.000000  79.250000  211.750000  2646.000000  59.500000   \n",
       "max    386.000000  4179.000000  94.000000  258.000000  3141.000000  79.000000   \n",
       "\n",
       "        def_20_20      hp_1_20   atk_1_20   def_1_20  \n",
       "count   58.000000    58.000000  58.000000  58.000000  \n",
       "mean   149.051724   941.534483  19.793103  57.689655  \n",
       "std     18.472761   118.434113   3.833182   7.128413  \n",
       "min    111.000000   763.000000   8.000000  43.000000  \n",
       "25%    133.500000   820.250000  18.000000  51.250000  \n",
       "50%    150.000000   967.500000  19.000000  57.500000  \n",
       "75%    161.750000  1027.500000  22.000000  62.750000  \n",
       "max    194.000000  1211.000000  27.000000  75.000000  \n",
       "\n",
       "[8 rows x 43 columns]"
      ]
     },
     "execution_count": 6,
     "metadata": {},
     "output_type": "execute_result"
    }
   ],
   "source": [
    "df.describe()"
   ]
  },
  {
   "cell_type": "code",
   "execution_count": 7,
   "id": "3e07ac27",
   "metadata": {
    "execution": {
     "iopub.execute_input": "2023-06-05T09:19:24.599480Z",
     "iopub.status.busy": "2023-06-05T09:19:24.598610Z",
     "iopub.status.idle": "2023-06-05T09:19:24.609335Z",
     "shell.execute_reply": "2023-06-05T09:19:24.608045Z"
    },
    "papermill": {
     "duration": 0.026073,
     "end_time": "2023-06-05T09:19:24.612196",
     "exception": false,
     "start_time": "2023-06-05T09:19:24.586123",
     "status": "completed"
    },
    "tags": []
   },
   "outputs": [
    {
     "data": {
      "text/plain": [
       "68"
      ]
     },
     "execution_count": 7,
     "metadata": {},
     "output_type": "execute_result"
    }
   ],
   "source": [
    "df.isnull().any().sum()"
   ]
  },
  {
   "cell_type": "code",
   "execution_count": 8,
   "id": "0efdd3f3",
   "metadata": {
    "execution": {
     "iopub.execute_input": "2023-06-05T09:19:24.636604Z",
     "iopub.status.busy": "2023-06-05T09:19:24.636164Z",
     "iopub.status.idle": "2023-06-05T09:19:24.667433Z",
     "shell.execute_reply": "2023-06-05T09:19:24.666087Z"
    },
    "papermill": {
     "duration": 0.046615,
     "end_time": "2023-06-05T09:19:24.670332",
     "exception": false,
     "start_time": "2023-06-05T09:19:24.623717",
     "status": "completed"
    },
    "tags": []
   },
   "outputs": [
    {
     "data": {
      "text/html": [
       "<div>\n",
       "<style scoped>\n",
       "    .dataframe tbody tr th:only-of-type {\n",
       "        vertical-align: middle;\n",
       "    }\n",
       "\n",
       "    .dataframe tbody tr th {\n",
       "        vertical-align: top;\n",
       "    }\n",
       "\n",
       "    .dataframe thead th {\n",
       "        text-align: right;\n",
       "    }\n",
       "</style>\n",
       "<table border=\"1\" class=\"dataframe\">\n",
       "  <thead>\n",
       "    <tr style=\"text-align: right;\">\n",
       "      <th></th>\n",
       "      <th>character_name</th>\n",
       "      <th>playable</th>\n",
       "      <th>rarity</th>\n",
       "      <th>region</th>\n",
       "      <th>vision</th>\n",
       "      <th>weapon_type</th>\n",
       "      <th>model</th>\n",
       "      <th>constellation</th>\n",
       "      <th>birthday</th>\n",
       "      <th>special_dish</th>\n",
       "      <th>...</th>\n",
       "      <th>hp_1_20</th>\n",
       "      <th>atk_1_20</th>\n",
       "      <th>def_1_20</th>\n",
       "      <th>spsecial_0</th>\n",
       "      <th>special_1</th>\n",
       "      <th>special_2</th>\n",
       "      <th>special_3</th>\n",
       "      <th>special_4</th>\n",
       "      <th>special_5</th>\n",
       "      <th>special_6</th>\n",
       "    </tr>\n",
       "  </thead>\n",
       "  <tbody>\n",
       "    <tr>\n",
       "      <th>0</th>\n",
       "      <td>Albedo</td>\n",
       "      <td>Y</td>\n",
       "      <td>5.0</td>\n",
       "      <td>Mondstadt</td>\n",
       "      <td>Geo</td>\n",
       "      <td>Sword</td>\n",
       "      <td>Medium Male</td>\n",
       "      <td>Princeps Cretaceus</td>\n",
       "      <td>9/13</td>\n",
       "      <td>Woodland Dream</td>\n",
       "      <td>...</td>\n",
       "      <td>1030.0</td>\n",
       "      <td>20.0</td>\n",
       "      <td>68.0</td>\n",
       "      <td>0.0%</td>\n",
       "      <td>0.0%</td>\n",
       "      <td>7.2%</td>\n",
       "      <td>14.4%</td>\n",
       "      <td>14.4%</td>\n",
       "      <td>21.6%</td>\n",
       "      <td>28.8%</td>\n",
       "    </tr>\n",
       "    <tr>\n",
       "      <th>1</th>\n",
       "      <td>Alhaitham</td>\n",
       "      <td>N</td>\n",
       "      <td>NaN</td>\n",
       "      <td>Sumeru</td>\n",
       "      <td>Dendro</td>\n",
       "      <td>NaN</td>\n",
       "      <td>Tall Male</td>\n",
       "      <td>NaN</td>\n",
       "      <td>NaN</td>\n",
       "      <td>NaN</td>\n",
       "      <td>...</td>\n",
       "      <td>NaN</td>\n",
       "      <td>NaN</td>\n",
       "      <td>NaN</td>\n",
       "      <td>NaN</td>\n",
       "      <td>NaN</td>\n",
       "      <td>NaN</td>\n",
       "      <td>NaN</td>\n",
       "      <td>NaN</td>\n",
       "      <td>NaN</td>\n",
       "      <td>NaN</td>\n",
       "    </tr>\n",
       "    <tr>\n",
       "      <th>2</th>\n",
       "      <td>Aloy</td>\n",
       "      <td>Y</td>\n",
       "      <td>5.0</td>\n",
       "      <td>NaN</td>\n",
       "      <td>Cryo</td>\n",
       "      <td>Bow</td>\n",
       "      <td>Medium Female</td>\n",
       "      <td>Nora Fortis</td>\n",
       "      <td>4/4</td>\n",
       "      <td>Satiety Gel</td>\n",
       "      <td>...</td>\n",
       "      <td>848.0</td>\n",
       "      <td>18.0</td>\n",
       "      <td>53.0</td>\n",
       "      <td>0.0%</td>\n",
       "      <td>0.0%</td>\n",
       "      <td>7.2%</td>\n",
       "      <td>14.4%</td>\n",
       "      <td>14.4%</td>\n",
       "      <td>21.6%</td>\n",
       "      <td>28.8%</td>\n",
       "    </tr>\n",
       "    <tr>\n",
       "      <th>3</th>\n",
       "      <td>Amber</td>\n",
       "      <td>Y</td>\n",
       "      <td>4.0</td>\n",
       "      <td>Mondstadt</td>\n",
       "      <td>Pyro</td>\n",
       "      <td>Bow</td>\n",
       "      <td>Medium Female</td>\n",
       "      <td>Lepus</td>\n",
       "      <td>8/10</td>\n",
       "      <td>Outrider's Champion Steak!</td>\n",
       "      <td>...</td>\n",
       "      <td>793.0</td>\n",
       "      <td>19.0</td>\n",
       "      <td>50.0</td>\n",
       "      <td>0.0%</td>\n",
       "      <td>0.0%</td>\n",
       "      <td>6.0%</td>\n",
       "      <td>12.0%</td>\n",
       "      <td>12.0%</td>\n",
       "      <td>18.0%</td>\n",
       "      <td>24.0%</td>\n",
       "    </tr>\n",
       "    <tr>\n",
       "      <th>4</th>\n",
       "      <td>Arataki Itto</td>\n",
       "      <td>Y</td>\n",
       "      <td>5.0</td>\n",
       "      <td>Inazuma</td>\n",
       "      <td>Geo</td>\n",
       "      <td>Claymore</td>\n",
       "      <td>Tall Male</td>\n",
       "      <td>Taurus Iracundus</td>\n",
       "      <td>6/1</td>\n",
       "      <td>Way of the Strong</td>\n",
       "      <td>...</td>\n",
       "      <td>1001.0</td>\n",
       "      <td>18.0</td>\n",
       "      <td>75.0</td>\n",
       "      <td>0.0%</td>\n",
       "      <td>0.0%</td>\n",
       "      <td>4.8%</td>\n",
       "      <td>9.6%</td>\n",
       "      <td>9.6%</td>\n",
       "      <td>14.4%</td>\n",
       "      <td>19.2%</td>\n",
       "    </tr>\n",
       "  </tbody>\n",
       "</table>\n",
       "<p>5 rows × 71 columns</p>\n",
       "</div>"
      ],
      "text/plain": [
       "  character_name playable  rarity     region  vision weapon_type  \\\n",
       "0         Albedo        Y     5.0  Mondstadt     Geo       Sword   \n",
       "1      Alhaitham        N     NaN     Sumeru  Dendro         NaN   \n",
       "2           Aloy        Y     5.0        NaN    Cryo         Bow   \n",
       "3          Amber        Y     4.0  Mondstadt    Pyro         Bow   \n",
       "4   Arataki Itto        Y     5.0    Inazuma     Geo    Claymore   \n",
       "\n",
       "           model       constellation birthday                special_dish  \\\n",
       "0    Medium Male  Princeps Cretaceus     9/13              Woodland Dream   \n",
       "1      Tall Male                 NaN      NaN                         NaN   \n",
       "2  Medium Female         Nora Fortis      4/4                 Satiety Gel   \n",
       "3  Medium Female               Lepus     8/10  Outrider's Champion Steak!   \n",
       "4      Tall Male    Taurus Iracundus      6/1           Way of the Strong   \n",
       "\n",
       "   ... hp_1_20 atk_1_20 def_1_20 spsecial_0 special_1 special_2 special_3  \\\n",
       "0  ...  1030.0     20.0     68.0       0.0%      0.0%      7.2%     14.4%   \n",
       "1  ...     NaN      NaN      NaN        NaN       NaN       NaN       NaN   \n",
       "2  ...   848.0     18.0     53.0       0.0%      0.0%      7.2%     14.4%   \n",
       "3  ...   793.0     19.0     50.0       0.0%      0.0%      6.0%     12.0%   \n",
       "4  ...  1001.0     18.0     75.0       0.0%      0.0%      4.8%      9.6%   \n",
       "\n",
       "  special_4 special_5 special_6  \n",
       "0     14.4%     21.6%     28.8%  \n",
       "1       NaN       NaN       NaN  \n",
       "2     14.4%     21.6%     28.8%  \n",
       "3     12.0%     18.0%     24.0%  \n",
       "4      9.6%     14.4%     19.2%  \n",
       "\n",
       "[5 rows x 71 columns]"
      ]
     },
     "execution_count": 8,
     "metadata": {},
     "output_type": "execute_result"
    }
   ],
   "source": [
    "df.head()"
   ]
  },
  {
   "cell_type": "code",
   "execution_count": 9,
   "id": "b46cf66d",
   "metadata": {
    "execution": {
     "iopub.execute_input": "2023-06-05T09:19:24.696260Z",
     "iopub.status.busy": "2023-06-05T09:19:24.695493Z",
     "iopub.status.idle": "2023-06-05T09:19:24.725970Z",
     "shell.execute_reply": "2023-06-05T09:19:24.724632Z"
    },
    "papermill": {
     "duration": 0.046719,
     "end_time": "2023-06-05T09:19:24.729051",
     "exception": false,
     "start_time": "2023-06-05T09:19:24.682332",
     "status": "completed"
    },
    "tags": []
   },
   "outputs": [
    {
     "data": {
      "text/html": [
       "<div>\n",
       "<style scoped>\n",
       "    .dataframe tbody tr th:only-of-type {\n",
       "        vertical-align: middle;\n",
       "    }\n",
       "\n",
       "    .dataframe tbody tr th {\n",
       "        vertical-align: top;\n",
       "    }\n",
       "\n",
       "    .dataframe thead th {\n",
       "        text-align: right;\n",
       "    }\n",
       "</style>\n",
       "<table border=\"1\" class=\"dataframe\">\n",
       "  <thead>\n",
       "    <tr style=\"text-align: right;\">\n",
       "      <th></th>\n",
       "      <th>character_name</th>\n",
       "      <th>playable</th>\n",
       "      <th>rarity</th>\n",
       "      <th>region</th>\n",
       "      <th>vision</th>\n",
       "      <th>weapon_type</th>\n",
       "      <th>model</th>\n",
       "      <th>constellation</th>\n",
       "      <th>birthday</th>\n",
       "      <th>special_dish</th>\n",
       "      <th>...</th>\n",
       "      <th>hp_1_20</th>\n",
       "      <th>atk_1_20</th>\n",
       "      <th>def_1_20</th>\n",
       "      <th>spsecial_0</th>\n",
       "      <th>special_1</th>\n",
       "      <th>special_2</th>\n",
       "      <th>special_3</th>\n",
       "      <th>special_4</th>\n",
       "      <th>special_5</th>\n",
       "      <th>special_6</th>\n",
       "    </tr>\n",
       "  </thead>\n",
       "  <tbody>\n",
       "    <tr>\n",
       "      <th>58</th>\n",
       "      <td>Yanfei</td>\n",
       "      <td>Y</td>\n",
       "      <td>4.0</td>\n",
       "      <td>Liyue</td>\n",
       "      <td>Pyro</td>\n",
       "      <td>Catalyst</td>\n",
       "      <td>Medium Female</td>\n",
       "      <td>Bestia Iustitia</td>\n",
       "      <td>7/28</td>\n",
       "      <td>\"My Way\"</td>\n",
       "      <td>...</td>\n",
       "      <td>784.0</td>\n",
       "      <td>20.0</td>\n",
       "      <td>49.0</td>\n",
       "      <td>0.0%</td>\n",
       "      <td>0.0%</td>\n",
       "      <td>6.0%</td>\n",
       "      <td>12.0%</td>\n",
       "      <td>12.0%</td>\n",
       "      <td>18.0%</td>\n",
       "      <td>24.0%</td>\n",
       "    </tr>\n",
       "    <tr>\n",
       "      <th>59</th>\n",
       "      <td>Yelan</td>\n",
       "      <td>Y</td>\n",
       "      <td>5.0</td>\n",
       "      <td>Liyue</td>\n",
       "      <td>Hydro</td>\n",
       "      <td>Bow</td>\n",
       "      <td>Tall Female</td>\n",
       "      <td>Umbrabilis Orchis</td>\n",
       "      <td>4/20</td>\n",
       "      <td>Dew-Dipped Shrimp</td>\n",
       "      <td>...</td>\n",
       "      <td>1125.0</td>\n",
       "      <td>19.0</td>\n",
       "      <td>43.0</td>\n",
       "      <td>0.0%</td>\n",
       "      <td>0.0%</td>\n",
       "      <td>4.8%</td>\n",
       "      <td>9.6%</td>\n",
       "      <td>9.6%</td>\n",
       "      <td>14.4%</td>\n",
       "      <td>19.2%</td>\n",
       "    </tr>\n",
       "    <tr>\n",
       "      <th>60</th>\n",
       "      <td>Yoimiya</td>\n",
       "      <td>Y</td>\n",
       "      <td>5.0</td>\n",
       "      <td>Inazuma</td>\n",
       "      <td>Pyro</td>\n",
       "      <td>Bow</td>\n",
       "      <td>Medium Female</td>\n",
       "      <td>Carassius Auratus</td>\n",
       "      <td>6/21</td>\n",
       "      <td>Summer Festival Fish</td>\n",
       "      <td>...</td>\n",
       "      <td>791.0</td>\n",
       "      <td>25.0</td>\n",
       "      <td>48.0</td>\n",
       "      <td>0.0%</td>\n",
       "      <td>0.0%</td>\n",
       "      <td>4.8%</td>\n",
       "      <td>9.6%</td>\n",
       "      <td>9.6%</td>\n",
       "      <td>14.4%</td>\n",
       "      <td>19.2%</td>\n",
       "    </tr>\n",
       "    <tr>\n",
       "      <th>61</th>\n",
       "      <td>Yun Jin</td>\n",
       "      <td>Y</td>\n",
       "      <td>4.0</td>\n",
       "      <td>Liyue</td>\n",
       "      <td>Geo</td>\n",
       "      <td>Polearm</td>\n",
       "      <td>Medium Female</td>\n",
       "      <td>Opera Grandis</td>\n",
       "      <td>5/21</td>\n",
       "      <td>Cloud-Shrouded Jade</td>\n",
       "      <td>...</td>\n",
       "      <td>894.0</td>\n",
       "      <td>16.0</td>\n",
       "      <td>62.0</td>\n",
       "      <td>0.0%</td>\n",
       "      <td>0.0%</td>\n",
       "      <td>6.7%</td>\n",
       "      <td>13.3%</td>\n",
       "      <td>13.3%</td>\n",
       "      <td>20.0%</td>\n",
       "      <td>26.7%</td>\n",
       "    </tr>\n",
       "    <tr>\n",
       "      <th>62</th>\n",
       "      <td>Zhongli</td>\n",
       "      <td>Y</td>\n",
       "      <td>5.0</td>\n",
       "      <td>Liyue</td>\n",
       "      <td>Geo</td>\n",
       "      <td>Polearm</td>\n",
       "      <td>Tall Male</td>\n",
       "      <td>Lapis Dei</td>\n",
       "      <td>12/31</td>\n",
       "      <td>Slow-Cooked Bamboo Shoot Soup</td>\n",
       "      <td>...</td>\n",
       "      <td>1144.0</td>\n",
       "      <td>20.0</td>\n",
       "      <td>57.0</td>\n",
       "      <td>0.0%</td>\n",
       "      <td>0.0%</td>\n",
       "      <td>7.2%</td>\n",
       "      <td>14.4%</td>\n",
       "      <td>14.4%</td>\n",
       "      <td>21.6%</td>\n",
       "      <td>28.8%</td>\n",
       "    </tr>\n",
       "  </tbody>\n",
       "</table>\n",
       "<p>5 rows × 71 columns</p>\n",
       "</div>"
      ],
      "text/plain": [
       "   character_name playable  rarity   region vision weapon_type          model  \\\n",
       "58         Yanfei        Y     4.0    Liyue   Pyro    Catalyst  Medium Female   \n",
       "59          Yelan        Y     5.0    Liyue  Hydro         Bow    Tall Female   \n",
       "60        Yoimiya        Y     5.0  Inazuma   Pyro         Bow  Medium Female   \n",
       "61        Yun Jin        Y     4.0    Liyue    Geo     Polearm  Medium Female   \n",
       "62        Zhongli        Y     5.0    Liyue    Geo     Polearm      Tall Male   \n",
       "\n",
       "        constellation birthday                   special_dish  ... hp_1_20  \\\n",
       "58    Bestia Iustitia     7/28                       \"My Way\"  ...   784.0   \n",
       "59  Umbrabilis Orchis     4/20              Dew-Dipped Shrimp  ...  1125.0   \n",
       "60  Carassius Auratus     6/21           Summer Festival Fish  ...   791.0   \n",
       "61      Opera Grandis     5/21            Cloud-Shrouded Jade  ...   894.0   \n",
       "62          Lapis Dei    12/31  Slow-Cooked Bamboo Shoot Soup  ...  1144.0   \n",
       "\n",
       "   atk_1_20 def_1_20 spsecial_0 special_1 special_2 special_3 special_4  \\\n",
       "58     20.0     49.0       0.0%      0.0%      6.0%     12.0%     12.0%   \n",
       "59     19.0     43.0       0.0%      0.0%      4.8%      9.6%      9.6%   \n",
       "60     25.0     48.0       0.0%      0.0%      4.8%      9.6%      9.6%   \n",
       "61     16.0     62.0       0.0%      0.0%      6.7%     13.3%     13.3%   \n",
       "62     20.0     57.0       0.0%      0.0%      7.2%     14.4%     14.4%   \n",
       "\n",
       "   special_5 special_6  \n",
       "58     18.0%     24.0%  \n",
       "59     14.4%     19.2%  \n",
       "60     14.4%     19.2%  \n",
       "61     20.0%     26.7%  \n",
       "62     21.6%     28.8%  \n",
       "\n",
       "[5 rows x 71 columns]"
      ]
     },
     "execution_count": 9,
     "metadata": {},
     "output_type": "execute_result"
    }
   ],
   "source": [
    "df.tail()"
   ]
  },
  {
   "cell_type": "code",
   "execution_count": 10,
   "id": "e24e3fdf",
   "metadata": {
    "execution": {
     "iopub.execute_input": "2023-06-05T09:19:24.755507Z",
     "iopub.status.busy": "2023-06-05T09:19:24.754766Z",
     "iopub.status.idle": "2023-06-05T09:19:24.788105Z",
     "shell.execute_reply": "2023-06-05T09:19:24.786689Z"
    },
    "papermill": {
     "duration": 0.050274,
     "end_time": "2023-06-05T09:19:24.791371",
     "exception": false,
     "start_time": "2023-06-05T09:19:24.741097",
     "status": "completed"
    },
    "tags": []
   },
   "outputs": [
    {
     "data": {
      "text/html": [
       "<div>\n",
       "<style scoped>\n",
       "    .dataframe tbody tr th:only-of-type {\n",
       "        vertical-align: middle;\n",
       "    }\n",
       "\n",
       "    .dataframe tbody tr th {\n",
       "        vertical-align: top;\n",
       "    }\n",
       "\n",
       "    .dataframe thead th {\n",
       "        text-align: right;\n",
       "    }\n",
       "</style>\n",
       "<table border=\"1\" class=\"dataframe\">\n",
       "  <thead>\n",
       "    <tr style=\"text-align: right;\">\n",
       "      <th></th>\n",
       "      <th>character_name</th>\n",
       "      <th>playable</th>\n",
       "      <th>rarity</th>\n",
       "      <th>region</th>\n",
       "      <th>vision</th>\n",
       "      <th>weapon_type</th>\n",
       "      <th>model</th>\n",
       "      <th>constellation</th>\n",
       "      <th>birthday</th>\n",
       "      <th>special_dish</th>\n",
       "      <th>...</th>\n",
       "      <th>hp_1_20</th>\n",
       "      <th>atk_1_20</th>\n",
       "      <th>def_1_20</th>\n",
       "      <th>spsecial_0</th>\n",
       "      <th>special_1</th>\n",
       "      <th>special_2</th>\n",
       "      <th>special_3</th>\n",
       "      <th>special_4</th>\n",
       "      <th>special_5</th>\n",
       "      <th>special_6</th>\n",
       "    </tr>\n",
       "  </thead>\n",
       "  <tbody>\n",
       "    <tr>\n",
       "      <th>23</th>\n",
       "      <td>Jean</td>\n",
       "      <td>Y</td>\n",
       "      <td>5.0</td>\n",
       "      <td>Mondstadt</td>\n",
       "      <td>Anemo</td>\n",
       "      <td>Sword</td>\n",
       "      <td>Tall Female</td>\n",
       "      <td>Leo Minor</td>\n",
       "      <td>3/14</td>\n",
       "      <td>Invigorating Pizza</td>\n",
       "      <td>...</td>\n",
       "      <td>1144.0</td>\n",
       "      <td>19.0</td>\n",
       "      <td>60.0</td>\n",
       "      <td>0.0%</td>\n",
       "      <td>0.0%</td>\n",
       "      <td>5.5%</td>\n",
       "      <td>11.1%</td>\n",
       "      <td>11.1%</td>\n",
       "      <td>16.6%</td>\n",
       "      <td>22.2%</td>\n",
       "    </tr>\n",
       "    <tr>\n",
       "      <th>50</th>\n",
       "      <td>Traveler (Aether)</td>\n",
       "      <td>Y</td>\n",
       "      <td>5.0</td>\n",
       "      <td>NaN</td>\n",
       "      <td>None</td>\n",
       "      <td>Sword</td>\n",
       "      <td>Medium Female</td>\n",
       "      <td>Viator</td>\n",
       "      <td>Player's Choice</td>\n",
       "      <td>None</td>\n",
       "      <td>...</td>\n",
       "      <td>912.0</td>\n",
       "      <td>18.0</td>\n",
       "      <td>57.0</td>\n",
       "      <td>0.0%</td>\n",
       "      <td>0.0%</td>\n",
       "      <td>6.0%</td>\n",
       "      <td>12.0%</td>\n",
       "      <td>12.0%</td>\n",
       "      <td>18.0%</td>\n",
       "      <td>24.0%</td>\n",
       "    </tr>\n",
       "  </tbody>\n",
       "</table>\n",
       "<p>2 rows × 71 columns</p>\n",
       "</div>"
      ],
      "text/plain": [
       "       character_name playable  rarity     region vision weapon_type  \\\n",
       "23               Jean        Y     5.0  Mondstadt  Anemo       Sword   \n",
       "50  Traveler (Aether)        Y     5.0        NaN   None       Sword   \n",
       "\n",
       "            model constellation         birthday        special_dish  ...  \\\n",
       "23    Tall Female     Leo Minor             3/14  Invigorating Pizza  ...   \n",
       "50  Medium Female        Viator  Player's Choice                None  ...   \n",
       "\n",
       "   hp_1_20 atk_1_20 def_1_20 spsecial_0 special_1 special_2 special_3  \\\n",
       "23  1144.0     19.0     60.0       0.0%      0.0%      5.5%     11.1%   \n",
       "50   912.0     18.0     57.0       0.0%      0.0%      6.0%     12.0%   \n",
       "\n",
       "   special_4 special_5 special_6  \n",
       "23     11.1%     16.6%     22.2%  \n",
       "50     12.0%     18.0%     24.0%  \n",
       "\n",
       "[2 rows x 71 columns]"
      ]
     },
     "execution_count": 10,
     "metadata": {},
     "output_type": "execute_result"
    }
   ],
   "source": [
    "df.sample(2)"
   ]
  },
  {
   "cell_type": "markdown",
   "id": "6446db51",
   "metadata": {
    "papermill": {
     "duration": 0.011951,
     "end_time": "2023-06-05T09:19:24.815746",
     "exception": false,
     "start_time": "2023-06-05T09:19:24.803795",
     "status": "completed"
    },
    "tags": []
   },
   "source": [
    "Assigning colors to regions and visions"
   ]
  },
  {
   "cell_type": "code",
   "execution_count": 11,
   "id": "dc1a16c5",
   "metadata": {
    "execution": {
     "iopub.execute_input": "2023-06-05T09:19:24.843165Z",
     "iopub.status.busy": "2023-06-05T09:19:24.842025Z",
     "iopub.status.idle": "2023-06-05T09:19:24.850007Z",
     "shell.execute_reply": "2023-06-05T09:19:24.848743Z"
    },
    "papermill": {
     "duration": 0.024864,
     "end_time": "2023-06-05T09:19:24.853048",
     "exception": false,
     "start_time": "2023-06-05T09:19:24.828184",
     "status": "completed"
    },
    "tags": []
   },
   "outputs": [],
   "source": [
    "regions = {\n",
    "    'Mondstadt' : '#98EECC',  \n",
    "    'Liyue' : '#FFD93D', \n",
    "    'Inazuma' : '#80489C', \n",
    "    'Sumeru' : '#54B435',\n",
    "    \"Khaenri'ah\" : '#B799FF', \n",
    "    'Snezhnaya': '#DDE6ED'\n",
    "}\n",
    "\n",
    "visions = {\n",
    "    'Pyro' : '#EC4923',\n",
    "    'Cryo' : '#4682B4',\n",
    "    'Anemo' : '#00BFFF',\n",
    "    'Electro' : '#945dc4',\n",
    "    'Geo' : '#debd6c',\n",
    "    'Hydro' : '#359697',\n",
    "    'Dendro' : '#608a00',\n",
    "    'None' : 'black'\n",
    "}\n"
   ]
  },
  {
   "cell_type": "code",
   "execution_count": 12,
   "id": "0d17cf8d",
   "metadata": {
    "execution": {
     "iopub.execute_input": "2023-06-05T09:19:24.881790Z",
     "iopub.status.busy": "2023-06-05T09:19:24.880850Z",
     "iopub.status.idle": "2023-06-05T09:19:26.903214Z",
     "shell.execute_reply": "2023-06-05T09:19:26.901743Z"
    },
    "papermill": {
     "duration": 2.040444,
     "end_time": "2023-06-05T09:19:26.906962",
     "exception": false,
     "start_time": "2023-06-05T09:19:24.866518",
     "status": "completed"
    },
    "tags": []
   },
   "outputs": [
    {
     "data": {
      "text/html": [
       "        <script type=\"text/javascript\">\n",
       "        window.PlotlyConfig = {MathJaxConfig: 'local'};\n",
       "        if (window.MathJax && window.MathJax.Hub && window.MathJax.Hub.Config) {window.MathJax.Hub.Config({SVG: {font: \"STIX-Web\"}});}\n",
       "        if (typeof require !== 'undefined') {\n",
       "        require.undef(\"plotly\");\n",
       "        requirejs.config({\n",
       "            paths: {\n",
       "                'plotly': ['https://cdn.plot.ly/plotly-2.18.0.min']\n",
       "            }\n",
       "        });\n",
       "        require(['plotly'], function(Plotly) {\n",
       "            window._Plotly = Plotly;\n",
       "        });\n",
       "        }\n",
       "        </script>\n",
       "        "
      ]
     },
     "metadata": {},
     "output_type": "display_data"
    },
    {
     "data": {
      "text/html": [
       "<div>                            <div id=\"3138f084-2364-4288-b412-c90d28dad45a\" class=\"plotly-graph-div\" style=\"height:525px; width:100%;\"></div>            <script type=\"text/javascript\">                require([\"plotly\"], function(Plotly) {                    window.PLOTLYENV=window.PLOTLYENV || {};                                    if (document.getElementById(\"3138f084-2364-4288-b412-c90d28dad45a\")) {                    Plotly.newPlot(                        \"3138f084-2364-4288-b412-c90d28dad45a\",                        [{\"customdata\":[[31],[28]],\"domain\":{\"x\":[0.0,1.0],\"y\":[0.0,1.0]},\"hovertemplate\":\"label=%{label}<br>value=%{value}<br>color=%{customdata[0]}<extra></extra>\",\"labels\":[5.0,4.0],\"legendgroup\":\"\",\"marker\":{\"colors\":[\"#9174a9\",\"#dca454\"]},\"name\":\"\",\"showlegend\":true,\"values\":[31,28],\"type\":\"pie\"}],                        {\"template\":{\"data\":{\"histogram2dcontour\":[{\"type\":\"histogram2dcontour\",\"colorbar\":{\"outlinewidth\":0,\"ticks\":\"\"},\"colorscale\":[[0.0,\"#0d0887\"],[0.1111111111111111,\"#46039f\"],[0.2222222222222222,\"#7201a8\"],[0.3333333333333333,\"#9c179e\"],[0.4444444444444444,\"#bd3786\"],[0.5555555555555556,\"#d8576b\"],[0.6666666666666666,\"#ed7953\"],[0.7777777777777778,\"#fb9f3a\"],[0.8888888888888888,\"#fdca26\"],[1.0,\"#f0f921\"]]}],\"choropleth\":[{\"type\":\"choropleth\",\"colorbar\":{\"outlinewidth\":0,\"ticks\":\"\"}}],\"histogram2d\":[{\"type\":\"histogram2d\",\"colorbar\":{\"outlinewidth\":0,\"ticks\":\"\"},\"colorscale\":[[0.0,\"#0d0887\"],[0.1111111111111111,\"#46039f\"],[0.2222222222222222,\"#7201a8\"],[0.3333333333333333,\"#9c179e\"],[0.4444444444444444,\"#bd3786\"],[0.5555555555555556,\"#d8576b\"],[0.6666666666666666,\"#ed7953\"],[0.7777777777777778,\"#fb9f3a\"],[0.8888888888888888,\"#fdca26\"],[1.0,\"#f0f921\"]]}],\"heatmap\":[{\"type\":\"heatmap\",\"colorbar\":{\"outlinewidth\":0,\"ticks\":\"\"},\"colorscale\":[[0.0,\"#0d0887\"],[0.1111111111111111,\"#46039f\"],[0.2222222222222222,\"#7201a8\"],[0.3333333333333333,\"#9c179e\"],[0.4444444444444444,\"#bd3786\"],[0.5555555555555556,\"#d8576b\"],[0.6666666666666666,\"#ed7953\"],[0.7777777777777778,\"#fb9f3a\"],[0.8888888888888888,\"#fdca26\"],[1.0,\"#f0f921\"]]}],\"heatmapgl\":[{\"type\":\"heatmapgl\",\"colorbar\":{\"outlinewidth\":0,\"ticks\":\"\"},\"colorscale\":[[0.0,\"#0d0887\"],[0.1111111111111111,\"#46039f\"],[0.2222222222222222,\"#7201a8\"],[0.3333333333333333,\"#9c179e\"],[0.4444444444444444,\"#bd3786\"],[0.5555555555555556,\"#d8576b\"],[0.6666666666666666,\"#ed7953\"],[0.7777777777777778,\"#fb9f3a\"],[0.8888888888888888,\"#fdca26\"],[1.0,\"#f0f921\"]]}],\"contourcarpet\":[{\"type\":\"contourcarpet\",\"colorbar\":{\"outlinewidth\":0,\"ticks\":\"\"}}],\"contour\":[{\"type\":\"contour\",\"colorbar\":{\"outlinewidth\":0,\"ticks\":\"\"},\"colorscale\":[[0.0,\"#0d0887\"],[0.1111111111111111,\"#46039f\"],[0.2222222222222222,\"#7201a8\"],[0.3333333333333333,\"#9c179e\"],[0.4444444444444444,\"#bd3786\"],[0.5555555555555556,\"#d8576b\"],[0.6666666666666666,\"#ed7953\"],[0.7777777777777778,\"#fb9f3a\"],[0.8888888888888888,\"#fdca26\"],[1.0,\"#f0f921\"]]}],\"surface\":[{\"type\":\"surface\",\"colorbar\":{\"outlinewidth\":0,\"ticks\":\"\"},\"colorscale\":[[0.0,\"#0d0887\"],[0.1111111111111111,\"#46039f\"],[0.2222222222222222,\"#7201a8\"],[0.3333333333333333,\"#9c179e\"],[0.4444444444444444,\"#bd3786\"],[0.5555555555555556,\"#d8576b\"],[0.6666666666666666,\"#ed7953\"],[0.7777777777777778,\"#fb9f3a\"],[0.8888888888888888,\"#fdca26\"],[1.0,\"#f0f921\"]]}],\"mesh3d\":[{\"type\":\"mesh3d\",\"colorbar\":{\"outlinewidth\":0,\"ticks\":\"\"}}],\"scatter\":[{\"fillpattern\":{\"fillmode\":\"overlay\",\"size\":10,\"solidity\":0.2},\"type\":\"scatter\"}],\"parcoords\":[{\"type\":\"parcoords\",\"line\":{\"colorbar\":{\"outlinewidth\":0,\"ticks\":\"\"}}}],\"scatterpolargl\":[{\"type\":\"scatterpolargl\",\"marker\":{\"colorbar\":{\"outlinewidth\":0,\"ticks\":\"\"}}}],\"bar\":[{\"error_x\":{\"color\":\"#2a3f5f\"},\"error_y\":{\"color\":\"#2a3f5f\"},\"marker\":{\"line\":{\"color\":\"#E5ECF6\",\"width\":0.5},\"pattern\":{\"fillmode\":\"overlay\",\"size\":10,\"solidity\":0.2}},\"type\":\"bar\"}],\"scattergeo\":[{\"type\":\"scattergeo\",\"marker\":{\"colorbar\":{\"outlinewidth\":0,\"ticks\":\"\"}}}],\"scatterpolar\":[{\"type\":\"scatterpolar\",\"marker\":{\"colorbar\":{\"outlinewidth\":0,\"ticks\":\"\"}}}],\"histogram\":[{\"marker\":{\"pattern\":{\"fillmode\":\"overlay\",\"size\":10,\"solidity\":0.2}},\"type\":\"histogram\"}],\"scattergl\":[{\"type\":\"scattergl\",\"marker\":{\"colorbar\":{\"outlinewidth\":0,\"ticks\":\"\"}}}],\"scatter3d\":[{\"type\":\"scatter3d\",\"line\":{\"colorbar\":{\"outlinewidth\":0,\"ticks\":\"\"}},\"marker\":{\"colorbar\":{\"outlinewidth\":0,\"ticks\":\"\"}}}],\"scattermapbox\":[{\"type\":\"scattermapbox\",\"marker\":{\"colorbar\":{\"outlinewidth\":0,\"ticks\":\"\"}}}],\"scatterternary\":[{\"type\":\"scatterternary\",\"marker\":{\"colorbar\":{\"outlinewidth\":0,\"ticks\":\"\"}}}],\"scattercarpet\":[{\"type\":\"scattercarpet\",\"marker\":{\"colorbar\":{\"outlinewidth\":0,\"ticks\":\"\"}}}],\"carpet\":[{\"aaxis\":{\"endlinecolor\":\"#2a3f5f\",\"gridcolor\":\"white\",\"linecolor\":\"white\",\"minorgridcolor\":\"white\",\"startlinecolor\":\"#2a3f5f\"},\"baxis\":{\"endlinecolor\":\"#2a3f5f\",\"gridcolor\":\"white\",\"linecolor\":\"white\",\"minorgridcolor\":\"white\",\"startlinecolor\":\"#2a3f5f\"},\"type\":\"carpet\"}],\"table\":[{\"cells\":{\"fill\":{\"color\":\"#EBF0F8\"},\"line\":{\"color\":\"white\"}},\"header\":{\"fill\":{\"color\":\"#C8D4E3\"},\"line\":{\"color\":\"white\"}},\"type\":\"table\"}],\"barpolar\":[{\"marker\":{\"line\":{\"color\":\"#E5ECF6\",\"width\":0.5},\"pattern\":{\"fillmode\":\"overlay\",\"size\":10,\"solidity\":0.2}},\"type\":\"barpolar\"}],\"pie\":[{\"automargin\":true,\"type\":\"pie\"}]},\"layout\":{\"autotypenumbers\":\"strict\",\"colorway\":[\"#636efa\",\"#EF553B\",\"#00cc96\",\"#ab63fa\",\"#FFA15A\",\"#19d3f3\",\"#FF6692\",\"#B6E880\",\"#FF97FF\",\"#FECB52\"],\"font\":{\"color\":\"#2a3f5f\"},\"hovermode\":\"closest\",\"hoverlabel\":{\"align\":\"left\"},\"paper_bgcolor\":\"white\",\"plot_bgcolor\":\"#E5ECF6\",\"polar\":{\"bgcolor\":\"#E5ECF6\",\"angularaxis\":{\"gridcolor\":\"white\",\"linecolor\":\"white\",\"ticks\":\"\"},\"radialaxis\":{\"gridcolor\":\"white\",\"linecolor\":\"white\",\"ticks\":\"\"}},\"ternary\":{\"bgcolor\":\"#E5ECF6\",\"aaxis\":{\"gridcolor\":\"white\",\"linecolor\":\"white\",\"ticks\":\"\"},\"baxis\":{\"gridcolor\":\"white\",\"linecolor\":\"white\",\"ticks\":\"\"},\"caxis\":{\"gridcolor\":\"white\",\"linecolor\":\"white\",\"ticks\":\"\"}},\"coloraxis\":{\"colorbar\":{\"outlinewidth\":0,\"ticks\":\"\"}},\"colorscale\":{\"sequential\":[[0.0,\"#0d0887\"],[0.1111111111111111,\"#46039f\"],[0.2222222222222222,\"#7201a8\"],[0.3333333333333333,\"#9c179e\"],[0.4444444444444444,\"#bd3786\"],[0.5555555555555556,\"#d8576b\"],[0.6666666666666666,\"#ed7953\"],[0.7777777777777778,\"#fb9f3a\"],[0.8888888888888888,\"#fdca26\"],[1.0,\"#f0f921\"]],\"sequentialminus\":[[0.0,\"#0d0887\"],[0.1111111111111111,\"#46039f\"],[0.2222222222222222,\"#7201a8\"],[0.3333333333333333,\"#9c179e\"],[0.4444444444444444,\"#bd3786\"],[0.5555555555555556,\"#d8576b\"],[0.6666666666666666,\"#ed7953\"],[0.7777777777777778,\"#fb9f3a\"],[0.8888888888888888,\"#fdca26\"],[1.0,\"#f0f921\"]],\"diverging\":[[0,\"#8e0152\"],[0.1,\"#c51b7d\"],[0.2,\"#de77ae\"],[0.3,\"#f1b6da\"],[0.4,\"#fde0ef\"],[0.5,\"#f7f7f7\"],[0.6,\"#e6f5d0\"],[0.7,\"#b8e186\"],[0.8,\"#7fbc41\"],[0.9,\"#4d9221\"],[1,\"#276419\"]]},\"xaxis\":{\"gridcolor\":\"white\",\"linecolor\":\"white\",\"ticks\":\"\",\"title\":{\"standoff\":15},\"zerolinecolor\":\"white\",\"automargin\":true,\"zerolinewidth\":2},\"yaxis\":{\"gridcolor\":\"white\",\"linecolor\":\"white\",\"ticks\":\"\",\"title\":{\"standoff\":15},\"zerolinecolor\":\"white\",\"automargin\":true,\"zerolinewidth\":2},\"scene\":{\"xaxis\":{\"backgroundcolor\":\"#E5ECF6\",\"gridcolor\":\"white\",\"linecolor\":\"white\",\"showbackground\":true,\"ticks\":\"\",\"zerolinecolor\":\"white\",\"gridwidth\":2},\"yaxis\":{\"backgroundcolor\":\"#E5ECF6\",\"gridcolor\":\"white\",\"linecolor\":\"white\",\"showbackground\":true,\"ticks\":\"\",\"zerolinecolor\":\"white\",\"gridwidth\":2},\"zaxis\":{\"backgroundcolor\":\"#E5ECF6\",\"gridcolor\":\"white\",\"linecolor\":\"white\",\"showbackground\":true,\"ticks\":\"\",\"zerolinecolor\":\"white\",\"gridwidth\":2}},\"shapedefaults\":{\"line\":{\"color\":\"#2a3f5f\"}},\"annotationdefaults\":{\"arrowcolor\":\"#2a3f5f\",\"arrowhead\":0,\"arrowwidth\":1},\"geo\":{\"bgcolor\":\"white\",\"landcolor\":\"#E5ECF6\",\"subunitcolor\":\"white\",\"showland\":true,\"showlakes\":true,\"lakecolor\":\"white\"},\"title\":{\"x\":0.05},\"mapbox\":{\"style\":\"light\"}}},\"legend\":{\"tracegroupgap\":0},\"margin\":{\"t\":60}},                        {\"responsive\": true}                    ).then(function(){\n",
       "                            \n",
       "var gd = document.getElementById('3138f084-2364-4288-b412-c90d28dad45a');\n",
       "var x = new MutationObserver(function (mutations, observer) {{\n",
       "        var display = window.getComputedStyle(gd).display;\n",
       "        if (!display || display === 'none') {{\n",
       "            console.log([gd, 'removed!']);\n",
       "            Plotly.purge(gd);\n",
       "            observer.disconnect();\n",
       "        }}\n",
       "}});\n",
       "\n",
       "// Listen for the removal of the full notebook cells\n",
       "var notebookContainer = gd.closest('#notebook-container');\n",
       "if (notebookContainer) {{\n",
       "    x.observe(notebookContainer, {childList: true});\n",
       "}}\n",
       "\n",
       "// Listen for the clearing of the current output cell\n",
       "var outputEl = gd.closest('.output');\n",
       "if (outputEl) {{\n",
       "    x.observe(outputEl, {childList: true});\n",
       "}}\n",
       "\n",
       "                        })                };                });            </script>        </div>"
      ]
     },
     "metadata": {},
     "output_type": "display_data"
    }
   ],
   "source": [
    "px.pie(\n",
    "    data_frame=df[\"rarity\"].value_counts(),\n",
    "    names=df[\"rarity\"].value_counts().index,\n",
    "    values=df[\"rarity\"].value_counts().values,\n",
    "    color=df[\"rarity\"].value_counts().values,\n",
    "    color_discrete_map={31: \"#9174a9\", 28: \"#dca454\"},\n",
    ")"
   ]
  },
  {
   "cell_type": "code",
   "execution_count": 13,
   "id": "aa13650c",
   "metadata": {
    "execution": {
     "iopub.execute_input": "2023-06-05T09:19:26.937385Z",
     "iopub.status.busy": "2023-06-05T09:19:26.935987Z",
     "iopub.status.idle": "2023-06-05T09:19:27.006177Z",
     "shell.execute_reply": "2023-06-05T09:19:27.004750Z"
    },
    "papermill": {
     "duration": 0.089569,
     "end_time": "2023-06-05T09:19:27.009862",
     "exception": false,
     "start_time": "2023-06-05T09:19:26.920293",
     "status": "completed"
    },
    "tags": []
   },
   "outputs": [
    {
     "data": {
      "text/html": [
       "<div>                            <div id=\"079cfed7-e964-4563-808c-41a32d77785d\" class=\"plotly-graph-div\" style=\"height:525px; width:100%;\"></div>            <script type=\"text/javascript\">                require([\"plotly\"], function(Plotly) {                    window.PLOTLYENV=window.PLOTLYENV || {};                                    if (document.getElementById(\"079cfed7-e964-4563-808c-41a32d77785d\")) {                    Plotly.newPlot(                        \"079cfed7-e964-4563-808c-41a32d77785d\",                        [{\"customdata\":[[\"Mondstadt\"],[\"Liyue\"],[\"Inazuma\"],[\"Sumeru\"],[\"Khaenri'ah\"],[\"Snezhnaya\"]],\"domain\":{\"x\":[0.0,1.0],\"y\":[0.0,1.0]},\"hovertemplate\":\"label=%{label}<br>value=%{value}<br>color=%{customdata[0]}<extra></extra>\",\"labels\":[\"Mondstadt\",\"Liyue\",\"Inazuma\",\"Sumeru\",\"Khaenri'ah\",\"Snezhnaya\"],\"legendgroup\":\"\",\"marker\":{\"colors\":[\"#98EECC\",\"#FFD93D\",\"#80489C\",\"#54B435\",\"#B799FF\",\"#DDE6ED\"]},\"name\":\"\",\"showlegend\":true,\"values\":[18,17,14,9,1,1],\"type\":\"pie\"}],                        {\"template\":{\"data\":{\"histogram2dcontour\":[{\"type\":\"histogram2dcontour\",\"colorbar\":{\"outlinewidth\":0,\"ticks\":\"\"},\"colorscale\":[[0.0,\"#0d0887\"],[0.1111111111111111,\"#46039f\"],[0.2222222222222222,\"#7201a8\"],[0.3333333333333333,\"#9c179e\"],[0.4444444444444444,\"#bd3786\"],[0.5555555555555556,\"#d8576b\"],[0.6666666666666666,\"#ed7953\"],[0.7777777777777778,\"#fb9f3a\"],[0.8888888888888888,\"#fdca26\"],[1.0,\"#f0f921\"]]}],\"choropleth\":[{\"type\":\"choropleth\",\"colorbar\":{\"outlinewidth\":0,\"ticks\":\"\"}}],\"histogram2d\":[{\"type\":\"histogram2d\",\"colorbar\":{\"outlinewidth\":0,\"ticks\":\"\"},\"colorscale\":[[0.0,\"#0d0887\"],[0.1111111111111111,\"#46039f\"],[0.2222222222222222,\"#7201a8\"],[0.3333333333333333,\"#9c179e\"],[0.4444444444444444,\"#bd3786\"],[0.5555555555555556,\"#d8576b\"],[0.6666666666666666,\"#ed7953\"],[0.7777777777777778,\"#fb9f3a\"],[0.8888888888888888,\"#fdca26\"],[1.0,\"#f0f921\"]]}],\"heatmap\":[{\"type\":\"heatmap\",\"colorbar\":{\"outlinewidth\":0,\"ticks\":\"\"},\"colorscale\":[[0.0,\"#0d0887\"],[0.1111111111111111,\"#46039f\"],[0.2222222222222222,\"#7201a8\"],[0.3333333333333333,\"#9c179e\"],[0.4444444444444444,\"#bd3786\"],[0.5555555555555556,\"#d8576b\"],[0.6666666666666666,\"#ed7953\"],[0.7777777777777778,\"#fb9f3a\"],[0.8888888888888888,\"#fdca26\"],[1.0,\"#f0f921\"]]}],\"heatmapgl\":[{\"type\":\"heatmapgl\",\"colorbar\":{\"outlinewidth\":0,\"ticks\":\"\"},\"colorscale\":[[0.0,\"#0d0887\"],[0.1111111111111111,\"#46039f\"],[0.2222222222222222,\"#7201a8\"],[0.3333333333333333,\"#9c179e\"],[0.4444444444444444,\"#bd3786\"],[0.5555555555555556,\"#d8576b\"],[0.6666666666666666,\"#ed7953\"],[0.7777777777777778,\"#fb9f3a\"],[0.8888888888888888,\"#fdca26\"],[1.0,\"#f0f921\"]]}],\"contourcarpet\":[{\"type\":\"contourcarpet\",\"colorbar\":{\"outlinewidth\":0,\"ticks\":\"\"}}],\"contour\":[{\"type\":\"contour\",\"colorbar\":{\"outlinewidth\":0,\"ticks\":\"\"},\"colorscale\":[[0.0,\"#0d0887\"],[0.1111111111111111,\"#46039f\"],[0.2222222222222222,\"#7201a8\"],[0.3333333333333333,\"#9c179e\"],[0.4444444444444444,\"#bd3786\"],[0.5555555555555556,\"#d8576b\"],[0.6666666666666666,\"#ed7953\"],[0.7777777777777778,\"#fb9f3a\"],[0.8888888888888888,\"#fdca26\"],[1.0,\"#f0f921\"]]}],\"surface\":[{\"type\":\"surface\",\"colorbar\":{\"outlinewidth\":0,\"ticks\":\"\"},\"colorscale\":[[0.0,\"#0d0887\"],[0.1111111111111111,\"#46039f\"],[0.2222222222222222,\"#7201a8\"],[0.3333333333333333,\"#9c179e\"],[0.4444444444444444,\"#bd3786\"],[0.5555555555555556,\"#d8576b\"],[0.6666666666666666,\"#ed7953\"],[0.7777777777777778,\"#fb9f3a\"],[0.8888888888888888,\"#fdca26\"],[1.0,\"#f0f921\"]]}],\"mesh3d\":[{\"type\":\"mesh3d\",\"colorbar\":{\"outlinewidth\":0,\"ticks\":\"\"}}],\"scatter\":[{\"fillpattern\":{\"fillmode\":\"overlay\",\"size\":10,\"solidity\":0.2},\"type\":\"scatter\"}],\"parcoords\":[{\"type\":\"parcoords\",\"line\":{\"colorbar\":{\"outlinewidth\":0,\"ticks\":\"\"}}}],\"scatterpolargl\":[{\"type\":\"scatterpolargl\",\"marker\":{\"colorbar\":{\"outlinewidth\":0,\"ticks\":\"\"}}}],\"bar\":[{\"error_x\":{\"color\":\"#2a3f5f\"},\"error_y\":{\"color\":\"#2a3f5f\"},\"marker\":{\"line\":{\"color\":\"#E5ECF6\",\"width\":0.5},\"pattern\":{\"fillmode\":\"overlay\",\"size\":10,\"solidity\":0.2}},\"type\":\"bar\"}],\"scattergeo\":[{\"type\":\"scattergeo\",\"marker\":{\"colorbar\":{\"outlinewidth\":0,\"ticks\":\"\"}}}],\"scatterpolar\":[{\"type\":\"scatterpolar\",\"marker\":{\"colorbar\":{\"outlinewidth\":0,\"ticks\":\"\"}}}],\"histogram\":[{\"marker\":{\"pattern\":{\"fillmode\":\"overlay\",\"size\":10,\"solidity\":0.2}},\"type\":\"histogram\"}],\"scattergl\":[{\"type\":\"scattergl\",\"marker\":{\"colorbar\":{\"outlinewidth\":0,\"ticks\":\"\"}}}],\"scatter3d\":[{\"type\":\"scatter3d\",\"line\":{\"colorbar\":{\"outlinewidth\":0,\"ticks\":\"\"}},\"marker\":{\"colorbar\":{\"outlinewidth\":0,\"ticks\":\"\"}}}],\"scattermapbox\":[{\"type\":\"scattermapbox\",\"marker\":{\"colorbar\":{\"outlinewidth\":0,\"ticks\":\"\"}}}],\"scatterternary\":[{\"type\":\"scatterternary\",\"marker\":{\"colorbar\":{\"outlinewidth\":0,\"ticks\":\"\"}}}],\"scattercarpet\":[{\"type\":\"scattercarpet\",\"marker\":{\"colorbar\":{\"outlinewidth\":0,\"ticks\":\"\"}}}],\"carpet\":[{\"aaxis\":{\"endlinecolor\":\"#2a3f5f\",\"gridcolor\":\"white\",\"linecolor\":\"white\",\"minorgridcolor\":\"white\",\"startlinecolor\":\"#2a3f5f\"},\"baxis\":{\"endlinecolor\":\"#2a3f5f\",\"gridcolor\":\"white\",\"linecolor\":\"white\",\"minorgridcolor\":\"white\",\"startlinecolor\":\"#2a3f5f\"},\"type\":\"carpet\"}],\"table\":[{\"cells\":{\"fill\":{\"color\":\"#EBF0F8\"},\"line\":{\"color\":\"white\"}},\"header\":{\"fill\":{\"color\":\"#C8D4E3\"},\"line\":{\"color\":\"white\"}},\"type\":\"table\"}],\"barpolar\":[{\"marker\":{\"line\":{\"color\":\"#E5ECF6\",\"width\":0.5},\"pattern\":{\"fillmode\":\"overlay\",\"size\":10,\"solidity\":0.2}},\"type\":\"barpolar\"}],\"pie\":[{\"automargin\":true,\"type\":\"pie\"}]},\"layout\":{\"autotypenumbers\":\"strict\",\"colorway\":[\"#636efa\",\"#EF553B\",\"#00cc96\",\"#ab63fa\",\"#FFA15A\",\"#19d3f3\",\"#FF6692\",\"#B6E880\",\"#FF97FF\",\"#FECB52\"],\"font\":{\"color\":\"#2a3f5f\"},\"hovermode\":\"closest\",\"hoverlabel\":{\"align\":\"left\"},\"paper_bgcolor\":\"white\",\"plot_bgcolor\":\"#E5ECF6\",\"polar\":{\"bgcolor\":\"#E5ECF6\",\"angularaxis\":{\"gridcolor\":\"white\",\"linecolor\":\"white\",\"ticks\":\"\"},\"radialaxis\":{\"gridcolor\":\"white\",\"linecolor\":\"white\",\"ticks\":\"\"}},\"ternary\":{\"bgcolor\":\"#E5ECF6\",\"aaxis\":{\"gridcolor\":\"white\",\"linecolor\":\"white\",\"ticks\":\"\"},\"baxis\":{\"gridcolor\":\"white\",\"linecolor\":\"white\",\"ticks\":\"\"},\"caxis\":{\"gridcolor\":\"white\",\"linecolor\":\"white\",\"ticks\":\"\"}},\"coloraxis\":{\"colorbar\":{\"outlinewidth\":0,\"ticks\":\"\"}},\"colorscale\":{\"sequential\":[[0.0,\"#0d0887\"],[0.1111111111111111,\"#46039f\"],[0.2222222222222222,\"#7201a8\"],[0.3333333333333333,\"#9c179e\"],[0.4444444444444444,\"#bd3786\"],[0.5555555555555556,\"#d8576b\"],[0.6666666666666666,\"#ed7953\"],[0.7777777777777778,\"#fb9f3a\"],[0.8888888888888888,\"#fdca26\"],[1.0,\"#f0f921\"]],\"sequentialminus\":[[0.0,\"#0d0887\"],[0.1111111111111111,\"#46039f\"],[0.2222222222222222,\"#7201a8\"],[0.3333333333333333,\"#9c179e\"],[0.4444444444444444,\"#bd3786\"],[0.5555555555555556,\"#d8576b\"],[0.6666666666666666,\"#ed7953\"],[0.7777777777777778,\"#fb9f3a\"],[0.8888888888888888,\"#fdca26\"],[1.0,\"#f0f921\"]],\"diverging\":[[0,\"#8e0152\"],[0.1,\"#c51b7d\"],[0.2,\"#de77ae\"],[0.3,\"#f1b6da\"],[0.4,\"#fde0ef\"],[0.5,\"#f7f7f7\"],[0.6,\"#e6f5d0\"],[0.7,\"#b8e186\"],[0.8,\"#7fbc41\"],[0.9,\"#4d9221\"],[1,\"#276419\"]]},\"xaxis\":{\"gridcolor\":\"white\",\"linecolor\":\"white\",\"ticks\":\"\",\"title\":{\"standoff\":15},\"zerolinecolor\":\"white\",\"automargin\":true,\"zerolinewidth\":2},\"yaxis\":{\"gridcolor\":\"white\",\"linecolor\":\"white\",\"ticks\":\"\",\"title\":{\"standoff\":15},\"zerolinecolor\":\"white\",\"automargin\":true,\"zerolinewidth\":2},\"scene\":{\"xaxis\":{\"backgroundcolor\":\"#E5ECF6\",\"gridcolor\":\"white\",\"linecolor\":\"white\",\"showbackground\":true,\"ticks\":\"\",\"zerolinecolor\":\"white\",\"gridwidth\":2},\"yaxis\":{\"backgroundcolor\":\"#E5ECF6\",\"gridcolor\":\"white\",\"linecolor\":\"white\",\"showbackground\":true,\"ticks\":\"\",\"zerolinecolor\":\"white\",\"gridwidth\":2},\"zaxis\":{\"backgroundcolor\":\"#E5ECF6\",\"gridcolor\":\"white\",\"linecolor\":\"white\",\"showbackground\":true,\"ticks\":\"\",\"zerolinecolor\":\"white\",\"gridwidth\":2}},\"shapedefaults\":{\"line\":{\"color\":\"#2a3f5f\"}},\"annotationdefaults\":{\"arrowcolor\":\"#2a3f5f\",\"arrowhead\":0,\"arrowwidth\":1},\"geo\":{\"bgcolor\":\"white\",\"landcolor\":\"#E5ECF6\",\"subunitcolor\":\"white\",\"showland\":true,\"showlakes\":true,\"lakecolor\":\"white\"},\"title\":{\"x\":0.05},\"mapbox\":{\"style\":\"light\"}}},\"legend\":{\"tracegroupgap\":0},\"margin\":{\"t\":60}},                        {\"responsive\": true}                    ).then(function(){\n",
       "                            \n",
       "var gd = document.getElementById('079cfed7-e964-4563-808c-41a32d77785d');\n",
       "var x = new MutationObserver(function (mutations, observer) {{\n",
       "        var display = window.getComputedStyle(gd).display;\n",
       "        if (!display || display === 'none') {{\n",
       "            console.log([gd, 'removed!']);\n",
       "            Plotly.purge(gd);\n",
       "            observer.disconnect();\n",
       "        }}\n",
       "}});\n",
       "\n",
       "// Listen for the removal of the full notebook cells\n",
       "var notebookContainer = gd.closest('#notebook-container');\n",
       "if (notebookContainer) {{\n",
       "    x.observe(notebookContainer, {childList: true});\n",
       "}}\n",
       "\n",
       "// Listen for the clearing of the current output cell\n",
       "var outputEl = gd.closest('.output');\n",
       "if (outputEl) {{\n",
       "    x.observe(outputEl, {childList: true});\n",
       "}}\n",
       "\n",
       "                        })                };                });            </script>        </div>"
      ]
     },
     "metadata": {},
     "output_type": "display_data"
    }
   ],
   "source": [
    "px.pie(\n",
    "    data_frame=df[\"region\"].value_counts(),\n",
    "    names=df[\"region\"].value_counts().index,\n",
    "    values=df[\"region\"].value_counts().values,\n",
    "    color=df[\"region\"].value_counts().index,\n",
    "    color_discrete_map=regions,\n",
    ")"
   ]
  },
  {
   "cell_type": "code",
   "execution_count": 14,
   "id": "5ae659ea",
   "metadata": {
    "execution": {
     "iopub.execute_input": "2023-06-05T09:19:27.038926Z",
     "iopub.status.busy": "2023-06-05T09:19:27.038431Z",
     "iopub.status.idle": "2023-06-05T09:19:27.107950Z",
     "shell.execute_reply": "2023-06-05T09:19:27.106721Z"
    },
    "papermill": {
     "duration": 0.087553,
     "end_time": "2023-06-05T09:19:27.110787",
     "exception": false,
     "start_time": "2023-06-05T09:19:27.023234",
     "status": "completed"
    },
    "tags": []
   },
   "outputs": [
    {
     "data": {
      "text/html": [
       "<div>                            <div id=\"9a279428-dddd-49a4-92cb-42f12bb4ca57\" class=\"plotly-graph-div\" style=\"height:525px; width:100%;\"></div>            <script type=\"text/javascript\">                require([\"plotly\"], function(Plotly) {                    window.PLOTLYENV=window.PLOTLYENV || {};                                    if (document.getElementById(\"9a279428-dddd-49a4-92cb-42f12bb4ca57\")) {                    Plotly.newPlot(                        \"9a279428-dddd-49a4-92cb-42f12bb4ca57\",                        [{\"customdata\":[[\"Pyro\"],[\"Electro\"],[\"Cryo\"],[\"Hydro\"],[\"Geo\"],[\"Anemo\"],[\"Dendro\"],[\"None\"],[\"Unknown\"]],\"domain\":{\"x\":[0.0,1.0],\"y\":[0.0,1.0]},\"hole\":0.35,\"hovertemplate\":\"label=%{label}<br>value=%{value}<br>color=%{customdata[0]}<extra></extra>\",\"labels\":[\"Pyro\",\"Electro\",\"Cryo\",\"Hydro\",\"Geo\",\"Anemo\",\"Dendro\",\"None\",\"Unknown\"],\"legendgroup\":\"\",\"marker\":{\"colors\":[\"#EC4923\",\"#945dc4\",\"#4682B4\",\"#359697\",\"#debd6c\",\"#00BFFF\",\"#608a00\",\"black\",\"#FF97FF\"]},\"name\":\"\",\"showlegend\":true,\"values\":[11,11,10,9,7,7,5,2,1],\"type\":\"pie\"}],                        {\"template\":{\"data\":{\"histogram2dcontour\":[{\"type\":\"histogram2dcontour\",\"colorbar\":{\"outlinewidth\":0,\"ticks\":\"\"},\"colorscale\":[[0.0,\"#0d0887\"],[0.1111111111111111,\"#46039f\"],[0.2222222222222222,\"#7201a8\"],[0.3333333333333333,\"#9c179e\"],[0.4444444444444444,\"#bd3786\"],[0.5555555555555556,\"#d8576b\"],[0.6666666666666666,\"#ed7953\"],[0.7777777777777778,\"#fb9f3a\"],[0.8888888888888888,\"#fdca26\"],[1.0,\"#f0f921\"]]}],\"choropleth\":[{\"type\":\"choropleth\",\"colorbar\":{\"outlinewidth\":0,\"ticks\":\"\"}}],\"histogram2d\":[{\"type\":\"histogram2d\",\"colorbar\":{\"outlinewidth\":0,\"ticks\":\"\"},\"colorscale\":[[0.0,\"#0d0887\"],[0.1111111111111111,\"#46039f\"],[0.2222222222222222,\"#7201a8\"],[0.3333333333333333,\"#9c179e\"],[0.4444444444444444,\"#bd3786\"],[0.5555555555555556,\"#d8576b\"],[0.6666666666666666,\"#ed7953\"],[0.7777777777777778,\"#fb9f3a\"],[0.8888888888888888,\"#fdca26\"],[1.0,\"#f0f921\"]]}],\"heatmap\":[{\"type\":\"heatmap\",\"colorbar\":{\"outlinewidth\":0,\"ticks\":\"\"},\"colorscale\":[[0.0,\"#0d0887\"],[0.1111111111111111,\"#46039f\"],[0.2222222222222222,\"#7201a8\"],[0.3333333333333333,\"#9c179e\"],[0.4444444444444444,\"#bd3786\"],[0.5555555555555556,\"#d8576b\"],[0.6666666666666666,\"#ed7953\"],[0.7777777777777778,\"#fb9f3a\"],[0.8888888888888888,\"#fdca26\"],[1.0,\"#f0f921\"]]}],\"heatmapgl\":[{\"type\":\"heatmapgl\",\"colorbar\":{\"outlinewidth\":0,\"ticks\":\"\"},\"colorscale\":[[0.0,\"#0d0887\"],[0.1111111111111111,\"#46039f\"],[0.2222222222222222,\"#7201a8\"],[0.3333333333333333,\"#9c179e\"],[0.4444444444444444,\"#bd3786\"],[0.5555555555555556,\"#d8576b\"],[0.6666666666666666,\"#ed7953\"],[0.7777777777777778,\"#fb9f3a\"],[0.8888888888888888,\"#fdca26\"],[1.0,\"#f0f921\"]]}],\"contourcarpet\":[{\"type\":\"contourcarpet\",\"colorbar\":{\"outlinewidth\":0,\"ticks\":\"\"}}],\"contour\":[{\"type\":\"contour\",\"colorbar\":{\"outlinewidth\":0,\"ticks\":\"\"},\"colorscale\":[[0.0,\"#0d0887\"],[0.1111111111111111,\"#46039f\"],[0.2222222222222222,\"#7201a8\"],[0.3333333333333333,\"#9c179e\"],[0.4444444444444444,\"#bd3786\"],[0.5555555555555556,\"#d8576b\"],[0.6666666666666666,\"#ed7953\"],[0.7777777777777778,\"#fb9f3a\"],[0.8888888888888888,\"#fdca26\"],[1.0,\"#f0f921\"]]}],\"surface\":[{\"type\":\"surface\",\"colorbar\":{\"outlinewidth\":0,\"ticks\":\"\"},\"colorscale\":[[0.0,\"#0d0887\"],[0.1111111111111111,\"#46039f\"],[0.2222222222222222,\"#7201a8\"],[0.3333333333333333,\"#9c179e\"],[0.4444444444444444,\"#bd3786\"],[0.5555555555555556,\"#d8576b\"],[0.6666666666666666,\"#ed7953\"],[0.7777777777777778,\"#fb9f3a\"],[0.8888888888888888,\"#fdca26\"],[1.0,\"#f0f921\"]]}],\"mesh3d\":[{\"type\":\"mesh3d\",\"colorbar\":{\"outlinewidth\":0,\"ticks\":\"\"}}],\"scatter\":[{\"fillpattern\":{\"fillmode\":\"overlay\",\"size\":10,\"solidity\":0.2},\"type\":\"scatter\"}],\"parcoords\":[{\"type\":\"parcoords\",\"line\":{\"colorbar\":{\"outlinewidth\":0,\"ticks\":\"\"}}}],\"scatterpolargl\":[{\"type\":\"scatterpolargl\",\"marker\":{\"colorbar\":{\"outlinewidth\":0,\"ticks\":\"\"}}}],\"bar\":[{\"error_x\":{\"color\":\"#2a3f5f\"},\"error_y\":{\"color\":\"#2a3f5f\"},\"marker\":{\"line\":{\"color\":\"#E5ECF6\",\"width\":0.5},\"pattern\":{\"fillmode\":\"overlay\",\"size\":10,\"solidity\":0.2}},\"type\":\"bar\"}],\"scattergeo\":[{\"type\":\"scattergeo\",\"marker\":{\"colorbar\":{\"outlinewidth\":0,\"ticks\":\"\"}}}],\"scatterpolar\":[{\"type\":\"scatterpolar\",\"marker\":{\"colorbar\":{\"outlinewidth\":0,\"ticks\":\"\"}}}],\"histogram\":[{\"marker\":{\"pattern\":{\"fillmode\":\"overlay\",\"size\":10,\"solidity\":0.2}},\"type\":\"histogram\"}],\"scattergl\":[{\"type\":\"scattergl\",\"marker\":{\"colorbar\":{\"outlinewidth\":0,\"ticks\":\"\"}}}],\"scatter3d\":[{\"type\":\"scatter3d\",\"line\":{\"colorbar\":{\"outlinewidth\":0,\"ticks\":\"\"}},\"marker\":{\"colorbar\":{\"outlinewidth\":0,\"ticks\":\"\"}}}],\"scattermapbox\":[{\"type\":\"scattermapbox\",\"marker\":{\"colorbar\":{\"outlinewidth\":0,\"ticks\":\"\"}}}],\"scatterternary\":[{\"type\":\"scatterternary\",\"marker\":{\"colorbar\":{\"outlinewidth\":0,\"ticks\":\"\"}}}],\"scattercarpet\":[{\"type\":\"scattercarpet\",\"marker\":{\"colorbar\":{\"outlinewidth\":0,\"ticks\":\"\"}}}],\"carpet\":[{\"aaxis\":{\"endlinecolor\":\"#2a3f5f\",\"gridcolor\":\"white\",\"linecolor\":\"white\",\"minorgridcolor\":\"white\",\"startlinecolor\":\"#2a3f5f\"},\"baxis\":{\"endlinecolor\":\"#2a3f5f\",\"gridcolor\":\"white\",\"linecolor\":\"white\",\"minorgridcolor\":\"white\",\"startlinecolor\":\"#2a3f5f\"},\"type\":\"carpet\"}],\"table\":[{\"cells\":{\"fill\":{\"color\":\"#EBF0F8\"},\"line\":{\"color\":\"white\"}},\"header\":{\"fill\":{\"color\":\"#C8D4E3\"},\"line\":{\"color\":\"white\"}},\"type\":\"table\"}],\"barpolar\":[{\"marker\":{\"line\":{\"color\":\"#E5ECF6\",\"width\":0.5},\"pattern\":{\"fillmode\":\"overlay\",\"size\":10,\"solidity\":0.2}},\"type\":\"barpolar\"}],\"pie\":[{\"automargin\":true,\"type\":\"pie\"}]},\"layout\":{\"autotypenumbers\":\"strict\",\"colorway\":[\"#636efa\",\"#EF553B\",\"#00cc96\",\"#ab63fa\",\"#FFA15A\",\"#19d3f3\",\"#FF6692\",\"#B6E880\",\"#FF97FF\",\"#FECB52\"],\"font\":{\"color\":\"#2a3f5f\"},\"hovermode\":\"closest\",\"hoverlabel\":{\"align\":\"left\"},\"paper_bgcolor\":\"white\",\"plot_bgcolor\":\"#E5ECF6\",\"polar\":{\"bgcolor\":\"#E5ECF6\",\"angularaxis\":{\"gridcolor\":\"white\",\"linecolor\":\"white\",\"ticks\":\"\"},\"radialaxis\":{\"gridcolor\":\"white\",\"linecolor\":\"white\",\"ticks\":\"\"}},\"ternary\":{\"bgcolor\":\"#E5ECF6\",\"aaxis\":{\"gridcolor\":\"white\",\"linecolor\":\"white\",\"ticks\":\"\"},\"baxis\":{\"gridcolor\":\"white\",\"linecolor\":\"white\",\"ticks\":\"\"},\"caxis\":{\"gridcolor\":\"white\",\"linecolor\":\"white\",\"ticks\":\"\"}},\"coloraxis\":{\"colorbar\":{\"outlinewidth\":0,\"ticks\":\"\"}},\"colorscale\":{\"sequential\":[[0.0,\"#0d0887\"],[0.1111111111111111,\"#46039f\"],[0.2222222222222222,\"#7201a8\"],[0.3333333333333333,\"#9c179e\"],[0.4444444444444444,\"#bd3786\"],[0.5555555555555556,\"#d8576b\"],[0.6666666666666666,\"#ed7953\"],[0.7777777777777778,\"#fb9f3a\"],[0.8888888888888888,\"#fdca26\"],[1.0,\"#f0f921\"]],\"sequentialminus\":[[0.0,\"#0d0887\"],[0.1111111111111111,\"#46039f\"],[0.2222222222222222,\"#7201a8\"],[0.3333333333333333,\"#9c179e\"],[0.4444444444444444,\"#bd3786\"],[0.5555555555555556,\"#d8576b\"],[0.6666666666666666,\"#ed7953\"],[0.7777777777777778,\"#fb9f3a\"],[0.8888888888888888,\"#fdca26\"],[1.0,\"#f0f921\"]],\"diverging\":[[0,\"#8e0152\"],[0.1,\"#c51b7d\"],[0.2,\"#de77ae\"],[0.3,\"#f1b6da\"],[0.4,\"#fde0ef\"],[0.5,\"#f7f7f7\"],[0.6,\"#e6f5d0\"],[0.7,\"#b8e186\"],[0.8,\"#7fbc41\"],[0.9,\"#4d9221\"],[1,\"#276419\"]]},\"xaxis\":{\"gridcolor\":\"white\",\"linecolor\":\"white\",\"ticks\":\"\",\"title\":{\"standoff\":15},\"zerolinecolor\":\"white\",\"automargin\":true,\"zerolinewidth\":2},\"yaxis\":{\"gridcolor\":\"white\",\"linecolor\":\"white\",\"ticks\":\"\",\"title\":{\"standoff\":15},\"zerolinecolor\":\"white\",\"automargin\":true,\"zerolinewidth\":2},\"scene\":{\"xaxis\":{\"backgroundcolor\":\"#E5ECF6\",\"gridcolor\":\"white\",\"linecolor\":\"white\",\"showbackground\":true,\"ticks\":\"\",\"zerolinecolor\":\"white\",\"gridwidth\":2},\"yaxis\":{\"backgroundcolor\":\"#E5ECF6\",\"gridcolor\":\"white\",\"linecolor\":\"white\",\"showbackground\":true,\"ticks\":\"\",\"zerolinecolor\":\"white\",\"gridwidth\":2},\"zaxis\":{\"backgroundcolor\":\"#E5ECF6\",\"gridcolor\":\"white\",\"linecolor\":\"white\",\"showbackground\":true,\"ticks\":\"\",\"zerolinecolor\":\"white\",\"gridwidth\":2}},\"shapedefaults\":{\"line\":{\"color\":\"#2a3f5f\"}},\"annotationdefaults\":{\"arrowcolor\":\"#2a3f5f\",\"arrowhead\":0,\"arrowwidth\":1},\"geo\":{\"bgcolor\":\"white\",\"landcolor\":\"#E5ECF6\",\"subunitcolor\":\"white\",\"showland\":true,\"showlakes\":true,\"lakecolor\":\"white\"},\"title\":{\"x\":0.05},\"mapbox\":{\"style\":\"light\"}}},\"legend\":{\"tracegroupgap\":0},\"margin\":{\"t\":60}},                        {\"responsive\": true}                    ).then(function(){\n",
       "                            \n",
       "var gd = document.getElementById('9a279428-dddd-49a4-92cb-42f12bb4ca57');\n",
       "var x = new MutationObserver(function (mutations, observer) {{\n",
       "        var display = window.getComputedStyle(gd).display;\n",
       "        if (!display || display === 'none') {{\n",
       "            console.log([gd, 'removed!']);\n",
       "            Plotly.purge(gd);\n",
       "            observer.disconnect();\n",
       "        }}\n",
       "}});\n",
       "\n",
       "// Listen for the removal of the full notebook cells\n",
       "var notebookContainer = gd.closest('#notebook-container');\n",
       "if (notebookContainer) {{\n",
       "    x.observe(notebookContainer, {childList: true});\n",
       "}}\n",
       "\n",
       "// Listen for the clearing of the current output cell\n",
       "var outputEl = gd.closest('.output');\n",
       "if (outputEl) {{\n",
       "    x.observe(outputEl, {childList: true});\n",
       "}}\n",
       "\n",
       "                        })                };                });            </script>        </div>"
      ]
     },
     "metadata": {},
     "output_type": "display_data"
    }
   ],
   "source": [
    "px.pie(\n",
    "    data_frame=df[\"vision\"].value_counts(),\n",
    "    names=df[\"vision\"].value_counts().index,\n",
    "    values=df[\"vision\"].value_counts().values,\n",
    "    color=df[\"vision\"].value_counts().index,\n",
    "    color_discrete_map=visions,\n",
    "    hole=0.35,\n",
    ")"
   ]
  },
  {
   "cell_type": "code",
   "execution_count": 15,
   "id": "672f01c4",
   "metadata": {
    "execution": {
     "iopub.execute_input": "2023-06-05T09:19:27.140453Z",
     "iopub.status.busy": "2023-06-05T09:19:27.140002Z",
     "iopub.status.idle": "2023-06-05T09:19:27.204671Z",
     "shell.execute_reply": "2023-06-05T09:19:27.203643Z"
    },
    "papermill": {
     "duration": 0.083672,
     "end_time": "2023-06-05T09:19:27.207934",
     "exception": false,
     "start_time": "2023-06-05T09:19:27.124262",
     "status": "completed"
    },
    "tags": []
   },
   "outputs": [
    {
     "data": {
      "text/html": [
       "<div>                            <div id=\"9d246574-a471-4875-9d78-ee247d0fd464\" class=\"plotly-graph-div\" style=\"height:525px; width:100%;\"></div>            <script type=\"text/javascript\">                require([\"plotly\"], function(Plotly) {                    window.PLOTLYENV=window.PLOTLYENV || {};                                    if (document.getElementById(\"9d246574-a471-4875-9d78-ee247d0fd464\")) {                    Plotly.newPlot(                        \"9d246574-a471-4875-9d78-ee247d0fd464\",                        [{\"domain\":{\"x\":[0.0,1.0],\"y\":[0.0,1.0]},\"hole\":0.3,\"hovertemplate\":\"label=%{label}<br>value=%{value}<extra></extra>\",\"labels\":[\"ATK\",\"CRIT DMG\",\"CRIT Rate\",\"Energy Recharge\",\"HP\",\"Geo DMG Bonus\",\"Elemental Mastery\",\"Cryo DMG Bonus\",\"Healing Bonus\",\"Pyro DMG Bonus\",\"Hydro DMG Bonus\",\"Anemo DMG Bonus\",\"Electro DMG Bonus\",\"DEF\",\"Physical DMG Bonus\",\"Dendro DMG Bonus\"],\"legendgroup\":\"\",\"name\":\"\",\"showlegend\":true,\"values\":[12,7,6,6,5,4,4,2,2,2,2,2,1,1,1,1],\"type\":\"pie\"}],                        {\"template\":{\"data\":{\"histogram2dcontour\":[{\"type\":\"histogram2dcontour\",\"colorbar\":{\"outlinewidth\":0,\"ticks\":\"\"},\"colorscale\":[[0.0,\"#0d0887\"],[0.1111111111111111,\"#46039f\"],[0.2222222222222222,\"#7201a8\"],[0.3333333333333333,\"#9c179e\"],[0.4444444444444444,\"#bd3786\"],[0.5555555555555556,\"#d8576b\"],[0.6666666666666666,\"#ed7953\"],[0.7777777777777778,\"#fb9f3a\"],[0.8888888888888888,\"#fdca26\"],[1.0,\"#f0f921\"]]}],\"choropleth\":[{\"type\":\"choropleth\",\"colorbar\":{\"outlinewidth\":0,\"ticks\":\"\"}}],\"histogram2d\":[{\"type\":\"histogram2d\",\"colorbar\":{\"outlinewidth\":0,\"ticks\":\"\"},\"colorscale\":[[0.0,\"#0d0887\"],[0.1111111111111111,\"#46039f\"],[0.2222222222222222,\"#7201a8\"],[0.3333333333333333,\"#9c179e\"],[0.4444444444444444,\"#bd3786\"],[0.5555555555555556,\"#d8576b\"],[0.6666666666666666,\"#ed7953\"],[0.7777777777777778,\"#fb9f3a\"],[0.8888888888888888,\"#fdca26\"],[1.0,\"#f0f921\"]]}],\"heatmap\":[{\"type\":\"heatmap\",\"colorbar\":{\"outlinewidth\":0,\"ticks\":\"\"},\"colorscale\":[[0.0,\"#0d0887\"],[0.1111111111111111,\"#46039f\"],[0.2222222222222222,\"#7201a8\"],[0.3333333333333333,\"#9c179e\"],[0.4444444444444444,\"#bd3786\"],[0.5555555555555556,\"#d8576b\"],[0.6666666666666666,\"#ed7953\"],[0.7777777777777778,\"#fb9f3a\"],[0.8888888888888888,\"#fdca26\"],[1.0,\"#f0f921\"]]}],\"heatmapgl\":[{\"type\":\"heatmapgl\",\"colorbar\":{\"outlinewidth\":0,\"ticks\":\"\"},\"colorscale\":[[0.0,\"#0d0887\"],[0.1111111111111111,\"#46039f\"],[0.2222222222222222,\"#7201a8\"],[0.3333333333333333,\"#9c179e\"],[0.4444444444444444,\"#bd3786\"],[0.5555555555555556,\"#d8576b\"],[0.6666666666666666,\"#ed7953\"],[0.7777777777777778,\"#fb9f3a\"],[0.8888888888888888,\"#fdca26\"],[1.0,\"#f0f921\"]]}],\"contourcarpet\":[{\"type\":\"contourcarpet\",\"colorbar\":{\"outlinewidth\":0,\"ticks\":\"\"}}],\"contour\":[{\"type\":\"contour\",\"colorbar\":{\"outlinewidth\":0,\"ticks\":\"\"},\"colorscale\":[[0.0,\"#0d0887\"],[0.1111111111111111,\"#46039f\"],[0.2222222222222222,\"#7201a8\"],[0.3333333333333333,\"#9c179e\"],[0.4444444444444444,\"#bd3786\"],[0.5555555555555556,\"#d8576b\"],[0.6666666666666666,\"#ed7953\"],[0.7777777777777778,\"#fb9f3a\"],[0.8888888888888888,\"#fdca26\"],[1.0,\"#f0f921\"]]}],\"surface\":[{\"type\":\"surface\",\"colorbar\":{\"outlinewidth\":0,\"ticks\":\"\"},\"colorscale\":[[0.0,\"#0d0887\"],[0.1111111111111111,\"#46039f\"],[0.2222222222222222,\"#7201a8\"],[0.3333333333333333,\"#9c179e\"],[0.4444444444444444,\"#bd3786\"],[0.5555555555555556,\"#d8576b\"],[0.6666666666666666,\"#ed7953\"],[0.7777777777777778,\"#fb9f3a\"],[0.8888888888888888,\"#fdca26\"],[1.0,\"#f0f921\"]]}],\"mesh3d\":[{\"type\":\"mesh3d\",\"colorbar\":{\"outlinewidth\":0,\"ticks\":\"\"}}],\"scatter\":[{\"fillpattern\":{\"fillmode\":\"overlay\",\"size\":10,\"solidity\":0.2},\"type\":\"scatter\"}],\"parcoords\":[{\"type\":\"parcoords\",\"line\":{\"colorbar\":{\"outlinewidth\":0,\"ticks\":\"\"}}}],\"scatterpolargl\":[{\"type\":\"scatterpolargl\",\"marker\":{\"colorbar\":{\"outlinewidth\":0,\"ticks\":\"\"}}}],\"bar\":[{\"error_x\":{\"color\":\"#2a3f5f\"},\"error_y\":{\"color\":\"#2a3f5f\"},\"marker\":{\"line\":{\"color\":\"#E5ECF6\",\"width\":0.5},\"pattern\":{\"fillmode\":\"overlay\",\"size\":10,\"solidity\":0.2}},\"type\":\"bar\"}],\"scattergeo\":[{\"type\":\"scattergeo\",\"marker\":{\"colorbar\":{\"outlinewidth\":0,\"ticks\":\"\"}}}],\"scatterpolar\":[{\"type\":\"scatterpolar\",\"marker\":{\"colorbar\":{\"outlinewidth\":0,\"ticks\":\"\"}}}],\"histogram\":[{\"marker\":{\"pattern\":{\"fillmode\":\"overlay\",\"size\":10,\"solidity\":0.2}},\"type\":\"histogram\"}],\"scattergl\":[{\"type\":\"scattergl\",\"marker\":{\"colorbar\":{\"outlinewidth\":0,\"ticks\":\"\"}}}],\"scatter3d\":[{\"type\":\"scatter3d\",\"line\":{\"colorbar\":{\"outlinewidth\":0,\"ticks\":\"\"}},\"marker\":{\"colorbar\":{\"outlinewidth\":0,\"ticks\":\"\"}}}],\"scattermapbox\":[{\"type\":\"scattermapbox\",\"marker\":{\"colorbar\":{\"outlinewidth\":0,\"ticks\":\"\"}}}],\"scatterternary\":[{\"type\":\"scatterternary\",\"marker\":{\"colorbar\":{\"outlinewidth\":0,\"ticks\":\"\"}}}],\"scattercarpet\":[{\"type\":\"scattercarpet\",\"marker\":{\"colorbar\":{\"outlinewidth\":0,\"ticks\":\"\"}}}],\"carpet\":[{\"aaxis\":{\"endlinecolor\":\"#2a3f5f\",\"gridcolor\":\"white\",\"linecolor\":\"white\",\"minorgridcolor\":\"white\",\"startlinecolor\":\"#2a3f5f\"},\"baxis\":{\"endlinecolor\":\"#2a3f5f\",\"gridcolor\":\"white\",\"linecolor\":\"white\",\"minorgridcolor\":\"white\",\"startlinecolor\":\"#2a3f5f\"},\"type\":\"carpet\"}],\"table\":[{\"cells\":{\"fill\":{\"color\":\"#EBF0F8\"},\"line\":{\"color\":\"white\"}},\"header\":{\"fill\":{\"color\":\"#C8D4E3\"},\"line\":{\"color\":\"white\"}},\"type\":\"table\"}],\"barpolar\":[{\"marker\":{\"line\":{\"color\":\"#E5ECF6\",\"width\":0.5},\"pattern\":{\"fillmode\":\"overlay\",\"size\":10,\"solidity\":0.2}},\"type\":\"barpolar\"}],\"pie\":[{\"automargin\":true,\"type\":\"pie\"}]},\"layout\":{\"autotypenumbers\":\"strict\",\"colorway\":[\"#636efa\",\"#EF553B\",\"#00cc96\",\"#ab63fa\",\"#FFA15A\",\"#19d3f3\",\"#FF6692\",\"#B6E880\",\"#FF97FF\",\"#FECB52\"],\"font\":{\"color\":\"#2a3f5f\"},\"hovermode\":\"closest\",\"hoverlabel\":{\"align\":\"left\"},\"paper_bgcolor\":\"white\",\"plot_bgcolor\":\"#E5ECF6\",\"polar\":{\"bgcolor\":\"#E5ECF6\",\"angularaxis\":{\"gridcolor\":\"white\",\"linecolor\":\"white\",\"ticks\":\"\"},\"radialaxis\":{\"gridcolor\":\"white\",\"linecolor\":\"white\",\"ticks\":\"\"}},\"ternary\":{\"bgcolor\":\"#E5ECF6\",\"aaxis\":{\"gridcolor\":\"white\",\"linecolor\":\"white\",\"ticks\":\"\"},\"baxis\":{\"gridcolor\":\"white\",\"linecolor\":\"white\",\"ticks\":\"\"},\"caxis\":{\"gridcolor\":\"white\",\"linecolor\":\"white\",\"ticks\":\"\"}},\"coloraxis\":{\"colorbar\":{\"outlinewidth\":0,\"ticks\":\"\"}},\"colorscale\":{\"sequential\":[[0.0,\"#0d0887\"],[0.1111111111111111,\"#46039f\"],[0.2222222222222222,\"#7201a8\"],[0.3333333333333333,\"#9c179e\"],[0.4444444444444444,\"#bd3786\"],[0.5555555555555556,\"#d8576b\"],[0.6666666666666666,\"#ed7953\"],[0.7777777777777778,\"#fb9f3a\"],[0.8888888888888888,\"#fdca26\"],[1.0,\"#f0f921\"]],\"sequentialminus\":[[0.0,\"#0d0887\"],[0.1111111111111111,\"#46039f\"],[0.2222222222222222,\"#7201a8\"],[0.3333333333333333,\"#9c179e\"],[0.4444444444444444,\"#bd3786\"],[0.5555555555555556,\"#d8576b\"],[0.6666666666666666,\"#ed7953\"],[0.7777777777777778,\"#fb9f3a\"],[0.8888888888888888,\"#fdca26\"],[1.0,\"#f0f921\"]],\"diverging\":[[0,\"#8e0152\"],[0.1,\"#c51b7d\"],[0.2,\"#de77ae\"],[0.3,\"#f1b6da\"],[0.4,\"#fde0ef\"],[0.5,\"#f7f7f7\"],[0.6,\"#e6f5d0\"],[0.7,\"#b8e186\"],[0.8,\"#7fbc41\"],[0.9,\"#4d9221\"],[1,\"#276419\"]]},\"xaxis\":{\"gridcolor\":\"white\",\"linecolor\":\"white\",\"ticks\":\"\",\"title\":{\"standoff\":15},\"zerolinecolor\":\"white\",\"automargin\":true,\"zerolinewidth\":2},\"yaxis\":{\"gridcolor\":\"white\",\"linecolor\":\"white\",\"ticks\":\"\",\"title\":{\"standoff\":15},\"zerolinecolor\":\"white\",\"automargin\":true,\"zerolinewidth\":2},\"scene\":{\"xaxis\":{\"backgroundcolor\":\"#E5ECF6\",\"gridcolor\":\"white\",\"linecolor\":\"white\",\"showbackground\":true,\"ticks\":\"\",\"zerolinecolor\":\"white\",\"gridwidth\":2},\"yaxis\":{\"backgroundcolor\":\"#E5ECF6\",\"gridcolor\":\"white\",\"linecolor\":\"white\",\"showbackground\":true,\"ticks\":\"\",\"zerolinecolor\":\"white\",\"gridwidth\":2},\"zaxis\":{\"backgroundcolor\":\"#E5ECF6\",\"gridcolor\":\"white\",\"linecolor\":\"white\",\"showbackground\":true,\"ticks\":\"\",\"zerolinecolor\":\"white\",\"gridwidth\":2}},\"shapedefaults\":{\"line\":{\"color\":\"#2a3f5f\"}},\"annotationdefaults\":{\"arrowcolor\":\"#2a3f5f\",\"arrowhead\":0,\"arrowwidth\":1},\"geo\":{\"bgcolor\":\"white\",\"landcolor\":\"#E5ECF6\",\"subunitcolor\":\"white\",\"showland\":true,\"showlakes\":true,\"lakecolor\":\"white\"},\"title\":{\"x\":0.05},\"mapbox\":{\"style\":\"light\"}}},\"legend\":{\"tracegroupgap\":0},\"margin\":{\"t\":60}},                        {\"responsive\": true}                    ).then(function(){\n",
       "                            \n",
       "var gd = document.getElementById('9d246574-a471-4875-9d78-ee247d0fd464');\n",
       "var x = new MutationObserver(function (mutations, observer) {{\n",
       "        var display = window.getComputedStyle(gd).display;\n",
       "        if (!display || display === 'none') {{\n",
       "            console.log([gd, 'removed!']);\n",
       "            Plotly.purge(gd);\n",
       "            observer.disconnect();\n",
       "        }}\n",
       "}});\n",
       "\n",
       "// Listen for the removal of the full notebook cells\n",
       "var notebookContainer = gd.closest('#notebook-container');\n",
       "if (notebookContainer) {{\n",
       "    x.observe(notebookContainer, {childList: true});\n",
       "}}\n",
       "\n",
       "// Listen for the clearing of the current output cell\n",
       "var outputEl = gd.closest('.output');\n",
       "if (outputEl) {{\n",
       "    x.observe(outputEl, {childList: true});\n",
       "}}\n",
       "\n",
       "                        })                };                });            </script>        </div>"
      ]
     },
     "metadata": {},
     "output_type": "display_data"
    }
   ],
   "source": [
    "px.pie(\n",
    "    data_frame=df[\"ascension\"].value_counts(),\n",
    "    names=df[\"ascension\"].value_counts().index,\n",
    "    values=df[\"ascension\"].value_counts().values,\n",
    "    hole=0.3\n",
    ")"
   ]
  },
  {
   "cell_type": "code",
   "execution_count": 16,
   "id": "768d927b",
   "metadata": {
    "execution": {
     "iopub.execute_input": "2023-06-05T09:19:27.238991Z",
     "iopub.status.busy": "2023-06-05T09:19:27.237971Z",
     "iopub.status.idle": "2023-06-05T09:19:27.375386Z",
     "shell.execute_reply": "2023-06-05T09:19:27.374194Z"
    },
    "papermill": {
     "duration": 0.156332,
     "end_time": "2023-06-05T09:19:27.378194",
     "exception": false,
     "start_time": "2023-06-05T09:19:27.221862",
     "status": "completed"
    },
    "tags": []
   },
   "outputs": [
    {
     "data": {
      "text/html": [
       "<div>                            <div id=\"ebdc7b45-d3e0-4be2-af8e-970d7e7514cb\" class=\"plotly-graph-div\" style=\"height:525px; width:100%;\"></div>            <script type=\"text/javascript\">                require([\"plotly\"], function(Plotly) {                    window.PLOTLYENV=window.PLOTLYENV || {};                                    if (document.getElementById(\"ebdc7b45-d3e0-4be2-af8e-970d7e7514cb\")) {                    Plotly.newPlot(                        \"ebdc7b45-d3e0-4be2-af8e-970d7e7514cb\",                        [{\"branchvalues\":\"total\",\"domain\":{\"x\":[0.0,1.0],\"y\":[0.0,1.0]},\"hovertemplate\":\"labels=%{label}<br>count=%{value}<br>parent=%{parent}<br>id=%{id}<extra></extra>\",\"ids\":[\"Inazuma/Anemo\",\"Liyue/Anemo\",\"Mondstadt/Anemo\",\"Inazuma/Cryo\",\"Liyue/Cryo\",\"Mondstadt/Cryo\",\"Sumeru/Dendro\",\"Inazuma/Electro\",\"Liyue/Electro\",\"Mondstadt/Electro\",\"Sumeru/Electro\",\"Inazuma/Geo\",\"Liyue/Geo\",\"Mondstadt/Geo\",\"Inazuma/Hydro\",\"Liyue/Hydro\",\"Mondstadt/Hydro\",\"Snezhnaya/Hydro\",\"Sumeru/Hydro\",\"Inazuma/Pyro\",\"Liyue/Pyro\",\"Mondstadt/Pyro\",\"Inazuma\",\"Liyue\",\"Mondstadt\",\"Snezhnaya\",\"Sumeru\"],\"labels\":[\"Anemo\",\"Anemo\",\"Anemo\",\"Cryo\",\"Cryo\",\"Cryo\",\"Dendro\",\"Electro\",\"Electro\",\"Electro\",\"Electro\",\"Geo\",\"Geo\",\"Geo\",\"Hydro\",\"Hydro\",\"Hydro\",\"Hydro\",\"Hydro\",\"Pyro\",\"Pyro\",\"Pyro\",\"Inazuma\",\"Liyue\",\"Mondstadt\",\"Snezhnaya\",\"Sumeru\"],\"name\":\"\",\"parents\":[\"Inazuma\",\"Liyue\",\"Mondstadt\",\"Inazuma\",\"Liyue\",\"Mondstadt\",\"Sumeru\",\"Inazuma\",\"Liyue\",\"Mondstadt\",\"Sumeru\",\"Inazuma\",\"Liyue\",\"Mondstadt\",\"Inazuma\",\"Liyue\",\"Mondstadt\",\"Snezhnaya\",\"Sumeru\",\"Inazuma\",\"Liyue\",\"Mondstadt\",\"\",\"\",\"\",\"\",\"\"],\"values\":[3,1,3,1,4,4,2,4,2,3,2,2,3,2,2,2,2,1,2,2,4,4,14,16,18,1,6],\"type\":\"sunburst\"}],                        {\"template\":{\"data\":{\"histogram2dcontour\":[{\"type\":\"histogram2dcontour\",\"colorbar\":{\"outlinewidth\":0,\"ticks\":\"\"},\"colorscale\":[[0.0,\"#0d0887\"],[0.1111111111111111,\"#46039f\"],[0.2222222222222222,\"#7201a8\"],[0.3333333333333333,\"#9c179e\"],[0.4444444444444444,\"#bd3786\"],[0.5555555555555556,\"#d8576b\"],[0.6666666666666666,\"#ed7953\"],[0.7777777777777778,\"#fb9f3a\"],[0.8888888888888888,\"#fdca26\"],[1.0,\"#f0f921\"]]}],\"choropleth\":[{\"type\":\"choropleth\",\"colorbar\":{\"outlinewidth\":0,\"ticks\":\"\"}}],\"histogram2d\":[{\"type\":\"histogram2d\",\"colorbar\":{\"outlinewidth\":0,\"ticks\":\"\"},\"colorscale\":[[0.0,\"#0d0887\"],[0.1111111111111111,\"#46039f\"],[0.2222222222222222,\"#7201a8\"],[0.3333333333333333,\"#9c179e\"],[0.4444444444444444,\"#bd3786\"],[0.5555555555555556,\"#d8576b\"],[0.6666666666666666,\"#ed7953\"],[0.7777777777777778,\"#fb9f3a\"],[0.8888888888888888,\"#fdca26\"],[1.0,\"#f0f921\"]]}],\"heatmap\":[{\"type\":\"heatmap\",\"colorbar\":{\"outlinewidth\":0,\"ticks\":\"\"},\"colorscale\":[[0.0,\"#0d0887\"],[0.1111111111111111,\"#46039f\"],[0.2222222222222222,\"#7201a8\"],[0.3333333333333333,\"#9c179e\"],[0.4444444444444444,\"#bd3786\"],[0.5555555555555556,\"#d8576b\"],[0.6666666666666666,\"#ed7953\"],[0.7777777777777778,\"#fb9f3a\"],[0.8888888888888888,\"#fdca26\"],[1.0,\"#f0f921\"]]}],\"heatmapgl\":[{\"type\":\"heatmapgl\",\"colorbar\":{\"outlinewidth\":0,\"ticks\":\"\"},\"colorscale\":[[0.0,\"#0d0887\"],[0.1111111111111111,\"#46039f\"],[0.2222222222222222,\"#7201a8\"],[0.3333333333333333,\"#9c179e\"],[0.4444444444444444,\"#bd3786\"],[0.5555555555555556,\"#d8576b\"],[0.6666666666666666,\"#ed7953\"],[0.7777777777777778,\"#fb9f3a\"],[0.8888888888888888,\"#fdca26\"],[1.0,\"#f0f921\"]]}],\"contourcarpet\":[{\"type\":\"contourcarpet\",\"colorbar\":{\"outlinewidth\":0,\"ticks\":\"\"}}],\"contour\":[{\"type\":\"contour\",\"colorbar\":{\"outlinewidth\":0,\"ticks\":\"\"},\"colorscale\":[[0.0,\"#0d0887\"],[0.1111111111111111,\"#46039f\"],[0.2222222222222222,\"#7201a8\"],[0.3333333333333333,\"#9c179e\"],[0.4444444444444444,\"#bd3786\"],[0.5555555555555556,\"#d8576b\"],[0.6666666666666666,\"#ed7953\"],[0.7777777777777778,\"#fb9f3a\"],[0.8888888888888888,\"#fdca26\"],[1.0,\"#f0f921\"]]}],\"surface\":[{\"type\":\"surface\",\"colorbar\":{\"outlinewidth\":0,\"ticks\":\"\"},\"colorscale\":[[0.0,\"#0d0887\"],[0.1111111111111111,\"#46039f\"],[0.2222222222222222,\"#7201a8\"],[0.3333333333333333,\"#9c179e\"],[0.4444444444444444,\"#bd3786\"],[0.5555555555555556,\"#d8576b\"],[0.6666666666666666,\"#ed7953\"],[0.7777777777777778,\"#fb9f3a\"],[0.8888888888888888,\"#fdca26\"],[1.0,\"#f0f921\"]]}],\"mesh3d\":[{\"type\":\"mesh3d\",\"colorbar\":{\"outlinewidth\":0,\"ticks\":\"\"}}],\"scatter\":[{\"fillpattern\":{\"fillmode\":\"overlay\",\"size\":10,\"solidity\":0.2},\"type\":\"scatter\"}],\"parcoords\":[{\"type\":\"parcoords\",\"line\":{\"colorbar\":{\"outlinewidth\":0,\"ticks\":\"\"}}}],\"scatterpolargl\":[{\"type\":\"scatterpolargl\",\"marker\":{\"colorbar\":{\"outlinewidth\":0,\"ticks\":\"\"}}}],\"bar\":[{\"error_x\":{\"color\":\"#2a3f5f\"},\"error_y\":{\"color\":\"#2a3f5f\"},\"marker\":{\"line\":{\"color\":\"#E5ECF6\",\"width\":0.5},\"pattern\":{\"fillmode\":\"overlay\",\"size\":10,\"solidity\":0.2}},\"type\":\"bar\"}],\"scattergeo\":[{\"type\":\"scattergeo\",\"marker\":{\"colorbar\":{\"outlinewidth\":0,\"ticks\":\"\"}}}],\"scatterpolar\":[{\"type\":\"scatterpolar\",\"marker\":{\"colorbar\":{\"outlinewidth\":0,\"ticks\":\"\"}}}],\"histogram\":[{\"marker\":{\"pattern\":{\"fillmode\":\"overlay\",\"size\":10,\"solidity\":0.2}},\"type\":\"histogram\"}],\"scattergl\":[{\"type\":\"scattergl\",\"marker\":{\"colorbar\":{\"outlinewidth\":0,\"ticks\":\"\"}}}],\"scatter3d\":[{\"type\":\"scatter3d\",\"line\":{\"colorbar\":{\"outlinewidth\":0,\"ticks\":\"\"}},\"marker\":{\"colorbar\":{\"outlinewidth\":0,\"ticks\":\"\"}}}],\"scattermapbox\":[{\"type\":\"scattermapbox\",\"marker\":{\"colorbar\":{\"outlinewidth\":0,\"ticks\":\"\"}}}],\"scatterternary\":[{\"type\":\"scatterternary\",\"marker\":{\"colorbar\":{\"outlinewidth\":0,\"ticks\":\"\"}}}],\"scattercarpet\":[{\"type\":\"scattercarpet\",\"marker\":{\"colorbar\":{\"outlinewidth\":0,\"ticks\":\"\"}}}],\"carpet\":[{\"aaxis\":{\"endlinecolor\":\"#2a3f5f\",\"gridcolor\":\"white\",\"linecolor\":\"white\",\"minorgridcolor\":\"white\",\"startlinecolor\":\"#2a3f5f\"},\"baxis\":{\"endlinecolor\":\"#2a3f5f\",\"gridcolor\":\"white\",\"linecolor\":\"white\",\"minorgridcolor\":\"white\",\"startlinecolor\":\"#2a3f5f\"},\"type\":\"carpet\"}],\"table\":[{\"cells\":{\"fill\":{\"color\":\"#EBF0F8\"},\"line\":{\"color\":\"white\"}},\"header\":{\"fill\":{\"color\":\"#C8D4E3\"},\"line\":{\"color\":\"white\"}},\"type\":\"table\"}],\"barpolar\":[{\"marker\":{\"line\":{\"color\":\"#E5ECF6\",\"width\":0.5},\"pattern\":{\"fillmode\":\"overlay\",\"size\":10,\"solidity\":0.2}},\"type\":\"barpolar\"}],\"pie\":[{\"automargin\":true,\"type\":\"pie\"}]},\"layout\":{\"autotypenumbers\":\"strict\",\"colorway\":[\"#636efa\",\"#EF553B\",\"#00cc96\",\"#ab63fa\",\"#FFA15A\",\"#19d3f3\",\"#FF6692\",\"#B6E880\",\"#FF97FF\",\"#FECB52\"],\"font\":{\"color\":\"#2a3f5f\"},\"hovermode\":\"closest\",\"hoverlabel\":{\"align\":\"left\"},\"paper_bgcolor\":\"white\",\"plot_bgcolor\":\"#E5ECF6\",\"polar\":{\"bgcolor\":\"#E5ECF6\",\"angularaxis\":{\"gridcolor\":\"white\",\"linecolor\":\"white\",\"ticks\":\"\"},\"radialaxis\":{\"gridcolor\":\"white\",\"linecolor\":\"white\",\"ticks\":\"\"}},\"ternary\":{\"bgcolor\":\"#E5ECF6\",\"aaxis\":{\"gridcolor\":\"white\",\"linecolor\":\"white\",\"ticks\":\"\"},\"baxis\":{\"gridcolor\":\"white\",\"linecolor\":\"white\",\"ticks\":\"\"},\"caxis\":{\"gridcolor\":\"white\",\"linecolor\":\"white\",\"ticks\":\"\"}},\"coloraxis\":{\"colorbar\":{\"outlinewidth\":0,\"ticks\":\"\"}},\"colorscale\":{\"sequential\":[[0.0,\"#0d0887\"],[0.1111111111111111,\"#46039f\"],[0.2222222222222222,\"#7201a8\"],[0.3333333333333333,\"#9c179e\"],[0.4444444444444444,\"#bd3786\"],[0.5555555555555556,\"#d8576b\"],[0.6666666666666666,\"#ed7953\"],[0.7777777777777778,\"#fb9f3a\"],[0.8888888888888888,\"#fdca26\"],[1.0,\"#f0f921\"]],\"sequentialminus\":[[0.0,\"#0d0887\"],[0.1111111111111111,\"#46039f\"],[0.2222222222222222,\"#7201a8\"],[0.3333333333333333,\"#9c179e\"],[0.4444444444444444,\"#bd3786\"],[0.5555555555555556,\"#d8576b\"],[0.6666666666666666,\"#ed7953\"],[0.7777777777777778,\"#fb9f3a\"],[0.8888888888888888,\"#fdca26\"],[1.0,\"#f0f921\"]],\"diverging\":[[0,\"#8e0152\"],[0.1,\"#c51b7d\"],[0.2,\"#de77ae\"],[0.3,\"#f1b6da\"],[0.4,\"#fde0ef\"],[0.5,\"#f7f7f7\"],[0.6,\"#e6f5d0\"],[0.7,\"#b8e186\"],[0.8,\"#7fbc41\"],[0.9,\"#4d9221\"],[1,\"#276419\"]]},\"xaxis\":{\"gridcolor\":\"white\",\"linecolor\":\"white\",\"ticks\":\"\",\"title\":{\"standoff\":15},\"zerolinecolor\":\"white\",\"automargin\":true,\"zerolinewidth\":2},\"yaxis\":{\"gridcolor\":\"white\",\"linecolor\":\"white\",\"ticks\":\"\",\"title\":{\"standoff\":15},\"zerolinecolor\":\"white\",\"automargin\":true,\"zerolinewidth\":2},\"scene\":{\"xaxis\":{\"backgroundcolor\":\"#E5ECF6\",\"gridcolor\":\"white\",\"linecolor\":\"white\",\"showbackground\":true,\"ticks\":\"\",\"zerolinecolor\":\"white\",\"gridwidth\":2},\"yaxis\":{\"backgroundcolor\":\"#E5ECF6\",\"gridcolor\":\"white\",\"linecolor\":\"white\",\"showbackground\":true,\"ticks\":\"\",\"zerolinecolor\":\"white\",\"gridwidth\":2},\"zaxis\":{\"backgroundcolor\":\"#E5ECF6\",\"gridcolor\":\"white\",\"linecolor\":\"white\",\"showbackground\":true,\"ticks\":\"\",\"zerolinecolor\":\"white\",\"gridwidth\":2}},\"shapedefaults\":{\"line\":{\"color\":\"#2a3f5f\"}},\"annotationdefaults\":{\"arrowcolor\":\"#2a3f5f\",\"arrowhead\":0,\"arrowwidth\":1},\"geo\":{\"bgcolor\":\"white\",\"landcolor\":\"#E5ECF6\",\"subunitcolor\":\"white\",\"showland\":true,\"showlakes\":true,\"lakecolor\":\"white\"},\"title\":{\"x\":0.05},\"mapbox\":{\"style\":\"light\"}}},\"legend\":{\"tracegroupgap\":0},\"margin\":{\"t\":60}},                        {\"responsive\": true}                    ).then(function(){\n",
       "                            \n",
       "var gd = document.getElementById('ebdc7b45-d3e0-4be2-af8e-970d7e7514cb');\n",
       "var x = new MutationObserver(function (mutations, observer) {{\n",
       "        var display = window.getComputedStyle(gd).display;\n",
       "        if (!display || display === 'none') {{\n",
       "            console.log([gd, 'removed!']);\n",
       "            Plotly.purge(gd);\n",
       "            observer.disconnect();\n",
       "        }}\n",
       "}});\n",
       "\n",
       "// Listen for the removal of the full notebook cells\n",
       "var notebookContainer = gd.closest('#notebook-container');\n",
       "if (notebookContainer) {{\n",
       "    x.observe(notebookContainer, {childList: true});\n",
       "}}\n",
       "\n",
       "// Listen for the clearing of the current output cell\n",
       "var outputEl = gd.closest('.output');\n",
       "if (outputEl) {{\n",
       "    x.observe(outputEl, {childList: true});\n",
       "}}\n",
       "\n",
       "                        })                };                });            </script>        </div>"
      ]
     },
     "metadata": {},
     "output_type": "display_data"
    }
   ],
   "source": [
    "px.sunburst(data_frame=df.dropna(), path=[\"region\", \"vision\"])\n"
   ]
  },
  {
   "cell_type": "markdown",
   "id": "ada04337",
   "metadata": {
    "papermill": {
     "duration": 0.014065,
     "end_time": "2023-06-05T09:19:27.406724",
     "exception": false,
     "start_time": "2023-06-05T09:19:27.392659",
     "status": "completed"
    },
    "tags": []
   },
   "source": [
    "Creating hp, atk and def growth plots"
   ]
  },
  {
   "cell_type": "code",
   "execution_count": 17,
   "id": "e3abc124",
   "metadata": {
    "execution": {
     "iopub.execute_input": "2023-06-05T09:19:27.438043Z",
     "iopub.status.busy": "2023-06-05T09:19:27.437236Z",
     "iopub.status.idle": "2023-06-05T09:19:27.933058Z",
     "shell.execute_reply": "2023-06-05T09:19:27.931656Z"
    },
    "papermill": {
     "duration": 0.515264,
     "end_time": "2023-06-05T09:19:27.936079",
     "exception": false,
     "start_time": "2023-06-05T09:19:27.420815",
     "status": "completed"
    },
    "tags": []
   },
   "outputs": [
    {
     "data": {
      "text/html": [
       "<div>                            <div id=\"adf25739-d1ff-4dfa-a677-4cc41cc98e2e\" class=\"plotly-graph-div\" style=\"height:525px; width:100%;\"></div>            <script type=\"text/javascript\">                require([\"plotly\"], function(Plotly) {                    window.PLOTLYENV=window.PLOTLYENV || {};                                    if (document.getElementById(\"adf25739-d1ff-4dfa-a677-4cc41cc98e2e\")) {                    Plotly.newPlot(                        \"adf25739-d1ff-4dfa-a677-4cc41cc98e2e\",                        [{\"hovertemplate\":\"variable=0<br>index=%{x}<br>value=%{y}<extra></extra>\",\"legendgroup\":\"0\",\"line\":{\"color\":\"#636efa\",\"dash\":\"solid\"},\"marker\":{\"symbol\":\"circle\"},\"mode\":\"lines\",\"name\":\"0\",\"orientation\":\"v\",\"showlegend\":true,\"x\":[\"hp_1_20\",\"hp_20_20\",\"hp_20_40\",\"hp_40_40\",\"hp_40_50\",\"hp_50_50\",\"hp_50_60\",\"hp_60_60\",\"hp_60_70\",\"hp_70_70\",\"hp_70_80\",\"hp_80_80\",\"hp_80_90\",\"hp_90_90\"],\"xaxis\":\"x\",\"y\":[1030.0,2671.0,3554.0,5317.0,5944.0,6839.0,8579.0,8579.0,9207.0,10119.0,10746.0,11669.0,12296.0,13226.0],\"yaxis\":\"y\",\"type\":\"scatter\"},{\"hovertemplate\":\"variable=1<br>index=%{x}<br>value=%{y}<extra></extra>\",\"legendgroup\":\"1\",\"line\":{\"color\":\"#EF553B\",\"dash\":\"solid\"},\"marker\":{\"symbol\":\"circle\"},\"mode\":\"lines\",\"name\":\"1\",\"orientation\":\"v\",\"showlegend\":true,\"x\":[\"hp_1_20\",\"hp_20_20\",\"hp_20_40\",\"hp_40_40\",\"hp_40_50\",\"hp_50_50\",\"hp_50_60\",\"hp_60_60\",\"hp_60_70\",\"hp_70_70\",\"hp_70_80\",\"hp_80_80\",\"hp_80_90\",\"hp_90_90\"],\"xaxis\":\"x\",\"y\":[null,null,null,null,null,null,null,null,null,null,null,null,null,null],\"yaxis\":\"y\",\"type\":\"scatter\"},{\"hovertemplate\":\"variable=2<br>index=%{x}<br>value=%{y}<extra></extra>\",\"legendgroup\":\"2\",\"line\":{\"color\":\"#00cc96\",\"dash\":\"solid\"},\"marker\":{\"symbol\":\"circle\"},\"mode\":\"lines\",\"name\":\"2\",\"orientation\":\"v\",\"showlegend\":true,\"x\":[\"hp_1_20\",\"hp_20_20\",\"hp_20_40\",\"hp_40_40\",\"hp_40_50\",\"hp_50_50\",\"hp_50_60\",\"hp_60_60\",\"hp_60_70\",\"hp_70_70\",\"hp_70_80\",\"hp_80_80\",\"hp_80_90\",\"hp_90_90\"],\"xaxis\":\"x\",\"y\":[848.0,2201.0,2928.0,4382.0,4899.0,5636.0,7070.0,7070.0,7587.0,8339.0,8856.0,9616.0,10133.0,10899.0],\"yaxis\":\"y\",\"type\":\"scatter\"},{\"hovertemplate\":\"variable=3<br>index=%{x}<br>value=%{y}<extra></extra>\",\"legendgroup\":\"3\",\"line\":{\"color\":\"#ab63fa\",\"dash\":\"solid\"},\"marker\":{\"symbol\":\"circle\"},\"mode\":\"lines\",\"name\":\"3\",\"orientation\":\"v\",\"showlegend\":true,\"x\":[\"hp_1_20\",\"hp_20_20\",\"hp_20_40\",\"hp_40_40\",\"hp_40_50\",\"hp_50_50\",\"hp_50_60\",\"hp_60_60\",\"hp_60_70\",\"hp_70_70\",\"hp_70_80\",\"hp_80_80\",\"hp_80_90\",\"hp_90_90\"],\"xaxis\":\"x\",\"y\":[793.0,2038.0,2630.0,3940.0,4361.0,5016.0,6233.0,6233.0,6654.0,7309.0,7730.0,8385.0,8806.0,9461.0],\"yaxis\":\"y\",\"type\":\"scatter\"},{\"hovertemplate\":\"variable=4<br>index=%{x}<br>value=%{y}<extra></extra>\",\"legendgroup\":\"4\",\"line\":{\"color\":\"#FFA15A\",\"dash\":\"solid\"},\"marker\":{\"symbol\":\"circle\"},\"mode\":\"lines\",\"name\":\"4\",\"orientation\":\"v\",\"showlegend\":true,\"x\":[\"hp_1_20\",\"hp_20_20\",\"hp_20_40\",\"hp_40_40\",\"hp_40_50\",\"hp_50_50\",\"hp_50_60\",\"hp_60_60\",\"hp_60_70\",\"hp_70_70\",\"hp_70_80\",\"hp_80_80\",\"hp_80_90\",\"hp_90_90\"],\"xaxis\":\"x\",\"y\":[1001.0,2597.0,3455.0,5170.0,5779.0,6649.0,8341.0,8341.0,8951.0,9838.0,10448.0,11345.0,11954.0,12858.0],\"yaxis\":\"y\",\"type\":\"scatter\"},{\"hovertemplate\":\"variable=5<br>index=%{x}<br>value=%{y}<extra></extra>\",\"legendgroup\":\"5\",\"line\":{\"color\":\"#19d3f3\",\"dash\":\"solid\"},\"marker\":{\"symbol\":\"circle\"},\"mode\":\"lines\",\"name\":\"5\",\"orientation\":\"v\",\"showlegend\":true,\"x\":[\"hp_1_20\",\"hp_20_20\",\"hp_20_40\",\"hp_40_40\",\"hp_40_50\",\"hp_50_50\",\"hp_50_60\",\"hp_60_60\",\"hp_60_70\",\"hp_70_70\",\"hp_70_80\",\"hp_80_80\",\"hp_80_90\",\"hp_90_90\"],\"xaxis\":\"x\",\"y\":[null,null,null,null,null,null,null,null,null,null,null,null,null,null],\"yaxis\":\"y\",\"type\":\"scatter\"},{\"hovertemplate\":\"variable=6<br>index=%{x}<br>value=%{y}<extra></extra>\",\"legendgroup\":\"6\",\"line\":{\"color\":\"#FF6692\",\"dash\":\"solid\"},\"marker\":{\"symbol\":\"circle\"},\"mode\":\"lines\",\"name\":\"6\",\"orientation\":\"v\",\"showlegend\":true,\"x\":[\"hp_1_20\",\"hp_20_20\",\"hp_20_40\",\"hp_40_40\",\"hp_40_50\",\"hp_50_50\",\"hp_50_60\",\"hp_60_60\",\"hp_60_70\",\"hp_70_70\",\"hp_70_80\",\"hp_80_80\",\"hp_80_90\",\"hp_90_90\"],\"xaxis\":\"x\",\"y\":[821.0,2108.0,2721.0,4076.0,4512.0,5189.0,6448.0,6448.0,6884.0,7561.0,7996.0,8674.0,9110.0,9787.0],\"yaxis\":\"y\",\"type\":\"scatter\"},{\"hovertemplate\":\"variable=7<br>index=%{x}<br>value=%{y}<extra></extra>\",\"legendgroup\":\"7\",\"line\":{\"color\":\"#B6E880\",\"dash\":\"solid\"},\"marker\":{\"symbol\":\"circle\"},\"mode\":\"lines\",\"name\":\"7\",\"orientation\":\"v\",\"showlegend\":true,\"x\":[\"hp_1_20\",\"hp_20_20\",\"hp_20_40\",\"hp_40_40\",\"hp_40_50\",\"hp_50_50\",\"hp_50_60\",\"hp_60_60\",\"hp_60_70\",\"hp_70_70\",\"hp_70_80\",\"hp_80_80\",\"hp_80_90\",\"hp_90_90\"],\"xaxis\":\"x\",\"y\":[1094.0,2811.0,3628.0,5435.0,6015.0,6919.0,8597.0,8597.0,9178.0,10081.0,10662.0,11565.0,12146.0,13050.0],\"yaxis\":\"y\",\"type\":\"scatter\"},{\"hovertemplate\":\"variable=8<br>index=%{x}<br>value=%{y}<extra></extra>\",\"legendgroup\":\"8\",\"line\":{\"color\":\"#FF97FF\",\"dash\":\"solid\"},\"marker\":{\"symbol\":\"circle\"},\"mode\":\"lines\",\"name\":\"8\",\"orientation\":\"v\",\"showlegend\":true,\"x\":[\"hp_1_20\",\"hp_20_20\",\"hp_20_40\",\"hp_40_40\",\"hp_40_50\",\"hp_50_50\",\"hp_50_60\",\"hp_60_60\",\"hp_60_70\",\"hp_70_70\",\"hp_70_80\",\"hp_80_80\",\"hp_80_90\",\"hp_90_90\"],\"xaxis\":\"x\",\"y\":[1039.0,2670.0,3447.0,5163.0,5715.0,6573.0,8168.0,8168.0,8719.0,9577.0,10129.0,10987.0,11539.0,12397.0],\"yaxis\":\"y\",\"type\":\"scatter\"},{\"hovertemplate\":\"variable=9<br>index=%{x}<br>value=%{y}<extra></extra>\",\"legendgroup\":\"9\",\"line\":{\"color\":\"#FECB52\",\"dash\":\"solid\"},\"marker\":{\"symbol\":\"circle\"},\"mode\":\"lines\",\"name\":\"9\",\"orientation\":\"v\",\"showlegend\":true,\"x\":[\"hp_1_20\",\"hp_20_20\",\"hp_20_40\",\"hp_40_40\",\"hp_40_50\",\"hp_50_50\",\"hp_50_60\",\"hp_60_60\",\"hp_60_70\",\"hp_70_70\",\"hp_70_80\",\"hp_80_80\",\"hp_80_90\",\"hp_90_90\"],\"xaxis\":\"x\",\"y\":[911.0,2342.0,3023.0,4528.0,5012.0,5766.0,7164.0,7164.0,7648.0,8400.0,8884.0,9637.0,10121.0,10874.0],\"yaxis\":\"y\",\"type\":\"scatter\"},{\"hovertemplate\":\"variable=10<br>index=%{x}<br>value=%{y}<extra></extra>\",\"legendgroup\":\"10\",\"line\":{\"color\":\"#636efa\",\"dash\":\"solid\"},\"marker\":{\"symbol\":\"circle\"},\"mode\":\"lines\",\"name\":\"10\",\"orientation\":\"v\",\"showlegend\":true,\"x\":[\"hp_1_20\",\"hp_20_20\",\"hp_20_40\",\"hp_40_40\",\"hp_40_50\",\"hp_50_50\",\"hp_50_60\",\"hp_60_60\",\"hp_60_70\",\"hp_70_70\",\"hp_70_80\",\"hp_80_80\",\"hp_80_90\",\"hp_90_90\"],\"xaxis\":\"x\",\"y\":[1003.0,2366.0,3054.0,4574.0,5063.0,5824.0,7236.0,7236.0,7725.0,8485.0,8974.0,9734.0,10223.0,10984.0],\"yaxis\":\"y\",\"type\":\"scatter\"},{\"hovertemplate\":\"variable=11<br>index=%{x}<br>value=%{y}<extra></extra>\",\"legendgroup\":\"11\",\"line\":{\"color\":\"#EF553B\",\"dash\":\"solid\"},\"marker\":{\"symbol\":\"circle\"},\"mode\":\"lines\",\"name\":\"11\",\"orientation\":\"v\",\"showlegend\":true,\"x\":[\"hp_1_20\",\"hp_20_20\",\"hp_20_40\",\"hp_40_40\",\"hp_40_50\",\"hp_50_50\",\"hp_50_60\",\"hp_60_60\",\"hp_60_70\",\"hp_70_70\",\"hp_70_80\",\"hp_80_80\",\"hp_80_90\",\"hp_90_90\"],\"xaxis\":\"x\",\"y\":[820.0,2108.0,2721.0,4076.0,4511.0,5189.0,6448.0,6448.0,6883.0,7560.0,7996.0,8674.0,9109.0,9787.0],\"yaxis\":\"y\",\"type\":\"scatter\"},{\"hovertemplate\":\"variable=12<br>index=%{x}<br>value=%{y}<extra></extra>\",\"legendgroup\":\"12\",\"line\":{\"color\":\"#00cc96\",\"dash\":\"solid\"},\"marker\":{\"symbol\":\"circle\"},\"mode\":\"lines\",\"name\":\"12\",\"orientation\":\"v\",\"showlegend\":true,\"x\":[\"hp_1_20\",\"hp_20_20\",\"hp_20_40\",\"hp_40_40\",\"hp_40_50\",\"hp_50_50\",\"hp_50_60\",\"hp_60_60\",\"hp_60_70\",\"hp_70_70\",\"hp_70_80\",\"hp_80_80\",\"hp_80_90\",\"hp_90_90\"],\"xaxis\":\"x\",\"y\":[972.0,2522.0,3356.0,5021.0,5614.0,6459.0,8102.0,8102.0,8695.0,9556.0,10149.0,11020.0,11612.0,12490.0],\"yaxis\":\"y\",\"type\":\"scatter\"},{\"hovertemplate\":\"variable=13<br>index=%{x}<br>value=%{y}<extra></extra>\",\"legendgroup\":\"13\",\"line\":{\"color\":\"#ab63fa\",\"dash\":\"solid\"},\"marker\":{\"symbol\":\"circle\"},\"mode\":\"lines\",\"name\":\"13\",\"orientation\":\"v\",\"showlegend\":true,\"x\":[\"hp_1_20\",\"hp_20_20\",\"hp_20_40\",\"hp_40_40\",\"hp_40_50\",\"hp_50_50\",\"hp_50_60\",\"hp_60_60\",\"hp_60_70\",\"hp_70_70\",\"hp_70_80\",\"hp_80_80\",\"hp_80_90\",\"hp_90_90\"],\"xaxis\":\"x\",\"y\":[null,null,null,null,null,null,null,null,null,null,null,null,null,null],\"yaxis\":\"y\",\"type\":\"scatter\"},{\"hovertemplate\":\"variable=14<br>index=%{x}<br>value=%{y}<extra></extra>\",\"legendgroup\":\"14\",\"line\":{\"color\":\"#FFA15A\",\"dash\":\"solid\"},\"marker\":{\"symbol\":\"circle\"},\"mode\":\"lines\",\"name\":\"14\",\"orientation\":\"v\",\"showlegend\":true,\"x\":[\"hp_1_20\",\"hp_20_20\",\"hp_20_40\",\"hp_40_40\",\"hp_40_50\",\"hp_50_50\",\"hp_50_60\",\"hp_60_60\",\"hp_60_70\",\"hp_70_70\",\"hp_70_80\",\"hp_80_80\",\"hp_80_90\",\"hp_90_90\"],\"xaxis\":\"x\",\"y\":[null,null,null,null,null,null,null,null,null,null,null,null,null,null],\"yaxis\":\"y\",\"type\":\"scatter\"},{\"hovertemplate\":\"variable=15<br>index=%{x}<br>value=%{y}<extra></extra>\",\"legendgroup\":\"15\",\"line\":{\"color\":\"#19d3f3\",\"dash\":\"solid\"},\"marker\":{\"symbol\":\"circle\"},\"mode\":\"lines\",\"name\":\"15\",\"orientation\":\"v\",\"showlegend\":true,\"x\":[\"hp_1_20\",\"hp_20_20\",\"hp_20_40\",\"hp_40_40\",\"hp_40_50\",\"hp_50_50\",\"hp_50_60\",\"hp_60_60\",\"hp_60_70\",\"hp_70_70\",\"hp_70_80\",\"hp_80_80\",\"hp_80_90\",\"hp_90_90\"],\"xaxis\":\"x\",\"y\":[1011.0,2621.0,3488.0,5219.0,5834.0,6712.0,8421.0,8421.0,9036.0,9932.0,10547.0,11453.0,12068.0,12981.0],\"yaxis\":\"y\",\"type\":\"scatter\"},{\"hovertemplate\":\"variable=16<br>index=%{x}<br>value=%{y}<extra></extra>\",\"legendgroup\":\"16\",\"line\":{\"color\":\"#FF6692\",\"dash\":\"solid\"},\"marker\":{\"symbol\":\"circle\"},\"mode\":\"lines\",\"name\":\"16\",\"orientation\":\"v\",\"showlegend\":true,\"x\":[\"hp_1_20\",\"hp_20_20\",\"hp_20_40\",\"hp_40_40\",\"hp_40_50\",\"hp_50_50\",\"hp_50_60\",\"hp_60_60\",\"hp_60_70\",\"hp_70_70\",\"hp_70_80\",\"hp_80_80\",\"hp_80_90\",\"hp_90_90\"],\"xaxis\":\"x\",\"y\":[802.0,2061.0,2661.0,3985.0,4411.0,5074.0,6305.0,6305.0,6731.0,7393.0,7818.0,8481.0,8907.0,9570.0],\"yaxis\":\"y\",\"type\":\"scatter\"},{\"hovertemplate\":\"variable=17<br>index=%{x}<br>value=%{y}<extra></extra>\",\"legendgroup\":\"17\",\"line\":{\"color\":\"#B6E880\",\"dash\":\"solid\"},\"marker\":{\"symbol\":\"circle\"},\"mode\":\"lines\",\"name\":\"17\",\"orientation\":\"v\",\"showlegend\":true,\"x\":[\"hp_1_20\",\"hp_20_20\",\"hp_20_40\",\"hp_40_40\",\"hp_40_50\",\"hp_50_50\",\"hp_50_60\",\"hp_60_60\",\"hp_60_70\",\"hp_70_70\",\"hp_70_80\",\"hp_80_80\",\"hp_80_90\",\"hp_90_90\"],\"xaxis\":\"x\",\"y\":[1039.0,2670.0,3446.0,5162.0,5714.0,6573.0,8167.0,8167.0,8719.0,9576.0,10128.0,10987.0,11538.0,12397.0],\"yaxis\":\"y\",\"type\":\"scatter\"},{\"hovertemplate\":\"variable=18<br>index=%{x}<br>value=%{y}<extra></extra>\",\"legendgroup\":\"18\",\"line\":{\"color\":\"#FF97FF\",\"dash\":\"solid\"},\"marker\":{\"symbol\":\"circle\"},\"mode\":\"lines\",\"name\":\"18\",\"orientation\":\"v\",\"showlegend\":true,\"x\":[\"hp_1_20\",\"hp_20_20\",\"hp_20_40\",\"hp_40_40\",\"hp_40_50\",\"hp_50_50\",\"hp_50_60\",\"hp_60_60\",\"hp_60_70\",\"hp_70_70\",\"hp_70_80\",\"hp_80_80\",\"hp_80_90\",\"hp_90_90\"],\"xaxis\":\"x\",\"y\":[1030.0,2671.0,3554.0,5317.0,5944.0,6839.0,8579.0,8579.0,9207.0,10119.0,10746.0,11669.0,12296.0,13226.0],\"yaxis\":\"y\",\"type\":\"scatter\"},{\"hovertemplate\":\"variable=19<br>index=%{x}<br>value=%{y}<extra></extra>\",\"legendgroup\":\"19\",\"line\":{\"color\":\"#FECB52\",\"dash\":\"solid\"},\"marker\":{\"symbol\":\"circle\"},\"mode\":\"lines\",\"name\":\"19\",\"orientation\":\"v\",\"showlegend\":true,\"x\":[\"hp_1_20\",\"hp_20_20\",\"hp_20_40\",\"hp_40_40\",\"hp_40_50\",\"hp_50_50\",\"hp_50_60\",\"hp_60_60\",\"hp_60_70\",\"hp_70_70\",\"hp_70_80\",\"hp_80_80\",\"hp_80_90\",\"hp_90_90\"],\"xaxis\":\"x\",\"y\":[770.0,1979.0,2555.0,3827.0,4236.0,4872.0,6054.0,6054.0,6463.0,7099.0,7508.0,8144.0,8553.0,9189.0],\"yaxis\":\"y\",\"type\":\"scatter\"},{\"hovertemplate\":\"variable=20<br>index=%{x}<br>value=%{y}<extra></extra>\",\"legendgroup\":\"20\",\"line\":{\"color\":\"#636efa\",\"dash\":\"solid\"},\"marker\":{\"symbol\":\"circle\"},\"mode\":\"lines\",\"name\":\"20\",\"orientation\":\"v\",\"showlegend\":true,\"x\":[\"hp_1_20\",\"hp_20_20\",\"hp_20_40\",\"hp_40_40\",\"hp_40_50\",\"hp_50_50\",\"hp_50_60\",\"hp_60_60\",\"hp_60_70\",\"hp_70_70\",\"hp_70_80\",\"hp_80_80\",\"hp_80_90\",\"hp_90_90\"],\"xaxis\":\"x\",\"y\":[763.0,1978.0,2632.0,3939.0,4403.0,5066.0,6355.0,6355.0,6820.0,7495.0,7960.0,8643.0,9108.0,9797.0],\"yaxis\":\"y\",\"type\":\"scatter\"},{\"hovertemplate\":\"variable=21<br>index=%{x}<br>value=%{y}<extra></extra>\",\"legendgroup\":\"21\",\"line\":{\"color\":\"#EF553B\",\"dash\":\"solid\"},\"marker\":{\"symbol\":\"circle\"},\"mode\":\"lines\",\"name\":\"21\",\"orientation\":\"v\",\"showlegend\":true,\"x\":[\"hp_1_20\",\"hp_20_20\",\"hp_20_40\",\"hp_40_40\",\"hp_40_50\",\"hp_50_50\",\"hp_50_60\",\"hp_60_60\",\"hp_60_70\",\"hp_70_70\",\"hp_70_80\",\"hp_80_80\",\"hp_80_90\",\"hp_90_90\"],\"xaxis\":\"x\",\"y\":[802.0,2061.0,2661.0,3985.0,4411.0,5074.0,6305.0,6305.0,6731.0,7393.0,7818.0,8481.0,8907.0,9570.0],\"yaxis\":\"y\",\"type\":\"scatter\"},{\"hovertemplate\":\"variable=22<br>index=%{x}<br>value=%{y}<extra></extra>\",\"legendgroup\":\"22\",\"line\":{\"color\":\"#00cc96\",\"dash\":\"solid\"},\"marker\":{\"symbol\":\"circle\"},\"mode\":\"lines\",\"name\":\"22\",\"orientation\":\"v\",\"showlegend\":true,\"x\":[\"hp_1_20\",\"hp_20_20\",\"hp_20_40\",\"hp_40_40\",\"hp_40_50\",\"hp_50_50\",\"hp_50_60\",\"hp_60_60\",\"hp_60_70\",\"hp_70_70\",\"hp_70_80\",\"hp_80_80\",\"hp_80_90\",\"hp_90_90\"],\"xaxis\":\"x\",\"y\":[1211.0,3141.0,4179.0,6253.0,6990.0,8042.0,10089.0,10089.0,10826.0,11899.0,12637.0,13721.0,14459.0,15552.0],\"yaxis\":\"y\",\"type\":\"scatter\"},{\"hovertemplate\":\"variable=23<br>index=%{x}<br>value=%{y}<extra></extra>\",\"legendgroup\":\"23\",\"line\":{\"color\":\"#ab63fa\",\"dash\":\"solid\"},\"marker\":{\"symbol\":\"circle\"},\"mode\":\"lines\",\"name\":\"23\",\"orientation\":\"v\",\"showlegend\":true,\"x\":[\"hp_1_20\",\"hp_20_20\",\"hp_20_40\",\"hp_40_40\",\"hp_40_50\",\"hp_50_50\",\"hp_50_60\",\"hp_60_60\",\"hp_60_70\",\"hp_70_70\",\"hp_70_80\",\"hp_80_80\",\"hp_80_90\",\"hp_90_90\"],\"xaxis\":\"x\",\"y\":[1144.0,2967.0,3948.0,5908.0,6605.0,7599.0,9533.0,9533.0,10230.0,11243.0,11940.0,12965.0,13662.0,14695.0],\"yaxis\":\"y\",\"type\":\"scatter\"},{\"hovertemplate\":\"variable=24<br>index=%{x}<br>value=%{y}<extra></extra>\",\"legendgroup\":\"24\",\"line\":{\"color\":\"#FFA15A\",\"dash\":\"solid\"},\"marker\":{\"symbol\":\"circle\"},\"mode\":\"lines\",\"name\":\"24\",\"orientation\":\"v\",\"showlegend\":true,\"x\":[\"hp_1_20\",\"hp_20_20\",\"hp_20_40\",\"hp_40_40\",\"hp_40_50\",\"hp_50_50\",\"hp_50_60\",\"hp_60_60\",\"hp_60_70\",\"hp_70_70\",\"hp_70_80\",\"hp_80_80\",\"hp_80_90\",\"hp_90_90\"],\"xaxis\":\"x\",\"y\":[1039.0,2695.0,3586.0,5366.0,5999.0,6902.0,7747.0,8659.0,9292.0,10213.0,10846.0,11777.0,12410.0,13348.0],\"yaxis\":\"y\",\"type\":\"scatter\"},{\"hovertemplate\":\"variable=25<br>index=%{x}<br>value=%{y}<extra></extra>\",\"legendgroup\":\"25\",\"line\":{\"color\":\"#19d3f3\",\"dash\":\"solid\"},\"marker\":{\"symbol\":\"circle\"},\"mode\":\"lines\",\"name\":\"25\",\"orientation\":\"v\",\"showlegend\":true,\"x\":[\"hp_1_20\",\"hp_20_20\",\"hp_20_40\",\"hp_40_40\",\"hp_40_50\",\"hp_50_50\",\"hp_50_60\",\"hp_60_60\",\"hp_60_70\",\"hp_70_70\",\"hp_70_80\",\"hp_80_80\",\"hp_80_90\",\"hp_90_90\"],\"xaxis\":\"x\",\"y\":[976.0,2506.0,3235.0,4846.0,5364.0,6170.0,7666.0,7666.0,8184.0,8990.0,9508.0,10312.0,10830.0,11636.0],\"yaxis\":\"y\",\"type\":\"scatter\"},{\"hovertemplate\":\"variable=26<br>index=%{x}<br>value=%{y}<extra></extra>\",\"legendgroup\":\"26\",\"line\":{\"color\":\"#FF6692\",\"dash\":\"solid\"},\"marker\":{\"symbol\":\"circle\"},\"mode\":\"lines\",\"name\":\"26\",\"orientation\":\"v\",\"showlegend\":true,\"x\":[\"hp_1_20\",\"hp_20_20\",\"hp_20_40\",\"hp_40_40\",\"hp_40_50\",\"hp_50_50\",\"hp_50_60\",\"hp_60_60\",\"hp_60_70\",\"hp_70_70\",\"hp_70_80\",\"hp_80_80\",\"hp_80_90\",\"hp_90_90\"],\"xaxis\":\"x\",\"y\":[1001.0,2597.0,3455.0,5170.0,5779.0,6649.0,8341.0,8341.0,8951.0,9838.0,10448.0,11345.0,11954.0,12858.0],\"yaxis\":\"y\",\"type\":\"scatter\"},{\"hovertemplate\":\"variable=27<br>index=%{x}<br>value=%{y}<extra></extra>\",\"legendgroup\":\"27\",\"line\":{\"color\":\"#B6E880\",\"dash\":\"solid\"},\"marker\":{\"symbol\":\"circle\"},\"mode\":\"lines\",\"name\":\"27\",\"orientation\":\"v\",\"showlegend\":true,\"x\":[\"hp_1_20\",\"hp_20_20\",\"hp_20_40\",\"hp_40_40\",\"hp_40_50\",\"hp_50_50\",\"hp_50_60\",\"hp_60_60\",\"hp_60_70\",\"hp_70_70\",\"hp_70_80\",\"hp_80_80\",\"hp_80_90\",\"hp_90_90\"],\"xaxis\":\"x\",\"y\":[1068.0,2770.0,3685.0,5514.0,6165.0,7092.0,8897.0,8897.0,9548.0,10494.0,11144.0,12101.0,12751.0,13715.0],\"yaxis\":\"y\",\"type\":\"scatter\"},{\"hovertemplate\":\"variable=28<br>index=%{x}<br>value=%{y}<extra></extra>\",\"legendgroup\":\"28\",\"line\":{\"color\":\"#FF97FF\",\"dash\":\"solid\"},\"marker\":{\"symbol\":\"circle\"},\"mode\":\"lines\",\"name\":\"28\",\"orientation\":\"v\",\"showlegend\":true,\"x\":[\"hp_1_20\",\"hp_20_20\",\"hp_20_40\",\"hp_40_40\",\"hp_40_50\",\"hp_50_50\",\"hp_50_60\",\"hp_60_60\",\"hp_60_70\",\"hp_70_70\",\"hp_70_80\",\"hp_80_80\",\"hp_80_90\",\"hp_90_90\"],\"xaxis\":\"x\",\"y\":[1020.0,2646.0,3521.0,5268.0,5889.0,6776.0,8500.0,8500.0,9121.0,10025.0,10647.0,11561.0,12182.0,13103.0],\"yaxis\":\"y\",\"type\":\"scatter\"},{\"hovertemplate\":\"variable=29<br>index=%{x}<br>value=%{y}<extra></extra>\",\"legendgroup\":\"29\",\"line\":{\"color\":\"#FECB52\",\"dash\":\"solid\"},\"marker\":{\"symbol\":\"circle\"},\"mode\":\"lines\",\"name\":\"29\",\"orientation\":\"v\",\"showlegend\":true,\"x\":[\"hp_1_20\",\"hp_20_20\",\"hp_20_40\",\"hp_40_40\",\"hp_40_50\",\"hp_50_50\",\"hp_50_60\",\"hp_60_60\",\"hp_60_70\",\"hp_70_70\",\"hp_70_80\",\"hp_80_80\",\"hp_80_90\",\"hp_90_90\"],\"xaxis\":\"x\",\"y\":[801.0,2077.0,2764.0,4136.0,4623.0,5319.0,6673.0,6673.0,7161.0,7870.0,8358.0,9076.0,9563.0,10287.0],\"yaxis\":\"y\",\"type\":\"scatter\"},{\"hovertemplate\":\"variable=30<br>index=%{x}<br>value=%{y}<extra></extra>\",\"legendgroup\":\"30\",\"line\":{\"color\":\"#636efa\",\"dash\":\"solid\"},\"marker\":{\"symbol\":\"circle\"},\"mode\":\"lines\",\"name\":\"30\",\"orientation\":\"v\",\"showlegend\":true,\"x\":[\"hp_1_20\",\"hp_20_20\",\"hp_20_40\",\"hp_40_40\",\"hp_40_50\",\"hp_50_50\",\"hp_50_60\",\"hp_60_60\",\"hp_60_70\",\"hp_70_70\",\"hp_70_80\",\"hp_80_80\",\"hp_80_90\",\"hp_90_90\"],\"xaxis\":\"x\",\"y\":[802.0,2061.0,2661.0,3985.0,4411.0,5074.0,6305.0,6305.0,6731.0,7393.0,7818.0,8481.0,8907.0,9570.0],\"yaxis\":\"y\",\"type\":\"scatter\"},{\"hovertemplate\":\"variable=31<br>index=%{x}<br>value=%{y}<extra></extra>\",\"legendgroup\":\"31\",\"line\":{\"color\":\"#EF553B\",\"dash\":\"solid\"},\"marker\":{\"symbol\":\"circle\"},\"mode\":\"lines\",\"name\":\"31\",\"orientation\":\"v\",\"showlegend\":true,\"x\":[\"hp_1_20\",\"hp_20_20\",\"hp_20_40\",\"hp_40_40\",\"hp_40_50\",\"hp_50_50\",\"hp_50_60\",\"hp_60_60\",\"hp_60_70\",\"hp_70_70\",\"hp_70_80\",\"hp_80_80\",\"hp_80_90\",\"hp_90_90\"],\"xaxis\":\"x\",\"y\":[1030.0,2646.0,3416.0,5117.0,5664.0,6515.0,8095.0,8095.0,8642.0,9492.0,10039.0,10890.0,11437.0,12288.0],\"yaxis\":\"y\",\"type\":\"scatter\"},{\"hovertemplate\":\"variable=32<br>index=%{x}<br>value=%{y}<extra></extra>\",\"legendgroup\":\"32\",\"line\":{\"color\":\"#00cc96\",\"dash\":\"solid\"},\"marker\":{\"symbol\":\"circle\"},\"mode\":\"lines\",\"name\":\"32\",\"orientation\":\"v\",\"showlegend\":true,\"x\":[\"hp_1_20\",\"hp_20_20\",\"hp_20_40\",\"hp_40_40\",\"hp_40_50\",\"hp_50_50\",\"hp_50_60\",\"hp_60_60\",\"hp_60_70\",\"hp_70_70\",\"hp_70_80\",\"hp_80_80\",\"hp_80_90\",\"hp_90_90\"],\"xaxis\":\"x\",\"y\":[802.0,2061.0,2661.0,3985.0,4411.0,5074.0,6305.0,6305.0,6731.0,7393.0,7818.0,8481.0,8907.0,9570.0],\"yaxis\":\"y\",\"type\":\"scatter\"},{\"hovertemplate\":\"variable=33<br>index=%{x}<br>value=%{y}<extra></extra>\",\"legendgroup\":\"33\",\"line\":{\"color\":\"#ab63fa\",\"dash\":\"solid\"},\"marker\":{\"symbol\":\"circle\"},\"mode\":\"lines\",\"name\":\"33\",\"orientation\":\"v\",\"showlegend\":true,\"x\":[\"hp_1_20\",\"hp_20_20\",\"hp_20_40\",\"hp_40_40\",\"hp_40_50\",\"hp_50_50\",\"hp_50_60\",\"hp_60_60\",\"hp_60_70\",\"hp_70_70\",\"hp_70_80\",\"hp_80_80\",\"hp_80_90\",\"hp_90_90\"],\"xaxis\":\"x\",\"y\":[810.0,2102.0,2797.0,4185.0,4678.0,5383.0,6752.0,6752.0,7246.0,7964.0,8458.0,9184.0,9677.0,10409.0],\"yaxis\":\"y\",\"type\":\"scatter\"},{\"hovertemplate\":\"variable=34<br>index=%{x}<br>value=%{y}<extra></extra>\",\"legendgroup\":\"34\",\"line\":{\"color\":\"#FFA15A\",\"dash\":\"solid\"},\"marker\":{\"symbol\":\"circle\"},\"mode\":\"lines\",\"name\":\"34\",\"orientation\":\"v\",\"showlegend\":true,\"x\":[\"hp_1_20\",\"hp_20_20\",\"hp_20_40\",\"hp_40_40\",\"hp_40_50\",\"hp_50_50\",\"hp_50_60\",\"hp_60_60\",\"hp_60_70\",\"hp_70_70\",\"hp_70_80\",\"hp_80_80\",\"hp_80_90\",\"hp_90_90\"],\"xaxis\":\"x\",\"y\":[null,null,null,null,null,null,null,null,null,null,null,null,null,null],\"yaxis\":\"y\",\"type\":\"scatter\"},{\"hovertemplate\":\"variable=35<br>index=%{x}<br>value=%{y}<extra></extra>\",\"legendgroup\":\"35\",\"line\":{\"color\":\"#19d3f3\",\"dash\":\"solid\"},\"marker\":{\"symbol\":\"circle\"},\"mode\":\"lines\",\"name\":\"35\",\"orientation\":\"v\",\"showlegend\":true,\"x\":[\"hp_1_20\",\"hp_20_20\",\"hp_20_40\",\"hp_40_40\",\"hp_40_50\",\"hp_50_50\",\"hp_50_60\",\"hp_60_60\",\"hp_60_70\",\"hp_70_70\",\"hp_70_80\",\"hp_80_80\",\"hp_80_90\",\"hp_90_90\"],\"xaxis\":\"x\",\"y\":[1182.0,3066.0,4079.0,6104.0,6825.0,7852.0,9850.0,9850.0,10570.0,11617.0,12338.0,13397.0,14117.0,15184.0],\"yaxis\":\"y\",\"type\":\"scatter\"},{\"hovertemplate\":\"variable=36<br>index=%{x}<br>value=%{y}<extra></extra>\",\"legendgroup\":\"36\",\"line\":{\"color\":\"#FF6692\",\"dash\":\"solid\"},\"marker\":{\"symbol\":\"circle\"},\"mode\":\"lines\",\"name\":\"36\",\"orientation\":\"v\",\"showlegend\":true,\"x\":[\"hp_1_20\",\"hp_20_20\",\"hp_20_40\",\"hp_40_40\",\"hp_40_50\",\"hp_50_50\",\"hp_50_60\",\"hp_60_60\",\"hp_60_70\",\"hp_70_70\",\"hp_70_80\",\"hp_80_80\",\"hp_80_90\",\"hp_90_90\"],\"xaxis\":\"x\",\"y\":[821.0,2108.0,2721.0,4076.0,4512.0,5189.0,6448.0,6448.0,6884.0,7561.0,7996.0,8674.0,9110.0,9787.0],\"yaxis\":\"y\",\"type\":\"scatter\"},{\"hovertemplate\":\"variable=37<br>index=%{x}<br>value=%{y}<extra></extra>\",\"legendgroup\":\"37\",\"line\":{\"color\":\"#B6E880\",\"dash\":\"solid\"},\"marker\":{\"symbol\":\"circle\"},\"mode\":\"lines\",\"name\":\"37\",\"orientation\":\"v\",\"showlegend\":true,\"x\":[\"hp_1_20\",\"hp_20_20\",\"hp_20_40\",\"hp_40_40\",\"hp_40_50\",\"hp_50_50\",\"hp_50_60\",\"hp_60_60\",\"hp_60_70\",\"hp_70_70\",\"hp_70_80\",\"hp_80_80\",\"hp_80_90\",\"hp_90_90\"],\"xaxis\":\"x\",\"y\":[1012.0,2600.0,3356.0,5027.0,5564.0,6400.0,7953.0,7953.0,8490.0,9325.0,9862.0,10698.0,11235.0,12071.0],\"yaxis\":\"y\",\"type\":\"scatter\"},{\"hovertemplate\":\"variable=38<br>index=%{x}<br>value=%{y}<extra></extra>\",\"legendgroup\":\"38\",\"line\":{\"color\":\"#FF97FF\",\"dash\":\"solid\"},\"marker\":{\"symbol\":\"circle\"},\"mode\":\"lines\",\"name\":\"38\",\"orientation\":\"v\",\"showlegend\":true,\"x\":[\"hp_1_20\",\"hp_20_20\",\"hp_20_40\",\"hp_40_40\",\"hp_40_50\",\"hp_50_50\",\"hp_50_60\",\"hp_60_60\",\"hp_60_70\",\"hp_70_70\",\"hp_70_80\",\"hp_80_80\",\"hp_80_90\",\"hp_90_90\"],\"xaxis\":\"x\",\"y\":[963.0,2498.0,3323.0,4973.0,5559.0,6396.0,8023.0,8023.0,8610.0,9463.0,10050.0,10912.0,11499.0,12368.0],\"yaxis\":\"y\",\"type\":\"scatter\"},{\"hovertemplate\":\"variable=39<br>index=%{x}<br>value=%{y}<extra></extra>\",\"legendgroup\":\"39\",\"line\":{\"color\":\"#FECB52\",\"dash\":\"solid\"},\"marker\":{\"symbol\":\"circle\"},\"mode\":\"lines\",\"name\":\"39\",\"orientation\":\"v\",\"showlegend\":true,\"x\":[\"hp_1_20\",\"hp_20_20\",\"hp_20_40\",\"hp_40_40\",\"hp_40_50\",\"hp_50_50\",\"hp_50_60\",\"hp_60_60\",\"hp_60_70\",\"hp_70_70\",\"hp_70_80\",\"hp_80_80\",\"hp_80_90\",\"hp_90_90\"],\"xaxis\":\"x\",\"y\":[1005.0,2606.0,3468.0,5189.0,5801.0,6675.0,8373.0,8373.0,8985.0,9875.0,10487.0,11388.0,12000.0,12907.0],\"yaxis\":\"y\",\"type\":\"scatter\"},{\"hovertemplate\":\"variable=40<br>index=%{x}<br>value=%{y}<extra></extra>\",\"legendgroup\":\"40\",\"line\":{\"color\":\"#636efa\",\"dash\":\"solid\"},\"marker\":{\"symbol\":\"circle\"},\"mode\":\"lines\",\"name\":\"40\",\"orientation\":\"v\",\"showlegend\":true,\"x\":[\"hp_1_20\",\"hp_20_20\",\"hp_20_40\",\"hp_40_40\",\"hp_40_50\",\"hp_50_50\",\"hp_50_60\",\"hp_60_60\",\"hp_60_70\",\"hp_70_70\",\"hp_70_80\",\"hp_80_80\",\"hp_80_90\",\"hp_90_90\"],\"xaxis\":\"x\",\"y\":[1003.0,2577.0,3326.0,4982.0,5514.0,6343.0,7881.0,7881.0,8413.0,9241.0,9773.0,10602.0,11134.0,11962.0],\"yaxis\":\"y\",\"type\":\"scatter\"},{\"hovertemplate\":\"variable=41<br>index=%{x}<br>value=%{y}<extra></extra>\",\"legendgroup\":\"41\",\"line\":{\"color\":\"#EF553B\",\"dash\":\"solid\"},\"marker\":{\"symbol\":\"circle\"},\"mode\":\"lines\",\"name\":\"41\",\"orientation\":\"v\",\"showlegend\":true,\"x\":[\"hp_1_20\",\"hp_20_20\",\"hp_20_40\",\"hp_40_40\",\"hp_40_50\",\"hp_50_50\",\"hp_50_60\",\"hp_60_60\",\"hp_60_70\",\"hp_70_70\",\"hp_70_80\",\"hp_80_80\",\"hp_80_90\",\"hp_90_90\"],\"xaxis\":\"x\",\"y\":[1030.0,2647.0,3417.0,5118.0,5665.0,6516.0,8096.0,8096.0,8643.0,9493.0,10040.0,10891.0,11438.0,12289.0],\"yaxis\":\"y\",\"type\":\"scatter\"},{\"hovertemplate\":\"variable=42<br>index=%{x}<br>value=%{y}<extra></extra>\",\"legendgroup\":\"42\",\"line\":{\"color\":\"#00cc96\",\"dash\":\"solid\"},\"marker\":{\"symbol\":\"circle\"},\"mode\":\"lines\",\"name\":\"42\",\"orientation\":\"v\",\"showlegend\":true,\"x\":[\"hp_1_20\",\"hp_20_20\",\"hp_20_40\",\"hp_40_40\",\"hp_40_50\",\"hp_50_50\",\"hp_50_60\",\"hp_60_60\",\"hp_60_70\",\"hp_70_70\",\"hp_70_80\",\"hp_80_80\",\"hp_80_90\",\"hp_90_90\"],\"xaxis\":\"x\",\"y\":[1049.0,2720.0,3619.0,5416.0,6055.0,6966.0,8738.0,8738.0,9377.0,10306.0,10945.0,11885.0,12524.0,13471.0],\"yaxis\":\"y\",\"type\":\"scatter\"},{\"hovertemplate\":\"variable=43<br>index=%{x}<br>value=%{y}<extra></extra>\",\"legendgroup\":\"43\",\"line\":{\"color\":\"#ab63fa\",\"dash\":\"solid\"},\"marker\":{\"symbol\":\"circle\"},\"mode\":\"lines\",\"name\":\"43\",\"orientation\":\"v\",\"showlegend\":true,\"x\":[\"hp_1_20\",\"hp_20_20\",\"hp_20_40\",\"hp_40_40\",\"hp_40_50\",\"hp_50_50\",\"hp_50_60\",\"hp_60_60\",\"hp_60_70\",\"hp_70_70\",\"hp_70_80\",\"hp_80_80\",\"hp_80_90\",\"hp_90_90\"],\"xaxis\":\"x\",\"y\":[994.0,2553.0,3296.0,4937.0,5464.0,6285.0,7809.0,7809.0,8337.0,9157.0,9684.0,10505.0,11033.0,11854.0],\"yaxis\":\"y\",\"type\":\"scatter\"},{\"hovertemplate\":\"variable=44<br>index=%{x}<br>value=%{y}<extra></extra>\",\"legendgroup\":\"44\",\"line\":{\"color\":\"#FFA15A\",\"dash\":\"solid\"},\"marker\":{\"symbol\":\"circle\"},\"mode\":\"lines\",\"name\":\"44\",\"orientation\":\"v\",\"showlegend\":true,\"x\":[\"hp_1_20\",\"hp_20_20\",\"hp_20_40\",\"hp_40_40\",\"hp_40_50\",\"hp_50_50\",\"hp_50_60\",\"hp_60_60\",\"hp_60_70\",\"hp_70_70\",\"hp_70_80\",\"hp_80_80\",\"hp_80_90\",\"hp_90_90\"],\"xaxis\":\"x\",\"y\":[1011.0,2624.0,3491.0,5224.0,5840.0,6719.0,8429.0,8429.0,9045.0,9941.0,10557.0,11463.0,12080.0,12993.0],\"yaxis\":\"y\",\"type\":\"scatter\"},{\"hovertemplate\":\"variable=45<br>index=%{x}<br>value=%{y}<extra></extra>\",\"legendgroup\":\"45\",\"line\":{\"color\":\"#19d3f3\",\"dash\":\"solid\"},\"marker\":{\"symbol\":\"circle\"},\"mode\":\"lines\",\"name\":\"45\",\"orientation\":\"v\",\"showlegend\":true,\"x\":[\"hp_1_20\",\"hp_20_20\",\"hp_20_40\",\"hp_40_40\",\"hp_40_50\",\"hp_50_50\",\"hp_50_60\",\"hp_60_60\",\"hp_60_70\",\"hp_70_70\",\"hp_70_80\",\"hp_80_80\",\"hp_80_90\",\"hp_90_90\"],\"xaxis\":\"x\",\"y\":[893.0,2295.0,2963.0,4438.0,4912.0,5650.0,7021.0,7021.0,7495.0,8232.0,8706.0,9445.0,9919.0,10657.0],\"yaxis\":\"y\",\"type\":\"scatter\"},{\"hovertemplate\":\"variable=46<br>index=%{x}<br>value=%{y}<extra></extra>\",\"legendgroup\":\"46\",\"line\":{\"color\":\"#FF6692\",\"dash\":\"solid\"},\"marker\":{\"symbol\":\"circle\"},\"mode\":\"lines\",\"name\":\"46\",\"orientation\":\"v\",\"showlegend\":true,\"x\":[\"hp_1_20\",\"hp_20_20\",\"hp_20_40\",\"hp_40_40\",\"hp_40_50\",\"hp_50_50\",\"hp_50_60\",\"hp_60_60\",\"hp_60_70\",\"hp_70_70\",\"hp_70_80\",\"hp_80_80\",\"hp_80_90\",\"hp_90_90\"],\"xaxis\":\"x\",\"y\":[775.0,1991.0,2570.0,3850.0,4261.0,4901.0,6090.0,6090.0,6501.0,7141.0,7552.0,8192.0,8603.0,9243.0],\"yaxis\":\"y\",\"type\":\"scatter\"},{\"hovertemplate\":\"variable=47<br>index=%{x}<br>value=%{y}<extra></extra>\",\"legendgroup\":\"47\",\"line\":{\"color\":\"#B6E880\",\"dash\":\"solid\"},\"marker\":{\"symbol\":\"circle\"},\"mode\":\"lines\",\"name\":\"47\",\"orientation\":\"v\",\"showlegend\":true,\"x\":[\"hp_1_20\",\"hp_20_20\",\"hp_20_40\",\"hp_40_40\",\"hp_40_50\",\"hp_50_50\",\"hp_50_60\",\"hp_60_60\",\"hp_60_70\",\"hp_70_70\",\"hp_70_80\",\"hp_80_80\",\"hp_80_90\",\"hp_90_90\"],\"xaxis\":\"x\",\"y\":[1020.0,2646.0,3521.0,5268.0,5889.0,6776.0,8500.0,8500.0,9121.0,10025.0,10647.0,11561.0,12182.0,13103.0],\"yaxis\":\"y\",\"type\":\"scatter\"},{\"hovertemplate\":\"variable=48<br>index=%{x}<br>value=%{y}<extra></extra>\",\"legendgroup\":\"48\",\"line\":{\"color\":\"#FF97FF\",\"dash\":\"solid\"},\"marker\":{\"symbol\":\"circle\"},\"mode\":\"lines\",\"name\":\"48\",\"orientation\":\"v\",\"showlegend\":true,\"x\":[\"hp_1_20\",\"hp_20_20\",\"hp_20_40\",\"hp_40_40\",\"hp_40_50\",\"hp_50_50\",\"hp_50_60\",\"hp_60_60\",\"hp_60_70\",\"hp_70_70\",\"hp_70_80\",\"hp_80_80\",\"hp_80_90\",\"hp_90_90\"],\"xaxis\":\"x\",\"y\":[866.0,2225.0,2872.0,4302.0,4762.0,5478.0,6806.0,6806.0,7266.0,7981.0,8440.0,9156.0,9616.0,10331.0],\"yaxis\":\"y\",\"type\":\"scatter\"},{\"hovertemplate\":\"variable=49<br>index=%{x}<br>value=%{y}<extra></extra>\",\"legendgroup\":\"49\",\"line\":{\"color\":\"#FECB52\",\"dash\":\"solid\"},\"marker\":{\"symbol\":\"circle\"},\"mode\":\"lines\",\"name\":\"49\",\"orientation\":\"v\",\"showlegend\":true,\"x\":[\"hp_1_20\",\"hp_20_20\",\"hp_20_40\",\"hp_40_40\",\"hp_40_50\",\"hp_50_50\",\"hp_50_60\",\"hp_60_60\",\"hp_60_70\",\"hp_70_70\",\"hp_70_80\",\"hp_80_80\",\"hp_80_90\",\"hp_90_90\"],\"xaxis\":\"x\",\"y\":[844.0,2191.0,2915.0,4362.0,4876.0,5610.0,7038.0,7038.0,7552.0,8301.0,8815.0,9572.0,10087.0,10849.0],\"yaxis\":\"y\",\"type\":\"scatter\"},{\"hovertemplate\":\"variable=50<br>index=%{x}<br>value=%{y}<extra></extra>\",\"legendgroup\":\"50\",\"line\":{\"color\":\"#636efa\",\"dash\":\"solid\"},\"marker\":{\"symbol\":\"circle\"},\"mode\":\"lines\",\"name\":\"50\",\"orientation\":\"v\",\"showlegend\":true,\"x\":[\"hp_1_20\",\"hp_20_20\",\"hp_20_40\",\"hp_40_40\",\"hp_40_50\",\"hp_50_50\",\"hp_50_60\",\"hp_60_60\",\"hp_60_70\",\"hp_70_70\",\"hp_70_80\",\"hp_80_80\",\"hp_80_90\",\"hp_90_90\"],\"xaxis\":\"x\",\"y\":[912.0,2342.0,3024.0,4529.0,5013.0,5766.0,7164.0,7164.0,7648.0,8401.0,8885.0,9638.0,10122.0,10875.0],\"yaxis\":\"y\",\"type\":\"scatter\"},{\"hovertemplate\":\"variable=51<br>index=%{x}<br>value=%{y}<extra></extra>\",\"legendgroup\":\"51\",\"line\":{\"color\":\"#EF553B\",\"dash\":\"solid\"},\"marker\":{\"symbol\":\"circle\"},\"mode\":\"lines\",\"name\":\"51\",\"orientation\":\"v\",\"showlegend\":true,\"x\":[\"hp_1_20\",\"hp_20_20\",\"hp_20_40\",\"hp_40_40\",\"hp_40_50\",\"hp_50_50\",\"hp_50_60\",\"hp_60_60\",\"hp_60_70\",\"hp_70_70\",\"hp_70_80\",\"hp_80_80\",\"hp_80_90\",\"hp_90_90\"],\"xaxis\":\"x\",\"y\":[912.0,2342.0,3024.0,4529.0,5013.0,5766.0,7164.0,7164.0,7648.0,8401.0,8885.0,9638.0,10122.0,10875.0],\"yaxis\":\"y\",\"type\":\"scatter\"},{\"hovertemplate\":\"variable=52<br>index=%{x}<br>value=%{y}<extra></extra>\",\"legendgroup\":\"52\",\"line\":{\"color\":\"#00cc96\",\"dash\":\"solid\"},\"marker\":{\"symbol\":\"circle\"},\"mode\":\"lines\",\"name\":\"52\",\"orientation\":\"v\",\"showlegend\":true,\"x\":[\"hp_1_20\",\"hp_20_20\",\"hp_20_40\",\"hp_40_40\",\"hp_40_50\",\"hp_50_50\",\"hp_50_60\",\"hp_60_60\",\"hp_60_70\",\"hp_70_70\",\"hp_70_80\",\"hp_80_80\",\"hp_80_90\",\"hp_90_90\"],\"xaxis\":\"x\",\"y\":[820.0,2127.0,2830.0,4234.0,4734.0,5446.0,6832.0,6832.0,7331.0,8058.0,8557.0,9292.0,9790.0,10531.0],\"yaxis\":\"y\",\"type\":\"scatter\"},{\"hovertemplate\":\"variable=53<br>index=%{x}<br>value=%{y}<extra></extra>\",\"legendgroup\":\"53\",\"line\":{\"color\":\"#ab63fa\",\"dash\":\"solid\"},\"marker\":{\"symbol\":\"circle\"},\"mode\":\"lines\",\"name\":\"53\",\"orientation\":\"v\",\"showlegend\":true,\"x\":[\"hp_1_20\",\"hp_20_20\",\"hp_20_40\",\"hp_40_40\",\"hp_40_50\",\"hp_50_50\",\"hp_50_60\",\"hp_60_60\",\"hp_60_70\",\"hp_70_70\",\"hp_70_80\",\"hp_80_80\",\"hp_80_90\",\"hp_90_90\"],\"xaxis\":\"x\",\"y\":[912.0,2342.0,3024.0,4529.0,5013.0,5766.0,7164.0,7164.0,7648.0,8401.0,8885.0,9638.0,10122.0,10875.0],\"yaxis\":\"y\",\"type\":\"scatter\"},{\"hovertemplate\":\"variable=54<br>index=%{x}<br>value=%{y}<extra></extra>\",\"legendgroup\":\"54\",\"line\":{\"color\":\"#FFA15A\",\"dash\":\"solid\"},\"marker\":{\"symbol\":\"circle\"},\"mode\":\"lines\",\"name\":\"54\",\"orientation\":\"v\",\"showlegend\":true,\"x\":[\"hp_1_20\",\"hp_20_20\",\"hp_20_40\",\"hp_40_40\",\"hp_40_50\",\"hp_50_50\",\"hp_50_60\",\"hp_60_60\",\"hp_60_70\",\"hp_70_70\",\"hp_70_80\",\"hp_80_80\",\"hp_80_90\",\"hp_90_90\"],\"xaxis\":\"x\",\"y\":[991.0,2572.0,3422.0,5120.0,5724.0,6586.0,8262.0,8262.0,8866.0,9744.0,10348.0,11236.0,11840.0,12736.0],\"yaxis\":\"y\",\"type\":\"scatter\"},{\"hovertemplate\":\"variable=55<br>index=%{x}<br>value=%{y}<extra></extra>\",\"legendgroup\":\"55\",\"line\":{\"color\":\"#19d3f3\",\"dash\":\"solid\"},\"marker\":{\"symbol\":\"circle\"},\"mode\":\"lines\",\"name\":\"55\",\"orientation\":\"v\",\"showlegend\":true,\"x\":[\"hp_1_20\",\"hp_20_20\",\"hp_20_40\",\"hp_40_40\",\"hp_40_50\",\"hp_50_50\",\"hp_50_60\",\"hp_60_60\",\"hp_60_70\",\"hp_70_70\",\"hp_70_80\",\"hp_80_80\",\"hp_80_90\",\"hp_90_90\"],\"xaxis\":\"x\",\"y\":[857.0,2202.0,2842.0,4257.0,4712.0,5420.0,6735.0,6735.0,7190.0,7897.0,8352.0,9060.0,9515.0,10223.0],\"yaxis\":\"y\",\"type\":\"scatter\"},{\"hovertemplate\":\"variable=56<br>index=%{x}<br>value=%{y}<extra></extra>\",\"legendgroup\":\"56\",\"line\":{\"color\":\"#FF6692\",\"dash\":\"solid\"},\"marker\":{\"symbol\":\"circle\"},\"mode\":\"lines\",\"name\":\"56\",\"orientation\":\"v\",\"showlegend\":true,\"x\":[\"hp_1_20\",\"hp_20_20\",\"hp_20_40\",\"hp_40_40\",\"hp_40_50\",\"hp_50_50\",\"hp_50_60\",\"hp_60_60\",\"hp_60_70\",\"hp_70_70\",\"hp_70_80\",\"hp_80_80\",\"hp_80_90\",\"hp_90_90\"],\"xaxis\":\"x\",\"y\":[939.0,2413.0,3114.0,4665.0,5163.0,5939.0,7379.0,7379.0,7878.0,8653.0,9151.0,9927.0,10425.0,11201.0],\"yaxis\":\"y\",\"type\":\"scatter\"},{\"hovertemplate\":\"variable=57<br>index=%{x}<br>value=%{y}<extra></extra>\",\"legendgroup\":\"57\",\"line\":{\"color\":\"#B6E880\",\"dash\":\"solid\"},\"marker\":{\"symbol\":\"circle\"},\"mode\":\"lines\",\"name\":\"57\",\"orientation\":\"v\",\"showlegend\":true,\"x\":[\"hp_1_20\",\"hp_20_20\",\"hp_20_40\",\"hp_40_40\",\"hp_40_50\",\"hp_50_50\",\"hp_50_60\",\"hp_60_60\",\"hp_60_70\",\"hp_70_70\",\"hp_70_80\",\"hp_80_80\",\"hp_80_90\",\"hp_90_90\"],\"xaxis\":\"x\",\"y\":[807.0,2065.0,2787.0,4170.0,4662.0,5364.0,6729.0,6729.0,7220.0,7936.0,8428.0,9151.0,9643.0,10372.0],\"yaxis\":\"y\",\"type\":\"scatter\"},{\"hovertemplate\":\"variable=58<br>index=%{x}<br>value=%{y}<extra></extra>\",\"legendgroup\":\"58\",\"line\":{\"color\":\"#FF97FF\",\"dash\":\"solid\"},\"marker\":{\"symbol\":\"circle\"},\"mode\":\"lines\",\"name\":\"58\",\"orientation\":\"v\",\"showlegend\":true,\"x\":[\"hp_1_20\",\"hp_20_20\",\"hp_20_40\",\"hp_40_40\",\"hp_40_50\",\"hp_50_50\",\"hp_50_60\",\"hp_60_60\",\"hp_60_70\",\"hp_70_70\",\"hp_70_80\",\"hp_80_80\",\"hp_80_90\",\"hp_90_90\"],\"xaxis\":\"x\",\"y\":[784.0,2014.0,2600.0,3895.0,4311.0,4959.0,6161.0,6161.0,6578.0,7225.0,7641.0,8289.0,8705.0,9352.0],\"yaxis\":\"y\",\"type\":\"scatter\"},{\"hovertemplate\":\"variable=59<br>index=%{x}<br>value=%{y}<extra></extra>\",\"legendgroup\":\"59\",\"line\":{\"color\":\"#FECB52\",\"dash\":\"solid\"},\"marker\":{\"symbol\":\"circle\"},\"mode\":\"lines\",\"name\":\"59\",\"orientation\":\"v\",\"showlegend\":true,\"x\":[\"hp_1_20\",\"hp_20_20\",\"hp_20_40\",\"hp_40_40\",\"hp_40_50\",\"hp_50_50\",\"hp_50_60\",\"hp_60_60\",\"hp_60_70\",\"hp_70_70\",\"hp_70_80\",\"hp_80_80\",\"hp_80_90\",\"hp_90_90\"],\"xaxis\":\"x\",\"y\":[1125.0,2918.0,3883.0,5810.0,6495.0,7472.0,9374.0,9374.0,10059.0,11056.0,11741.0,12749.0,13434.0,14450.0],\"yaxis\":\"y\",\"type\":\"scatter\"},{\"hovertemplate\":\"variable=60<br>index=%{x}<br>value=%{y}<extra></extra>\",\"legendgroup\":\"60\",\"line\":{\"color\":\"#636efa\",\"dash\":\"solid\"},\"marker\":{\"symbol\":\"circle\"},\"mode\":\"lines\",\"name\":\"60\",\"orientation\":\"v\",\"showlegend\":true,\"x\":[\"hp_1_20\",\"hp_20_20\",\"hp_20_40\",\"hp_40_40\",\"hp_40_50\",\"hp_50_50\",\"hp_50_60\",\"hp_60_60\",\"hp_60_70\",\"hp_70_70\",\"hp_70_80\",\"hp_80_80\",\"hp_80_90\",\"hp_90_90\"],\"xaxis\":\"x\",\"y\":[791.0,2053.0,2731.0,4086.0,4568.0,5256.0,6593.0,6593.0,7075.0,7777.0,8259.0,8968.0,9450.0,10164.0],\"yaxis\":\"y\",\"type\":\"scatter\"},{\"hovertemplate\":\"variable=61<br>index=%{x}<br>value=%{y}<extra></extra>\",\"legendgroup\":\"61\",\"line\":{\"color\":\"#EF553B\",\"dash\":\"solid\"},\"marker\":{\"symbol\":\"circle\"},\"mode\":\"lines\",\"name\":\"61\",\"orientation\":\"v\",\"showlegend\":true,\"x\":[\"hp_1_20\",\"hp_20_20\",\"hp_20_40\",\"hp_40_40\",\"hp_40_50\",\"hp_50_50\",\"hp_50_60\",\"hp_60_60\",\"hp_60_70\",\"hp_70_70\",\"hp_70_80\",\"hp_80_80\",\"hp_80_90\",\"hp_90_90\"],\"xaxis\":\"x\",\"y\":[894.0,2296.0,2963.0,4438.0,4913.0,5651.0,7021.0,7021.0,7495.0,8233.0,8707.0,9445.0,9919.0,10657.0],\"yaxis\":\"y\",\"type\":\"scatter\"},{\"hovertemplate\":\"variable=62<br>index=%{x}<br>value=%{y}<extra></extra>\",\"legendgroup\":\"62\",\"line\":{\"color\":\"#00cc96\",\"dash\":\"solid\"},\"marker\":{\"symbol\":\"circle\"},\"mode\":\"lines\",\"name\":\"62\",\"orientation\":\"v\",\"showlegend\":true,\"x\":[\"hp_1_20\",\"hp_20_20\",\"hp_20_40\",\"hp_40_40\",\"hp_40_50\",\"hp_50_50\",\"hp_50_60\",\"hp_60_60\",\"hp_60_70\",\"hp_70_70\",\"hp_70_80\",\"hp_80_80\",\"hp_80_90\",\"hp_90_90\"],\"xaxis\":\"x\",\"y\":[1144.0,2967.0,3948.0,5908.0,6605.0,7599.0,9533.0,9533.0,10230.0,11243.0,11940.0,12965.0,13662.0,14695.0],\"yaxis\":\"y\",\"type\":\"scatter\"}],                        {\"template\":{\"data\":{\"histogram2dcontour\":[{\"type\":\"histogram2dcontour\",\"colorbar\":{\"outlinewidth\":0,\"ticks\":\"\"},\"colorscale\":[[0.0,\"#0d0887\"],[0.1111111111111111,\"#46039f\"],[0.2222222222222222,\"#7201a8\"],[0.3333333333333333,\"#9c179e\"],[0.4444444444444444,\"#bd3786\"],[0.5555555555555556,\"#d8576b\"],[0.6666666666666666,\"#ed7953\"],[0.7777777777777778,\"#fb9f3a\"],[0.8888888888888888,\"#fdca26\"],[1.0,\"#f0f921\"]]}],\"choropleth\":[{\"type\":\"choropleth\",\"colorbar\":{\"outlinewidth\":0,\"ticks\":\"\"}}],\"histogram2d\":[{\"type\":\"histogram2d\",\"colorbar\":{\"outlinewidth\":0,\"ticks\":\"\"},\"colorscale\":[[0.0,\"#0d0887\"],[0.1111111111111111,\"#46039f\"],[0.2222222222222222,\"#7201a8\"],[0.3333333333333333,\"#9c179e\"],[0.4444444444444444,\"#bd3786\"],[0.5555555555555556,\"#d8576b\"],[0.6666666666666666,\"#ed7953\"],[0.7777777777777778,\"#fb9f3a\"],[0.8888888888888888,\"#fdca26\"],[1.0,\"#f0f921\"]]}],\"heatmap\":[{\"type\":\"heatmap\",\"colorbar\":{\"outlinewidth\":0,\"ticks\":\"\"},\"colorscale\":[[0.0,\"#0d0887\"],[0.1111111111111111,\"#46039f\"],[0.2222222222222222,\"#7201a8\"],[0.3333333333333333,\"#9c179e\"],[0.4444444444444444,\"#bd3786\"],[0.5555555555555556,\"#d8576b\"],[0.6666666666666666,\"#ed7953\"],[0.7777777777777778,\"#fb9f3a\"],[0.8888888888888888,\"#fdca26\"],[1.0,\"#f0f921\"]]}],\"heatmapgl\":[{\"type\":\"heatmapgl\",\"colorbar\":{\"outlinewidth\":0,\"ticks\":\"\"},\"colorscale\":[[0.0,\"#0d0887\"],[0.1111111111111111,\"#46039f\"],[0.2222222222222222,\"#7201a8\"],[0.3333333333333333,\"#9c179e\"],[0.4444444444444444,\"#bd3786\"],[0.5555555555555556,\"#d8576b\"],[0.6666666666666666,\"#ed7953\"],[0.7777777777777778,\"#fb9f3a\"],[0.8888888888888888,\"#fdca26\"],[1.0,\"#f0f921\"]]}],\"contourcarpet\":[{\"type\":\"contourcarpet\",\"colorbar\":{\"outlinewidth\":0,\"ticks\":\"\"}}],\"contour\":[{\"type\":\"contour\",\"colorbar\":{\"outlinewidth\":0,\"ticks\":\"\"},\"colorscale\":[[0.0,\"#0d0887\"],[0.1111111111111111,\"#46039f\"],[0.2222222222222222,\"#7201a8\"],[0.3333333333333333,\"#9c179e\"],[0.4444444444444444,\"#bd3786\"],[0.5555555555555556,\"#d8576b\"],[0.6666666666666666,\"#ed7953\"],[0.7777777777777778,\"#fb9f3a\"],[0.8888888888888888,\"#fdca26\"],[1.0,\"#f0f921\"]]}],\"surface\":[{\"type\":\"surface\",\"colorbar\":{\"outlinewidth\":0,\"ticks\":\"\"},\"colorscale\":[[0.0,\"#0d0887\"],[0.1111111111111111,\"#46039f\"],[0.2222222222222222,\"#7201a8\"],[0.3333333333333333,\"#9c179e\"],[0.4444444444444444,\"#bd3786\"],[0.5555555555555556,\"#d8576b\"],[0.6666666666666666,\"#ed7953\"],[0.7777777777777778,\"#fb9f3a\"],[0.8888888888888888,\"#fdca26\"],[1.0,\"#f0f921\"]]}],\"mesh3d\":[{\"type\":\"mesh3d\",\"colorbar\":{\"outlinewidth\":0,\"ticks\":\"\"}}],\"scatter\":[{\"fillpattern\":{\"fillmode\":\"overlay\",\"size\":10,\"solidity\":0.2},\"type\":\"scatter\"}],\"parcoords\":[{\"type\":\"parcoords\",\"line\":{\"colorbar\":{\"outlinewidth\":0,\"ticks\":\"\"}}}],\"scatterpolargl\":[{\"type\":\"scatterpolargl\",\"marker\":{\"colorbar\":{\"outlinewidth\":0,\"ticks\":\"\"}}}],\"bar\":[{\"error_x\":{\"color\":\"#2a3f5f\"},\"error_y\":{\"color\":\"#2a3f5f\"},\"marker\":{\"line\":{\"color\":\"#E5ECF6\",\"width\":0.5},\"pattern\":{\"fillmode\":\"overlay\",\"size\":10,\"solidity\":0.2}},\"type\":\"bar\"}],\"scattergeo\":[{\"type\":\"scattergeo\",\"marker\":{\"colorbar\":{\"outlinewidth\":0,\"ticks\":\"\"}}}],\"scatterpolar\":[{\"type\":\"scatterpolar\",\"marker\":{\"colorbar\":{\"outlinewidth\":0,\"ticks\":\"\"}}}],\"histogram\":[{\"marker\":{\"pattern\":{\"fillmode\":\"overlay\",\"size\":10,\"solidity\":0.2}},\"type\":\"histogram\"}],\"scattergl\":[{\"type\":\"scattergl\",\"marker\":{\"colorbar\":{\"outlinewidth\":0,\"ticks\":\"\"}}}],\"scatter3d\":[{\"type\":\"scatter3d\",\"line\":{\"colorbar\":{\"outlinewidth\":0,\"ticks\":\"\"}},\"marker\":{\"colorbar\":{\"outlinewidth\":0,\"ticks\":\"\"}}}],\"scattermapbox\":[{\"type\":\"scattermapbox\",\"marker\":{\"colorbar\":{\"outlinewidth\":0,\"ticks\":\"\"}}}],\"scatterternary\":[{\"type\":\"scatterternary\",\"marker\":{\"colorbar\":{\"outlinewidth\":0,\"ticks\":\"\"}}}],\"scattercarpet\":[{\"type\":\"scattercarpet\",\"marker\":{\"colorbar\":{\"outlinewidth\":0,\"ticks\":\"\"}}}],\"carpet\":[{\"aaxis\":{\"endlinecolor\":\"#2a3f5f\",\"gridcolor\":\"white\",\"linecolor\":\"white\",\"minorgridcolor\":\"white\",\"startlinecolor\":\"#2a3f5f\"},\"baxis\":{\"endlinecolor\":\"#2a3f5f\",\"gridcolor\":\"white\",\"linecolor\":\"white\",\"minorgridcolor\":\"white\",\"startlinecolor\":\"#2a3f5f\"},\"type\":\"carpet\"}],\"table\":[{\"cells\":{\"fill\":{\"color\":\"#EBF0F8\"},\"line\":{\"color\":\"white\"}},\"header\":{\"fill\":{\"color\":\"#C8D4E3\"},\"line\":{\"color\":\"white\"}},\"type\":\"table\"}],\"barpolar\":[{\"marker\":{\"line\":{\"color\":\"#E5ECF6\",\"width\":0.5},\"pattern\":{\"fillmode\":\"overlay\",\"size\":10,\"solidity\":0.2}},\"type\":\"barpolar\"}],\"pie\":[{\"automargin\":true,\"type\":\"pie\"}]},\"layout\":{\"autotypenumbers\":\"strict\",\"colorway\":[\"#636efa\",\"#EF553B\",\"#00cc96\",\"#ab63fa\",\"#FFA15A\",\"#19d3f3\",\"#FF6692\",\"#B6E880\",\"#FF97FF\",\"#FECB52\"],\"font\":{\"color\":\"#2a3f5f\"},\"hovermode\":\"closest\",\"hoverlabel\":{\"align\":\"left\"},\"paper_bgcolor\":\"white\",\"plot_bgcolor\":\"#E5ECF6\",\"polar\":{\"bgcolor\":\"#E5ECF6\",\"angularaxis\":{\"gridcolor\":\"white\",\"linecolor\":\"white\",\"ticks\":\"\"},\"radialaxis\":{\"gridcolor\":\"white\",\"linecolor\":\"white\",\"ticks\":\"\"}},\"ternary\":{\"bgcolor\":\"#E5ECF6\",\"aaxis\":{\"gridcolor\":\"white\",\"linecolor\":\"white\",\"ticks\":\"\"},\"baxis\":{\"gridcolor\":\"white\",\"linecolor\":\"white\",\"ticks\":\"\"},\"caxis\":{\"gridcolor\":\"white\",\"linecolor\":\"white\",\"ticks\":\"\"}},\"coloraxis\":{\"colorbar\":{\"outlinewidth\":0,\"ticks\":\"\"}},\"colorscale\":{\"sequential\":[[0.0,\"#0d0887\"],[0.1111111111111111,\"#46039f\"],[0.2222222222222222,\"#7201a8\"],[0.3333333333333333,\"#9c179e\"],[0.4444444444444444,\"#bd3786\"],[0.5555555555555556,\"#d8576b\"],[0.6666666666666666,\"#ed7953\"],[0.7777777777777778,\"#fb9f3a\"],[0.8888888888888888,\"#fdca26\"],[1.0,\"#f0f921\"]],\"sequentialminus\":[[0.0,\"#0d0887\"],[0.1111111111111111,\"#46039f\"],[0.2222222222222222,\"#7201a8\"],[0.3333333333333333,\"#9c179e\"],[0.4444444444444444,\"#bd3786\"],[0.5555555555555556,\"#d8576b\"],[0.6666666666666666,\"#ed7953\"],[0.7777777777777778,\"#fb9f3a\"],[0.8888888888888888,\"#fdca26\"],[1.0,\"#f0f921\"]],\"diverging\":[[0,\"#8e0152\"],[0.1,\"#c51b7d\"],[0.2,\"#de77ae\"],[0.3,\"#f1b6da\"],[0.4,\"#fde0ef\"],[0.5,\"#f7f7f7\"],[0.6,\"#e6f5d0\"],[0.7,\"#b8e186\"],[0.8,\"#7fbc41\"],[0.9,\"#4d9221\"],[1,\"#276419\"]]},\"xaxis\":{\"gridcolor\":\"white\",\"linecolor\":\"white\",\"ticks\":\"\",\"title\":{\"standoff\":15},\"zerolinecolor\":\"white\",\"automargin\":true,\"zerolinewidth\":2},\"yaxis\":{\"gridcolor\":\"white\",\"linecolor\":\"white\",\"ticks\":\"\",\"title\":{\"standoff\":15},\"zerolinecolor\":\"white\",\"automargin\":true,\"zerolinewidth\":2},\"scene\":{\"xaxis\":{\"backgroundcolor\":\"#E5ECF6\",\"gridcolor\":\"white\",\"linecolor\":\"white\",\"showbackground\":true,\"ticks\":\"\",\"zerolinecolor\":\"white\",\"gridwidth\":2},\"yaxis\":{\"backgroundcolor\":\"#E5ECF6\",\"gridcolor\":\"white\",\"linecolor\":\"white\",\"showbackground\":true,\"ticks\":\"\",\"zerolinecolor\":\"white\",\"gridwidth\":2},\"zaxis\":{\"backgroundcolor\":\"#E5ECF6\",\"gridcolor\":\"white\",\"linecolor\":\"white\",\"showbackground\":true,\"ticks\":\"\",\"zerolinecolor\":\"white\",\"gridwidth\":2}},\"shapedefaults\":{\"line\":{\"color\":\"#2a3f5f\"}},\"annotationdefaults\":{\"arrowcolor\":\"#2a3f5f\",\"arrowhead\":0,\"arrowwidth\":1},\"geo\":{\"bgcolor\":\"white\",\"landcolor\":\"#E5ECF6\",\"subunitcolor\":\"white\",\"showland\":true,\"showlakes\":true,\"lakecolor\":\"white\"},\"title\":{\"x\":0.05},\"mapbox\":{\"style\":\"light\"}}},\"xaxis\":{\"anchor\":\"y\",\"domain\":[0.0,1.0],\"title\":{\"text\":\"index\"}},\"yaxis\":{\"anchor\":\"x\",\"domain\":[0.0,1.0],\"title\":{\"text\":\"value\"}},\"legend\":{\"title\":{\"text\":\"variable\"},\"tracegroupgap\":0},\"title\":{\"text\":\"HP Growth\"}},                        {\"responsive\": true}                    ).then(function(){\n",
       "                            \n",
       "var gd = document.getElementById('adf25739-d1ff-4dfa-a677-4cc41cc98e2e');\n",
       "var x = new MutationObserver(function (mutations, observer) {{\n",
       "        var display = window.getComputedStyle(gd).display;\n",
       "        if (!display || display === 'none') {{\n",
       "            console.log([gd, 'removed!']);\n",
       "            Plotly.purge(gd);\n",
       "            observer.disconnect();\n",
       "        }}\n",
       "}});\n",
       "\n",
       "// Listen for the removal of the full notebook cells\n",
       "var notebookContainer = gd.closest('#notebook-container');\n",
       "if (notebookContainer) {{\n",
       "    x.observe(notebookContainer, {childList: true});\n",
       "}}\n",
       "\n",
       "// Listen for the clearing of the current output cell\n",
       "var outputEl = gd.closest('.output');\n",
       "if (outputEl) {{\n",
       "    x.observe(outputEl, {childList: true});\n",
       "}}\n",
       "\n",
       "                        })                };                });            </script>        </div>"
      ]
     },
     "metadata": {},
     "output_type": "display_data"
    }
   ],
   "source": [
    "def hp_str(df):\n",
    "    array = []\n",
    "    for key, value in df.iteritems():\n",
    "        if 'hp' in key:\n",
    "            array.append(key)\n",
    "    return array[::-1]\n",
    "\n",
    "hp_array = hp_str(df)\n",
    "df_hp_T = df[hp_array].T\n",
    "px.line(\n",
    "    data_frame=df_hp_T,\n",
    "    title='HP Growth',\n",
    "    labels={'x':'Level', 'y':'HP'}\n",
    ")"
   ]
  },
  {
   "cell_type": "code",
   "execution_count": 18,
   "id": "880f60c7",
   "metadata": {
    "execution": {
     "iopub.execute_input": "2023-06-05T09:19:27.968333Z",
     "iopub.status.busy": "2023-06-05T09:19:27.967882Z",
     "iopub.status.idle": "2023-06-05T09:19:28.396183Z",
     "shell.execute_reply": "2023-06-05T09:19:28.395055Z"
    },
    "papermill": {
     "duration": 0.447817,
     "end_time": "2023-06-05T09:19:28.399220",
     "exception": false,
     "start_time": "2023-06-05T09:19:27.951403",
     "status": "completed"
    },
    "tags": []
   },
   "outputs": [
    {
     "data": {
      "text/html": [
       "<div>                            <div id=\"56f3d8e7-0fdb-4792-a2f3-36f8492eaf81\" class=\"plotly-graph-div\" style=\"height:525px; width:100%;\"></div>            <script type=\"text/javascript\">                require([\"plotly\"], function(Plotly) {                    window.PLOTLYENV=window.PLOTLYENV || {};                                    if (document.getElementById(\"56f3d8e7-0fdb-4792-a2f3-36f8492eaf81\")) {                    Plotly.newPlot(                        \"56f3d8e7-0fdb-4792-a2f3-36f8492eaf81\",                        [{\"hovertemplate\":\"variable=0<br>index=%{x}<br>value=%{y}<extra></extra>\",\"legendgroup\":\"0\",\"line\":{\"color\":\"#636efa\",\"dash\":\"solid\"},\"marker\":{\"symbol\":\"circle\"},\"mode\":\"lines\",\"name\":\"0\",\"orientation\":\"v\",\"showlegend\":true,\"x\":[\"atk_1_20\",\"atk_20_20\",\"atk_20_40\",\"atk_40_40\",\"atk_40_50\",\"atk_50_50\",\"atk_50_60\",\"atk_60_60\",\"atk_60_70\",\"atk_70_70\",\"atk_70_80\",\"atk_80_80\",\"atk_80_90\",\"atk_90_90\"],\"xaxis\":\"x\",\"y\":[20.0,51.0,68.0,101.0,113.0,130.0,146.0,163.0,175.0,192.0,222.0,222.0,233.0,251.0],\"yaxis\":\"y\",\"type\":\"scatter\"},{\"hovertemplate\":\"variable=1<br>index=%{x}<br>value=%{y}<extra></extra>\",\"legendgroup\":\"1\",\"line\":{\"color\":\"#EF553B\",\"dash\":\"solid\"},\"marker\":{\"symbol\":\"circle\"},\"mode\":\"lines\",\"name\":\"1\",\"orientation\":\"v\",\"showlegend\":true,\"x\":[\"atk_1_20\",\"atk_20_20\",\"atk_20_40\",\"atk_40_40\",\"atk_40_50\",\"atk_50_50\",\"atk_50_60\",\"atk_60_60\",\"atk_60_70\",\"atk_70_70\",\"atk_70_80\",\"atk_80_80\",\"atk_80_90\",\"atk_90_90\"],\"xaxis\":\"x\",\"y\":[null,null,null,null,null,null,null,null,null,null,null,null,null,null],\"yaxis\":\"y\",\"type\":\"scatter\"},{\"hovertemplate\":\"variable=2<br>index=%{x}<br>value=%{y}<extra></extra>\",\"legendgroup\":\"2\",\"line\":{\"color\":\"#00cc96\",\"dash\":\"solid\"},\"marker\":{\"symbol\":\"circle\"},\"mode\":\"lines\",\"name\":\"2\",\"orientation\":\"v\",\"showlegend\":true,\"x\":[\"atk_1_20\",\"atk_20_20\",\"atk_20_40\",\"atk_40_40\",\"atk_40_50\",\"atk_50_50\",\"atk_50_60\",\"atk_60_60\",\"atk_60_70\",\"atk_70_70\",\"atk_70_80\",\"atk_80_80\",\"atk_80_90\",\"atk_90_90\"],\"xaxis\":\"x\",\"y\":[18.0,47.0,63.0,94.0,105.0,121.0,136.0,152.0,163.0,179.0,206.0,206.0,217.0,234.0],\"yaxis\":\"y\",\"type\":\"scatter\"},{\"hovertemplate\":\"variable=3<br>index=%{x}<br>value=%{y}<extra></extra>\",\"legendgroup\":\"3\",\"line\":{\"color\":\"#ab63fa\",\"dash\":\"solid\"},\"marker\":{\"symbol\":\"circle\"},\"mode\":\"lines\",\"name\":\"3\",\"orientation\":\"v\",\"showlegend\":true,\"x\":[\"atk_1_20\",\"atk_20_20\",\"atk_20_40\",\"atk_40_40\",\"atk_40_50\",\"atk_50_50\",\"atk_50_60\",\"atk_60_60\",\"atk_60_70\",\"atk_70_70\",\"atk_70_80\",\"atk_80_80\",\"atk_80_90\",\"atk_90_90\"],\"xaxis\":\"x\",\"y\":[19.0,48.0,62.0,93.0,103.0,118.0,131.0,147.0,157.0,172.0,198.0,198.0,208.0,223.0],\"yaxis\":\"y\",\"type\":\"scatter\"},{\"hovertemplate\":\"variable=4<br>index=%{x}<br>value=%{y}<extra></extra>\",\"legendgroup\":\"4\",\"line\":{\"color\":\"#FFA15A\",\"dash\":\"solid\"},\"marker\":{\"symbol\":\"circle\"},\"mode\":\"lines\",\"name\":\"4\",\"orientation\":\"v\",\"showlegend\":true,\"x\":[\"atk_1_20\",\"atk_20_20\",\"atk_20_40\",\"atk_40_40\",\"atk_40_50\",\"atk_50_50\",\"atk_50_60\",\"atk_60_60\",\"atk_60_70\",\"atk_70_70\",\"atk_70_80\",\"atk_80_80\",\"atk_80_90\",\"atk_90_90\"],\"xaxis\":\"x\",\"y\":[18.0,46.0,61.0,91.0,102.0,117.0,132.0,147.0,158.0,174.0,199.0,199.0,211.0,227.0],\"yaxis\":\"y\",\"type\":\"scatter\"},{\"hovertemplate\":\"variable=5<br>index=%{x}<br>value=%{y}<extra></extra>\",\"legendgroup\":\"5\",\"line\":{\"color\":\"#19d3f3\",\"dash\":\"solid\"},\"marker\":{\"symbol\":\"circle\"},\"mode\":\"lines\",\"name\":\"5\",\"orientation\":\"v\",\"showlegend\":true,\"x\":[\"atk_1_20\",\"atk_20_20\",\"atk_20_40\",\"atk_40_40\",\"atk_40_50\",\"atk_50_50\",\"atk_50_60\",\"atk_60_60\",\"atk_60_70\",\"atk_70_70\",\"atk_70_80\",\"atk_80_80\",\"atk_80_90\",\"atk_90_90\"],\"xaxis\":\"x\",\"y\":[null,null,null,null,null,null,null,null,null,null,null,null,null,null],\"yaxis\":\"y\",\"type\":\"scatter\"},{\"hovertemplate\":\"variable=6<br>index=%{x}<br>value=%{y}<extra></extra>\",\"legendgroup\":\"6\",\"line\":{\"color\":\"#FF6692\",\"dash\":\"solid\"},\"marker\":{\"symbol\":\"circle\"},\"mode\":\"lines\",\"name\":\"6\",\"orientation\":\"v\",\"showlegend\":true,\"x\":[\"atk_1_20\",\"atk_20_20\",\"atk_20_40\",\"atk_40_40\",\"atk_40_50\",\"atk_50_50\",\"atk_50_60\",\"atk_60_60\",\"atk_60_70\",\"atk_70_70\",\"atk_70_80\",\"atk_80_80\",\"atk_80_90\",\"atk_90_90\"],\"xaxis\":\"x\",\"y\":[13.0,34.0,44.0,66.0,73.0,84.0,94.0,105.0,112.0,123.0,141.0,141.0,148.0,159.0],\"yaxis\":\"y\",\"type\":\"scatter\"},{\"hovertemplate\":\"variable=7<br>index=%{x}<br>value=%{y}<extra></extra>\",\"legendgroup\":\"7\",\"line\":{\"color\":\"#B6E880\",\"dash\":\"solid\"},\"marker\":{\"symbol\":\"circle\"},\"mode\":\"lines\",\"name\":\"7\",\"orientation\":\"v\",\"showlegend\":true,\"x\":[\"atk_1_20\",\"atk_20_20\",\"atk_20_40\",\"atk_40_40\",\"atk_40_50\",\"atk_50_50\",\"atk_50_60\",\"atk_60_60\",\"atk_60_70\",\"atk_70_70\",\"atk_70_80\",\"atk_80_80\",\"atk_80_90\",\"atk_90_90\"],\"xaxis\":\"x\",\"y\":[19.0,48.0,63.0,94.0,104.0,119.0,133.0,148.0,158.0,174.0,200.0,200.0,210.0,225.0],\"yaxis\":\"y\",\"type\":\"scatter\"},{\"hovertemplate\":\"variable=8<br>index=%{x}<br>value=%{y}<extra></extra>\",\"legendgroup\":\"8\",\"line\":{\"color\":\"#FF97FF\",\"dash\":\"solid\"},\"marker\":{\"symbol\":\"circle\"},\"mode\":\"lines\",\"name\":\"8\",\"orientation\":\"v\",\"showlegend\":true,\"x\":[\"atk_1_20\",\"atk_20_20\",\"atk_20_40\",\"atk_40_40\",\"atk_40_50\",\"atk_50_50\",\"atk_50_60\",\"atk_60_60\",\"atk_60_70\",\"atk_70_70\",\"atk_70_80\",\"atk_80_80\",\"atk_80_90\",\"atk_90_90\"],\"xaxis\":\"x\",\"y\":[16.0,41.0,53.0,80.0,88.0,101.0,113.0,126.0,134.0,148.0,169.0,169.0,178.0,191.0],\"yaxis\":\"y\",\"type\":\"scatter\"},{\"hovertemplate\":\"variable=9<br>index=%{x}<br>value=%{y}<extra></extra>\",\"legendgroup\":\"9\",\"line\":{\"color\":\"#FECB52\",\"dash\":\"solid\"},\"marker\":{\"symbol\":\"circle\"},\"mode\":\"lines\",\"name\":\"9\",\"orientation\":\"v\",\"showlegend\":true,\"x\":[\"atk_1_20\",\"atk_20_20\",\"atk_20_40\",\"atk_40_40\",\"atk_40_50\",\"atk_50_50\",\"atk_50_60\",\"atk_60_60\",\"atk_60_70\",\"atk_70_70\",\"atk_70_80\",\"atk_80_80\",\"atk_80_90\",\"atk_90_90\"],\"xaxis\":\"x\",\"y\":[17.0,45.0,59.0,88.0,97.0,112.0,125.0,139.0,149.0,164.0,188.0,188.0,197.0,212.0],\"yaxis\":\"y\",\"type\":\"scatter\"},{\"hovertemplate\":\"variable=10<br>index=%{x}<br>value=%{y}<extra></extra>\",\"legendgroup\":\"10\",\"line\":{\"color\":\"#636efa\",\"dash\":\"solid\"},\"marker\":{\"symbol\":\"circle\"},\"mode\":\"lines\",\"name\":\"10\",\"orientation\":\"v\",\"showlegend\":true,\"x\":[\"atk_1_20\",\"atk_20_20\",\"atk_20_40\",\"atk_40_40\",\"atk_40_50\",\"atk_50_50\",\"atk_50_60\",\"atk_60_60\",\"atk_60_70\",\"atk_70_70\",\"atk_70_80\",\"atk_80_80\",\"atk_80_90\",\"atk_90_90\"],\"xaxis\":\"x\",\"y\":[19.0,48.0,62.0,93.0,103.0,118.0,131.0,147.0,157.0,172.0,198.0,198.0,208.0,223.0],\"yaxis\":\"y\",\"type\":\"scatter\"},{\"hovertemplate\":\"variable=11<br>index=%{x}<br>value=%{y}<extra></extra>\",\"legendgroup\":\"11\",\"line\":{\"color\":\"#EF553B\",\"dash\":\"solid\"},\"marker\":{\"symbol\":\"circle\"},\"mode\":\"lines\",\"name\":\"11\",\"orientation\":\"v\",\"showlegend\":true,\"x\":[\"atk_1_20\",\"atk_20_20\",\"atk_20_40\",\"atk_40_40\",\"atk_40_50\",\"atk_50_50\",\"atk_50_60\",\"atk_60_60\",\"atk_60_70\",\"atk_70_70\",\"atk_70_80\",\"atk_80_80\",\"atk_80_90\",\"atk_90_90\"],\"xaxis\":\"x\",\"y\":[16.0,43.0,55.0,83.0,92.0,105.0,117.0,131.0,140.0,154.0,176.0,176.0,185.0,199.0],\"yaxis\":\"y\",\"type\":\"scatter\"},{\"hovertemplate\":\"variable=12<br>index=%{x}<br>value=%{y}<extra></extra>\",\"legendgroup\":\"12\",\"line\":{\"color\":\"#00cc96\",\"dash\":\"solid\"},\"marker\":{\"symbol\":\"circle\"},\"mode\":\"lines\",\"name\":\"12\",\"orientation\":\"v\",\"showlegend\":true,\"x\":[\"atk_1_20\",\"atk_20_20\",\"atk_20_40\",\"atk_40_40\",\"atk_40_50\",\"atk_50_50\",\"atk_50_60\",\"atk_60_60\",\"atk_60_70\",\"atk_70_70\",\"atk_70_80\",\"atk_80_80\",\"atk_80_90\",\"atk_90_90\"],\"xaxis\":\"x\",\"y\":[21.0,64.0,85.0,127.0,142.0,164.0,184.0,206.0,221.0,243.0,280.0,280.0,295.0,318.0],\"yaxis\":\"y\",\"type\":\"scatter\"},{\"hovertemplate\":\"variable=13<br>index=%{x}<br>value=%{y}<extra></extra>\",\"legendgroup\":\"13\",\"line\":{\"color\":\"#ab63fa\",\"dash\":\"solid\"},\"marker\":{\"symbol\":\"circle\"},\"mode\":\"lines\",\"name\":\"13\",\"orientation\":\"v\",\"showlegend\":true,\"x\":[\"atk_1_20\",\"atk_20_20\",\"atk_20_40\",\"atk_40_40\",\"atk_40_50\",\"atk_50_50\",\"atk_50_60\",\"atk_60_60\",\"atk_60_70\",\"atk_70_70\",\"atk_70_80\",\"atk_80_80\",\"atk_80_90\",\"atk_90_90\"],\"xaxis\":\"x\",\"y\":[null,null,null,null,null,null,null,null,null,null,null,null,null,null],\"yaxis\":\"y\",\"type\":\"scatter\"},{\"hovertemplate\":\"variable=14<br>index=%{x}<br>value=%{y}<extra></extra>\",\"legendgroup\":\"14\",\"line\":{\"color\":\"#FFA15A\",\"dash\":\"solid\"},\"marker\":{\"symbol\":\"circle\"},\"mode\":\"lines\",\"name\":\"14\",\"orientation\":\"v\",\"showlegend\":true,\"x\":[\"atk_1_20\",\"atk_20_20\",\"atk_20_40\",\"atk_40_40\",\"atk_40_50\",\"atk_50_50\",\"atk_50_60\",\"atk_60_60\",\"atk_60_70\",\"atk_70_70\",\"atk_70_80\",\"atk_80_80\",\"atk_80_90\",\"atk_90_90\"],\"xaxis\":\"x\",\"y\":[null,null,null,null,null,null,null,null,null,null,null,null,null,null],\"yaxis\":\"y\",\"type\":\"scatter\"},{\"hovertemplate\":\"variable=15<br>index=%{x}<br>value=%{y}<extra></extra>\",\"legendgroup\":\"15\",\"line\":{\"color\":\"#19d3f3\",\"dash\":\"solid\"},\"marker\":{\"symbol\":\"circle\"},\"mode\":\"lines\",\"name\":\"15\",\"orientation\":\"v\",\"showlegend\":true,\"x\":[\"atk_1_20\",\"atk_20_20\",\"atk_20_40\",\"atk_40_40\",\"atk_40_50\",\"atk_50_50\",\"atk_50_60\",\"atk_60_60\",\"atk_60_70\",\"atk_70_70\",\"atk_70_80\",\"atk_80_80\",\"atk_80_90\",\"atk_90_90\"],\"xaxis\":\"x\",\"y\":[26.0,68.0,90.0,135.0,151.0,173.0,194.0,217.0,233.0,256.0,295.0,295.0,311.0,335.0],\"yaxis\":\"y\",\"type\":\"scatter\"},{\"hovertemplate\":\"variable=16<br>index=%{x}<br>value=%{y}<extra></extra>\",\"legendgroup\":\"16\",\"line\":{\"color\":\"#FF6692\",\"dash\":\"solid\"},\"marker\":{\"symbol\":\"circle\"},\"mode\":\"lines\",\"name\":\"16\",\"orientation\":\"v\",\"showlegend\":true,\"x\":[\"atk_1_20\",\"atk_20_20\",\"atk_20_40\",\"atk_40_40\",\"atk_40_50\",\"atk_50_50\",\"atk_50_60\",\"atk_60_60\",\"atk_60_70\",\"atk_70_70\",\"atk_70_80\",\"atk_80_80\",\"atk_80_90\",\"atk_90_90\"],\"xaxis\":\"x\",\"y\":[18.0,46.0,59.0,88.0,98.0,113.0,125.0,140.0,149.0,164.0,188.0,188.0,198.0,212.0],\"yaxis\":\"y\",\"type\":\"scatter\"},{\"hovertemplate\":\"variable=17<br>index=%{x}<br>value=%{y}<extra></extra>\",\"legendgroup\":\"17\",\"line\":{\"color\":\"#B6E880\",\"dash\":\"solid\"},\"marker\":{\"symbol\":\"circle\"},\"mode\":\"lines\",\"name\":\"17\",\"orientation\":\"v\",\"showlegend\":true,\"x\":[\"atk_1_20\",\"atk_20_20\",\"atk_20_40\",\"atk_40_40\",\"atk_40_50\",\"atk_50_50\",\"atk_50_60\",\"atk_60_60\",\"atk_60_70\",\"atk_70_70\",\"atk_70_80\",\"atk_80_80\",\"atk_80_90\",\"atk_90_90\"],\"xaxis\":\"x\",\"y\":[18.0,48.0,62.0,92.0,102.0,118.0,131.0,146.0,156.0,172.0,197.0,197.0,207.0,223.0],\"yaxis\":\"y\",\"type\":\"scatter\"},{\"hovertemplate\":\"variable=18<br>index=%{x}<br>value=%{y}<extra></extra>\",\"legendgroup\":\"18\",\"line\":{\"color\":\"#FF97FF\",\"dash\":\"solid\"},\"marker\":{\"symbol\":\"circle\"},\"mode\":\"lines\",\"name\":\"18\",\"orientation\":\"v\",\"showlegend\":true,\"x\":[\"atk_1_20\",\"atk_20_20\",\"atk_20_40\",\"atk_40_40\",\"atk_40_50\",\"atk_50_50\",\"atk_50_60\",\"atk_60_60\",\"atk_60_70\",\"atk_70_70\",\"atk_70_80\",\"atk_80_80\",\"atk_80_90\",\"atk_90_90\"],\"xaxis\":\"x\",\"y\":[27.0,69.0,92.0,138.0,154.0,177.0,199.0,222.0,238.0,262.0,302.0,302.0,318.0,342.0],\"yaxis\":\"y\",\"type\":\"scatter\"},{\"hovertemplate\":\"variable=19<br>index=%{x}<br>value=%{y}<extra></extra>\",\"legendgroup\":\"19\",\"line\":{\"color\":\"#FECB52\",\"dash\":\"solid\"},\"marker\":{\"symbol\":\"circle\"},\"mode\":\"lines\",\"name\":\"19\",\"orientation\":\"v\",\"showlegend\":true,\"x\":[\"atk_1_20\",\"atk_20_20\",\"atk_20_40\",\"atk_40_40\",\"atk_40_50\",\"atk_50_50\",\"atk_50_60\",\"atk_60_60\",\"atk_60_70\",\"atk_70_70\",\"atk_70_80\",\"atk_80_80\",\"atk_80_90\",\"atk_90_90\"],\"xaxis\":\"x\",\"y\":[20.0,53.0,68.0,102.0,113.0,130.0,144.0,161.0,172.0,189.0,216.0,216.0,227.0,244.0],\"yaxis\":\"y\",\"type\":\"scatter\"},{\"hovertemplate\":\"variable=20<br>index=%{x}<br>value=%{y}<extra></extra>\",\"legendgroup\":\"20\",\"line\":{\"color\":\"#636efa\",\"dash\":\"solid\"},\"marker\":{\"symbol\":\"circle\"},\"mode\":\"lines\",\"name\":\"20\",\"orientation\":\"v\",\"showlegend\":true,\"x\":[\"atk_1_20\",\"atk_20_20\",\"atk_20_40\",\"atk_40_40\",\"atk_40_50\",\"atk_50_50\",\"atk_50_60\",\"atk_60_60\",\"atk_60_70\",\"atk_70_70\",\"atk_70_80\",\"atk_80_80\",\"atk_80_90\",\"atk_90_90\"],\"xaxis\":\"x\",\"y\":[26.0,68.0,90.0,135.0,151.0,173.0,194.0,217.0,233.0,256.0,295.0,295.0,311.0,335.0],\"yaxis\":\"y\",\"type\":\"scatter\"},{\"hovertemplate\":\"variable=21<br>index=%{x}<br>value=%{y}<extra></extra>\",\"legendgroup\":\"21\",\"line\":{\"color\":\"#EF553B\",\"dash\":\"solid\"},\"marker\":{\"symbol\":\"circle\"},\"mode\":\"lines\",\"name\":\"21\",\"orientation\":\"v\",\"showlegend\":true,\"x\":[\"atk_1_20\",\"atk_20_20\",\"atk_20_40\",\"atk_40_40\",\"atk_40_50\",\"atk_50_50\",\"atk_50_60\",\"atk_60_60\",\"atk_60_70\",\"atk_70_70\",\"atk_70_80\",\"atk_80_80\",\"atk_80_90\",\"atk_90_90\"],\"xaxis\":\"x\",\"y\":[15.0,39.0,51.0,76.0,84.0,97.0,108.0,120.0,128.0,141.0,162.0,162.0,170.0,183.0],\"yaxis\":\"y\",\"type\":\"scatter\"},{\"hovertemplate\":\"variable=22<br>index=%{x}<br>value=%{y}<extra></extra>\",\"legendgroup\":\"22\",\"line\":{\"color\":\"#00cc96\",\"dash\":\"solid\"},\"marker\":{\"symbol\":\"circle\"},\"mode\":\"lines\",\"name\":\"22\",\"orientation\":\"v\",\"showlegend\":true,\"x\":[\"atk_1_20\",\"atk_20_20\",\"atk_20_40\",\"atk_40_40\",\"atk_40_50\",\"atk_50_50\",\"atk_50_60\",\"atk_60_60\",\"atk_60_70\",\"atk_70_70\",\"atk_70_80\",\"atk_80_80\",\"atk_80_90\",\"atk_90_90\"],\"xaxis\":\"x\",\"y\":[8.0,21.0,29.0,43.0,48.0,55.0,62.0,69.0,74.0,81.0,94.0,94.0,99.0,106.0],\"yaxis\":\"y\",\"type\":\"scatter\"},{\"hovertemplate\":\"variable=23<br>index=%{x}<br>value=%{y}<extra></extra>\",\"legendgroup\":\"23\",\"line\":{\"color\":\"#ab63fa\",\"dash\":\"solid\"},\"marker\":{\"symbol\":\"circle\"},\"mode\":\"lines\",\"name\":\"23\",\"orientation\":\"v\",\"showlegend\":true,\"x\":[\"atk_1_20\",\"atk_20_20\",\"atk_20_40\",\"atk_40_40\",\"atk_40_50\",\"atk_50_50\",\"atk_50_60\",\"atk_60_60\",\"atk_60_70\",\"atk_70_70\",\"atk_70_80\",\"atk_80_80\",\"atk_80_90\",\"atk_90_90\"],\"xaxis\":\"x\",\"y\":[19.0,48.0,64.0,96.0,108.0,124.0,139.0,155.0,166.0,183.0,211.0,211.0,222.0,239.0],\"yaxis\":\"y\",\"type\":\"scatter\"},{\"hovertemplate\":\"variable=24<br>index=%{x}<br>value=%{y}<extra></extra>\",\"legendgroup\":\"24\",\"line\":{\"color\":\"#FFA15A\",\"dash\":\"solid\"},\"marker\":{\"symbol\":\"circle\"},\"mode\":\"lines\",\"name\":\"24\",\"orientation\":\"v\",\"showlegend\":true,\"x\":[\"atk_1_20\",\"atk_20_20\",\"atk_20_40\",\"atk_40_40\",\"atk_40_50\",\"atk_50_50\",\"atk_50_60\",\"atk_60_60\",\"atk_60_70\",\"atk_70_70\",\"atk_70_80\",\"atk_80_80\",\"atk_80_90\",\"atk_90_90\"],\"xaxis\":\"x\",\"y\":[23.0,60.0,80.0,119.0,133.0,153.0,172.0,192.0,206.0,227.0,262.0,262.0,276.0,297.0],\"yaxis\":\"y\",\"type\":\"scatter\"},{\"hovertemplate\":\"variable=25<br>index=%{x}<br>value=%{y}<extra></extra>\",\"legendgroup\":\"25\",\"line\":{\"color\":\"#19d3f3\",\"dash\":\"solid\"},\"marker\":{\"symbol\":\"circle\"},\"mode\":\"lines\",\"name\":\"25\",\"orientation\":\"v\",\"showlegend\":true,\"x\":[\"atk_1_20\",\"atk_20_20\",\"atk_20_40\",\"atk_40_40\",\"atk_40_50\",\"atk_50_50\",\"atk_50_60\",\"atk_60_60\",\"atk_60_70\",\"atk_70_70\",\"atk_70_80\",\"atk_80_80\",\"atk_80_90\",\"atk_90_90\"],\"xaxis\":\"x\",\"y\":[19.0,48.0,62.0,93.0,103.0,118.0,131.0,147.0,157.0,172.0,198.0,198.0,208.0,223.0],\"yaxis\":\"y\",\"type\":\"scatter\"},{\"hovertemplate\":\"variable=26<br>index=%{x}<br>value=%{y}<extra></extra>\",\"legendgroup\":\"26\",\"line\":{\"color\":\"#FF6692\",\"dash\":\"solid\"},\"marker\":{\"symbol\":\"circle\"},\"mode\":\"lines\",\"name\":\"26\",\"orientation\":\"v\",\"showlegend\":true,\"x\":[\"atk_1_20\",\"atk_20_20\",\"atk_20_40\",\"atk_40_40\",\"atk_40_50\",\"atk_50_50\",\"atk_50_60\",\"atk_60_60\",\"atk_60_70\",\"atk_70_70\",\"atk_70_80\",\"atk_80_80\",\"atk_80_90\",\"atk_90_90\"],\"xaxis\":\"x\",\"y\":[27.0,79.0,92.0,138.0,154.0,177.0,198.0,222.0,238.0,262.0,302.0,302.0,318.0,342.0],\"yaxis\":\"y\",\"type\":\"scatter\"},{\"hovertemplate\":\"variable=27<br>index=%{x}<br>value=%{y}<extra></extra>\",\"legendgroup\":\"27\",\"line\":{\"color\":\"#B6E880\",\"dash\":\"solid\"},\"marker\":{\"symbol\":\"circle\"},\"mode\":\"lines\",\"name\":\"27\",\"orientation\":\"v\",\"showlegend\":true,\"x\":[\"atk_1_20\",\"atk_20_20\",\"atk_20_40\",\"atk_40_40\",\"atk_40_50\",\"atk_50_50\",\"atk_50_60\",\"atk_60_60\",\"atk_60_70\",\"atk_70_70\",\"atk_70_80\",\"atk_80_80\",\"atk_80_90\",\"atk_90_90\"],\"xaxis\":\"x\",\"y\":[24.0,61.0,81.0,120.0,135.0,155.0,174.0,194.0,208.0,229.0,264.0,264.0,278.0,299.0],\"yaxis\":\"y\",\"type\":\"scatter\"},{\"hovertemplate\":\"variable=28<br>index=%{x}<br>value=%{y}<extra></extra>\",\"legendgroup\":\"28\",\"line\":{\"color\":\"#FF97FF\",\"dash\":\"solid\"},\"marker\":{\"symbol\":\"circle\"},\"mode\":\"lines\",\"name\":\"28\",\"orientation\":\"v\",\"showlegend\":true,\"x\":[\"atk_1_20\",\"atk_20_20\",\"atk_20_40\",\"atk_40_40\",\"atk_40_50\",\"atk_50_50\",\"atk_50_60\",\"atk_60_60\",\"atk_60_70\",\"atk_70_70\",\"atk_70_80\",\"atk_80_80\",\"atk_80_90\",\"atk_90_90\"],\"xaxis\":\"x\",\"y\":[25.0,65.0,87.0,130.0,145.0,167.0,187.0,209.0,225.0,247.0,285.0,285.0,300.0,323.0],\"yaxis\":\"y\",\"type\":\"scatter\"},{\"hovertemplate\":\"variable=29<br>index=%{x}<br>value=%{y}<extra></extra>\",\"legendgroup\":\"29\",\"line\":{\"color\":\"#FECB52\",\"dash\":\"solid\"},\"marker\":{\"symbol\":\"circle\"},\"mode\":\"lines\",\"name\":\"29\",\"orientation\":\"v\",\"showlegend\":true,\"x\":[\"atk_1_20\",\"atk_20_20\",\"atk_20_40\",\"atk_40_40\",\"atk_40_50\",\"atk_50_50\",\"atk_50_60\",\"atk_60_60\",\"atk_60_70\",\"atk_70_70\",\"atk_70_80\",\"atk_80_80\",\"atk_80_90\",\"atk_90_90\"],\"xaxis\":\"x\",\"y\":[24.0,63.0,84.0,125.0,140.0,161.0,180.0,202.0,216.0,238.0,274.0,274.0,289.0,311.0],\"yaxis\":\"y\",\"type\":\"scatter\"},{\"hovertemplate\":\"variable=30<br>index=%{x}<br>value=%{y}<extra></extra>\",\"legendgroup\":\"30\",\"line\":{\"color\":\"#636efa\",\"dash\":\"solid\"},\"marker\":{\"symbol\":\"circle\"},\"mode\":\"lines\",\"name\":\"30\",\"orientation\":\"v\",\"showlegend\":true,\"x\":[\"atk_1_20\",\"atk_20_20\",\"atk_20_40\",\"atk_40_40\",\"atk_40_50\",\"atk_50_50\",\"atk_50_60\",\"atk_60_60\",\"atk_60_70\",\"atk_70_70\",\"atk_70_80\",\"atk_80_80\",\"atk_80_90\",\"atk_90_90\"],\"xaxis\":\"x\",\"y\":[16.0,42.0,54.0,81.0,90.0,104.0,115.0,129.0,137.0,151.0,173.0,173.0,182.0,195.0],\"yaxis\":\"y\",\"type\":\"scatter\"},{\"hovertemplate\":\"variable=31<br>index=%{x}<br>value=%{y}<extra></extra>\",\"legendgroup\":\"31\",\"line\":{\"color\":\"#EF553B\",\"dash\":\"solid\"},\"marker\":{\"symbol\":\"circle\"},\"mode\":\"lines\",\"name\":\"31\",\"orientation\":\"v\",\"showlegend\":true,\"x\":[\"atk_1_20\",\"atk_20_20\",\"atk_20_40\",\"atk_40_40\",\"atk_40_50\",\"atk_50_50\",\"atk_50_60\",\"atk_60_60\",\"atk_60_70\",\"atk_70_70\",\"atk_70_80\",\"atk_80_80\",\"atk_80_90\",\"atk_90_90\"],\"xaxis\":\"x\",\"y\":[17.0,45.0,59.0,88.0,97.0,112.0,125.0,139.0,149.0,164.0,188.0,188.0,197.0,212.0],\"yaxis\":\"y\",\"type\":\"scatter\"},{\"hovertemplate\":\"variable=32<br>index=%{x}<br>value=%{y}<extra></extra>\",\"legendgroup\":\"32\",\"line\":{\"color\":\"#00cc96\",\"dash\":\"solid\"},\"marker\":{\"symbol\":\"circle\"},\"mode\":\"lines\",\"name\":\"32\",\"orientation\":\"v\",\"showlegend\":true,\"x\":[\"atk_1_20\",\"atk_20_20\",\"atk_20_40\",\"atk_40_40\",\"atk_40_50\",\"atk_50_50\",\"atk_50_60\",\"atk_60_60\",\"atk_60_70\",\"atk_70_70\",\"atk_70_80\",\"atk_80_80\",\"atk_80_90\",\"atk_90_90\"],\"xaxis\":\"x\",\"y\":[19.0,50.0,64.0,96.0,107.0,123.0,136.0,153.0,163.0,179.0,205.0,205.0,215.0,232.0],\"yaxis\":\"y\",\"type\":\"scatter\"},{\"hovertemplate\":\"variable=33<br>index=%{x}<br>value=%{y}<extra></extra>\",\"legendgroup\":\"33\",\"line\":{\"color\":\"#ab63fa\",\"dash\":\"solid\"},\"marker\":{\"symbol\":\"circle\"},\"mode\":\"lines\",\"name\":\"33\",\"orientation\":\"v\",\"showlegend\":true,\"x\":[\"atk_1_20\",\"atk_20_20\",\"atk_20_40\",\"atk_40_40\",\"atk_40_50\",\"atk_50_50\",\"atk_50_60\",\"atk_60_60\",\"atk_60_70\",\"atk_70_70\",\"atk_70_80\",\"atk_80_80\",\"atk_80_90\",\"atk_90_90\"],\"xaxis\":\"x\",\"y\":[22.0,58.0,77.0,115.0,129.0,148.0,167.0,186.0,200.0,220.0,253.0,253.0,267.0,287.0],\"yaxis\":\"y\",\"type\":\"scatter\"},{\"hovertemplate\":\"variable=34<br>index=%{x}<br>value=%{y}<extra></extra>\",\"legendgroup\":\"34\",\"line\":{\"color\":\"#FFA15A\",\"dash\":\"solid\"},\"marker\":{\"symbol\":\"circle\"},\"mode\":\"lines\",\"name\":\"34\",\"orientation\":\"v\",\"showlegend\":true,\"x\":[\"atk_1_20\",\"atk_20_20\",\"atk_20_40\",\"atk_40_40\",\"atk_40_50\",\"atk_50_50\",\"atk_50_60\",\"atk_60_60\",\"atk_60_70\",\"atk_70_70\",\"atk_70_80\",\"atk_80_80\",\"atk_80_90\",\"atk_90_90\"],\"xaxis\":\"x\",\"y\":[null,null,null,null,null,null,null,null,null,null,null,null,null,null],\"yaxis\":\"y\",\"type\":\"scatter\"},{\"hovertemplate\":\"variable=35<br>index=%{x}<br>value=%{y}<extra></extra>\",\"legendgroup\":\"35\",\"line\":{\"color\":\"#19d3f3\",\"dash\":\"solid\"},\"marker\":{\"symbol\":\"circle\"},\"mode\":\"lines\",\"name\":\"35\",\"orientation\":\"v\",\"showlegend\":true,\"x\":[\"atk_1_20\",\"atk_20_20\",\"atk_20_40\",\"atk_40_40\",\"atk_40_50\",\"atk_50_50\",\"atk_50_60\",\"atk_60_60\",\"atk_60_70\",\"atk_70_70\",\"atk_70_80\",\"atk_80_80\",\"atk_80_90\",\"atk_90_90\"],\"xaxis\":\"x\",\"y\":[17.0,46.0,61.0,92.0,103.0,118.0,133.0,148.0,159.0,175.0,202.0,202.0,213.0,229.0],\"yaxis\":\"y\",\"type\":\"scatter\"},{\"hovertemplate\":\"variable=36<br>index=%{x}<br>value=%{y}<extra></extra>\",\"legendgroup\":\"36\",\"line\":{\"color\":\"#FF6692\",\"dash\":\"solid\"},\"marker\":{\"symbol\":\"circle\"},\"mode\":\"lines\",\"name\":\"36\",\"orientation\":\"v\",\"showlegend\":true,\"x\":[\"atk_1_20\",\"atk_20_20\",\"atk_20_40\",\"atk_40_40\",\"atk_40_50\",\"atk_50_50\",\"atk_50_60\",\"atk_60_60\",\"atk_60_70\",\"atk_70_70\",\"atk_70_80\",\"atk_80_80\",\"atk_80_90\",\"atk_90_90\"],\"xaxis\":\"x\",\"y\":[18.0,46.0,59.0,88.0,98.0,113.0,125.0,140.0,149.0,164.0,188.0,188.0,198.0,212.0],\"yaxis\":\"y\",\"type\":\"scatter\"},{\"hovertemplate\":\"variable=37<br>index=%{x}<br>value=%{y}<extra></extra>\",\"legendgroup\":\"37\",\"line\":{\"color\":\"#B6E880\",\"dash\":\"solid\"},\"marker\":{\"symbol\":\"circle\"},\"mode\":\"lines\",\"name\":\"37\",\"orientation\":\"v\",\"showlegend\":true,\"x\":[\"atk_1_20\",\"atk_20_20\",\"atk_20_40\",\"atk_40_40\",\"atk_40_50\",\"atk_50_50\",\"atk_50_60\",\"atk_60_60\",\"atk_60_70\",\"atk_70_70\",\"atk_70_80\",\"atk_80_80\",\"atk_80_90\",\"atk_90_90\"],\"xaxis\":\"x\",\"y\":[16.0,41.0,53.0,80.0,88.0,101.0,113.0,126.0,134.0,148.0,169.0,169.0,178.0,191.0],\"yaxis\":\"y\",\"type\":\"scatter\"},{\"hovertemplate\":\"variable=38<br>index=%{x}<br>value=%{y}<extra></extra>\",\"legendgroup\":\"38\",\"line\":{\"color\":\"#FF97FF\",\"dash\":\"solid\"},\"marker\":{\"symbol\":\"circle\"},\"mode\":\"lines\",\"name\":\"38\",\"orientation\":\"v\",\"showlegend\":true,\"x\":[\"atk_1_20\",\"atk_20_20\",\"atk_20_40\",\"atk_40_40\",\"atk_40_50\",\"atk_50_50\",\"atk_50_60\",\"atk_60_60\",\"atk_60_70\",\"atk_70_70\",\"atk_70_80\",\"atk_80_80\",\"atk_80_90\",\"atk_90_90\"],\"xaxis\":\"x\",\"y\":[22.0,58.0,77.0,115.0,129.0,148.0,167.0,186.0,200.0,220.0,253.0,253.0,267.0,287.0],\"yaxis\":\"y\",\"type\":\"scatter\"},{\"hovertemplate\":\"variable=39<br>index=%{x}<br>value=%{y}<extra></extra>\",\"legendgroup\":\"39\",\"line\":{\"color\":\"#FECB52\",\"dash\":\"solid\"},\"marker\":{\"symbol\":\"circle\"},\"mode\":\"lines\",\"name\":\"39\",\"orientation\":\"v\",\"showlegend\":true,\"x\":[\"atk_1_20\",\"atk_20_20\",\"atk_20_40\",\"atk_40_40\",\"atk_40_50\",\"atk_50_50\",\"atk_50_60\",\"atk_60_60\",\"atk_60_70\",\"atk_70_70\",\"atk_70_80\",\"atk_80_80\",\"atk_80_90\",\"atk_90_90\"],\"xaxis\":\"x\",\"y\":[26.0,68.0,91.0,136.0,152.0,175.0,196.0,219.0,235.0,258.0,298.0,298.0,314.0,337.0],\"yaxis\":\"y\",\"type\":\"scatter\"},{\"hovertemplate\":\"variable=40<br>index=%{x}<br>value=%{y}<extra></extra>\",\"legendgroup\":\"40\",\"line\":{\"color\":\"#636efa\",\"dash\":\"solid\"},\"marker\":{\"symbol\":\"circle\"},\"mode\":\"lines\",\"name\":\"40\",\"orientation\":\"v\",\"showlegend\":true,\"x\":[\"atk_1_20\",\"atk_20_20\",\"atk_20_40\",\"atk_40_40\",\"atk_40_50\",\"atk_50_50\",\"atk_50_60\",\"atk_60_60\",\"atk_60_70\",\"atk_70_70\",\"atk_70_80\",\"atk_80_80\",\"atk_80_90\",\"atk_90_90\"],\"xaxis\":\"x\",\"y\":[20.0,50.0,65.0,97.0,108.0,124.0,138.0,154.0,164.0,180.0,207.0,207.0,217.0,234.0],\"yaxis\":\"y\",\"type\":\"scatter\"},{\"hovertemplate\":\"variable=41<br>index=%{x}<br>value=%{y}<extra></extra>\",\"legendgroup\":\"41\",\"line\":{\"color\":\"#EF553B\",\"dash\":\"solid\"},\"marker\":{\"symbol\":\"circle\"},\"mode\":\"lines\",\"name\":\"41\",\"orientation\":\"v\",\"showlegend\":true,\"x\":[\"atk_1_20\",\"atk_20_20\",\"atk_20_40\",\"atk_40_40\",\"atk_40_50\",\"atk_50_50\",\"atk_50_60\",\"atk_60_60\",\"atk_60_70\",\"atk_70_70\",\"atk_70_80\",\"atk_80_80\",\"atk_80_90\",\"atk_90_90\"],\"xaxis\":\"x\",\"y\":[20.0,52.0,67.0,100.0,111.0,127.0,141.0,158.0,169.0,185.0,213.0,213.0,223.0,240.0],\"yaxis\":\"y\",\"type\":\"scatter\"},{\"hovertemplate\":\"variable=42<br>index=%{x}<br>value=%{y}<extra></extra>\",\"legendgroup\":\"42\",\"line\":{\"color\":\"#00cc96\",\"dash\":\"solid\"},\"marker\":{\"symbol\":\"circle\"},\"mode\":\"lines\",\"name\":\"42\",\"orientation\":\"v\",\"showlegend\":true,\"x\":[\"atk_1_20\",\"atk_20_20\",\"atk_20_40\",\"atk_40_40\",\"atk_40_50\",\"atk_50_50\",\"atk_50_60\",\"atk_60_60\",\"atk_60_70\",\"atk_70_70\",\"atk_70_80\",\"atk_80_80\",\"atk_80_90\",\"atk_90_90\"],\"xaxis\":\"x\",\"y\":[18.0,47.0,63.0,94.0,105.0,121.0,136.0,152.0,163.0,179.0,207.0,207.0,218.0,234.0],\"yaxis\":\"y\",\"type\":\"scatter\"},{\"hovertemplate\":\"variable=43<br>index=%{x}<br>value=%{y}<extra></extra>\",\"legendgroup\":\"43\",\"line\":{\"color\":\"#ab63fa\",\"dash\":\"solid\"},\"marker\":{\"symbol\":\"circle\"},\"mode\":\"lines\",\"name\":\"43\",\"orientation\":\"v\",\"showlegend\":true,\"x\":[\"atk_1_20\",\"atk_20_20\",\"atk_20_40\",\"atk_40_40\",\"atk_40_50\",\"atk_50_50\",\"atk_50_60\",\"atk_60_60\",\"atk_60_70\",\"atk_70_70\",\"atk_70_80\",\"atk_80_80\",\"atk_80_90\",\"atk_90_90\"],\"xaxis\":\"x\",\"y\":[20.0,53.0,68.0,102.0,113.0,130.0,144.0,161.0,172.0,189.0,216.0,216.0,227.0,244.0],\"yaxis\":\"y\",\"type\":\"scatter\"},{\"hovertemplate\":\"variable=44<br>index=%{x}<br>value=%{y}<extra></extra>\",\"legendgroup\":\"44\",\"line\":{\"color\":\"#FFA15A\",\"dash\":\"solid\"},\"marker\":{\"symbol\":\"circle\"},\"mode\":\"lines\",\"name\":\"44\",\"orientation\":\"v\",\"showlegend\":true,\"x\":[\"atk_1_20\",\"atk_20_20\",\"atk_20_40\",\"atk_40_40\",\"atk_40_50\",\"atk_50_50\",\"atk_50_60\",\"atk_60_60\",\"atk_60_70\",\"atk_70_70\",\"atk_70_80\",\"atk_80_80\",\"atk_80_90\",\"atk_90_90\"],\"xaxis\":\"x\",\"y\":[24.0,61.0,82.0,122.0,137.0,157.0,176.0,197.0,211.0,232.0,268.0,268.0,282.0,304.0],\"yaxis\":\"y\",\"type\":\"scatter\"},{\"hovertemplate\":\"variable=45<br>index=%{x}<br>value=%{y}<extra></extra>\",\"legendgroup\":\"45\",\"line\":{\"color\":\"#19d3f3\",\"dash\":\"solid\"},\"marker\":{\"symbol\":\"circle\"},\"mode\":\"lines\",\"name\":\"45\",\"orientation\":\"v\",\"showlegend\":true,\"x\":[\"atk_1_20\",\"atk_20_20\",\"atk_20_40\",\"atk_40_40\",\"atk_40_50\",\"atk_50_50\",\"atk_50_60\",\"atk_60_60\",\"atk_60_70\",\"atk_70_70\",\"atk_70_80\",\"atk_80_80\",\"atk_80_90\",\"atk_90_90\"],\"xaxis\":\"x\",\"y\":[18.0,48.0,62.0,93.0,103.0,119.0,132.0,148.0,158.0,173.0,199.0,199.0,209.0,225.0],\"yaxis\":\"y\",\"type\":\"scatter\"},{\"hovertemplate\":\"variable=46<br>index=%{x}<br>value=%{y}<extra></extra>\",\"legendgroup\":\"46\",\"line\":{\"color\":\"#FF6692\",\"dash\":\"solid\"},\"marker\":{\"symbol\":\"circle\"},\"mode\":\"lines\",\"name\":\"46\",\"orientation\":\"v\",\"showlegend\":true,\"x\":[\"atk_1_20\",\"atk_20_20\",\"atk_20_40\",\"atk_40_40\",\"atk_40_50\",\"atk_50_50\",\"atk_50_60\",\"atk_60_60\",\"atk_60_70\",\"atk_70_70\",\"atk_70_80\",\"atk_80_80\",\"atk_80_90\",\"atk_90_90\"],\"xaxis\":\"x\",\"y\":[14.0,37.0,47.0,71.0,78.0,90.0,100.0,112.0,120.0,131.0,151.0,151.0,158.0,170.0],\"yaxis\":\"y\",\"type\":\"scatter\"},{\"hovertemplate\":\"variable=47<br>index=%{x}<br>value=%{y}<extra></extra>\",\"legendgroup\":\"47\",\"line\":{\"color\":\"#B6E880\",\"dash\":\"solid\"},\"marker\":{\"symbol\":\"circle\"},\"mode\":\"lines\",\"name\":\"47\",\"orientation\":\"v\",\"showlegend\":true,\"x\":[\"atk_1_20\",\"atk_20_20\",\"atk_20_40\",\"atk_40_40\",\"atk_40_50\",\"atk_50_50\",\"atk_50_60\",\"atk_60_60\",\"atk_60_70\",\"atk_70_70\",\"atk_70_80\",\"atk_80_80\",\"atk_80_90\",\"atk_90_90\"],\"xaxis\":\"x\",\"y\":[23.0,61.0,81.0,121.0,135.0,156.0,175.0,195.0,210.0,231.0,266.0,266.0,280.0,301.0],\"yaxis\":\"y\",\"type\":\"scatter\"},{\"hovertemplate\":\"variable=48<br>index=%{x}<br>value=%{y}<extra></extra>\",\"legendgroup\":\"48\",\"line\":{\"color\":\"#FF97FF\",\"dash\":\"solid\"},\"marker\":{\"symbol\":\"circle\"},\"mode\":\"lines\",\"name\":\"48\",\"orientation\":\"v\",\"showlegend\":true,\"x\":[\"atk_1_20\",\"atk_20_20\",\"atk_20_40\",\"atk_40_40\",\"atk_40_50\",\"atk_50_50\",\"atk_50_60\",\"atk_60_60\",\"atk_60_70\",\"atk_70_70\",\"atk_70_80\",\"atk_80_80\",\"atk_80_90\",\"atk_90_90\"],\"xaxis\":\"x\",\"y\":[17.0,43.0,56.0,84.0,93.0,107.0,119.0,133.0,142.0,156.0,179.0,179.0,188.0,202.0],\"yaxis\":\"y\",\"type\":\"scatter\"},{\"hovertemplate\":\"variable=49<br>index=%{x}<br>value=%{y}<extra></extra>\",\"legendgroup\":\"49\",\"line\":{\"color\":\"#FECB52\",\"dash\":\"solid\"},\"marker\":{\"symbol\":\"circle\"},\"mode\":\"lines\",\"name\":\"49\",\"orientation\":\"v\",\"showlegend\":true,\"x\":[\"atk_1_20\",\"atk_20_20\",\"atk_20_40\",\"atk_40_40\",\"atk_40_50\",\"atk_50_50\",\"atk_50_60\",\"atk_60_60\",\"atk_60_70\",\"atk_70_70\",\"atk_70_80\",\"atk_80_80\",\"atk_80_90\",\"atk_90_90\"],\"xaxis\":\"x\",\"y\":[20.0,54.0,71.0,107.0,120.0,138.0,155.0,173.0,186.0,204.0,236.0,236.0,249.0,267.0],\"yaxis\":\"y\",\"type\":\"scatter\"},{\"hovertemplate\":\"variable=50<br>index=%{x}<br>value=%{y}<extra></extra>\",\"legendgroup\":\"50\",\"line\":{\"color\":\"#636efa\",\"dash\":\"solid\"},\"marker\":{\"symbol\":\"circle\"},\"mode\":\"lines\",\"name\":\"50\",\"orientation\":\"v\",\"showlegend\":true,\"x\":[\"atk_1_20\",\"atk_20_20\",\"atk_20_40\",\"atk_40_40\",\"atk_40_50\",\"atk_50_50\",\"atk_50_60\",\"atk_60_60\",\"atk_60_70\",\"atk_70_70\",\"atk_70_80\",\"atk_80_80\",\"atk_80_90\",\"atk_90_90\"],\"xaxis\":\"x\",\"y\":[18.0,46.0,59.0,88.0,98.0,113.0,125.0,140.0,149.0,164.0,188.0,188.0,198.0,212.0],\"yaxis\":\"y\",\"type\":\"scatter\"},{\"hovertemplate\":\"variable=51<br>index=%{x}<br>value=%{y}<extra></extra>\",\"legendgroup\":\"51\",\"line\":{\"color\":\"#EF553B\",\"dash\":\"solid\"},\"marker\":{\"symbol\":\"circle\"},\"mode\":\"lines\",\"name\":\"51\",\"orientation\":\"v\",\"showlegend\":true,\"x\":[\"atk_1_20\",\"atk_20_20\",\"atk_20_40\",\"atk_40_40\",\"atk_40_50\",\"atk_50_50\",\"atk_50_60\",\"atk_60_60\",\"atk_60_70\",\"atk_70_70\",\"atk_70_80\",\"atk_80_80\",\"atk_80_90\",\"atk_90_90\"],\"xaxis\":\"x\",\"y\":[18.0,46.0,59.0,88.0,98.0,113.0,125.0,140.0,149.0,164.0,188.0,188.0,198.0,212.0],\"yaxis\":\"y\",\"type\":\"scatter\"},{\"hovertemplate\":\"variable=52<br>index=%{x}<br>value=%{y}<extra></extra>\",\"legendgroup\":\"52\",\"line\":{\"color\":\"#00cc96\",\"dash\":\"solid\"},\"marker\":{\"symbol\":\"circle\"},\"mode\":\"lines\",\"name\":\"52\",\"orientation\":\"v\",\"showlegend\":true,\"x\":[\"atk_1_20\",\"atk_20_20\",\"atk_20_40\",\"atk_40_40\",\"atk_40_50\",\"atk_50_50\",\"atk_50_60\",\"atk_60_60\",\"atk_60_70\",\"atk_70_70\",\"atk_70_80\",\"atk_80_80\",\"atk_80_90\",\"atk_90_90\"],\"xaxis\":\"x\",\"y\":[20.0,53.0,71.0,106.0,118.0,136.0,153.0,171.0,183.0,201.0,232.0,232.0,245.0,263.0],\"yaxis\":\"y\",\"type\":\"scatter\"},{\"hovertemplate\":\"variable=53<br>index=%{x}<br>value=%{y}<extra></extra>\",\"legendgroup\":\"53\",\"line\":{\"color\":\"#ab63fa\",\"dash\":\"solid\"},\"marker\":{\"symbol\":\"circle\"},\"mode\":\"lines\",\"name\":\"53\",\"orientation\":\"v\",\"showlegend\":true,\"x\":[\"atk_1_20\",\"atk_20_20\",\"atk_20_40\",\"atk_40_40\",\"atk_40_50\",\"atk_50_50\",\"atk_50_60\",\"atk_60_60\",\"atk_60_70\",\"atk_70_70\",\"atk_70_80\",\"atk_80_80\",\"atk_80_90\",\"atk_90_90\"],\"xaxis\":\"x\",\"y\":[19.0,48.0,63.0,94.0,104.0,119.0,133.0,148.0,158.0,174.0,200.0,200.0,210.0,225.0],\"yaxis\":\"y\",\"type\":\"scatter\"},{\"hovertemplate\":\"variable=54<br>index=%{x}<br>value=%{y}<extra></extra>\",\"legendgroup\":\"54\",\"line\":{\"color\":\"#FFA15A\",\"dash\":\"solid\"},\"marker\":{\"symbol\":\"circle\"},\"mode\":\"lines\",\"name\":\"54\",\"orientation\":\"v\",\"showlegend\":true,\"x\":[\"atk_1_20\",\"atk_20_20\",\"atk_20_40\",\"atk_40_40\",\"atk_40_50\",\"atk_50_50\",\"atk_50_60\",\"atk_60_60\",\"atk_60_70\",\"atk_70_70\",\"atk_70_80\",\"atk_80_80\",\"atk_80_90\",\"atk_90_90\"],\"xaxis\":\"x\",\"y\":[27.0,71.0,94.0,141.0,157.0,181.0,203.0,227.0,243.0,267.0,308.0,308.0,325.0,349.0],\"yaxis\":\"y\",\"type\":\"scatter\"},{\"hovertemplate\":\"variable=55<br>index=%{x}<br>value=%{y}<extra></extra>\",\"legendgroup\":\"55\",\"line\":{\"color\":\"#19d3f3\",\"dash\":\"solid\"},\"marker\":{\"symbol\":\"circle\"},\"mode\":\"lines\",\"name\":\"55\",\"orientation\":\"v\",\"showlegend\":true,\"x\":[\"atk_1_20\",\"atk_20_20\",\"atk_20_40\",\"atk_40_40\",\"atk_40_50\",\"atk_50_50\",\"atk_50_60\",\"atk_60_60\",\"atk_60_70\",\"atk_70_70\",\"atk_70_80\",\"atk_80_80\",\"atk_80_90\",\"atk_90_90\"],\"xaxis\":\"x\",\"y\":[17.0,43.0,56.0,84.0,93.0,107.0,119.0,133.0,142.0,156.0,179.0,179.0,188.0,202.0],\"yaxis\":\"y\",\"type\":\"scatter\"},{\"hovertemplate\":\"variable=56<br>index=%{x}<br>value=%{y}<extra></extra>\",\"legendgroup\":\"56\",\"line\":{\"color\":\"#FF6692\",\"dash\":\"solid\"},\"marker\":{\"symbol\":\"circle\"},\"mode\":\"lines\",\"name\":\"56\",\"orientation\":\"v\",\"showlegend\":true,\"x\":[\"atk_1_20\",\"atk_20_20\",\"atk_20_40\",\"atk_40_40\",\"atk_40_50\",\"atk_50_50\",\"atk_50_60\",\"atk_60_60\",\"atk_60_70\",\"atk_70_70\",\"atk_70_80\",\"atk_80_80\",\"atk_80_90\",\"atk_90_90\"],\"xaxis\":\"x\",\"y\":[21.0,54.0,69.0,103.0,115.0,132.0,147.0,164.0,175.0,192.0,220.0,220.0,231.0,249.0],\"yaxis\":\"y\",\"type\":\"scatter\"},{\"hovertemplate\":\"variable=57<br>index=%{x}<br>value=%{y}<extra></extra>\",\"legendgroup\":\"57\",\"line\":{\"color\":\"#B6E880\",\"dash\":\"solid\"},\"marker\":{\"symbol\":\"circle\"},\"mode\":\"lines\",\"name\":\"57\",\"orientation\":\"v\",\"showlegend\":true,\"x\":[\"atk_1_20\",\"atk_20_20\",\"atk_20_40\",\"atk_40_40\",\"atk_40_50\",\"atk_50_50\",\"atk_50_60\",\"atk_60_60\",\"atk_60_70\",\"atk_70_70\",\"atk_70_80\",\"atk_80_80\",\"atk_80_90\",\"atk_90_90\"],\"xaxis\":\"x\",\"y\":[26.0,69.0,91.0,137.0,153.0,176.0,197.0,220.0,236.0,260.0,300.0,300.0,316.0,340.0],\"yaxis\":\"y\",\"type\":\"scatter\"},{\"hovertemplate\":\"variable=58<br>index=%{x}<br>value=%{y}<extra></extra>\",\"legendgroup\":\"58\",\"line\":{\"color\":\"#FF97FF\",\"dash\":\"solid\"},\"marker\":{\"symbol\":\"circle\"},\"mode\":\"lines\",\"name\":\"58\",\"orientation\":\"v\",\"showlegend\":true,\"x\":[\"atk_1_20\",\"atk_20_20\",\"atk_20_40\",\"atk_40_40\",\"atk_40_50\",\"atk_50_50\",\"atk_50_60\",\"atk_60_60\",\"atk_60_70\",\"atk_70_70\",\"atk_70_80\",\"atk_80_80\",\"atk_80_90\",\"atk_90_90\"],\"xaxis\":\"x\",\"y\":[20.0,52.0,67.0,100.0,111.0,127.0,141.0,158.0,169.0,185.0,213.0,213.0,223.0,240.0],\"yaxis\":\"y\",\"type\":\"scatter\"},{\"hovertemplate\":\"variable=59<br>index=%{x}<br>value=%{y}<extra></extra>\",\"legendgroup\":\"59\",\"line\":{\"color\":\"#FECB52\",\"dash\":\"solid\"},\"marker\":{\"symbol\":\"circle\"},\"mode\":\"lines\",\"name\":\"59\",\"orientation\":\"v\",\"showlegend\":true,\"x\":[\"atk_1_20\",\"atk_20_20\",\"atk_20_40\",\"atk_40_40\",\"atk_40_50\",\"atk_50_50\",\"atk_50_60\",\"atk_60_60\",\"atk_60_70\",\"atk_70_70\",\"atk_70_80\",\"atk_80_80\",\"atk_80_90\",\"atk_90_90\"],\"xaxis\":\"x\",\"y\":[19.0,49.0,66.0,98.0,110.0,126.0,142.0,158.0,170.0,187.0,215.0,215.0,227.0,244.0],\"yaxis\":\"y\",\"type\":\"scatter\"},{\"hovertemplate\":\"variable=60<br>index=%{x}<br>value=%{y}<extra></extra>\",\"legendgroup\":\"60\",\"line\":{\"color\":\"#636efa\",\"dash\":\"solid\"},\"marker\":{\"symbol\":\"circle\"},\"mode\":\"lines\",\"name\":\"60\",\"orientation\":\"v\",\"showlegend\":true,\"x\":[\"atk_1_20\",\"atk_20_20\",\"atk_20_40\",\"atk_40_40\",\"atk_40_50\",\"atk_50_50\",\"atk_50_60\",\"atk_60_60\",\"atk_60_70\",\"atk_70_70\",\"atk_70_80\",\"atk_80_80\",\"atk_80_90\",\"atk_90_90\"],\"xaxis\":\"x\",\"y\":[25.0,65.0,87.0,130.0,145.0,167.0,187.0,209.0,225.0,247.0,285.0,285.0,300.0,323.0],\"yaxis\":\"y\",\"type\":\"scatter\"},{\"hovertemplate\":\"variable=61<br>index=%{x}<br>value=%{y}<extra></extra>\",\"legendgroup\":\"61\",\"line\":{\"color\":\"#EF553B\",\"dash\":\"solid\"},\"marker\":{\"symbol\":\"circle\"},\"mode\":\"lines\",\"name\":\"61\",\"orientation\":\"v\",\"showlegend\":true,\"x\":[\"atk_1_20\",\"atk_20_20\",\"atk_20_40\",\"atk_40_40\",\"atk_40_50\",\"atk_50_50\",\"atk_50_60\",\"atk_60_60\",\"atk_60_70\",\"atk_70_70\",\"atk_70_80\",\"atk_80_80\",\"atk_80_90\",\"atk_90_90\"],\"xaxis\":\"x\",\"y\":[16.0,41.0,53.0,80.0,88.0,101.0,113.0,126.0,134.0,148.0,169.0,169.0,178.0,191.0],\"yaxis\":\"y\",\"type\":\"scatter\"},{\"hovertemplate\":\"variable=62<br>index=%{x}<br>value=%{y}<extra></extra>\",\"legendgroup\":\"62\",\"line\":{\"color\":\"#00cc96\",\"dash\":\"solid\"},\"marker\":{\"symbol\":\"circle\"},\"mode\":\"lines\",\"name\":\"62\",\"orientation\":\"v\",\"showlegend\":true,\"x\":[\"atk_1_20\",\"atk_20_20\",\"atk_20_40\",\"atk_40_40\",\"atk_40_50\",\"atk_50_50\",\"atk_50_60\",\"atk_60_60\",\"atk_60_70\",\"atk_70_70\",\"atk_70_80\",\"atk_80_80\",\"atk_80_90\",\"atk_90_90\"],\"xaxis\":\"x\",\"y\":[20.0,51.0,67.0,101.0,113.0,130.0,146.0,163.0,175.0,192.0,222.0,222.0,233.0,251.0],\"yaxis\":\"y\",\"type\":\"scatter\"}],                        {\"template\":{\"data\":{\"histogram2dcontour\":[{\"type\":\"histogram2dcontour\",\"colorbar\":{\"outlinewidth\":0,\"ticks\":\"\"},\"colorscale\":[[0.0,\"#0d0887\"],[0.1111111111111111,\"#46039f\"],[0.2222222222222222,\"#7201a8\"],[0.3333333333333333,\"#9c179e\"],[0.4444444444444444,\"#bd3786\"],[0.5555555555555556,\"#d8576b\"],[0.6666666666666666,\"#ed7953\"],[0.7777777777777778,\"#fb9f3a\"],[0.8888888888888888,\"#fdca26\"],[1.0,\"#f0f921\"]]}],\"choropleth\":[{\"type\":\"choropleth\",\"colorbar\":{\"outlinewidth\":0,\"ticks\":\"\"}}],\"histogram2d\":[{\"type\":\"histogram2d\",\"colorbar\":{\"outlinewidth\":0,\"ticks\":\"\"},\"colorscale\":[[0.0,\"#0d0887\"],[0.1111111111111111,\"#46039f\"],[0.2222222222222222,\"#7201a8\"],[0.3333333333333333,\"#9c179e\"],[0.4444444444444444,\"#bd3786\"],[0.5555555555555556,\"#d8576b\"],[0.6666666666666666,\"#ed7953\"],[0.7777777777777778,\"#fb9f3a\"],[0.8888888888888888,\"#fdca26\"],[1.0,\"#f0f921\"]]}],\"heatmap\":[{\"type\":\"heatmap\",\"colorbar\":{\"outlinewidth\":0,\"ticks\":\"\"},\"colorscale\":[[0.0,\"#0d0887\"],[0.1111111111111111,\"#46039f\"],[0.2222222222222222,\"#7201a8\"],[0.3333333333333333,\"#9c179e\"],[0.4444444444444444,\"#bd3786\"],[0.5555555555555556,\"#d8576b\"],[0.6666666666666666,\"#ed7953\"],[0.7777777777777778,\"#fb9f3a\"],[0.8888888888888888,\"#fdca26\"],[1.0,\"#f0f921\"]]}],\"heatmapgl\":[{\"type\":\"heatmapgl\",\"colorbar\":{\"outlinewidth\":0,\"ticks\":\"\"},\"colorscale\":[[0.0,\"#0d0887\"],[0.1111111111111111,\"#46039f\"],[0.2222222222222222,\"#7201a8\"],[0.3333333333333333,\"#9c179e\"],[0.4444444444444444,\"#bd3786\"],[0.5555555555555556,\"#d8576b\"],[0.6666666666666666,\"#ed7953\"],[0.7777777777777778,\"#fb9f3a\"],[0.8888888888888888,\"#fdca26\"],[1.0,\"#f0f921\"]]}],\"contourcarpet\":[{\"type\":\"contourcarpet\",\"colorbar\":{\"outlinewidth\":0,\"ticks\":\"\"}}],\"contour\":[{\"type\":\"contour\",\"colorbar\":{\"outlinewidth\":0,\"ticks\":\"\"},\"colorscale\":[[0.0,\"#0d0887\"],[0.1111111111111111,\"#46039f\"],[0.2222222222222222,\"#7201a8\"],[0.3333333333333333,\"#9c179e\"],[0.4444444444444444,\"#bd3786\"],[0.5555555555555556,\"#d8576b\"],[0.6666666666666666,\"#ed7953\"],[0.7777777777777778,\"#fb9f3a\"],[0.8888888888888888,\"#fdca26\"],[1.0,\"#f0f921\"]]}],\"surface\":[{\"type\":\"surface\",\"colorbar\":{\"outlinewidth\":0,\"ticks\":\"\"},\"colorscale\":[[0.0,\"#0d0887\"],[0.1111111111111111,\"#46039f\"],[0.2222222222222222,\"#7201a8\"],[0.3333333333333333,\"#9c179e\"],[0.4444444444444444,\"#bd3786\"],[0.5555555555555556,\"#d8576b\"],[0.6666666666666666,\"#ed7953\"],[0.7777777777777778,\"#fb9f3a\"],[0.8888888888888888,\"#fdca26\"],[1.0,\"#f0f921\"]]}],\"mesh3d\":[{\"type\":\"mesh3d\",\"colorbar\":{\"outlinewidth\":0,\"ticks\":\"\"}}],\"scatter\":[{\"fillpattern\":{\"fillmode\":\"overlay\",\"size\":10,\"solidity\":0.2},\"type\":\"scatter\"}],\"parcoords\":[{\"type\":\"parcoords\",\"line\":{\"colorbar\":{\"outlinewidth\":0,\"ticks\":\"\"}}}],\"scatterpolargl\":[{\"type\":\"scatterpolargl\",\"marker\":{\"colorbar\":{\"outlinewidth\":0,\"ticks\":\"\"}}}],\"bar\":[{\"error_x\":{\"color\":\"#2a3f5f\"},\"error_y\":{\"color\":\"#2a3f5f\"},\"marker\":{\"line\":{\"color\":\"#E5ECF6\",\"width\":0.5},\"pattern\":{\"fillmode\":\"overlay\",\"size\":10,\"solidity\":0.2}},\"type\":\"bar\"}],\"scattergeo\":[{\"type\":\"scattergeo\",\"marker\":{\"colorbar\":{\"outlinewidth\":0,\"ticks\":\"\"}}}],\"scatterpolar\":[{\"type\":\"scatterpolar\",\"marker\":{\"colorbar\":{\"outlinewidth\":0,\"ticks\":\"\"}}}],\"histogram\":[{\"marker\":{\"pattern\":{\"fillmode\":\"overlay\",\"size\":10,\"solidity\":0.2}},\"type\":\"histogram\"}],\"scattergl\":[{\"type\":\"scattergl\",\"marker\":{\"colorbar\":{\"outlinewidth\":0,\"ticks\":\"\"}}}],\"scatter3d\":[{\"type\":\"scatter3d\",\"line\":{\"colorbar\":{\"outlinewidth\":0,\"ticks\":\"\"}},\"marker\":{\"colorbar\":{\"outlinewidth\":0,\"ticks\":\"\"}}}],\"scattermapbox\":[{\"type\":\"scattermapbox\",\"marker\":{\"colorbar\":{\"outlinewidth\":0,\"ticks\":\"\"}}}],\"scatterternary\":[{\"type\":\"scatterternary\",\"marker\":{\"colorbar\":{\"outlinewidth\":0,\"ticks\":\"\"}}}],\"scattercarpet\":[{\"type\":\"scattercarpet\",\"marker\":{\"colorbar\":{\"outlinewidth\":0,\"ticks\":\"\"}}}],\"carpet\":[{\"aaxis\":{\"endlinecolor\":\"#2a3f5f\",\"gridcolor\":\"white\",\"linecolor\":\"white\",\"minorgridcolor\":\"white\",\"startlinecolor\":\"#2a3f5f\"},\"baxis\":{\"endlinecolor\":\"#2a3f5f\",\"gridcolor\":\"white\",\"linecolor\":\"white\",\"minorgridcolor\":\"white\",\"startlinecolor\":\"#2a3f5f\"},\"type\":\"carpet\"}],\"table\":[{\"cells\":{\"fill\":{\"color\":\"#EBF0F8\"},\"line\":{\"color\":\"white\"}},\"header\":{\"fill\":{\"color\":\"#C8D4E3\"},\"line\":{\"color\":\"white\"}},\"type\":\"table\"}],\"barpolar\":[{\"marker\":{\"line\":{\"color\":\"#E5ECF6\",\"width\":0.5},\"pattern\":{\"fillmode\":\"overlay\",\"size\":10,\"solidity\":0.2}},\"type\":\"barpolar\"}],\"pie\":[{\"automargin\":true,\"type\":\"pie\"}]},\"layout\":{\"autotypenumbers\":\"strict\",\"colorway\":[\"#636efa\",\"#EF553B\",\"#00cc96\",\"#ab63fa\",\"#FFA15A\",\"#19d3f3\",\"#FF6692\",\"#B6E880\",\"#FF97FF\",\"#FECB52\"],\"font\":{\"color\":\"#2a3f5f\"},\"hovermode\":\"closest\",\"hoverlabel\":{\"align\":\"left\"},\"paper_bgcolor\":\"white\",\"plot_bgcolor\":\"#E5ECF6\",\"polar\":{\"bgcolor\":\"#E5ECF6\",\"angularaxis\":{\"gridcolor\":\"white\",\"linecolor\":\"white\",\"ticks\":\"\"},\"radialaxis\":{\"gridcolor\":\"white\",\"linecolor\":\"white\",\"ticks\":\"\"}},\"ternary\":{\"bgcolor\":\"#E5ECF6\",\"aaxis\":{\"gridcolor\":\"white\",\"linecolor\":\"white\",\"ticks\":\"\"},\"baxis\":{\"gridcolor\":\"white\",\"linecolor\":\"white\",\"ticks\":\"\"},\"caxis\":{\"gridcolor\":\"white\",\"linecolor\":\"white\",\"ticks\":\"\"}},\"coloraxis\":{\"colorbar\":{\"outlinewidth\":0,\"ticks\":\"\"}},\"colorscale\":{\"sequential\":[[0.0,\"#0d0887\"],[0.1111111111111111,\"#46039f\"],[0.2222222222222222,\"#7201a8\"],[0.3333333333333333,\"#9c179e\"],[0.4444444444444444,\"#bd3786\"],[0.5555555555555556,\"#d8576b\"],[0.6666666666666666,\"#ed7953\"],[0.7777777777777778,\"#fb9f3a\"],[0.8888888888888888,\"#fdca26\"],[1.0,\"#f0f921\"]],\"sequentialminus\":[[0.0,\"#0d0887\"],[0.1111111111111111,\"#46039f\"],[0.2222222222222222,\"#7201a8\"],[0.3333333333333333,\"#9c179e\"],[0.4444444444444444,\"#bd3786\"],[0.5555555555555556,\"#d8576b\"],[0.6666666666666666,\"#ed7953\"],[0.7777777777777778,\"#fb9f3a\"],[0.8888888888888888,\"#fdca26\"],[1.0,\"#f0f921\"]],\"diverging\":[[0,\"#8e0152\"],[0.1,\"#c51b7d\"],[0.2,\"#de77ae\"],[0.3,\"#f1b6da\"],[0.4,\"#fde0ef\"],[0.5,\"#f7f7f7\"],[0.6,\"#e6f5d0\"],[0.7,\"#b8e186\"],[0.8,\"#7fbc41\"],[0.9,\"#4d9221\"],[1,\"#276419\"]]},\"xaxis\":{\"gridcolor\":\"white\",\"linecolor\":\"white\",\"ticks\":\"\",\"title\":{\"standoff\":15},\"zerolinecolor\":\"white\",\"automargin\":true,\"zerolinewidth\":2},\"yaxis\":{\"gridcolor\":\"white\",\"linecolor\":\"white\",\"ticks\":\"\",\"title\":{\"standoff\":15},\"zerolinecolor\":\"white\",\"automargin\":true,\"zerolinewidth\":2},\"scene\":{\"xaxis\":{\"backgroundcolor\":\"#E5ECF6\",\"gridcolor\":\"white\",\"linecolor\":\"white\",\"showbackground\":true,\"ticks\":\"\",\"zerolinecolor\":\"white\",\"gridwidth\":2},\"yaxis\":{\"backgroundcolor\":\"#E5ECF6\",\"gridcolor\":\"white\",\"linecolor\":\"white\",\"showbackground\":true,\"ticks\":\"\",\"zerolinecolor\":\"white\",\"gridwidth\":2},\"zaxis\":{\"backgroundcolor\":\"#E5ECF6\",\"gridcolor\":\"white\",\"linecolor\":\"white\",\"showbackground\":true,\"ticks\":\"\",\"zerolinecolor\":\"white\",\"gridwidth\":2}},\"shapedefaults\":{\"line\":{\"color\":\"#2a3f5f\"}},\"annotationdefaults\":{\"arrowcolor\":\"#2a3f5f\",\"arrowhead\":0,\"arrowwidth\":1},\"geo\":{\"bgcolor\":\"white\",\"landcolor\":\"#E5ECF6\",\"subunitcolor\":\"white\",\"showland\":true,\"showlakes\":true,\"lakecolor\":\"white\"},\"title\":{\"x\":0.05},\"mapbox\":{\"style\":\"light\"}}},\"xaxis\":{\"anchor\":\"y\",\"domain\":[0.0,1.0],\"title\":{\"text\":\"index\"}},\"yaxis\":{\"anchor\":\"x\",\"domain\":[0.0,1.0],\"title\":{\"text\":\"value\"}},\"legend\":{\"title\":{\"text\":\"variable\"},\"tracegroupgap\":0},\"title\":{\"text\":\"ATK Growth\"}},                        {\"responsive\": true}                    ).then(function(){\n",
       "                            \n",
       "var gd = document.getElementById('56f3d8e7-0fdb-4792-a2f3-36f8492eaf81');\n",
       "var x = new MutationObserver(function (mutations, observer) {{\n",
       "        var display = window.getComputedStyle(gd).display;\n",
       "        if (!display || display === 'none') {{\n",
       "            console.log([gd, 'removed!']);\n",
       "            Plotly.purge(gd);\n",
       "            observer.disconnect();\n",
       "        }}\n",
       "}});\n",
       "\n",
       "// Listen for the removal of the full notebook cells\n",
       "var notebookContainer = gd.closest('#notebook-container');\n",
       "if (notebookContainer) {{\n",
       "    x.observe(notebookContainer, {childList: true});\n",
       "}}\n",
       "\n",
       "// Listen for the clearing of the current output cell\n",
       "var outputEl = gd.closest('.output');\n",
       "if (outputEl) {{\n",
       "    x.observe(outputEl, {childList: true});\n",
       "}}\n",
       "\n",
       "                        })                };                });            </script>        </div>"
      ]
     },
     "metadata": {},
     "output_type": "display_data"
    }
   ],
   "source": [
    "def atk_str(df):\n",
    "    array = []\n",
    "    for key, value in df.iteritems():\n",
    "        if 'atk' in key:\n",
    "            array.append(key)\n",
    "    return array[::-1]\n",
    "\n",
    "atk_array = atk_str(df)\n",
    "df_atk_T = df[atk_array].T\n",
    "px.line(\n",
    "    data_frame=df_atk_T,\n",
    "    title='ATK Growth'\n",
    ")"
   ]
  },
  {
   "cell_type": "code",
   "execution_count": 19,
   "id": "455ff94c",
   "metadata": {
    "execution": {
     "iopub.execute_input": "2023-06-05T09:19:28.433241Z",
     "iopub.status.busy": "2023-06-05T09:19:28.432260Z",
     "iopub.status.idle": "2023-06-05T09:19:28.855354Z",
     "shell.execute_reply": "2023-06-05T09:19:28.854289Z"
    },
    "papermill": {
     "duration": 0.443356,
     "end_time": "2023-06-05T09:19:28.858757",
     "exception": false,
     "start_time": "2023-06-05T09:19:28.415401",
     "status": "completed"
    },
    "tags": []
   },
   "outputs": [
    {
     "data": {
      "text/html": [
       "<div>                            <div id=\"f9d3e253-09c0-4860-bddc-6b8cdc5640f4\" class=\"plotly-graph-div\" style=\"height:525px; width:100%;\"></div>            <script type=\"text/javascript\">                require([\"plotly\"], function(Plotly) {                    window.PLOTLYENV=window.PLOTLYENV || {};                                    if (document.getElementById(\"f9d3e253-09c0-4860-bddc-6b8cdc5640f4\")) {                    Plotly.newPlot(                        \"f9d3e253-09c0-4860-bddc-6b8cdc5640f4\",                        [{\"hovertemplate\":\"variable=0<br>index=%{x}<br>value=%{y}<extra></extra>\",\"legendgroup\":\"0\",\"line\":{\"color\":\"#636efa\",\"dash\":\"solid\"},\"marker\":{\"symbol\":\"circle\"},\"mode\":\"lines\",\"name\":\"0\",\"orientation\":\"v\",\"showlegend\":true,\"x\":[\"def_1_20\",\"def_20_20\",\"def_20_40\",\"def_40_40\",\"def_40_50\",\"def_50_50\",\"def_50_60\",\"def_60_60\",\"def_60_70\",\"def_70_70\",\"def_70_80\",\"def_80_80\",\"def_80_90\",\"def_90_90\"],\"xaxis\":\"x\",\"y\":[68.0,177.0,235.0,352.0,394.0,453.0,508.0,568.0,610.0,670.0,712.0,773.0,815.0,876.0],\"yaxis\":\"y\",\"type\":\"scatter\"},{\"hovertemplate\":\"variable=1<br>index=%{x}<br>value=%{y}<extra></extra>\",\"legendgroup\":\"1\",\"line\":{\"color\":\"#EF553B\",\"dash\":\"solid\"},\"marker\":{\"symbol\":\"circle\"},\"mode\":\"lines\",\"name\":\"1\",\"orientation\":\"v\",\"showlegend\":true,\"x\":[\"def_1_20\",\"def_20_20\",\"def_20_40\",\"def_40_40\",\"def_40_50\",\"def_50_50\",\"def_50_60\",\"def_60_60\",\"def_60_70\",\"def_70_70\",\"def_70_80\",\"def_80_80\",\"def_80_90\",\"def_90_90\"],\"xaxis\":\"x\",\"y\":[null,null,null,null,null,null,null,null,null,null,null,null,null,null],\"yaxis\":\"y\",\"type\":\"scatter\"},{\"hovertemplate\":\"variable=2<br>index=%{x}<br>value=%{y}<extra></extra>\",\"legendgroup\":\"2\",\"line\":{\"color\":\"#00cc96\",\"dash\":\"solid\"},\"marker\":{\"symbol\":\"circle\"},\"mode\":\"lines\",\"name\":\"2\",\"orientation\":\"v\",\"showlegend\":true,\"x\":[\"def_1_20\",\"def_20_20\",\"def_20_40\",\"def_40_40\",\"def_40_50\",\"def_50_50\",\"def_50_60\",\"def_60_60\",\"def_60_70\",\"def_70_70\",\"def_70_80\",\"def_80_80\",\"def_80_90\",\"def_90_90\"],\"xaxis\":\"x\",\"y\":[53.0,137.0,182.0,272.0,304.0,350.0,393.0,439.0,471.0,517.0,550.0,597.0,629.0,676.0],\"yaxis\":\"y\",\"type\":\"scatter\"},{\"hovertemplate\":\"variable=3<br>index=%{x}<br>value=%{y}<extra></extra>\",\"legendgroup\":\"3\",\"line\":{\"color\":\"#ab63fa\",\"dash\":\"solid\"},\"marker\":{\"symbol\":\"circle\"},\"mode\":\"lines\",\"name\":\"3\",\"orientation\":\"v\",\"showlegend\":true,\"x\":[\"def_1_20\",\"def_20_20\",\"def_20_40\",\"def_40_40\",\"def_40_50\",\"def_50_50\",\"def_50_60\",\"def_60_60\",\"def_60_70\",\"def_70_70\",\"def_70_80\",\"def_80_80\",\"def_80_90\",\"def_90_90\"],\"xaxis\":\"x\",\"y\":[50.0,129.0,167.0,250.0,277.0,318.0,354.0,396.0,422.0,464.0,491.0,532.0,559.0,601.0],\"yaxis\":\"y\",\"type\":\"scatter\"},{\"hovertemplate\":\"variable=4<br>index=%{x}<br>value=%{y}<extra></extra>\",\"legendgroup\":\"4\",\"line\":{\"color\":\"#FFA15A\",\"dash\":\"solid\"},\"marker\":{\"symbol\":\"circle\"},\"mode\":\"lines\",\"name\":\"4\",\"orientation\":\"v\",\"showlegend\":true,\"x\":[\"def_1_20\",\"def_20_20\",\"def_20_40\",\"def_40_40\",\"def_40_50\",\"def_50_50\",\"def_50_60\",\"def_60_60\",\"def_60_70\",\"def_70_70\",\"def_70_80\",\"def_80_80\",\"def_80_90\",\"def_90_90\"],\"xaxis\":\"x\",\"y\":[75.0,194.0,258.0,386.0,431.0,496.0,557.0,622.0,668.0,734.0,779.0,846.0,892.0,959.0],\"yaxis\":\"y\",\"type\":\"scatter\"},{\"hovertemplate\":\"variable=5<br>index=%{x}<br>value=%{y}<extra></extra>\",\"legendgroup\":\"5\",\"line\":{\"color\":\"#19d3f3\",\"dash\":\"solid\"},\"marker\":{\"symbol\":\"circle\"},\"mode\":\"lines\",\"name\":\"5\",\"orientation\":\"v\",\"showlegend\":true,\"x\":[\"def_1_20\",\"def_20_20\",\"def_20_40\",\"def_40_40\",\"def_40_50\",\"def_50_50\",\"def_50_60\",\"def_60_60\",\"def_60_70\",\"def_70_70\",\"def_70_80\",\"def_80_80\",\"def_80_90\",\"def_90_90\"],\"xaxis\":\"x\",\"y\":[null,null,null,null,null,null,null,null,null,null,null,null,null,null],\"yaxis\":\"y\",\"type\":\"scatter\"},{\"hovertemplate\":\"variable=6<br>index=%{x}<br>value=%{y}<extra></extra>\",\"legendgroup\":\"6\",\"line\":{\"color\":\"#FF6692\",\"dash\":\"solid\"},\"marker\":{\"symbol\":\"circle\"},\"mode\":\"lines\",\"name\":\"6\",\"orientation\":\"v\",\"showlegend\":true,\"x\":[\"def_1_20\",\"def_20_20\",\"def_20_40\",\"def_40_40\",\"def_40_50\",\"def_50_50\",\"def_50_60\",\"def_60_60\",\"def_60_70\",\"def_70_70\",\"def_70_80\",\"def_80_80\",\"def_80_90\",\"def_90_90\"],\"xaxis\":\"x\",\"y\":[56.0,144.0,186.0,279.0,308.0,355.0,394.0,441.0,470.0,517.0,546.0,593.0,623.0,669.0],\"yaxis\":\"y\",\"type\":\"scatter\"},{\"hovertemplate\":\"variable=7<br>index=%{x}<br>value=%{y}<extra></extra>\",\"legendgroup\":\"7\",\"line\":{\"color\":\"#B6E880\",\"dash\":\"solid\"},\"marker\":{\"symbol\":\"circle\"},\"mode\":\"lines\",\"name\":\"7\",\"orientation\":\"v\",\"showlegend\":true,\"x\":[\"def_1_20\",\"def_20_20\",\"def_20_40\",\"def_40_40\",\"def_40_50\",\"def_50_50\",\"def_50_60\",\"def_60_60\",\"def_60_70\",\"def_70_70\",\"def_70_80\",\"def_80_80\",\"def_80_90\",\"def_90_90\"],\"xaxis\":\"x\",\"y\":[54.0,140.0,180.0,270.0,299.0,344.0,382.0,427.0,456.0,501.0,530.0,575.0,603.0,648.0],\"yaxis\":\"y\",\"type\":\"scatter\"},{\"hovertemplate\":\"variable=8<br>index=%{x}<br>value=%{y}<extra></extra>\",\"legendgroup\":\"8\",\"line\":{\"color\":\"#FF97FF\",\"dash\":\"solid\"},\"marker\":{\"symbol\":\"circle\"},\"mode\":\"lines\",\"name\":\"8\",\"orientation\":\"v\",\"showlegend\":true,\"x\":[\"def_1_20\",\"def_20_20\",\"def_20_40\",\"def_40_40\",\"def_40_50\",\"def_50_50\",\"def_50_60\",\"def_60_60\",\"def_60_70\",\"def_70_70\",\"def_70_80\",\"def_80_80\",\"def_80_90\",\"def_90_90\"],\"xaxis\":\"x\",\"y\":[65.0,166.0,214.0,321.0,356.0,409.0,455.0,508.0,542.0,596.0,630.0,684.0,718.0,771.0],\"yaxis\":\"y\",\"type\":\"scatter\"},{\"hovertemplate\":\"variable=9<br>index=%{x}<br>value=%{y}<extra></extra>\",\"legendgroup\":\"9\",\"line\":{\"color\":\"#FECB52\",\"dash\":\"solid\"},\"marker\":{\"symbol\":\"circle\"},\"mode\":\"lines\",\"name\":\"9\",\"orientation\":\"v\",\"showlegend\":true,\"x\":[\"def_1_20\",\"def_20_20\",\"def_20_40\",\"def_40_40\",\"def_40_50\",\"def_50_50\",\"def_50_60\",\"def_60_60\",\"def_60_70\",\"def_70_70\",\"def_70_80\",\"def_80_80\",\"def_80_90\",\"def_90_90\"],\"xaxis\":\"x\",\"y\":[57.0,147.0,189.0,284.0,314.0,361.0,402.0,449.0,480.0,527.0,557.0,604.0,635.0,682.0],\"yaxis\":\"y\",\"type\":\"scatter\"},{\"hovertemplate\":\"variable=10<br>index=%{x}<br>value=%{y}<extra></extra>\",\"legendgroup\":\"10\",\"line\":{\"color\":\"#636efa\",\"dash\":\"solid\"},\"marker\":{\"symbol\":\"circle\"},\"mode\":\"lines\",\"name\":\"10\",\"orientation\":\"v\",\"showlegend\":true,\"x\":[\"def_1_20\",\"def_20_20\",\"def_20_40\",\"def_40_40\",\"def_40_50\",\"def_50_50\",\"def_50_60\",\"def_60_60\",\"def_60_70\",\"def_70_70\",\"def_70_80\",\"def_80_80\",\"def_80_90\",\"def_90_90\"],\"xaxis\":\"x\",\"y\":[54.0,140.0,180.0,270.0,299.0,344.0,382.0,427.0,456.0,501.0,530.0,575.0,603.0,648.0],\"yaxis\":\"y\",\"type\":\"scatter\"},{\"hovertemplate\":\"variable=11<br>index=%{x}<br>value=%{y}<extra></extra>\",\"legendgroup\":\"11\",\"line\":{\"color\":\"#EF553B\",\"dash\":\"solid\"},\"marker\":{\"symbol\":\"circle\"},\"mode\":\"lines\",\"name\":\"11\",\"orientation\":\"v\",\"showlegend\":true,\"x\":[\"def_1_20\",\"def_20_20\",\"def_20_40\",\"def_40_40\",\"def_40_50\",\"def_50_50\",\"def_50_60\",\"def_60_60\",\"def_60_70\",\"def_70_70\",\"def_70_80\",\"def_80_80\",\"def_80_90\",\"def_90_90\"],\"xaxis\":\"x\",\"y\":[50.0,129.0,166.0,250.0,276.0,318.0,354.0,395.0,422.0,463.0,490.0,532.0,559.0,600.0],\"yaxis\":\"y\",\"type\":\"scatter\"},{\"hovertemplate\":\"variable=12<br>index=%{x}<br>value=%{y}<extra></extra>\",\"legendgroup\":\"12\",\"line\":{\"color\":\"#00cc96\",\"dash\":\"solid\"},\"marker\":{\"symbol\":\"circle\"},\"mode\":\"lines\",\"name\":\"12\",\"orientation\":\"v\",\"showlegend\":true,\"x\":[\"def_1_20\",\"def_20_20\",\"def_20_40\",\"def_40_40\",\"def_40_50\",\"def_50_50\",\"def_50_60\",\"def_60_60\",\"def_60_70\",\"def_70_70\",\"def_70_80\",\"def_80_80\",\"def_80_90\",\"def_90_90\"],\"xaxis\":\"x\",\"y\":[66.0,173.0,230.0,345.0,386.0,444.0,498.0,557.0,598.0,657.0,698.0,758.0,798.0,859.0],\"yaxis\":\"y\",\"type\":\"scatter\"},{\"hovertemplate\":\"variable=13<br>index=%{x}<br>value=%{y}<extra></extra>\",\"legendgroup\":\"13\",\"line\":{\"color\":\"#ab63fa\",\"dash\":\"solid\"},\"marker\":{\"symbol\":\"circle\"},\"mode\":\"lines\",\"name\":\"13\",\"orientation\":\"v\",\"showlegend\":true,\"x\":[\"def_1_20\",\"def_20_20\",\"def_20_40\",\"def_40_40\",\"def_40_50\",\"def_50_50\",\"def_50_60\",\"def_60_60\",\"def_60_70\",\"def_70_70\",\"def_70_80\",\"def_80_80\",\"def_80_90\",\"def_90_90\"],\"xaxis\":\"x\",\"y\":[null,null,null,null,null,null,null,null,null,null,null,null,null,null],\"yaxis\":\"y\",\"type\":\"scatter\"},{\"hovertemplate\":\"variable=14<br>index=%{x}<br>value=%{y}<extra></extra>\",\"legendgroup\":\"14\",\"line\":{\"color\":\"#FFA15A\",\"dash\":\"solid\"},\"marker\":{\"symbol\":\"circle\"},\"mode\":\"lines\",\"name\":\"14\",\"orientation\":\"v\",\"showlegend\":true,\"x\":[\"def_1_20\",\"def_20_20\",\"def_20_40\",\"def_40_40\",\"def_40_50\",\"def_50_50\",\"def_50_60\",\"def_60_60\",\"def_60_70\",\"def_70_70\",\"def_70_80\",\"def_80_80\",\"def_80_90\",\"def_90_90\"],\"xaxis\":\"x\",\"y\":[null,null,null,null,null,null,null,null,null,null,null,null,null,null],\"yaxis\":\"y\",\"type\":\"scatter\"},{\"hovertemplate\":\"variable=15<br>index=%{x}<br>value=%{y}<extra></extra>\",\"legendgroup\":\"15\",\"line\":{\"color\":\"#19d3f3\",\"dash\":\"solid\"},\"marker\":{\"symbol\":\"circle\"},\"mode\":\"lines\",\"name\":\"15\",\"orientation\":\"v\",\"showlegend\":true,\"x\":[\"def_1_20\",\"def_20_20\",\"def_20_40\",\"def_40_40\",\"def_40_50\",\"def_50_50\",\"def_50_60\",\"def_60_60\",\"def_60_70\",\"def_70_70\",\"def_70_80\",\"def_80_80\",\"def_80_90\",\"def_90_90\"],\"xaxis\":\"x\",\"y\":[61.0,158.0,211.0,315.0,352.0,405.0,455.0,509.0,546.0,600.0,637.0,692.0,729.0,784.0],\"yaxis\":\"y\",\"type\":\"scatter\"},{\"hovertemplate\":\"variable=16<br>index=%{x}<br>value=%{y}<extra></extra>\",\"legendgroup\":\"16\",\"line\":{\"color\":\"#FF6692\",\"dash\":\"solid\"},\"marker\":{\"symbol\":\"circle\"},\"mode\":\"lines\",\"name\":\"16\",\"orientation\":\"v\",\"showlegend\":true,\"x\":[\"def_1_20\",\"def_20_20\",\"def_20_40\",\"def_40_40\",\"def_40_50\",\"def_50_50\",\"def_50_60\",\"def_60_60\",\"def_60_70\",\"def_70_70\",\"def_70_80\",\"def_80_80\",\"def_80_90\",\"def_90_90\"],\"xaxis\":\"x\",\"y\":[50.0,129.0,167.0,250.0,277.0,318.0,354.0,396.0,422.0,464.0,491.0,532.0,559.0,601.0],\"yaxis\":\"y\",\"type\":\"scatter\"},{\"hovertemplate\":\"variable=17<br>index=%{x}<br>value=%{y}<extra></extra>\",\"legendgroup\":\"17\",\"line\":{\"color\":\"#B6E880\",\"dash\":\"solid\"},\"marker\":{\"symbol\":\"circle\"},\"mode\":\"lines\",\"name\":\"17\",\"orientation\":\"v\",\"showlegend\":true,\"x\":[\"def_1_20\",\"def_20_20\",\"def_20_40\",\"def_40_40\",\"def_40_50\",\"def_50_50\",\"def_50_60\",\"def_60_60\",\"def_60_70\",\"def_70_70\",\"def_70_80\",\"def_80_80\",\"def_80_90\",\"def_90_90\"],\"xaxis\":\"x\",\"y\":[60.0,155.0,201.0,301.0,333.0,383.0,426.0,476.0,508.0,558.0,591.0,641.0,673.0,723.0],\"yaxis\":\"y\",\"type\":\"scatter\"},{\"hovertemplate\":\"variable=18<br>index=%{x}<br>value=%{y}<extra></extra>\",\"legendgroup\":\"18\",\"line\":{\"color\":\"#FF97FF\",\"dash\":\"solid\"},\"marker\":{\"symbol\":\"circle\"},\"mode\":\"lines\",\"name\":\"18\",\"orientation\":\"v\",\"showlegend\":true,\"x\":[\"def_1_20\",\"def_20_20\",\"def_20_40\",\"def_40_40\",\"def_40_50\",\"def_50_50\",\"def_50_60\",\"def_60_60\",\"def_60_70\",\"def_70_70\",\"def_70_80\",\"def_80_80\",\"def_80_90\",\"def_90_90\"],\"xaxis\":\"x\",\"y\":[58.0,152.0,202.0,302.0,337.0,388.0,436.0,487.0,523.0,574.0,610.0,662.0,698.0,751.0],\"yaxis\":\"y\",\"type\":\"scatter\"},{\"hovertemplate\":\"variable=19<br>index=%{x}<br>value=%{y}<extra></extra>\",\"legendgroup\":\"19\",\"line\":{\"color\":\"#FECB52\",\"dash\":\"solid\"},\"marker\":{\"symbol\":\"circle\"},\"mode\":\"lines\",\"name\":\"19\",\"orientation\":\"v\",\"showlegend\":true,\"x\":[\"def_1_20\",\"def_20_20\",\"def_20_40\",\"def_40_40\",\"def_40_50\",\"def_50_50\",\"def_50_60\",\"def_60_60\",\"def_60_70\",\"def_70_70\",\"def_70_80\",\"def_80_80\",\"def_80_90\",\"def_90_90\"],\"xaxis\":\"x\",\"y\":[50.0,128.0,165.0,247.0,274.0,315.0,350.0,391.0,418.0,459.0,485.0,526.0,553.0,594.0],\"yaxis\":\"y\",\"type\":\"scatter\"},{\"hovertemplate\":\"variable=20<br>index=%{x}<br>value=%{y}<extra></extra>\",\"legendgroup\":\"20\",\"line\":{\"color\":\"#636efa\",\"dash\":\"solid\"},\"marker\":{\"symbol\":\"circle\"},\"mode\":\"lines\",\"name\":\"20\",\"orientation\":\"v\",\"showlegend\":true,\"x\":[\"def_1_20\",\"def_20_20\",\"def_20_40\",\"def_40_40\",\"def_40_50\",\"def_50_50\",\"def_50_60\",\"def_60_60\",\"def_60_70\",\"def_70_70\",\"def_70_80\",\"def_80_80\",\"def_80_90\",\"def_90_90\"],\"xaxis\":\"x\",\"y\":[49.0,127.0,169.0,253.0,283.0,326.0,366.0,409.0,439.0,482.0,512.0,556.0,586.0,630.0],\"yaxis\":\"y\",\"type\":\"scatter\"},{\"hovertemplate\":\"variable=21<br>index=%{x}<br>value=%{y}<extra></extra>\",\"legendgroup\":\"21\",\"line\":{\"color\":\"#EF553B\",\"dash\":\"solid\"},\"marker\":{\"symbol\":\"circle\"},\"mode\":\"lines\",\"name\":\"21\",\"orientation\":\"v\",\"showlegend\":true,\"x\":[\"def_1_20\",\"def_20_20\",\"def_20_40\",\"def_40_40\",\"def_40_50\",\"def_50_50\",\"def_50_60\",\"def_60_60\",\"def_60_70\",\"def_70_70\",\"def_70_80\",\"def_80_80\",\"def_80_90\",\"def_90_90\"],\"xaxis\":\"x\",\"y\":[54.0,140.0,180.0,270.0,299.0,344.0,382.0,427.0,456.0,501.0,530.0,575.0,603.0,648.0],\"yaxis\":\"y\",\"type\":\"scatter\"},{\"hovertemplate\":\"variable=22<br>index=%{x}<br>value=%{y}<extra></extra>\",\"legendgroup\":\"22\",\"line\":{\"color\":\"#00cc96\",\"dash\":\"solid\"},\"marker\":{\"symbol\":\"circle\"},\"mode\":\"lines\",\"name\":\"22\",\"orientation\":\"v\",\"showlegend\":true,\"x\":[\"def_1_20\",\"def_20_20\",\"def_20_40\",\"def_40_40\",\"def_40_50\",\"def_50_50\",\"def_50_60\",\"def_60_60\",\"def_60_70\",\"def_70_70\",\"def_70_80\",\"def_80_80\",\"def_80_90\",\"def_90_90\"],\"xaxis\":\"x\",\"y\":[68.0,177.0,235.0,352.0,394.0,453.0,508.0,568.0,610.0,670.0,712.0,773.0,815.0,876.0],\"yaxis\":\"y\",\"type\":\"scatter\"},{\"hovertemplate\":\"variable=23<br>index=%{x}<br>value=%{y}<extra></extra>\",\"legendgroup\":\"23\",\"line\":{\"color\":\"#ab63fa\",\"dash\":\"solid\"},\"marker\":{\"symbol\":\"circle\"},\"mode\":\"lines\",\"name\":\"23\",\"orientation\":\"v\",\"showlegend\":true,\"x\":[\"def_1_20\",\"def_20_20\",\"def_20_40\",\"def_40_40\",\"def_40_50\",\"def_50_50\",\"def_50_60\",\"def_60_60\",\"def_60_70\",\"def_70_70\",\"def_70_80\",\"def_80_80\",\"def_80_90\",\"def_90_90\"],\"xaxis\":\"x\",\"y\":[60.0,155.0,206.0,309.0,345.0,397.0,446.0,499.0,535.0,588.0,624.0,678.0,715.0,769.0],\"yaxis\":\"y\",\"type\":\"scatter\"},{\"hovertemplate\":\"variable=24<br>index=%{x}<br>value=%{y}<extra></extra>\",\"legendgroup\":\"24\",\"line\":{\"color\":\"#FFA15A\",\"dash\":\"solid\"},\"marker\":{\"symbol\":\"circle\"},\"mode\":\"lines\",\"name\":\"24\",\"orientation\":\"v\",\"showlegend\":true,\"x\":[\"def_1_20\",\"def_20_20\",\"def_20_40\",\"def_40_40\",\"def_40_50\",\"def_50_50\",\"def_50_60\",\"def_60_60\",\"def_60_70\",\"def_70_70\",\"def_70_80\",\"def_80_80\",\"def_80_90\",\"def_90_90\"],\"xaxis\":\"x\",\"y\":[63.0,163.0,217.0,324.0,363.0,417.0,468.0,523.0,562.0,617.0,656.0,712.0,750.0,807.0],\"yaxis\":\"y\",\"type\":\"scatter\"},{\"hovertemplate\":\"variable=25<br>index=%{x}<br>value=%{y}<extra></extra>\",\"legendgroup\":\"25\",\"line\":{\"color\":\"#19d3f3\",\"dash\":\"solid\"},\"marker\":{\"symbol\":\"circle\"},\"mode\":\"lines\",\"name\":\"25\",\"orientation\":\"v\",\"showlegend\":true,\"x\":[\"def_1_20\",\"def_20_20\",\"def_20_40\",\"def_40_40\",\"def_40_50\",\"def_50_50\",\"def_50_60\",\"def_60_60\",\"def_60_70\",\"def_70_70\",\"def_70_80\",\"def_80_80\",\"def_80_90\",\"def_90_90\"],\"xaxis\":\"x\",\"y\":[66.0,171.0,220.0,330.0,365.0,420.0,467.0,522.0,557.0,612.0,647.0,702.0,737.0,792.0],\"yaxis\":\"y\",\"type\":\"scatter\"},{\"hovertemplate\":\"variable=26<br>index=%{x}<br>value=%{y}<extra></extra>\",\"legendgroup\":\"26\",\"line\":{\"color\":\"#FF6692\",\"dash\":\"solid\"},\"marker\":{\"symbol\":\"circle\"},\"mode\":\"lines\",\"name\":\"26\",\"orientation\":\"v\",\"showlegend\":true,\"x\":[\"def_1_20\",\"def_20_20\",\"def_20_40\",\"def_40_40\",\"def_40_50\",\"def_50_50\",\"def_50_60\",\"def_60_60\",\"def_60_70\",\"def_70_70\",\"def_70_80\",\"def_80_80\",\"def_80_90\",\"def_90_90\"],\"xaxis\":\"x\",\"y\":[61.0,158.0,211.0,315.0,352.0,405.0,455.0,509.0,546.0,600.0,637.0,692.0,729.0,784.0],\"yaxis\":\"y\",\"type\":\"scatter\"},{\"hovertemplate\":\"variable=27<br>index=%{x}<br>value=%{y}<extra></extra>\",\"legendgroup\":\"27\",\"line\":{\"color\":\"#B6E880\",\"dash\":\"solid\"},\"marker\":{\"symbol\":\"circle\"},\"mode\":\"lines\",\"name\":\"27\",\"orientation\":\"v\",\"showlegend\":true,\"x\":[\"def_1_20\",\"def_20_20\",\"def_20_40\",\"def_40_40\",\"def_40_50\",\"def_50_50\",\"def_50_60\",\"def_60_60\",\"def_60_70\",\"def_70_70\",\"def_70_80\",\"def_80_80\",\"def_80_90\",\"def_90_90\"],\"xaxis\":\"x\",\"y\":[60.0,155.0,206.0,309.0,345.0,397.0,446.0,499.0,535.0,588.0,624.0,678.0,715.0,769.0],\"yaxis\":\"y\",\"type\":\"scatter\"},{\"hovertemplate\":\"variable=28<br>index=%{x}<br>value=%{y}<extra></extra>\",\"legendgroup\":\"28\",\"line\":{\"color\":\"#FF97FF\",\"dash\":\"solid\"},\"marker\":{\"symbol\":\"circle\"},\"mode\":\"lines\",\"name\":\"28\",\"orientation\":\"v\",\"showlegend\":true,\"x\":[\"def_1_20\",\"def_20_20\",\"def_20_40\",\"def_40_40\",\"def_40_50\",\"def_50_50\",\"def_50_60\",\"def_60_60\",\"def_60_70\",\"def_70_70\",\"def_70_80\",\"def_80_80\",\"def_80_90\",\"def_90_90\"],\"xaxis\":\"x\",\"y\":[62.0,161.0,215.0,321.0,359.0,413.0,464.0,519.0,556.0,612.0,649.0,705.0,743.0,799.0],\"yaxis\":\"y\",\"type\":\"scatter\"},{\"hovertemplate\":\"variable=29<br>index=%{x}<br>value=%{y}<extra></extra>\",\"legendgroup\":\"29\",\"line\":{\"color\":\"#FECB52\",\"dash\":\"solid\"},\"marker\":{\"symbol\":\"circle\"},\"mode\":\"lines\",\"name\":\"29\",\"orientation\":\"v\",\"showlegend\":true,\"x\":[\"def_1_20\",\"def_20_20\",\"def_20_40\",\"def_40_40\",\"def_40_50\",\"def_50_50\",\"def_50_60\",\"def_60_60\",\"def_60_70\",\"def_70_70\",\"def_70_80\",\"def_80_80\",\"def_80_90\",\"def_90_90\"],\"xaxis\":\"x\",\"y\":[48.0,124.0,165.0,247.0,276.0,318.0,357.0,399.0,428.0,470.0,500.0,542.0,572.0,615.0],\"yaxis\":\"y\",\"type\":\"scatter\"},{\"hovertemplate\":\"variable=30<br>index=%{x}<br>value=%{y}<extra></extra>\",\"legendgroup\":\"30\",\"line\":{\"color\":\"#636efa\",\"dash\":\"solid\"},\"marker\":{\"symbol\":\"circle\"},\"mode\":\"lines\",\"name\":\"30\",\"orientation\":\"v\",\"showlegend\":true,\"x\":[\"def_1_20\",\"def_20_20\",\"def_20_40\",\"def_40_40\",\"def_40_50\",\"def_50_50\",\"def_50_60\",\"def_60_60\",\"def_60_70\",\"def_70_70\",\"def_70_80\",\"def_80_80\",\"def_80_90\",\"def_90_90\"],\"xaxis\":\"x\",\"y\":[53.0,135.0,175.0,262.0,289.0,333.0,370.0,414.0,442.0,485.0,513.0,556.0,584.0,628.0],\"yaxis\":\"y\",\"type\":\"scatter\"},{\"hovertemplate\":\"variable=31<br>index=%{x}<br>value=%{y}<extra></extra>\",\"legendgroup\":\"31\",\"line\":{\"color\":\"#EF553B\",\"dash\":\"solid\"},\"marker\":{\"symbol\":\"circle\"},\"mode\":\"lines\",\"name\":\"31\",\"orientation\":\"v\",\"showlegend\":true,\"x\":[\"def_1_20\",\"def_20_20\",\"def_20_40\",\"def_40_40\",\"def_40_50\",\"def_50_50\",\"def_50_60\",\"def_60_60\",\"def_60_70\",\"def_70_70\",\"def_70_80\",\"def_80_80\",\"def_80_90\",\"def_90_90\"],\"xaxis\":\"x\",\"y\":[62.0,161.0,208.0,312.0,346.0,398.0,442.0,494.0,528.0,579.0,613.0,665.0,698.0,750.0],\"yaxis\":\"y\",\"type\":\"scatter\"},{\"hovertemplate\":\"variable=32<br>index=%{x}<br>value=%{y}<extra></extra>\",\"legendgroup\":\"32\",\"line\":{\"color\":\"#00cc96\",\"dash\":\"solid\"},\"marker\":{\"symbol\":\"circle\"},\"mode\":\"lines\",\"name\":\"32\",\"orientation\":\"v\",\"showlegend\":true,\"x\":[\"def_1_20\",\"def_20_20\",\"def_20_40\",\"def_40_40\",\"def_40_50\",\"def_50_50\",\"def_50_60\",\"def_60_60\",\"def_60_70\",\"def_70_70\",\"def_70_80\",\"def_80_80\",\"def_80_90\",\"def_90_90\"],\"xaxis\":\"x\",\"y\":[48.0,123.0,159.0,239.0,264.0,304.0,338.0,378.0,403.0,443.0,468.0,508.0,534.0,573.0],\"yaxis\":\"y\",\"type\":\"scatter\"},{\"hovertemplate\":\"variable=33<br>index=%{x}<br>value=%{y}<extra></extra>\",\"legendgroup\":\"33\",\"line\":{\"color\":\"#ab63fa\",\"dash\":\"solid\"},\"marker\":{\"symbol\":\"circle\"},\"mode\":\"lines\",\"name\":\"33\",\"orientation\":\"v\",\"showlegend\":true,\"x\":[\"def_1_20\",\"def_20_20\",\"def_20_40\",\"def_40_40\",\"def_40_50\",\"def_50_50\",\"def_50_60\",\"def_60_60\",\"def_60_70\",\"def_70_70\",\"def_70_80\",\"def_80_80\",\"def_80_90\",\"def_90_90\"],\"xaxis\":\"x\",\"y\":[51.0,132.0,176.0,263.0,294.0,338.0,379.0,424.0,455.0,500.0,531.0,576.0,607.0,653.0],\"yaxis\":\"y\",\"type\":\"scatter\"},{\"hovertemplate\":\"variable=34<br>index=%{x}<br>value=%{y}<extra></extra>\",\"legendgroup\":\"34\",\"line\":{\"color\":\"#FFA15A\",\"dash\":\"solid\"},\"marker\":{\"symbol\":\"circle\"},\"mode\":\"lines\",\"name\":\"34\",\"orientation\":\"v\",\"showlegend\":true,\"x\":[\"def_1_20\",\"def_20_20\",\"def_20_40\",\"def_40_40\",\"def_40_50\",\"def_50_50\",\"def_50_60\",\"def_60_60\",\"def_60_70\",\"def_70_70\",\"def_70_80\",\"def_80_80\",\"def_80_90\",\"def_90_90\"],\"xaxis\":\"x\",\"y\":[null,null,null,null,null,null,null,null,null,null,null,null,null,null],\"yaxis\":\"y\",\"type\":\"scatter\"},{\"hovertemplate\":\"variable=35<br>index=%{x}<br>value=%{y}<extra></extra>\",\"legendgroup\":\"35\",\"line\":{\"color\":\"#19d3f3\",\"dash\":\"solid\"},\"marker\":{\"symbol\":\"circle\"},\"mode\":\"lines\",\"name\":\"35\",\"orientation\":\"v\",\"showlegend\":true,\"x\":[\"def_1_20\",\"def_20_20\",\"def_20_40\",\"def_40_40\",\"def_40_50\",\"def_50_50\",\"def_50_60\",\"def_60_60\",\"def_60_70\",\"def_70_70\",\"def_70_80\",\"def_80_80\",\"def_80_90\",\"def_90_90\"],\"xaxis\":\"x\",\"y\":[56.0,147.0,195.0,292.0,327.0,376.0,422.0,472.0,507.0,557.0,591.0,642.0,677.0,728.0],\"yaxis\":\"y\",\"type\":\"scatter\"},{\"hovertemplate\":\"variable=36<br>index=%{x}<br>value=%{y}<extra></extra>\",\"legendgroup\":\"36\",\"line\":{\"color\":\"#FF6692\",\"dash\":\"solid\"},\"marker\":{\"symbol\":\"circle\"},\"mode\":\"lines\",\"name\":\"36\",\"orientation\":\"v\",\"showlegend\":true,\"x\":[\"def_1_20\",\"def_20_20\",\"def_20_40\",\"def_40_40\",\"def_40_50\",\"def_50_50\",\"def_50_60\",\"def_60_60\",\"def_60_70\",\"def_70_70\",\"def_70_80\",\"def_80_80\",\"def_80_90\",\"def_90_90\"],\"xaxis\":\"x\",\"y\":[48.0,123.0,159.0,239.0,264.0,304.0,338.0,378.0,403.0,443.0,468.0,508.0,534.0,573.0],\"yaxis\":\"y\",\"type\":\"scatter\"},{\"hovertemplate\":\"variable=37<br>index=%{x}<br>value=%{y}<extra></extra>\",\"legendgroup\":\"37\",\"line\":{\"color\":\"#B6E880\",\"dash\":\"solid\"},\"marker\":{\"symbol\":\"circle\"},\"mode\":\"lines\",\"name\":\"37\",\"orientation\":\"v\",\"showlegend\":true,\"x\":[\"def_1_20\",\"def_20_20\",\"def_20_40\",\"def_40_40\",\"def_40_50\",\"def_50_50\",\"def_50_60\",\"def_60_60\",\"def_60_70\",\"def_70_70\",\"def_70_80\",\"def_80_80\",\"def_80_90\",\"def_90_90\"],\"xaxis\":\"x\",\"y\":[67.0,172.0,222.0,333.0,368.0,423.0,471.0,526.0,562.0,617.0,652.0,708.0,743.0,799.0],\"yaxis\":\"y\",\"type\":\"scatter\"},{\"hovertemplate\":\"variable=38<br>index=%{x}<br>value=%{y}<extra></extra>\",\"legendgroup\":\"38\",\"line\":{\"color\":\"#FF97FF\",\"dash\":\"solid\"},\"marker\":{\"symbol\":\"circle\"},\"mode\":\"lines\",\"name\":\"38\",\"orientation\":\"v\",\"showlegend\":true,\"x\":[\"def_1_20\",\"def_20_20\",\"def_20_40\",\"def_40_40\",\"def_40_50\",\"def_50_50\",\"def_50_60\",\"def_60_60\",\"def_60_70\",\"def_70_70\",\"def_70_80\",\"def_80_80\",\"def_80_90\",\"def_90_90\"],\"xaxis\":\"x\",\"y\":[72.0,186.0,248.0,371.0,415.0,477.0,535.0,598.0,642.0,706.0,749.0,814.0,857.0,922.0],\"yaxis\":\"y\",\"type\":\"scatter\"},{\"hovertemplate\":\"variable=39<br>index=%{x}<br>value=%{y}<extra></extra>\",\"legendgroup\":\"39\",\"line\":{\"color\":\"#FECB52\",\"dash\":\"solid\"},\"marker\":{\"symbol\":\"circle\"},\"mode\":\"lines\",\"name\":\"39\",\"orientation\":\"v\",\"showlegend\":true,\"x\":[\"def_1_20\",\"def_20_20\",\"def_20_40\",\"def_40_40\",\"def_40_50\",\"def_50_50\",\"def_50_60\",\"def_60_60\",\"def_60_70\",\"def_70_70\",\"def_70_80\",\"def_80_80\",\"def_80_90\",\"def_90_90\"],\"xaxis\":\"x\",\"y\":[61.0,159.0,212.0,317.0,355.0,408.0,458.0,512.0,549.0,604.0,641.0,696.0,737.0,789.0],\"yaxis\":\"y\",\"type\":\"scatter\"},{\"hovertemplate\":\"variable=40<br>index=%{x}<br>value=%{y}<extra></extra>\",\"legendgroup\":\"40\",\"line\":{\"color\":\"#636efa\",\"dash\":\"solid\"},\"marker\":{\"symbol\":\"circle\"},\"mode\":\"lines\",\"name\":\"40\",\"orientation\":\"v\",\"showlegend\":true,\"x\":[\"def_1_20\",\"def_20_20\",\"def_20_40\",\"def_40_40\",\"def_40_50\",\"def_50_50\",\"def_50_60\",\"def_60_60\",\"def_60_70\",\"def_70_70\",\"def_70_80\",\"def_80_80\",\"def_80_90\",\"def_90_90\"],\"xaxis\":\"x\",\"y\":[63.0,162.0,209.0,313.0,346.0,398.0,443.0,495.0,528.0,580.0,613.0,665.0,699.0,751.0],\"yaxis\":\"y\",\"type\":\"scatter\"},{\"hovertemplate\":\"variable=41<br>index=%{x}<br>value=%{y}<extra></extra>\",\"legendgroup\":\"41\",\"line\":{\"color\":\"#EF553B\",\"dash\":\"solid\"},\"marker\":{\"symbol\":\"circle\"},\"mode\":\"lines\",\"name\":\"41\",\"orientation\":\"v\",\"showlegend\":true,\"x\":[\"def_1_20\",\"def_20_20\",\"def_20_40\",\"def_40_40\",\"def_40_50\",\"def_50_50\",\"def_50_60\",\"def_60_60\",\"def_60_70\",\"def_70_70\",\"def_70_80\",\"def_80_80\",\"def_80_90\",\"def_90_90\"],\"xaxis\":\"x\",\"y\":[60.0,153.0,197.0,296.0,327.0,376.0,418.0,468.0,499.0,548.0,580.0,629.0,661.0,710.0],\"yaxis\":\"y\",\"type\":\"scatter\"},{\"hovertemplate\":\"variable=42<br>index=%{x}<br>value=%{y}<extra></extra>\",\"legendgroup\":\"42\",\"line\":{\"color\":\"#00cc96\",\"dash\":\"solid\"},\"marker\":{\"symbol\":\"circle\"},\"mode\":\"lines\",\"name\":\"42\",\"orientation\":\"v\",\"showlegend\":true,\"x\":[\"def_1_20\",\"def_20_20\",\"def_20_40\",\"def_40_40\",\"def_40_50\",\"def_50_50\",\"def_50_60\",\"def_60_60\",\"def_60_70\",\"def_70_70\",\"def_70_80\",\"def_80_80\",\"def_80_90\",\"def_90_90\"],\"xaxis\":\"x\",\"y\":[51.0,133.0,177.0,264.0,295.0,340.0,381.0,426.0,457.0,503.0,534.0,580.0,611.0,657.0],\"yaxis\":\"y\",\"type\":\"scatter\"},{\"hovertemplate\":\"variable=43<br>index=%{x}<br>value=%{y}<extra></extra>\",\"legendgroup\":\"43\",\"line\":{\"color\":\"#ab63fa\",\"dash\":\"solid\"},\"marker\":{\"symbol\":\"circle\"},\"mode\":\"lines\",\"name\":\"43\",\"orientation\":\"v\",\"showlegend\":true,\"x\":[\"def_1_20\",\"def_20_20\",\"def_20_40\",\"def_40_40\",\"def_40_50\",\"def_50_50\",\"def_50_60\",\"def_60_60\",\"def_60_70\",\"def_70_70\",\"def_70_80\",\"def_80_80\",\"def_80_90\",\"def_90_90\"],\"xaxis\":\"x\",\"y\":[62.0,160.0,207.0,310.0,343.0,395.0,439.0,491.0,524.0,575.0,608.0,660.0,693.0,745.0],\"yaxis\":\"y\",\"type\":\"scatter\"},{\"hovertemplate\":\"variable=44<br>index=%{x}<br>value=%{y}<extra></extra>\",\"legendgroup\":\"44\",\"line\":{\"color\":\"#FFA15A\",\"dash\":\"solid\"},\"marker\":{\"symbol\":\"circle\"},\"mode\":\"lines\",\"name\":\"44\",\"orientation\":\"v\",\"showlegend\":true,\"x\":[\"def_1_20\",\"def_20_20\",\"def_20_40\",\"def_40_40\",\"def_40_50\",\"def_50_50\",\"def_50_60\",\"def_60_60\",\"def_60_70\",\"def_70_70\",\"def_70_80\",\"def_80_80\",\"def_80_90\",\"def_90_90\"],\"xaxis\":\"x\",\"y\":[65.0,168.0,223.0,334.0,373.0,429.0,482.0,538.0,578.0,635.0,674.0,732.0,772.0,830.0],\"yaxis\":\"y\",\"type\":\"scatter\"},{\"hovertemplate\":\"variable=45<br>index=%{x}<br>value=%{y}<extra></extra>\",\"legendgroup\":\"45\",\"line\":{\"color\":\"#19d3f3\",\"dash\":\"solid\"},\"marker\":{\"symbol\":\"circle\"},\"mode\":\"lines\",\"name\":\"45\",\"orientation\":\"v\",\"showlegend\":true,\"x\":[\"def_1_20\",\"def_20_20\",\"def_20_40\",\"def_40_40\",\"def_40_50\",\"def_50_50\",\"def_50_60\",\"def_60_60\",\"def_60_70\",\"def_70_70\",\"def_70_80\",\"def_80_80\",\"def_80_90\",\"def_90_90\"],\"xaxis\":\"x\",\"y\":[57.0,147.0,190.0,284.0,315.0,362.0,403.0,450.0,480.0,528.0,558.0,606.0,636.0,683.0],\"yaxis\":\"y\",\"type\":\"scatter\"},{\"hovertemplate\":\"variable=46<br>index=%{x}<br>value=%{y}<extra></extra>\",\"legendgroup\":\"46\",\"line\":{\"color\":\"#FF6692\",\"dash\":\"solid\"},\"marker\":{\"symbol\":\"circle\"},\"mode\":\"lines\",\"name\":\"46\",\"orientation\":\"v\",\"showlegend\":true,\"x\":[\"def_1_20\",\"def_20_20\",\"def_20_40\",\"def_40_40\",\"def_40_50\",\"def_50_50\",\"def_50_60\",\"def_60_60\",\"def_60_70\",\"def_70_70\",\"def_70_80\",\"def_80_80\",\"def_80_90\",\"def_90_90\"],\"xaxis\":\"x\",\"y\":[59.0,151.0,195.0,293.0,324.0,373.0,414.0,463.0,494.0,543.0,574.0,623.0,654.0,703.0],\"yaxis\":\"y\",\"type\":\"scatter\"},{\"hovertemplate\":\"variable=47<br>index=%{x}<br>value=%{y}<extra></extra>\",\"legendgroup\":\"47\",\"line\":{\"color\":\"#B6E880\",\"dash\":\"solid\"},\"marker\":{\"symbol\":\"circle\"},\"mode\":\"lines\",\"name\":\"47\",\"orientation\":\"v\",\"showlegend\":true,\"x\":[\"def_1_20\",\"def_20_20\",\"def_20_40\",\"def_40_40\",\"def_40_50\",\"def_50_50\",\"def_50_60\",\"def_60_60\",\"def_60_70\",\"def_70_70\",\"def_70_80\",\"def_80_80\",\"def_80_90\",\"def_90_90\"],\"xaxis\":\"x\",\"y\":[63.0,165.0,219.0,328.0,366.0,421.0,473.0,528.0,567.0,623.0,662.0,719.0,757.0,815.0],\"yaxis\":\"y\",\"type\":\"scatter\"},{\"hovertemplate\":\"variable=48<br>index=%{x}<br>value=%{y}<extra></extra>\",\"legendgroup\":\"48\",\"line\":{\"color\":\"#FF97FF\",\"dash\":\"solid\"},\"marker\":{\"symbol\":\"circle\"},\"mode\":\"lines\",\"name\":\"48\",\"orientation\":\"v\",\"showlegend\":true,\"x\":[\"def_1_20\",\"def_20_20\",\"def_20_40\",\"def_40_40\",\"def_40_50\",\"def_50_50\",\"def_50_60\",\"def_60_60\",\"def_60_70\",\"def_70_70\",\"def_70_80\",\"def_80_80\",\"def_80_90\",\"def_90_90\"],\"xaxis\":\"x\",\"y\":[63.0,162.0,209.0,313.0,346.0,398.0,443.0,495.0,528.0,580.0,613.0,665.0,699.0,751.0],\"yaxis\":\"y\",\"type\":\"scatter\"},{\"hovertemplate\":\"variable=49<br>index=%{x}<br>value=%{y}<extra></extra>\",\"legendgroup\":\"49\",\"line\":{\"color\":\"#FECB52\",\"dash\":\"solid\"},\"marker\":{\"symbol\":\"circle\"},\"mode\":\"lines\",\"name\":\"49\",\"orientation\":\"v\",\"showlegend\":true,\"x\":[\"def_1_20\",\"def_20_20\",\"def_20_40\",\"def_40_40\",\"def_40_50\",\"def_50_50\",\"def_50_60\",\"def_60_60\",\"def_60_70\",\"def_70_70\",\"def_70_80\",\"def_80_80\",\"def_80_90\",\"def_90_90\"],\"xaxis\":\"x\",\"y\":[49.0,127.0,169.0,253.0,283.0,325.0,365.0,408.0,438.0,482.0,512.0,556.0,585.0,630.0],\"yaxis\":\"y\",\"type\":\"scatter\"},{\"hovertemplate\":\"variable=50<br>index=%{x}<br>value=%{y}<extra></extra>\",\"legendgroup\":\"50\",\"line\":{\"color\":\"#636efa\",\"dash\":\"solid\"},\"marker\":{\"symbol\":\"circle\"},\"mode\":\"lines\",\"name\":\"50\",\"orientation\":\"v\",\"showlegend\":true,\"x\":[\"def_1_20\",\"def_20_20\",\"def_20_40\",\"def_40_40\",\"def_40_50\",\"def_50_50\",\"def_50_60\",\"def_60_60\",\"def_60_70\",\"def_70_70\",\"def_70_80\",\"def_80_80\",\"def_80_90\",\"def_90_90\"],\"xaxis\":\"x\",\"y\":[57.0,147.0,190.0,284.0,315.0,362.0,405.0,450.0,480.0,527.0,558.0,605.0,635.0,683.0],\"yaxis\":\"y\",\"type\":\"scatter\"},{\"hovertemplate\":\"variable=51<br>index=%{x}<br>value=%{y}<extra></extra>\",\"legendgroup\":\"51\",\"line\":{\"color\":\"#EF553B\",\"dash\":\"solid\"},\"marker\":{\"symbol\":\"circle\"},\"mode\":\"lines\",\"name\":\"51\",\"orientation\":\"v\",\"showlegend\":true,\"x\":[\"def_1_20\",\"def_20_20\",\"def_20_40\",\"def_40_40\",\"def_40_50\",\"def_50_50\",\"def_50_60\",\"def_60_60\",\"def_60_70\",\"def_70_70\",\"def_70_80\",\"def_80_80\",\"def_80_90\",\"def_90_90\"],\"xaxis\":\"x\",\"y\":[57.0,147.0,190.0,284.0,315.0,362.0,405.0,450.0,480.0,527.0,558.0,605.0,635.0,683.0],\"yaxis\":\"y\",\"type\":\"scatter\"},{\"hovertemplate\":\"variable=52<br>index=%{x}<br>value=%{y}<extra></extra>\",\"legendgroup\":\"52\",\"line\":{\"color\":\"#00cc96\",\"dash\":\"solid\"},\"marker\":{\"symbol\":\"circle\"},\"mode\":\"lines\",\"name\":\"52\",\"orientation\":\"v\",\"showlegend\":true,\"x\":[\"def_1_20\",\"def_20_20\",\"def_20_40\",\"def_40_40\",\"def_40_50\",\"def_50_50\",\"def_50_60\",\"def_60_60\",\"def_60_70\",\"def_70_70\",\"def_70_80\",\"def_80_80\",\"def_80_90\",\"def_90_90\"],\"xaxis\":\"x\",\"y\":[52.0,135.0,180.0,269.0,301.0,346.0,388.0,434.0,465.0,512.0,543.0,590.0,622.0,669.0],\"yaxis\":\"y\",\"type\":\"scatter\"},{\"hovertemplate\":\"variable=53<br>index=%{x}<br>value=%{y}<extra></extra>\",\"legendgroup\":\"53\",\"line\":{\"color\":\"#ab63fa\",\"dash\":\"solid\"},\"marker\":{\"symbol\":\"circle\"},\"mode\":\"lines\",\"name\":\"53\",\"orientation\":\"v\",\"showlegend\":true,\"x\":[\"def_1_20\",\"def_20_20\",\"def_20_40\",\"def_40_40\",\"def_40_50\",\"def_50_50\",\"def_50_60\",\"def_60_60\",\"def_60_70\",\"def_70_70\",\"def_70_80\",\"def_80_80\",\"def_80_90\",\"def_90_90\"],\"xaxis\":\"x\",\"y\":[56.0,144.0,186.0,279.0,308.0,355.0,394.0,441.0,470.0,517.0,546.0,593.0,623.0,669.0],\"yaxis\":\"y\",\"type\":\"scatter\"},{\"hovertemplate\":\"variable=54<br>index=%{x}<br>value=%{y}<extra></extra>\",\"legendgroup\":\"54\",\"line\":{\"color\":\"#FFA15A\",\"dash\":\"solid\"},\"marker\":{\"symbol\":\"circle\"},\"mode\":\"lines\",\"name\":\"54\",\"orientation\":\"v\",\"showlegend\":true,\"x\":[\"def_1_20\",\"def_20_20\",\"def_20_40\",\"def_40_40\",\"def_40_50\",\"def_50_50\",\"def_50_60\",\"def_60_60\",\"def_60_70\",\"def_70_70\",\"def_70_80\",\"def_80_80\",\"def_80_90\",\"def_90_90\"],\"xaxis\":\"x\",\"y\":[62.0,161.0,215.0,321.0,359.0,413.0,464.0,519.0,556.0,612.0,649.0,705.0,743.0,799.0],\"yaxis\":\"y\",\"type\":\"scatter\"},{\"hovertemplate\":\"variable=55<br>index=%{x}<br>value=%{y}<extra></extra>\",\"legendgroup\":\"55\",\"line\":{\"color\":\"#19d3f3\",\"dash\":\"solid\"},\"marker\":{\"symbol\":\"circle\"},\"mode\":\"lines\",\"name\":\"55\",\"orientation\":\"v\",\"showlegend\":true,\"x\":[\"def_1_20\",\"def_20_20\",\"def_20_40\",\"def_40_40\",\"def_40_50\",\"def_50_50\",\"def_50_60\",\"def_60_60\",\"def_60_70\",\"def_70_70\",\"def_70_80\",\"def_80_80\",\"def_80_90\",\"def_90_90\"],\"xaxis\":\"x\",\"y\":[64.0,163.0,211.0,316.0,349.0,402.0,447.0,499.0,533.0,585.0,619.0,671.0,705.0,758.0],\"yaxis\":\"y\",\"type\":\"scatter\"},{\"hovertemplate\":\"variable=56<br>index=%{x}<br>value=%{y}<extra></extra>\",\"legendgroup\":\"56\",\"line\":{\"color\":\"#FF6692\",\"dash\":\"solid\"},\"marker\":{\"symbol\":\"circle\"},\"mode\":\"lines\",\"name\":\"56\",\"orientation\":\"v\",\"showlegend\":true,\"x\":[\"def_1_20\",\"def_20_20\",\"def_20_40\",\"def_40_40\",\"def_40_50\",\"def_50_50\",\"def_50_60\",\"def_60_60\",\"def_60_70\",\"def_70_70\",\"def_70_80\",\"def_80_80\",\"def_80_90\",\"def_90_90\"],\"xaxis\":\"x\",\"y\":[67.0,172.0,222.0,333.0,368.0,423.0,471.0,526.0,562.0,617.0,652.0,708.0,743.0,799.0],\"yaxis\":\"y\",\"type\":\"scatter\"},{\"hovertemplate\":\"variable=57<br>index=%{x}<br>value=%{y}<extra></extra>\",\"legendgroup\":\"57\",\"line\":{\"color\":\"#B6E880\",\"dash\":\"solid\"},\"marker\":{\"symbol\":\"circle\"},\"mode\":\"lines\",\"name\":\"57\",\"orientation\":\"v\",\"showlegend\":true,\"x\":[\"def_1_20\",\"def_20_20\",\"def_20_40\",\"def_40_40\",\"def_40_50\",\"def_50_50\",\"def_50_60\",\"def_60_60\",\"def_60_70\",\"def_70_70\",\"def_70_80\",\"def_80_80\",\"def_80_90\",\"def_90_90\"],\"xaxis\":\"x\",\"y\":[44.0,115.0,153.0,229.0,256.0,294.0,330.0,369.0,396.0,435.0,462.0,502.0,529.0,569.0],\"yaxis\":\"y\",\"type\":\"scatter\"},{\"hovertemplate\":\"variable=58<br>index=%{x}<br>value=%{y}<extra></extra>\",\"legendgroup\":\"58\",\"line\":{\"color\":\"#FF97FF\",\"dash\":\"solid\"},\"marker\":{\"symbol\":\"circle\"},\"mode\":\"lines\",\"name\":\"58\",\"orientation\":\"v\",\"showlegend\":true,\"x\":[\"def_1_20\",\"def_20_20\",\"def_20_40\",\"def_40_40\",\"def_40_50\",\"def_50_50\",\"def_50_60\",\"def_60_60\",\"def_60_70\",\"def_70_70\",\"def_70_80\",\"def_80_80\",\"def_80_90\",\"def_90_90\"],\"xaxis\":\"x\",\"y\":[49.0,126.0,163.0,244.0,271.0,311.0,346.0,387.0,413.0,453.0,480.0,520.0,546.0,587.0],\"yaxis\":\"y\",\"type\":\"scatter\"},{\"hovertemplate\":\"variable=59<br>index=%{x}<br>value=%{y}<extra></extra>\",\"legendgroup\":\"59\",\"line\":{\"color\":\"#FECB52\",\"dash\":\"solid\"},\"marker\":{\"symbol\":\"circle\"},\"mode\":\"lines\",\"name\":\"59\",\"orientation\":\"v\",\"showlegend\":true,\"x\":[\"def_1_20\",\"def_20_20\",\"def_20_40\",\"def_40_40\",\"def_40_50\",\"def_50_50\",\"def_50_60\",\"def_60_60\",\"def_60_70\",\"def_70_70\",\"def_70_80\",\"def_80_80\",\"def_80_90\",\"def_90_90\"],\"xaxis\":\"x\",\"y\":[43.0,111.0,147.0,220.0,246.0,283.0,318.0,355.0,381.0,419.0,445.0,483.0,509.0,548.0],\"yaxis\":\"y\",\"type\":\"scatter\"},{\"hovertemplate\":\"variable=60<br>index=%{x}<br>value=%{y}<extra></extra>\",\"legendgroup\":\"60\",\"line\":{\"color\":\"#636efa\",\"dash\":\"solid\"},\"marker\":{\"symbol\":\"circle\"},\"mode\":\"lines\",\"name\":\"60\",\"orientation\":\"v\",\"showlegend\":true,\"x\":[\"def_1_20\",\"def_20_20\",\"def_20_40\",\"def_40_40\",\"def_40_50\",\"def_50_50\",\"def_50_60\",\"def_60_60\",\"def_60_70\",\"def_70_70\",\"def_70_80\",\"def_80_80\",\"def_80_90\",\"def_90_90\"],\"xaxis\":\"x\",\"y\":[48.0,124.0,165.0,218.0,276.0,318.0,357.0,399.0,428.0,470.0,500.0,542.0,572.0,615.0],\"yaxis\":\"y\",\"type\":\"scatter\"},{\"hovertemplate\":\"variable=61<br>index=%{x}<br>value=%{y}<extra></extra>\",\"legendgroup\":\"61\",\"line\":{\"color\":\"#EF553B\",\"dash\":\"solid\"},\"marker\":{\"symbol\":\"circle\"},\"mode\":\"lines\",\"name\":\"61\",\"orientation\":\"v\",\"showlegend\":true,\"x\":[\"def_1_20\",\"def_20_20\",\"def_20_40\",\"def_40_40\",\"def_40_50\",\"def_50_50\",\"def_50_60\",\"def_60_60\",\"def_60_70\",\"def_70_70\",\"def_70_80\",\"def_80_80\",\"def_80_90\",\"def_90_90\"],\"xaxis\":\"x\",\"y\":[62.0,156.0,204.0,306.0,339.0,389.0,433.0,484.0,517.0,567.0,600.0,651.0,684.0,734.0],\"yaxis\":\"y\",\"type\":\"scatter\"},{\"hovertemplate\":\"variable=62<br>index=%{x}<br>value=%{y}<extra></extra>\",\"legendgroup\":\"62\",\"line\":{\"color\":\"#00cc96\",\"dash\":\"solid\"},\"marker\":{\"symbol\":\"circle\"},\"mode\":\"lines\",\"name\":\"62\",\"orientation\":\"v\",\"showlegend\":true,\"x\":[\"def_1_20\",\"def_20_20\",\"def_20_40\",\"def_40_40\",\"def_40_50\",\"def_50_50\",\"def_50_60\",\"def_60_60\",\"def_60_70\",\"def_70_70\",\"def_70_80\",\"def_80_80\",\"def_80_90\",\"def_90_90\"],\"xaxis\":\"x\",\"y\":[57.0,149.0,198.0,297.0,332.0,382.0,428.0,479.0,514.0,564.0,599.0,651.0,686.0,738.0],\"yaxis\":\"y\",\"type\":\"scatter\"}],                        {\"template\":{\"data\":{\"histogram2dcontour\":[{\"type\":\"histogram2dcontour\",\"colorbar\":{\"outlinewidth\":0,\"ticks\":\"\"},\"colorscale\":[[0.0,\"#0d0887\"],[0.1111111111111111,\"#46039f\"],[0.2222222222222222,\"#7201a8\"],[0.3333333333333333,\"#9c179e\"],[0.4444444444444444,\"#bd3786\"],[0.5555555555555556,\"#d8576b\"],[0.6666666666666666,\"#ed7953\"],[0.7777777777777778,\"#fb9f3a\"],[0.8888888888888888,\"#fdca26\"],[1.0,\"#f0f921\"]]}],\"choropleth\":[{\"type\":\"choropleth\",\"colorbar\":{\"outlinewidth\":0,\"ticks\":\"\"}}],\"histogram2d\":[{\"type\":\"histogram2d\",\"colorbar\":{\"outlinewidth\":0,\"ticks\":\"\"},\"colorscale\":[[0.0,\"#0d0887\"],[0.1111111111111111,\"#46039f\"],[0.2222222222222222,\"#7201a8\"],[0.3333333333333333,\"#9c179e\"],[0.4444444444444444,\"#bd3786\"],[0.5555555555555556,\"#d8576b\"],[0.6666666666666666,\"#ed7953\"],[0.7777777777777778,\"#fb9f3a\"],[0.8888888888888888,\"#fdca26\"],[1.0,\"#f0f921\"]]}],\"heatmap\":[{\"type\":\"heatmap\",\"colorbar\":{\"outlinewidth\":0,\"ticks\":\"\"},\"colorscale\":[[0.0,\"#0d0887\"],[0.1111111111111111,\"#46039f\"],[0.2222222222222222,\"#7201a8\"],[0.3333333333333333,\"#9c179e\"],[0.4444444444444444,\"#bd3786\"],[0.5555555555555556,\"#d8576b\"],[0.6666666666666666,\"#ed7953\"],[0.7777777777777778,\"#fb9f3a\"],[0.8888888888888888,\"#fdca26\"],[1.0,\"#f0f921\"]]}],\"heatmapgl\":[{\"type\":\"heatmapgl\",\"colorbar\":{\"outlinewidth\":0,\"ticks\":\"\"},\"colorscale\":[[0.0,\"#0d0887\"],[0.1111111111111111,\"#46039f\"],[0.2222222222222222,\"#7201a8\"],[0.3333333333333333,\"#9c179e\"],[0.4444444444444444,\"#bd3786\"],[0.5555555555555556,\"#d8576b\"],[0.6666666666666666,\"#ed7953\"],[0.7777777777777778,\"#fb9f3a\"],[0.8888888888888888,\"#fdca26\"],[1.0,\"#f0f921\"]]}],\"contourcarpet\":[{\"type\":\"contourcarpet\",\"colorbar\":{\"outlinewidth\":0,\"ticks\":\"\"}}],\"contour\":[{\"type\":\"contour\",\"colorbar\":{\"outlinewidth\":0,\"ticks\":\"\"},\"colorscale\":[[0.0,\"#0d0887\"],[0.1111111111111111,\"#46039f\"],[0.2222222222222222,\"#7201a8\"],[0.3333333333333333,\"#9c179e\"],[0.4444444444444444,\"#bd3786\"],[0.5555555555555556,\"#d8576b\"],[0.6666666666666666,\"#ed7953\"],[0.7777777777777778,\"#fb9f3a\"],[0.8888888888888888,\"#fdca26\"],[1.0,\"#f0f921\"]]}],\"surface\":[{\"type\":\"surface\",\"colorbar\":{\"outlinewidth\":0,\"ticks\":\"\"},\"colorscale\":[[0.0,\"#0d0887\"],[0.1111111111111111,\"#46039f\"],[0.2222222222222222,\"#7201a8\"],[0.3333333333333333,\"#9c179e\"],[0.4444444444444444,\"#bd3786\"],[0.5555555555555556,\"#d8576b\"],[0.6666666666666666,\"#ed7953\"],[0.7777777777777778,\"#fb9f3a\"],[0.8888888888888888,\"#fdca26\"],[1.0,\"#f0f921\"]]}],\"mesh3d\":[{\"type\":\"mesh3d\",\"colorbar\":{\"outlinewidth\":0,\"ticks\":\"\"}}],\"scatter\":[{\"fillpattern\":{\"fillmode\":\"overlay\",\"size\":10,\"solidity\":0.2},\"type\":\"scatter\"}],\"parcoords\":[{\"type\":\"parcoords\",\"line\":{\"colorbar\":{\"outlinewidth\":0,\"ticks\":\"\"}}}],\"scatterpolargl\":[{\"type\":\"scatterpolargl\",\"marker\":{\"colorbar\":{\"outlinewidth\":0,\"ticks\":\"\"}}}],\"bar\":[{\"error_x\":{\"color\":\"#2a3f5f\"},\"error_y\":{\"color\":\"#2a3f5f\"},\"marker\":{\"line\":{\"color\":\"#E5ECF6\",\"width\":0.5},\"pattern\":{\"fillmode\":\"overlay\",\"size\":10,\"solidity\":0.2}},\"type\":\"bar\"}],\"scattergeo\":[{\"type\":\"scattergeo\",\"marker\":{\"colorbar\":{\"outlinewidth\":0,\"ticks\":\"\"}}}],\"scatterpolar\":[{\"type\":\"scatterpolar\",\"marker\":{\"colorbar\":{\"outlinewidth\":0,\"ticks\":\"\"}}}],\"histogram\":[{\"marker\":{\"pattern\":{\"fillmode\":\"overlay\",\"size\":10,\"solidity\":0.2}},\"type\":\"histogram\"}],\"scattergl\":[{\"type\":\"scattergl\",\"marker\":{\"colorbar\":{\"outlinewidth\":0,\"ticks\":\"\"}}}],\"scatter3d\":[{\"type\":\"scatter3d\",\"line\":{\"colorbar\":{\"outlinewidth\":0,\"ticks\":\"\"}},\"marker\":{\"colorbar\":{\"outlinewidth\":0,\"ticks\":\"\"}}}],\"scattermapbox\":[{\"type\":\"scattermapbox\",\"marker\":{\"colorbar\":{\"outlinewidth\":0,\"ticks\":\"\"}}}],\"scatterternary\":[{\"type\":\"scatterternary\",\"marker\":{\"colorbar\":{\"outlinewidth\":0,\"ticks\":\"\"}}}],\"scattercarpet\":[{\"type\":\"scattercarpet\",\"marker\":{\"colorbar\":{\"outlinewidth\":0,\"ticks\":\"\"}}}],\"carpet\":[{\"aaxis\":{\"endlinecolor\":\"#2a3f5f\",\"gridcolor\":\"white\",\"linecolor\":\"white\",\"minorgridcolor\":\"white\",\"startlinecolor\":\"#2a3f5f\"},\"baxis\":{\"endlinecolor\":\"#2a3f5f\",\"gridcolor\":\"white\",\"linecolor\":\"white\",\"minorgridcolor\":\"white\",\"startlinecolor\":\"#2a3f5f\"},\"type\":\"carpet\"}],\"table\":[{\"cells\":{\"fill\":{\"color\":\"#EBF0F8\"},\"line\":{\"color\":\"white\"}},\"header\":{\"fill\":{\"color\":\"#C8D4E3\"},\"line\":{\"color\":\"white\"}},\"type\":\"table\"}],\"barpolar\":[{\"marker\":{\"line\":{\"color\":\"#E5ECF6\",\"width\":0.5},\"pattern\":{\"fillmode\":\"overlay\",\"size\":10,\"solidity\":0.2}},\"type\":\"barpolar\"}],\"pie\":[{\"automargin\":true,\"type\":\"pie\"}]},\"layout\":{\"autotypenumbers\":\"strict\",\"colorway\":[\"#636efa\",\"#EF553B\",\"#00cc96\",\"#ab63fa\",\"#FFA15A\",\"#19d3f3\",\"#FF6692\",\"#B6E880\",\"#FF97FF\",\"#FECB52\"],\"font\":{\"color\":\"#2a3f5f\"},\"hovermode\":\"closest\",\"hoverlabel\":{\"align\":\"left\"},\"paper_bgcolor\":\"white\",\"plot_bgcolor\":\"#E5ECF6\",\"polar\":{\"bgcolor\":\"#E5ECF6\",\"angularaxis\":{\"gridcolor\":\"white\",\"linecolor\":\"white\",\"ticks\":\"\"},\"radialaxis\":{\"gridcolor\":\"white\",\"linecolor\":\"white\",\"ticks\":\"\"}},\"ternary\":{\"bgcolor\":\"#E5ECF6\",\"aaxis\":{\"gridcolor\":\"white\",\"linecolor\":\"white\",\"ticks\":\"\"},\"baxis\":{\"gridcolor\":\"white\",\"linecolor\":\"white\",\"ticks\":\"\"},\"caxis\":{\"gridcolor\":\"white\",\"linecolor\":\"white\",\"ticks\":\"\"}},\"coloraxis\":{\"colorbar\":{\"outlinewidth\":0,\"ticks\":\"\"}},\"colorscale\":{\"sequential\":[[0.0,\"#0d0887\"],[0.1111111111111111,\"#46039f\"],[0.2222222222222222,\"#7201a8\"],[0.3333333333333333,\"#9c179e\"],[0.4444444444444444,\"#bd3786\"],[0.5555555555555556,\"#d8576b\"],[0.6666666666666666,\"#ed7953\"],[0.7777777777777778,\"#fb9f3a\"],[0.8888888888888888,\"#fdca26\"],[1.0,\"#f0f921\"]],\"sequentialminus\":[[0.0,\"#0d0887\"],[0.1111111111111111,\"#46039f\"],[0.2222222222222222,\"#7201a8\"],[0.3333333333333333,\"#9c179e\"],[0.4444444444444444,\"#bd3786\"],[0.5555555555555556,\"#d8576b\"],[0.6666666666666666,\"#ed7953\"],[0.7777777777777778,\"#fb9f3a\"],[0.8888888888888888,\"#fdca26\"],[1.0,\"#f0f921\"]],\"diverging\":[[0,\"#8e0152\"],[0.1,\"#c51b7d\"],[0.2,\"#de77ae\"],[0.3,\"#f1b6da\"],[0.4,\"#fde0ef\"],[0.5,\"#f7f7f7\"],[0.6,\"#e6f5d0\"],[0.7,\"#b8e186\"],[0.8,\"#7fbc41\"],[0.9,\"#4d9221\"],[1,\"#276419\"]]},\"xaxis\":{\"gridcolor\":\"white\",\"linecolor\":\"white\",\"ticks\":\"\",\"title\":{\"standoff\":15},\"zerolinecolor\":\"white\",\"automargin\":true,\"zerolinewidth\":2},\"yaxis\":{\"gridcolor\":\"white\",\"linecolor\":\"white\",\"ticks\":\"\",\"title\":{\"standoff\":15},\"zerolinecolor\":\"white\",\"automargin\":true,\"zerolinewidth\":2},\"scene\":{\"xaxis\":{\"backgroundcolor\":\"#E5ECF6\",\"gridcolor\":\"white\",\"linecolor\":\"white\",\"showbackground\":true,\"ticks\":\"\",\"zerolinecolor\":\"white\",\"gridwidth\":2},\"yaxis\":{\"backgroundcolor\":\"#E5ECF6\",\"gridcolor\":\"white\",\"linecolor\":\"white\",\"showbackground\":true,\"ticks\":\"\",\"zerolinecolor\":\"white\",\"gridwidth\":2},\"zaxis\":{\"backgroundcolor\":\"#E5ECF6\",\"gridcolor\":\"white\",\"linecolor\":\"white\",\"showbackground\":true,\"ticks\":\"\",\"zerolinecolor\":\"white\",\"gridwidth\":2}},\"shapedefaults\":{\"line\":{\"color\":\"#2a3f5f\"}},\"annotationdefaults\":{\"arrowcolor\":\"#2a3f5f\",\"arrowhead\":0,\"arrowwidth\":1},\"geo\":{\"bgcolor\":\"white\",\"landcolor\":\"#E5ECF6\",\"subunitcolor\":\"white\",\"showland\":true,\"showlakes\":true,\"lakecolor\":\"white\"},\"title\":{\"x\":0.05},\"mapbox\":{\"style\":\"light\"}}},\"xaxis\":{\"anchor\":\"y\",\"domain\":[0.0,1.0],\"title\":{\"text\":\"index\"}},\"yaxis\":{\"anchor\":\"x\",\"domain\":[0.0,1.0],\"title\":{\"text\":\"value\"}},\"legend\":{\"title\":{\"text\":\"variable\"},\"tracegroupgap\":0},\"title\":{\"text\":\"DEF Growth\"}},                        {\"responsive\": true}                    ).then(function(){\n",
       "                            \n",
       "var gd = document.getElementById('f9d3e253-09c0-4860-bddc-6b8cdc5640f4');\n",
       "var x = new MutationObserver(function (mutations, observer) {{\n",
       "        var display = window.getComputedStyle(gd).display;\n",
       "        if (!display || display === 'none') {{\n",
       "            console.log([gd, 'removed!']);\n",
       "            Plotly.purge(gd);\n",
       "            observer.disconnect();\n",
       "        }}\n",
       "}});\n",
       "\n",
       "// Listen for the removal of the full notebook cells\n",
       "var notebookContainer = gd.closest('#notebook-container');\n",
       "if (notebookContainer) {{\n",
       "    x.observe(notebookContainer, {childList: true});\n",
       "}}\n",
       "\n",
       "// Listen for the clearing of the current output cell\n",
       "var outputEl = gd.closest('.output');\n",
       "if (outputEl) {{\n",
       "    x.observe(outputEl, {childList: true});\n",
       "}}\n",
       "\n",
       "                        })                };                });            </script>        </div>"
      ]
     },
     "metadata": {},
     "output_type": "display_data"
    }
   ],
   "source": [
    "def def_str(df):\n",
    "    array = []\n",
    "    for key, value in df.iteritems():\n",
    "        if 'def' in key:\n",
    "            array.append(key)\n",
    "    return array[::-1]\n",
    "\n",
    "def_array = def_str(df)\n",
    "df_def_T = df[def_array].T\n",
    "px.line(\n",
    "    data_frame=df_def_T,\n",
    "    title='DEF Growth'\n",
    ")"
   ]
  },
  {
   "cell_type": "code",
   "execution_count": 20,
   "id": "4dcc49b5",
   "metadata": {
    "execution": {
     "iopub.execute_input": "2023-06-05T09:19:28.893144Z",
     "iopub.status.busy": "2023-06-05T09:19:28.892362Z",
     "iopub.status.idle": "2023-06-05T09:19:28.961295Z",
     "shell.execute_reply": "2023-06-05T09:19:28.960184Z"
    },
    "papermill": {
     "duration": 0.089536,
     "end_time": "2023-06-05T09:19:28.964369",
     "exception": false,
     "start_time": "2023-06-05T09:19:28.874833",
     "status": "completed"
    },
    "tags": []
   },
   "outputs": [
    {
     "data": {
      "text/html": [
       "<div>                            <div id=\"9fbb0668-fd14-43ec-bc3a-2494ff47dc3e\" class=\"plotly-graph-div\" style=\"height:525px; width:100%;\"></div>            <script type=\"text/javascript\">                require([\"plotly\"], function(Plotly) {                    window.PLOTLYENV=window.PLOTLYENV || {};                                    if (document.getElementById(\"9fbb0668-fd14-43ec-bc3a-2494ff47dc3e\")) {                    Plotly.newPlot(                        \"9fbb0668-fd14-43ec-bc3a-2494ff47dc3e\",                        [{\"domain\":{\"x\":[0.0,1.0],\"y\":[0.0,1.0]},\"hole\":0.3,\"hovertemplate\":\"label=%{label}<br>value=%{value}<extra></extra>\",\"labels\":[\"Everflame Seed\",\"Hoarfrost Core\",\"Lightning Prism\",\"Basalt Pillar\",\"Cleansing Heart\",\"Runic Fang\",\"Juvenile Jade\",\"Hurricane Seed\",\"Marionette Core\",\"Smoldering Pearl\",\"Dragonheir's False Fin\",\"Storm Beads\",\"Dew of Repudation\",\"Perpetual Heart\",\"Crystalline Bloom\",\"Thunderclap Fruitcore\",\"Majestic Hooked Beak\",\"Riftborn Regalia\",\"None\",\"Perpetual Caliber\",\"Light Guiding Tetrahedron\"],\"legendgroup\":\"\",\"name\":\"\",\"showlegend\":true,\"values\":[6,6,5,4,4,3,3,3,2,2,2,2,2,2,2,2,2,2,2,1,1],\"type\":\"pie\"}],                        {\"template\":{\"data\":{\"histogram2dcontour\":[{\"type\":\"histogram2dcontour\",\"colorbar\":{\"outlinewidth\":0,\"ticks\":\"\"},\"colorscale\":[[0.0,\"#0d0887\"],[0.1111111111111111,\"#46039f\"],[0.2222222222222222,\"#7201a8\"],[0.3333333333333333,\"#9c179e\"],[0.4444444444444444,\"#bd3786\"],[0.5555555555555556,\"#d8576b\"],[0.6666666666666666,\"#ed7953\"],[0.7777777777777778,\"#fb9f3a\"],[0.8888888888888888,\"#fdca26\"],[1.0,\"#f0f921\"]]}],\"choropleth\":[{\"type\":\"choropleth\",\"colorbar\":{\"outlinewidth\":0,\"ticks\":\"\"}}],\"histogram2d\":[{\"type\":\"histogram2d\",\"colorbar\":{\"outlinewidth\":0,\"ticks\":\"\"},\"colorscale\":[[0.0,\"#0d0887\"],[0.1111111111111111,\"#46039f\"],[0.2222222222222222,\"#7201a8\"],[0.3333333333333333,\"#9c179e\"],[0.4444444444444444,\"#bd3786\"],[0.5555555555555556,\"#d8576b\"],[0.6666666666666666,\"#ed7953\"],[0.7777777777777778,\"#fb9f3a\"],[0.8888888888888888,\"#fdca26\"],[1.0,\"#f0f921\"]]}],\"heatmap\":[{\"type\":\"heatmap\",\"colorbar\":{\"outlinewidth\":0,\"ticks\":\"\"},\"colorscale\":[[0.0,\"#0d0887\"],[0.1111111111111111,\"#46039f\"],[0.2222222222222222,\"#7201a8\"],[0.3333333333333333,\"#9c179e\"],[0.4444444444444444,\"#bd3786\"],[0.5555555555555556,\"#d8576b\"],[0.6666666666666666,\"#ed7953\"],[0.7777777777777778,\"#fb9f3a\"],[0.8888888888888888,\"#fdca26\"],[1.0,\"#f0f921\"]]}],\"heatmapgl\":[{\"type\":\"heatmapgl\",\"colorbar\":{\"outlinewidth\":0,\"ticks\":\"\"},\"colorscale\":[[0.0,\"#0d0887\"],[0.1111111111111111,\"#46039f\"],[0.2222222222222222,\"#7201a8\"],[0.3333333333333333,\"#9c179e\"],[0.4444444444444444,\"#bd3786\"],[0.5555555555555556,\"#d8576b\"],[0.6666666666666666,\"#ed7953\"],[0.7777777777777778,\"#fb9f3a\"],[0.8888888888888888,\"#fdca26\"],[1.0,\"#f0f921\"]]}],\"contourcarpet\":[{\"type\":\"contourcarpet\",\"colorbar\":{\"outlinewidth\":0,\"ticks\":\"\"}}],\"contour\":[{\"type\":\"contour\",\"colorbar\":{\"outlinewidth\":0,\"ticks\":\"\"},\"colorscale\":[[0.0,\"#0d0887\"],[0.1111111111111111,\"#46039f\"],[0.2222222222222222,\"#7201a8\"],[0.3333333333333333,\"#9c179e\"],[0.4444444444444444,\"#bd3786\"],[0.5555555555555556,\"#d8576b\"],[0.6666666666666666,\"#ed7953\"],[0.7777777777777778,\"#fb9f3a\"],[0.8888888888888888,\"#fdca26\"],[1.0,\"#f0f921\"]]}],\"surface\":[{\"type\":\"surface\",\"colorbar\":{\"outlinewidth\":0,\"ticks\":\"\"},\"colorscale\":[[0.0,\"#0d0887\"],[0.1111111111111111,\"#46039f\"],[0.2222222222222222,\"#7201a8\"],[0.3333333333333333,\"#9c179e\"],[0.4444444444444444,\"#bd3786\"],[0.5555555555555556,\"#d8576b\"],[0.6666666666666666,\"#ed7953\"],[0.7777777777777778,\"#fb9f3a\"],[0.8888888888888888,\"#fdca26\"],[1.0,\"#f0f921\"]]}],\"mesh3d\":[{\"type\":\"mesh3d\",\"colorbar\":{\"outlinewidth\":0,\"ticks\":\"\"}}],\"scatter\":[{\"fillpattern\":{\"fillmode\":\"overlay\",\"size\":10,\"solidity\":0.2},\"type\":\"scatter\"}],\"parcoords\":[{\"type\":\"parcoords\",\"line\":{\"colorbar\":{\"outlinewidth\":0,\"ticks\":\"\"}}}],\"scatterpolargl\":[{\"type\":\"scatterpolargl\",\"marker\":{\"colorbar\":{\"outlinewidth\":0,\"ticks\":\"\"}}}],\"bar\":[{\"error_x\":{\"color\":\"#2a3f5f\"},\"error_y\":{\"color\":\"#2a3f5f\"},\"marker\":{\"line\":{\"color\":\"#E5ECF6\",\"width\":0.5},\"pattern\":{\"fillmode\":\"overlay\",\"size\":10,\"solidity\":0.2}},\"type\":\"bar\"}],\"scattergeo\":[{\"type\":\"scattergeo\",\"marker\":{\"colorbar\":{\"outlinewidth\":0,\"ticks\":\"\"}}}],\"scatterpolar\":[{\"type\":\"scatterpolar\",\"marker\":{\"colorbar\":{\"outlinewidth\":0,\"ticks\":\"\"}}}],\"histogram\":[{\"marker\":{\"pattern\":{\"fillmode\":\"overlay\",\"size\":10,\"solidity\":0.2}},\"type\":\"histogram\"}],\"scattergl\":[{\"type\":\"scattergl\",\"marker\":{\"colorbar\":{\"outlinewidth\":0,\"ticks\":\"\"}}}],\"scatter3d\":[{\"type\":\"scatter3d\",\"line\":{\"colorbar\":{\"outlinewidth\":0,\"ticks\":\"\"}},\"marker\":{\"colorbar\":{\"outlinewidth\":0,\"ticks\":\"\"}}}],\"scattermapbox\":[{\"type\":\"scattermapbox\",\"marker\":{\"colorbar\":{\"outlinewidth\":0,\"ticks\":\"\"}}}],\"scatterternary\":[{\"type\":\"scatterternary\",\"marker\":{\"colorbar\":{\"outlinewidth\":0,\"ticks\":\"\"}}}],\"scattercarpet\":[{\"type\":\"scattercarpet\",\"marker\":{\"colorbar\":{\"outlinewidth\":0,\"ticks\":\"\"}}}],\"carpet\":[{\"aaxis\":{\"endlinecolor\":\"#2a3f5f\",\"gridcolor\":\"white\",\"linecolor\":\"white\",\"minorgridcolor\":\"white\",\"startlinecolor\":\"#2a3f5f\"},\"baxis\":{\"endlinecolor\":\"#2a3f5f\",\"gridcolor\":\"white\",\"linecolor\":\"white\",\"minorgridcolor\":\"white\",\"startlinecolor\":\"#2a3f5f\"},\"type\":\"carpet\"}],\"table\":[{\"cells\":{\"fill\":{\"color\":\"#EBF0F8\"},\"line\":{\"color\":\"white\"}},\"header\":{\"fill\":{\"color\":\"#C8D4E3\"},\"line\":{\"color\":\"white\"}},\"type\":\"table\"}],\"barpolar\":[{\"marker\":{\"line\":{\"color\":\"#E5ECF6\",\"width\":0.5},\"pattern\":{\"fillmode\":\"overlay\",\"size\":10,\"solidity\":0.2}},\"type\":\"barpolar\"}],\"pie\":[{\"automargin\":true,\"type\":\"pie\"}]},\"layout\":{\"autotypenumbers\":\"strict\",\"colorway\":[\"#636efa\",\"#EF553B\",\"#00cc96\",\"#ab63fa\",\"#FFA15A\",\"#19d3f3\",\"#FF6692\",\"#B6E880\",\"#FF97FF\",\"#FECB52\"],\"font\":{\"color\":\"#2a3f5f\"},\"hovermode\":\"closest\",\"hoverlabel\":{\"align\":\"left\"},\"paper_bgcolor\":\"white\",\"plot_bgcolor\":\"#E5ECF6\",\"polar\":{\"bgcolor\":\"#E5ECF6\",\"angularaxis\":{\"gridcolor\":\"white\",\"linecolor\":\"white\",\"ticks\":\"\"},\"radialaxis\":{\"gridcolor\":\"white\",\"linecolor\":\"white\",\"ticks\":\"\"}},\"ternary\":{\"bgcolor\":\"#E5ECF6\",\"aaxis\":{\"gridcolor\":\"white\",\"linecolor\":\"white\",\"ticks\":\"\"},\"baxis\":{\"gridcolor\":\"white\",\"linecolor\":\"white\",\"ticks\":\"\"},\"caxis\":{\"gridcolor\":\"white\",\"linecolor\":\"white\",\"ticks\":\"\"}},\"coloraxis\":{\"colorbar\":{\"outlinewidth\":0,\"ticks\":\"\"}},\"colorscale\":{\"sequential\":[[0.0,\"#0d0887\"],[0.1111111111111111,\"#46039f\"],[0.2222222222222222,\"#7201a8\"],[0.3333333333333333,\"#9c179e\"],[0.4444444444444444,\"#bd3786\"],[0.5555555555555556,\"#d8576b\"],[0.6666666666666666,\"#ed7953\"],[0.7777777777777778,\"#fb9f3a\"],[0.8888888888888888,\"#fdca26\"],[1.0,\"#f0f921\"]],\"sequentialminus\":[[0.0,\"#0d0887\"],[0.1111111111111111,\"#46039f\"],[0.2222222222222222,\"#7201a8\"],[0.3333333333333333,\"#9c179e\"],[0.4444444444444444,\"#bd3786\"],[0.5555555555555556,\"#d8576b\"],[0.6666666666666666,\"#ed7953\"],[0.7777777777777778,\"#fb9f3a\"],[0.8888888888888888,\"#fdca26\"],[1.0,\"#f0f921\"]],\"diverging\":[[0,\"#8e0152\"],[0.1,\"#c51b7d\"],[0.2,\"#de77ae\"],[0.3,\"#f1b6da\"],[0.4,\"#fde0ef\"],[0.5,\"#f7f7f7\"],[0.6,\"#e6f5d0\"],[0.7,\"#b8e186\"],[0.8,\"#7fbc41\"],[0.9,\"#4d9221\"],[1,\"#276419\"]]},\"xaxis\":{\"gridcolor\":\"white\",\"linecolor\":\"white\",\"ticks\":\"\",\"title\":{\"standoff\":15},\"zerolinecolor\":\"white\",\"automargin\":true,\"zerolinewidth\":2},\"yaxis\":{\"gridcolor\":\"white\",\"linecolor\":\"white\",\"ticks\":\"\",\"title\":{\"standoff\":15},\"zerolinecolor\":\"white\",\"automargin\":true,\"zerolinewidth\":2},\"scene\":{\"xaxis\":{\"backgroundcolor\":\"#E5ECF6\",\"gridcolor\":\"white\",\"linecolor\":\"white\",\"showbackground\":true,\"ticks\":\"\",\"zerolinecolor\":\"white\",\"gridwidth\":2},\"yaxis\":{\"backgroundcolor\":\"#E5ECF6\",\"gridcolor\":\"white\",\"linecolor\":\"white\",\"showbackground\":true,\"ticks\":\"\",\"zerolinecolor\":\"white\",\"gridwidth\":2},\"zaxis\":{\"backgroundcolor\":\"#E5ECF6\",\"gridcolor\":\"white\",\"linecolor\":\"white\",\"showbackground\":true,\"ticks\":\"\",\"zerolinecolor\":\"white\",\"gridwidth\":2}},\"shapedefaults\":{\"line\":{\"color\":\"#2a3f5f\"}},\"annotationdefaults\":{\"arrowcolor\":\"#2a3f5f\",\"arrowhead\":0,\"arrowwidth\":1},\"geo\":{\"bgcolor\":\"white\",\"landcolor\":\"#E5ECF6\",\"subunitcolor\":\"white\",\"showland\":true,\"showlakes\":true,\"lakecolor\":\"white\"},\"title\":{\"x\":0.05},\"mapbox\":{\"style\":\"light\"}}},\"legend\":{\"tracegroupgap\":0},\"margin\":{\"t\":60}},                        {\"responsive\": true}                    ).then(function(){\n",
       "                            \n",
       "var gd = document.getElementById('9fbb0668-fd14-43ec-bc3a-2494ff47dc3e');\n",
       "var x = new MutationObserver(function (mutations, observer) {{\n",
       "        var display = window.getComputedStyle(gd).display;\n",
       "        if (!display || display === 'none') {{\n",
       "            console.log([gd, 'removed!']);\n",
       "            Plotly.purge(gd);\n",
       "            observer.disconnect();\n",
       "        }}\n",
       "}});\n",
       "\n",
       "// Listen for the removal of the full notebook cells\n",
       "var notebookContainer = gd.closest('#notebook-container');\n",
       "if (notebookContainer) {{\n",
       "    x.observe(notebookContainer, {childList: true});\n",
       "}}\n",
       "\n",
       "// Listen for the clearing of the current output cell\n",
       "var outputEl = gd.closest('.output');\n",
       "if (outputEl) {{\n",
       "    x.observe(outputEl, {childList: true});\n",
       "}}\n",
       "\n",
       "                        })                };                });            </script>        </div>"
      ]
     },
     "metadata": {},
     "output_type": "display_data"
    }
   ],
   "source": [
    "px.pie(\n",
    "    data_frame=df[\"ascension_boss\"].value_counts(),\n",
    "    names=df[\"ascension_boss\"].value_counts().index,\n",
    "    values=df[\"ascension_boss\"].value_counts().values,\n",
    "    hole=0.3\n",
    ")"
   ]
  },
  {
   "cell_type": "code",
   "execution_count": 21,
   "id": "b29ad4eb",
   "metadata": {
    "execution": {
     "iopub.execute_input": "2023-06-05T09:19:29.000876Z",
     "iopub.status.busy": "2023-06-05T09:19:29.000429Z",
     "iopub.status.idle": "2023-06-05T09:19:29.066197Z",
     "shell.execute_reply": "2023-06-05T09:19:29.064699Z"
    },
    "papermill": {
     "duration": 0.087904,
     "end_time": "2023-06-05T09:19:29.069518",
     "exception": false,
     "start_time": "2023-06-05T09:19:28.981614",
     "status": "completed"
    },
    "tags": []
   },
   "outputs": [
    {
     "data": {
      "text/html": [
       "<div>                            <div id=\"c083127f-5c5d-4510-896c-a8867aa8b15c\" class=\"plotly-graph-div\" style=\"height:525px; width:100%;\"></div>            <script type=\"text/javascript\">                require([\"plotly\"], function(Plotly) {                    window.PLOTLYENV=window.PLOTLYENV || {};                                    if (document.getElementById(\"c083127f-5c5d-4510-896c-a8867aa8b15c\")) {                    Plotly.newPlot(                        \"c083127f-5c5d-4510-896c-a8867aa8b15c\",                        [{\"domain\":{\"x\":[0.0,1.0],\"y\":[0.0,1.0]},\"hovertemplate\":\"label=%{label}<br>value=%{value}<extra></extra>\",\"labels\":[\"Teachings of Freedom\",\"Teachings of Resistance\",\"Teachings of Ballad\",\"Teachings of Diligence\",\"Teachings of Prosperity\",\"Teachings of Elegance\",\"Teachings of Gold\",\"Teachings of Light\",\"Teachings of Transience\",\"Teachings of Admonition\",\"Teachings of Praxis\",\"Teachings of Freedom, Teachings of Transience\",\"Teachings of Ingenuity\"],\"legendgroup\":\"\",\"name\":\"\",\"showlegend\":true,\"values\":[7,7,6,6,6,5,5,4,4,3,2,2,1],\"type\":\"pie\"}],                        {\"template\":{\"data\":{\"histogram2dcontour\":[{\"type\":\"histogram2dcontour\",\"colorbar\":{\"outlinewidth\":0,\"ticks\":\"\"},\"colorscale\":[[0.0,\"#0d0887\"],[0.1111111111111111,\"#46039f\"],[0.2222222222222222,\"#7201a8\"],[0.3333333333333333,\"#9c179e\"],[0.4444444444444444,\"#bd3786\"],[0.5555555555555556,\"#d8576b\"],[0.6666666666666666,\"#ed7953\"],[0.7777777777777778,\"#fb9f3a\"],[0.8888888888888888,\"#fdca26\"],[1.0,\"#f0f921\"]]}],\"choropleth\":[{\"type\":\"choropleth\",\"colorbar\":{\"outlinewidth\":0,\"ticks\":\"\"}}],\"histogram2d\":[{\"type\":\"histogram2d\",\"colorbar\":{\"outlinewidth\":0,\"ticks\":\"\"},\"colorscale\":[[0.0,\"#0d0887\"],[0.1111111111111111,\"#46039f\"],[0.2222222222222222,\"#7201a8\"],[0.3333333333333333,\"#9c179e\"],[0.4444444444444444,\"#bd3786\"],[0.5555555555555556,\"#d8576b\"],[0.6666666666666666,\"#ed7953\"],[0.7777777777777778,\"#fb9f3a\"],[0.8888888888888888,\"#fdca26\"],[1.0,\"#f0f921\"]]}],\"heatmap\":[{\"type\":\"heatmap\",\"colorbar\":{\"outlinewidth\":0,\"ticks\":\"\"},\"colorscale\":[[0.0,\"#0d0887\"],[0.1111111111111111,\"#46039f\"],[0.2222222222222222,\"#7201a8\"],[0.3333333333333333,\"#9c179e\"],[0.4444444444444444,\"#bd3786\"],[0.5555555555555556,\"#d8576b\"],[0.6666666666666666,\"#ed7953\"],[0.7777777777777778,\"#fb9f3a\"],[0.8888888888888888,\"#fdca26\"],[1.0,\"#f0f921\"]]}],\"heatmapgl\":[{\"type\":\"heatmapgl\",\"colorbar\":{\"outlinewidth\":0,\"ticks\":\"\"},\"colorscale\":[[0.0,\"#0d0887\"],[0.1111111111111111,\"#46039f\"],[0.2222222222222222,\"#7201a8\"],[0.3333333333333333,\"#9c179e\"],[0.4444444444444444,\"#bd3786\"],[0.5555555555555556,\"#d8576b\"],[0.6666666666666666,\"#ed7953\"],[0.7777777777777778,\"#fb9f3a\"],[0.8888888888888888,\"#fdca26\"],[1.0,\"#f0f921\"]]}],\"contourcarpet\":[{\"type\":\"contourcarpet\",\"colorbar\":{\"outlinewidth\":0,\"ticks\":\"\"}}],\"contour\":[{\"type\":\"contour\",\"colorbar\":{\"outlinewidth\":0,\"ticks\":\"\"},\"colorscale\":[[0.0,\"#0d0887\"],[0.1111111111111111,\"#46039f\"],[0.2222222222222222,\"#7201a8\"],[0.3333333333333333,\"#9c179e\"],[0.4444444444444444,\"#bd3786\"],[0.5555555555555556,\"#d8576b\"],[0.6666666666666666,\"#ed7953\"],[0.7777777777777778,\"#fb9f3a\"],[0.8888888888888888,\"#fdca26\"],[1.0,\"#f0f921\"]]}],\"surface\":[{\"type\":\"surface\",\"colorbar\":{\"outlinewidth\":0,\"ticks\":\"\"},\"colorscale\":[[0.0,\"#0d0887\"],[0.1111111111111111,\"#46039f\"],[0.2222222222222222,\"#7201a8\"],[0.3333333333333333,\"#9c179e\"],[0.4444444444444444,\"#bd3786\"],[0.5555555555555556,\"#d8576b\"],[0.6666666666666666,\"#ed7953\"],[0.7777777777777778,\"#fb9f3a\"],[0.8888888888888888,\"#fdca26\"],[1.0,\"#f0f921\"]]}],\"mesh3d\":[{\"type\":\"mesh3d\",\"colorbar\":{\"outlinewidth\":0,\"ticks\":\"\"}}],\"scatter\":[{\"fillpattern\":{\"fillmode\":\"overlay\",\"size\":10,\"solidity\":0.2},\"type\":\"scatter\"}],\"parcoords\":[{\"type\":\"parcoords\",\"line\":{\"colorbar\":{\"outlinewidth\":0,\"ticks\":\"\"}}}],\"scatterpolargl\":[{\"type\":\"scatterpolargl\",\"marker\":{\"colorbar\":{\"outlinewidth\":0,\"ticks\":\"\"}}}],\"bar\":[{\"error_x\":{\"color\":\"#2a3f5f\"},\"error_y\":{\"color\":\"#2a3f5f\"},\"marker\":{\"line\":{\"color\":\"#E5ECF6\",\"width\":0.5},\"pattern\":{\"fillmode\":\"overlay\",\"size\":10,\"solidity\":0.2}},\"type\":\"bar\"}],\"scattergeo\":[{\"type\":\"scattergeo\",\"marker\":{\"colorbar\":{\"outlinewidth\":0,\"ticks\":\"\"}}}],\"scatterpolar\":[{\"type\":\"scatterpolar\",\"marker\":{\"colorbar\":{\"outlinewidth\":0,\"ticks\":\"\"}}}],\"histogram\":[{\"marker\":{\"pattern\":{\"fillmode\":\"overlay\",\"size\":10,\"solidity\":0.2}},\"type\":\"histogram\"}],\"scattergl\":[{\"type\":\"scattergl\",\"marker\":{\"colorbar\":{\"outlinewidth\":0,\"ticks\":\"\"}}}],\"scatter3d\":[{\"type\":\"scatter3d\",\"line\":{\"colorbar\":{\"outlinewidth\":0,\"ticks\":\"\"}},\"marker\":{\"colorbar\":{\"outlinewidth\":0,\"ticks\":\"\"}}}],\"scattermapbox\":[{\"type\":\"scattermapbox\",\"marker\":{\"colorbar\":{\"outlinewidth\":0,\"ticks\":\"\"}}}],\"scatterternary\":[{\"type\":\"scatterternary\",\"marker\":{\"colorbar\":{\"outlinewidth\":0,\"ticks\":\"\"}}}],\"scattercarpet\":[{\"type\":\"scattercarpet\",\"marker\":{\"colorbar\":{\"outlinewidth\":0,\"ticks\":\"\"}}}],\"carpet\":[{\"aaxis\":{\"endlinecolor\":\"#2a3f5f\",\"gridcolor\":\"white\",\"linecolor\":\"white\",\"minorgridcolor\":\"white\",\"startlinecolor\":\"#2a3f5f\"},\"baxis\":{\"endlinecolor\":\"#2a3f5f\",\"gridcolor\":\"white\",\"linecolor\":\"white\",\"minorgridcolor\":\"white\",\"startlinecolor\":\"#2a3f5f\"},\"type\":\"carpet\"}],\"table\":[{\"cells\":{\"fill\":{\"color\":\"#EBF0F8\"},\"line\":{\"color\":\"white\"}},\"header\":{\"fill\":{\"color\":\"#C8D4E3\"},\"line\":{\"color\":\"white\"}},\"type\":\"table\"}],\"barpolar\":[{\"marker\":{\"line\":{\"color\":\"#E5ECF6\",\"width\":0.5},\"pattern\":{\"fillmode\":\"overlay\",\"size\":10,\"solidity\":0.2}},\"type\":\"barpolar\"}],\"pie\":[{\"automargin\":true,\"type\":\"pie\"}]},\"layout\":{\"autotypenumbers\":\"strict\",\"colorway\":[\"#636efa\",\"#EF553B\",\"#00cc96\",\"#ab63fa\",\"#FFA15A\",\"#19d3f3\",\"#FF6692\",\"#B6E880\",\"#FF97FF\",\"#FECB52\"],\"font\":{\"color\":\"#2a3f5f\"},\"hovermode\":\"closest\",\"hoverlabel\":{\"align\":\"left\"},\"paper_bgcolor\":\"white\",\"plot_bgcolor\":\"#E5ECF6\",\"polar\":{\"bgcolor\":\"#E5ECF6\",\"angularaxis\":{\"gridcolor\":\"white\",\"linecolor\":\"white\",\"ticks\":\"\"},\"radialaxis\":{\"gridcolor\":\"white\",\"linecolor\":\"white\",\"ticks\":\"\"}},\"ternary\":{\"bgcolor\":\"#E5ECF6\",\"aaxis\":{\"gridcolor\":\"white\",\"linecolor\":\"white\",\"ticks\":\"\"},\"baxis\":{\"gridcolor\":\"white\",\"linecolor\":\"white\",\"ticks\":\"\"},\"caxis\":{\"gridcolor\":\"white\",\"linecolor\":\"white\",\"ticks\":\"\"}},\"coloraxis\":{\"colorbar\":{\"outlinewidth\":0,\"ticks\":\"\"}},\"colorscale\":{\"sequential\":[[0.0,\"#0d0887\"],[0.1111111111111111,\"#46039f\"],[0.2222222222222222,\"#7201a8\"],[0.3333333333333333,\"#9c179e\"],[0.4444444444444444,\"#bd3786\"],[0.5555555555555556,\"#d8576b\"],[0.6666666666666666,\"#ed7953\"],[0.7777777777777778,\"#fb9f3a\"],[0.8888888888888888,\"#fdca26\"],[1.0,\"#f0f921\"]],\"sequentialminus\":[[0.0,\"#0d0887\"],[0.1111111111111111,\"#46039f\"],[0.2222222222222222,\"#7201a8\"],[0.3333333333333333,\"#9c179e\"],[0.4444444444444444,\"#bd3786\"],[0.5555555555555556,\"#d8576b\"],[0.6666666666666666,\"#ed7953\"],[0.7777777777777778,\"#fb9f3a\"],[0.8888888888888888,\"#fdca26\"],[1.0,\"#f0f921\"]],\"diverging\":[[0,\"#8e0152\"],[0.1,\"#c51b7d\"],[0.2,\"#de77ae\"],[0.3,\"#f1b6da\"],[0.4,\"#fde0ef\"],[0.5,\"#f7f7f7\"],[0.6,\"#e6f5d0\"],[0.7,\"#b8e186\"],[0.8,\"#7fbc41\"],[0.9,\"#4d9221\"],[1,\"#276419\"]]},\"xaxis\":{\"gridcolor\":\"white\",\"linecolor\":\"white\",\"ticks\":\"\",\"title\":{\"standoff\":15},\"zerolinecolor\":\"white\",\"automargin\":true,\"zerolinewidth\":2},\"yaxis\":{\"gridcolor\":\"white\",\"linecolor\":\"white\",\"ticks\":\"\",\"title\":{\"standoff\":15},\"zerolinecolor\":\"white\",\"automargin\":true,\"zerolinewidth\":2},\"scene\":{\"xaxis\":{\"backgroundcolor\":\"#E5ECF6\",\"gridcolor\":\"white\",\"linecolor\":\"white\",\"showbackground\":true,\"ticks\":\"\",\"zerolinecolor\":\"white\",\"gridwidth\":2},\"yaxis\":{\"backgroundcolor\":\"#E5ECF6\",\"gridcolor\":\"white\",\"linecolor\":\"white\",\"showbackground\":true,\"ticks\":\"\",\"zerolinecolor\":\"white\",\"gridwidth\":2},\"zaxis\":{\"backgroundcolor\":\"#E5ECF6\",\"gridcolor\":\"white\",\"linecolor\":\"white\",\"showbackground\":true,\"ticks\":\"\",\"zerolinecolor\":\"white\",\"gridwidth\":2}},\"shapedefaults\":{\"line\":{\"color\":\"#2a3f5f\"}},\"annotationdefaults\":{\"arrowcolor\":\"#2a3f5f\",\"arrowhead\":0,\"arrowwidth\":1},\"geo\":{\"bgcolor\":\"white\",\"landcolor\":\"#E5ECF6\",\"subunitcolor\":\"white\",\"showland\":true,\"showlakes\":true,\"lakecolor\":\"white\"},\"title\":{\"x\":0.05},\"mapbox\":{\"style\":\"light\"}}},\"legend\":{\"tracegroupgap\":0},\"margin\":{\"t\":60}},                        {\"responsive\": true}                    ).then(function(){\n",
       "                            \n",
       "var gd = document.getElementById('c083127f-5c5d-4510-896c-a8867aa8b15c');\n",
       "var x = new MutationObserver(function (mutations, observer) {{\n",
       "        var display = window.getComputedStyle(gd).display;\n",
       "        if (!display || display === 'none') {{\n",
       "            console.log([gd, 'removed!']);\n",
       "            Plotly.purge(gd);\n",
       "            observer.disconnect();\n",
       "        }}\n",
       "}});\n",
       "\n",
       "// Listen for the removal of the full notebook cells\n",
       "var notebookContainer = gd.closest('#notebook-container');\n",
       "if (notebookContainer) {{\n",
       "    x.observe(notebookContainer, {childList: true});\n",
       "}}\n",
       "\n",
       "// Listen for the clearing of the current output cell\n",
       "var outputEl = gd.closest('.output');\n",
       "if (outputEl) {{\n",
       "    x.observe(outputEl, {childList: true});\n",
       "}}\n",
       "\n",
       "                        })                };                });            </script>        </div>"
      ]
     },
     "metadata": {},
     "output_type": "display_data"
    }
   ],
   "source": [
    "px.pie(\n",
    "    data_frame=df[\"talent_book\"].value_counts(),\n",
    "    names=df[\"talent_book\"].value_counts().index,\n",
    "    values=df[\"talent_book\"].value_counts().values,\n",
    ")"
   ]
  },
  {
   "cell_type": "code",
   "execution_count": 22,
   "id": "2bd24c8a",
   "metadata": {
    "execution": {
     "iopub.execute_input": "2023-06-05T09:19:29.106720Z",
     "iopub.status.busy": "2023-06-05T09:19:29.106266Z",
     "iopub.status.idle": "2023-06-05T09:19:29.175268Z",
     "shell.execute_reply": "2023-06-05T09:19:29.173867Z"
    },
    "papermill": {
     "duration": 0.091707,
     "end_time": "2023-06-05T09:19:29.178827",
     "exception": false,
     "start_time": "2023-06-05T09:19:29.087120",
     "status": "completed"
    },
    "tags": []
   },
   "outputs": [
    {
     "data": {
      "text/html": [
       "<div>                            <div id=\"7f758d6f-60ad-4dea-b412-2c03a947fd12\" class=\"plotly-graph-div\" style=\"height:525px; width:100%;\"></div>            <script type=\"text/javascript\">                require([\"plotly\"], function(Plotly) {                    window.PLOTLYENV=window.PLOTLYENV || {};                                    if (document.getElementById(\"7f758d6f-60ad-4dea-b412-2c03a947fd12\")) {                    Plotly.newPlot(                        \"7f758d6f-60ad-4dea-b412-2c03a947fd12\",                        [{\"domain\":{\"x\":[0.0,1.0],\"y\":[0.0,1.0]},\"hovertemplate\":\"label=%{label}<br>value=%{value}<extra></extra>\",\"labels\":[\"Spirit Locket of Boreas\",\"Ring of Boreas\",\"Tears of the Calamitous God\",\"Dvalin's Claw\",\"Tusk of Monoceros Caeli\",\"The Meaning of Aeons\",\"Hellfire Butterfly\",\"Tail of Boreas\",\"Gilded Scale\",\"Shadow of the Warrior\",\"Bloodjade Branch\",\"Molten Moment\",\"Shard of a Foul Legacy\",\"Dvalin's Plume\",\"Ashen Heart\",\"Dvalin's Sigh\",\"Dragon Lord's Crown\",\"Mudra of the Malefic General\",\"Dvalin's Sigh, Dragon Lord's Crown\"],\"legendgroup\":\"\",\"name\":\"\",\"showlegend\":true,\"values\":[4,4,4,4,3,3,3,3,3,3,3,3,3,3,3,3,2,2,2],\"type\":\"pie\"}],                        {\"template\":{\"data\":{\"histogram2dcontour\":[{\"type\":\"histogram2dcontour\",\"colorbar\":{\"outlinewidth\":0,\"ticks\":\"\"},\"colorscale\":[[0.0,\"#0d0887\"],[0.1111111111111111,\"#46039f\"],[0.2222222222222222,\"#7201a8\"],[0.3333333333333333,\"#9c179e\"],[0.4444444444444444,\"#bd3786\"],[0.5555555555555556,\"#d8576b\"],[0.6666666666666666,\"#ed7953\"],[0.7777777777777778,\"#fb9f3a\"],[0.8888888888888888,\"#fdca26\"],[1.0,\"#f0f921\"]]}],\"choropleth\":[{\"type\":\"choropleth\",\"colorbar\":{\"outlinewidth\":0,\"ticks\":\"\"}}],\"histogram2d\":[{\"type\":\"histogram2d\",\"colorbar\":{\"outlinewidth\":0,\"ticks\":\"\"},\"colorscale\":[[0.0,\"#0d0887\"],[0.1111111111111111,\"#46039f\"],[0.2222222222222222,\"#7201a8\"],[0.3333333333333333,\"#9c179e\"],[0.4444444444444444,\"#bd3786\"],[0.5555555555555556,\"#d8576b\"],[0.6666666666666666,\"#ed7953\"],[0.7777777777777778,\"#fb9f3a\"],[0.8888888888888888,\"#fdca26\"],[1.0,\"#f0f921\"]]}],\"heatmap\":[{\"type\":\"heatmap\",\"colorbar\":{\"outlinewidth\":0,\"ticks\":\"\"},\"colorscale\":[[0.0,\"#0d0887\"],[0.1111111111111111,\"#46039f\"],[0.2222222222222222,\"#7201a8\"],[0.3333333333333333,\"#9c179e\"],[0.4444444444444444,\"#bd3786\"],[0.5555555555555556,\"#d8576b\"],[0.6666666666666666,\"#ed7953\"],[0.7777777777777778,\"#fb9f3a\"],[0.8888888888888888,\"#fdca26\"],[1.0,\"#f0f921\"]]}],\"heatmapgl\":[{\"type\":\"heatmapgl\",\"colorbar\":{\"outlinewidth\":0,\"ticks\":\"\"},\"colorscale\":[[0.0,\"#0d0887\"],[0.1111111111111111,\"#46039f\"],[0.2222222222222222,\"#7201a8\"],[0.3333333333333333,\"#9c179e\"],[0.4444444444444444,\"#bd3786\"],[0.5555555555555556,\"#d8576b\"],[0.6666666666666666,\"#ed7953\"],[0.7777777777777778,\"#fb9f3a\"],[0.8888888888888888,\"#fdca26\"],[1.0,\"#f0f921\"]]}],\"contourcarpet\":[{\"type\":\"contourcarpet\",\"colorbar\":{\"outlinewidth\":0,\"ticks\":\"\"}}],\"contour\":[{\"type\":\"contour\",\"colorbar\":{\"outlinewidth\":0,\"ticks\":\"\"},\"colorscale\":[[0.0,\"#0d0887\"],[0.1111111111111111,\"#46039f\"],[0.2222222222222222,\"#7201a8\"],[0.3333333333333333,\"#9c179e\"],[0.4444444444444444,\"#bd3786\"],[0.5555555555555556,\"#d8576b\"],[0.6666666666666666,\"#ed7953\"],[0.7777777777777778,\"#fb9f3a\"],[0.8888888888888888,\"#fdca26\"],[1.0,\"#f0f921\"]]}],\"surface\":[{\"type\":\"surface\",\"colorbar\":{\"outlinewidth\":0,\"ticks\":\"\"},\"colorscale\":[[0.0,\"#0d0887\"],[0.1111111111111111,\"#46039f\"],[0.2222222222222222,\"#7201a8\"],[0.3333333333333333,\"#9c179e\"],[0.4444444444444444,\"#bd3786\"],[0.5555555555555556,\"#d8576b\"],[0.6666666666666666,\"#ed7953\"],[0.7777777777777778,\"#fb9f3a\"],[0.8888888888888888,\"#fdca26\"],[1.0,\"#f0f921\"]]}],\"mesh3d\":[{\"type\":\"mesh3d\",\"colorbar\":{\"outlinewidth\":0,\"ticks\":\"\"}}],\"scatter\":[{\"fillpattern\":{\"fillmode\":\"overlay\",\"size\":10,\"solidity\":0.2},\"type\":\"scatter\"}],\"parcoords\":[{\"type\":\"parcoords\",\"line\":{\"colorbar\":{\"outlinewidth\":0,\"ticks\":\"\"}}}],\"scatterpolargl\":[{\"type\":\"scatterpolargl\",\"marker\":{\"colorbar\":{\"outlinewidth\":0,\"ticks\":\"\"}}}],\"bar\":[{\"error_x\":{\"color\":\"#2a3f5f\"},\"error_y\":{\"color\":\"#2a3f5f\"},\"marker\":{\"line\":{\"color\":\"#E5ECF6\",\"width\":0.5},\"pattern\":{\"fillmode\":\"overlay\",\"size\":10,\"solidity\":0.2}},\"type\":\"bar\"}],\"scattergeo\":[{\"type\":\"scattergeo\",\"marker\":{\"colorbar\":{\"outlinewidth\":0,\"ticks\":\"\"}}}],\"scatterpolar\":[{\"type\":\"scatterpolar\",\"marker\":{\"colorbar\":{\"outlinewidth\":0,\"ticks\":\"\"}}}],\"histogram\":[{\"marker\":{\"pattern\":{\"fillmode\":\"overlay\",\"size\":10,\"solidity\":0.2}},\"type\":\"histogram\"}],\"scattergl\":[{\"type\":\"scattergl\",\"marker\":{\"colorbar\":{\"outlinewidth\":0,\"ticks\":\"\"}}}],\"scatter3d\":[{\"type\":\"scatter3d\",\"line\":{\"colorbar\":{\"outlinewidth\":0,\"ticks\":\"\"}},\"marker\":{\"colorbar\":{\"outlinewidth\":0,\"ticks\":\"\"}}}],\"scattermapbox\":[{\"type\":\"scattermapbox\",\"marker\":{\"colorbar\":{\"outlinewidth\":0,\"ticks\":\"\"}}}],\"scatterternary\":[{\"type\":\"scatterternary\",\"marker\":{\"colorbar\":{\"outlinewidth\":0,\"ticks\":\"\"}}}],\"scattercarpet\":[{\"type\":\"scattercarpet\",\"marker\":{\"colorbar\":{\"outlinewidth\":0,\"ticks\":\"\"}}}],\"carpet\":[{\"aaxis\":{\"endlinecolor\":\"#2a3f5f\",\"gridcolor\":\"white\",\"linecolor\":\"white\",\"minorgridcolor\":\"white\",\"startlinecolor\":\"#2a3f5f\"},\"baxis\":{\"endlinecolor\":\"#2a3f5f\",\"gridcolor\":\"white\",\"linecolor\":\"white\",\"minorgridcolor\":\"white\",\"startlinecolor\":\"#2a3f5f\"},\"type\":\"carpet\"}],\"table\":[{\"cells\":{\"fill\":{\"color\":\"#EBF0F8\"},\"line\":{\"color\":\"white\"}},\"header\":{\"fill\":{\"color\":\"#C8D4E3\"},\"line\":{\"color\":\"white\"}},\"type\":\"table\"}],\"barpolar\":[{\"marker\":{\"line\":{\"color\":\"#E5ECF6\",\"width\":0.5},\"pattern\":{\"fillmode\":\"overlay\",\"size\":10,\"solidity\":0.2}},\"type\":\"barpolar\"}],\"pie\":[{\"automargin\":true,\"type\":\"pie\"}]},\"layout\":{\"autotypenumbers\":\"strict\",\"colorway\":[\"#636efa\",\"#EF553B\",\"#00cc96\",\"#ab63fa\",\"#FFA15A\",\"#19d3f3\",\"#FF6692\",\"#B6E880\",\"#FF97FF\",\"#FECB52\"],\"font\":{\"color\":\"#2a3f5f\"},\"hovermode\":\"closest\",\"hoverlabel\":{\"align\":\"left\"},\"paper_bgcolor\":\"white\",\"plot_bgcolor\":\"#E5ECF6\",\"polar\":{\"bgcolor\":\"#E5ECF6\",\"angularaxis\":{\"gridcolor\":\"white\",\"linecolor\":\"white\",\"ticks\":\"\"},\"radialaxis\":{\"gridcolor\":\"white\",\"linecolor\":\"white\",\"ticks\":\"\"}},\"ternary\":{\"bgcolor\":\"#E5ECF6\",\"aaxis\":{\"gridcolor\":\"white\",\"linecolor\":\"white\",\"ticks\":\"\"},\"baxis\":{\"gridcolor\":\"white\",\"linecolor\":\"white\",\"ticks\":\"\"},\"caxis\":{\"gridcolor\":\"white\",\"linecolor\":\"white\",\"ticks\":\"\"}},\"coloraxis\":{\"colorbar\":{\"outlinewidth\":0,\"ticks\":\"\"}},\"colorscale\":{\"sequential\":[[0.0,\"#0d0887\"],[0.1111111111111111,\"#46039f\"],[0.2222222222222222,\"#7201a8\"],[0.3333333333333333,\"#9c179e\"],[0.4444444444444444,\"#bd3786\"],[0.5555555555555556,\"#d8576b\"],[0.6666666666666666,\"#ed7953\"],[0.7777777777777778,\"#fb9f3a\"],[0.8888888888888888,\"#fdca26\"],[1.0,\"#f0f921\"]],\"sequentialminus\":[[0.0,\"#0d0887\"],[0.1111111111111111,\"#46039f\"],[0.2222222222222222,\"#7201a8\"],[0.3333333333333333,\"#9c179e\"],[0.4444444444444444,\"#bd3786\"],[0.5555555555555556,\"#d8576b\"],[0.6666666666666666,\"#ed7953\"],[0.7777777777777778,\"#fb9f3a\"],[0.8888888888888888,\"#fdca26\"],[1.0,\"#f0f921\"]],\"diverging\":[[0,\"#8e0152\"],[0.1,\"#c51b7d\"],[0.2,\"#de77ae\"],[0.3,\"#f1b6da\"],[0.4,\"#fde0ef\"],[0.5,\"#f7f7f7\"],[0.6,\"#e6f5d0\"],[0.7,\"#b8e186\"],[0.8,\"#7fbc41\"],[0.9,\"#4d9221\"],[1,\"#276419\"]]},\"xaxis\":{\"gridcolor\":\"white\",\"linecolor\":\"white\",\"ticks\":\"\",\"title\":{\"standoff\":15},\"zerolinecolor\":\"white\",\"automargin\":true,\"zerolinewidth\":2},\"yaxis\":{\"gridcolor\":\"white\",\"linecolor\":\"white\",\"ticks\":\"\",\"title\":{\"standoff\":15},\"zerolinecolor\":\"white\",\"automargin\":true,\"zerolinewidth\":2},\"scene\":{\"xaxis\":{\"backgroundcolor\":\"#E5ECF6\",\"gridcolor\":\"white\",\"linecolor\":\"white\",\"showbackground\":true,\"ticks\":\"\",\"zerolinecolor\":\"white\",\"gridwidth\":2},\"yaxis\":{\"backgroundcolor\":\"#E5ECF6\",\"gridcolor\":\"white\",\"linecolor\":\"white\",\"showbackground\":true,\"ticks\":\"\",\"zerolinecolor\":\"white\",\"gridwidth\":2},\"zaxis\":{\"backgroundcolor\":\"#E5ECF6\",\"gridcolor\":\"white\",\"linecolor\":\"white\",\"showbackground\":true,\"ticks\":\"\",\"zerolinecolor\":\"white\",\"gridwidth\":2}},\"shapedefaults\":{\"line\":{\"color\":\"#2a3f5f\"}},\"annotationdefaults\":{\"arrowcolor\":\"#2a3f5f\",\"arrowhead\":0,\"arrowwidth\":1},\"geo\":{\"bgcolor\":\"white\",\"landcolor\":\"#E5ECF6\",\"subunitcolor\":\"white\",\"showland\":true,\"showlakes\":true,\"lakecolor\":\"white\"},\"title\":{\"x\":0.05},\"mapbox\":{\"style\":\"light\"}}},\"legend\":{\"tracegroupgap\":0},\"margin\":{\"t\":60}},                        {\"responsive\": true}                    ).then(function(){\n",
       "                            \n",
       "var gd = document.getElementById('7f758d6f-60ad-4dea-b412-2c03a947fd12');\n",
       "var x = new MutationObserver(function (mutations, observer) {{\n",
       "        var display = window.getComputedStyle(gd).display;\n",
       "        if (!display || display === 'none') {{\n",
       "            console.log([gd, 'removed!']);\n",
       "            Plotly.purge(gd);\n",
       "            observer.disconnect();\n",
       "        }}\n",
       "}});\n",
       "\n",
       "// Listen for the removal of the full notebook cells\n",
       "var notebookContainer = gd.closest('#notebook-container');\n",
       "if (notebookContainer) {{\n",
       "    x.observe(notebookContainer, {childList: true});\n",
       "}}\n",
       "\n",
       "// Listen for the clearing of the current output cell\n",
       "var outputEl = gd.closest('.output');\n",
       "if (outputEl) {{\n",
       "    x.observe(outputEl, {childList: true});\n",
       "}}\n",
       "\n",
       "                        })                };                });            </script>        </div>"
      ]
     },
     "metadata": {},
     "output_type": "display_data"
    }
   ],
   "source": [
    "px.pie(\n",
    "    data_frame=df[\"talent_weekly\"].value_counts(),\n",
    "    names=df[\"talent_weekly\"].value_counts().index,\n",
    "    values=df[\"talent_weekly\"].value_counts().values,\n",
    ")"
   ]
  },
  {
   "cell_type": "code",
   "execution_count": 23,
   "id": "18e8fefd",
   "metadata": {
    "execution": {
     "iopub.execute_input": "2023-06-05T09:19:29.219381Z",
     "iopub.status.busy": "2023-06-05T09:19:29.218952Z",
     "iopub.status.idle": "2023-06-05T09:19:29.287054Z",
     "shell.execute_reply": "2023-06-05T09:19:29.285664Z"
    },
    "papermill": {
     "duration": 0.091424,
     "end_time": "2023-06-05T09:19:29.290392",
     "exception": false,
     "start_time": "2023-06-05T09:19:29.198968",
     "status": "completed"
    },
    "tags": []
   },
   "outputs": [
    {
     "data": {
      "text/html": [
       "<div>                            <div id=\"36d820f9-0dc9-4b1b-94e3-2cdad3bde613\" class=\"plotly-graph-div\" style=\"height:525px; width:100%;\"></div>            <script type=\"text/javascript\">                require([\"plotly\"], function(Plotly) {                    window.PLOTLYENV=window.PLOTLYENV || {};                                    if (document.getElementById(\"36d820f9-0dc9-4b1b-94e3-2cdad3bde613\")) {                    Plotly.newPlot(                        \"36d820f9-0dc9-4b1b-94e3-2cdad3bde613\",                        [{\"domain\":{\"x\":[0.0,1.0],\"y\":[0.0,1.0]},\"hovertemplate\":\"label=%{label}<br>value=%{value}<extra></extra>\",\"labels\":[\"Knights of Favonius\",\"Yashiro Commission\",\"Gandharva Ville\",\"None\",\"Mondstadt\",\"Tenryou Commission\",\"Watatsumi Island\",\"Liyue Qixing\",\"Adventurers' Guild\",\"Arataki Gang\",\"Bubu Pharmacy\",\"Church of Favonius\",\"The Crux\",\"Feiyun Commerce Guild\",\"Wanmin Restaurant\",\"Liyue Adeptus\",\"Tianheng Thaumaturges\",\"Cloud Retainer's Abode\",\"\\\"The Red Strings\\\"\",\"Grand Narukami Shrine\",\"Yanfei Legal Consultancy\",\"Yanshang Teahouse\",\"Naganohara Fireworks\",\"Yun-Han Opera House\",\"Fatui\",\"Inazuma City\",\"Shuumatsuban\",\"Wolvendom\",\"Aaru Village\",\"Zubayr Theater\",\"Wandering Heroine\",\"Wangsheng Funeral Parlor\",\"Yuehai Pavilion\",\"The Palace of Alcazarzaray\",\"The Cat's Tail\",\"Dawn Winery\",\"Eclipse Dynasty\",\"Temple of Silence\",\"Liyue Harbor\"],\"legendgroup\":\"\",\"name\":\"\",\"showlegend\":true,\"values\":[9,3,2,2,2,2,2,2,2,2,2,2,2,1,1,1,1,1,1,1,1,1,1,1,1,1,1,1,1,1,1,1,1,1,1,1,1,1,1],\"type\":\"pie\"}],                        {\"template\":{\"data\":{\"histogram2dcontour\":[{\"type\":\"histogram2dcontour\",\"colorbar\":{\"outlinewidth\":0,\"ticks\":\"\"},\"colorscale\":[[0.0,\"#0d0887\"],[0.1111111111111111,\"#46039f\"],[0.2222222222222222,\"#7201a8\"],[0.3333333333333333,\"#9c179e\"],[0.4444444444444444,\"#bd3786\"],[0.5555555555555556,\"#d8576b\"],[0.6666666666666666,\"#ed7953\"],[0.7777777777777778,\"#fb9f3a\"],[0.8888888888888888,\"#fdca26\"],[1.0,\"#f0f921\"]]}],\"choropleth\":[{\"type\":\"choropleth\",\"colorbar\":{\"outlinewidth\":0,\"ticks\":\"\"}}],\"histogram2d\":[{\"type\":\"histogram2d\",\"colorbar\":{\"outlinewidth\":0,\"ticks\":\"\"},\"colorscale\":[[0.0,\"#0d0887\"],[0.1111111111111111,\"#46039f\"],[0.2222222222222222,\"#7201a8\"],[0.3333333333333333,\"#9c179e\"],[0.4444444444444444,\"#bd3786\"],[0.5555555555555556,\"#d8576b\"],[0.6666666666666666,\"#ed7953\"],[0.7777777777777778,\"#fb9f3a\"],[0.8888888888888888,\"#fdca26\"],[1.0,\"#f0f921\"]]}],\"heatmap\":[{\"type\":\"heatmap\",\"colorbar\":{\"outlinewidth\":0,\"ticks\":\"\"},\"colorscale\":[[0.0,\"#0d0887\"],[0.1111111111111111,\"#46039f\"],[0.2222222222222222,\"#7201a8\"],[0.3333333333333333,\"#9c179e\"],[0.4444444444444444,\"#bd3786\"],[0.5555555555555556,\"#d8576b\"],[0.6666666666666666,\"#ed7953\"],[0.7777777777777778,\"#fb9f3a\"],[0.8888888888888888,\"#fdca26\"],[1.0,\"#f0f921\"]]}],\"heatmapgl\":[{\"type\":\"heatmapgl\",\"colorbar\":{\"outlinewidth\":0,\"ticks\":\"\"},\"colorscale\":[[0.0,\"#0d0887\"],[0.1111111111111111,\"#46039f\"],[0.2222222222222222,\"#7201a8\"],[0.3333333333333333,\"#9c179e\"],[0.4444444444444444,\"#bd3786\"],[0.5555555555555556,\"#d8576b\"],[0.6666666666666666,\"#ed7953\"],[0.7777777777777778,\"#fb9f3a\"],[0.8888888888888888,\"#fdca26\"],[1.0,\"#f0f921\"]]}],\"contourcarpet\":[{\"type\":\"contourcarpet\",\"colorbar\":{\"outlinewidth\":0,\"ticks\":\"\"}}],\"contour\":[{\"type\":\"contour\",\"colorbar\":{\"outlinewidth\":0,\"ticks\":\"\"},\"colorscale\":[[0.0,\"#0d0887\"],[0.1111111111111111,\"#46039f\"],[0.2222222222222222,\"#7201a8\"],[0.3333333333333333,\"#9c179e\"],[0.4444444444444444,\"#bd3786\"],[0.5555555555555556,\"#d8576b\"],[0.6666666666666666,\"#ed7953\"],[0.7777777777777778,\"#fb9f3a\"],[0.8888888888888888,\"#fdca26\"],[1.0,\"#f0f921\"]]}],\"surface\":[{\"type\":\"surface\",\"colorbar\":{\"outlinewidth\":0,\"ticks\":\"\"},\"colorscale\":[[0.0,\"#0d0887\"],[0.1111111111111111,\"#46039f\"],[0.2222222222222222,\"#7201a8\"],[0.3333333333333333,\"#9c179e\"],[0.4444444444444444,\"#bd3786\"],[0.5555555555555556,\"#d8576b\"],[0.6666666666666666,\"#ed7953\"],[0.7777777777777778,\"#fb9f3a\"],[0.8888888888888888,\"#fdca26\"],[1.0,\"#f0f921\"]]}],\"mesh3d\":[{\"type\":\"mesh3d\",\"colorbar\":{\"outlinewidth\":0,\"ticks\":\"\"}}],\"scatter\":[{\"fillpattern\":{\"fillmode\":\"overlay\",\"size\":10,\"solidity\":0.2},\"type\":\"scatter\"}],\"parcoords\":[{\"type\":\"parcoords\",\"line\":{\"colorbar\":{\"outlinewidth\":0,\"ticks\":\"\"}}}],\"scatterpolargl\":[{\"type\":\"scatterpolargl\",\"marker\":{\"colorbar\":{\"outlinewidth\":0,\"ticks\":\"\"}}}],\"bar\":[{\"error_x\":{\"color\":\"#2a3f5f\"},\"error_y\":{\"color\":\"#2a3f5f\"},\"marker\":{\"line\":{\"color\":\"#E5ECF6\",\"width\":0.5},\"pattern\":{\"fillmode\":\"overlay\",\"size\":10,\"solidity\":0.2}},\"type\":\"bar\"}],\"scattergeo\":[{\"type\":\"scattergeo\",\"marker\":{\"colorbar\":{\"outlinewidth\":0,\"ticks\":\"\"}}}],\"scatterpolar\":[{\"type\":\"scatterpolar\",\"marker\":{\"colorbar\":{\"outlinewidth\":0,\"ticks\":\"\"}}}],\"histogram\":[{\"marker\":{\"pattern\":{\"fillmode\":\"overlay\",\"size\":10,\"solidity\":0.2}},\"type\":\"histogram\"}],\"scattergl\":[{\"type\":\"scattergl\",\"marker\":{\"colorbar\":{\"outlinewidth\":0,\"ticks\":\"\"}}}],\"scatter3d\":[{\"type\":\"scatter3d\",\"line\":{\"colorbar\":{\"outlinewidth\":0,\"ticks\":\"\"}},\"marker\":{\"colorbar\":{\"outlinewidth\":0,\"ticks\":\"\"}}}],\"scattermapbox\":[{\"type\":\"scattermapbox\",\"marker\":{\"colorbar\":{\"outlinewidth\":0,\"ticks\":\"\"}}}],\"scatterternary\":[{\"type\":\"scatterternary\",\"marker\":{\"colorbar\":{\"outlinewidth\":0,\"ticks\":\"\"}}}],\"scattercarpet\":[{\"type\":\"scattercarpet\",\"marker\":{\"colorbar\":{\"outlinewidth\":0,\"ticks\":\"\"}}}],\"carpet\":[{\"aaxis\":{\"endlinecolor\":\"#2a3f5f\",\"gridcolor\":\"white\",\"linecolor\":\"white\",\"minorgridcolor\":\"white\",\"startlinecolor\":\"#2a3f5f\"},\"baxis\":{\"endlinecolor\":\"#2a3f5f\",\"gridcolor\":\"white\",\"linecolor\":\"white\",\"minorgridcolor\":\"white\",\"startlinecolor\":\"#2a3f5f\"},\"type\":\"carpet\"}],\"table\":[{\"cells\":{\"fill\":{\"color\":\"#EBF0F8\"},\"line\":{\"color\":\"white\"}},\"header\":{\"fill\":{\"color\":\"#C8D4E3\"},\"line\":{\"color\":\"white\"}},\"type\":\"table\"}],\"barpolar\":[{\"marker\":{\"line\":{\"color\":\"#E5ECF6\",\"width\":0.5},\"pattern\":{\"fillmode\":\"overlay\",\"size\":10,\"solidity\":0.2}},\"type\":\"barpolar\"}],\"pie\":[{\"automargin\":true,\"type\":\"pie\"}]},\"layout\":{\"autotypenumbers\":\"strict\",\"colorway\":[\"#636efa\",\"#EF553B\",\"#00cc96\",\"#ab63fa\",\"#FFA15A\",\"#19d3f3\",\"#FF6692\",\"#B6E880\",\"#FF97FF\",\"#FECB52\"],\"font\":{\"color\":\"#2a3f5f\"},\"hovermode\":\"closest\",\"hoverlabel\":{\"align\":\"left\"},\"paper_bgcolor\":\"white\",\"plot_bgcolor\":\"#E5ECF6\",\"polar\":{\"bgcolor\":\"#E5ECF6\",\"angularaxis\":{\"gridcolor\":\"white\",\"linecolor\":\"white\",\"ticks\":\"\"},\"radialaxis\":{\"gridcolor\":\"white\",\"linecolor\":\"white\",\"ticks\":\"\"}},\"ternary\":{\"bgcolor\":\"#E5ECF6\",\"aaxis\":{\"gridcolor\":\"white\",\"linecolor\":\"white\",\"ticks\":\"\"},\"baxis\":{\"gridcolor\":\"white\",\"linecolor\":\"white\",\"ticks\":\"\"},\"caxis\":{\"gridcolor\":\"white\",\"linecolor\":\"white\",\"ticks\":\"\"}},\"coloraxis\":{\"colorbar\":{\"outlinewidth\":0,\"ticks\":\"\"}},\"colorscale\":{\"sequential\":[[0.0,\"#0d0887\"],[0.1111111111111111,\"#46039f\"],[0.2222222222222222,\"#7201a8\"],[0.3333333333333333,\"#9c179e\"],[0.4444444444444444,\"#bd3786\"],[0.5555555555555556,\"#d8576b\"],[0.6666666666666666,\"#ed7953\"],[0.7777777777777778,\"#fb9f3a\"],[0.8888888888888888,\"#fdca26\"],[1.0,\"#f0f921\"]],\"sequentialminus\":[[0.0,\"#0d0887\"],[0.1111111111111111,\"#46039f\"],[0.2222222222222222,\"#7201a8\"],[0.3333333333333333,\"#9c179e\"],[0.4444444444444444,\"#bd3786\"],[0.5555555555555556,\"#d8576b\"],[0.6666666666666666,\"#ed7953\"],[0.7777777777777778,\"#fb9f3a\"],[0.8888888888888888,\"#fdca26\"],[1.0,\"#f0f921\"]],\"diverging\":[[0,\"#8e0152\"],[0.1,\"#c51b7d\"],[0.2,\"#de77ae\"],[0.3,\"#f1b6da\"],[0.4,\"#fde0ef\"],[0.5,\"#f7f7f7\"],[0.6,\"#e6f5d0\"],[0.7,\"#b8e186\"],[0.8,\"#7fbc41\"],[0.9,\"#4d9221\"],[1,\"#276419\"]]},\"xaxis\":{\"gridcolor\":\"white\",\"linecolor\":\"white\",\"ticks\":\"\",\"title\":{\"standoff\":15},\"zerolinecolor\":\"white\",\"automargin\":true,\"zerolinewidth\":2},\"yaxis\":{\"gridcolor\":\"white\",\"linecolor\":\"white\",\"ticks\":\"\",\"title\":{\"standoff\":15},\"zerolinecolor\":\"white\",\"automargin\":true,\"zerolinewidth\":2},\"scene\":{\"xaxis\":{\"backgroundcolor\":\"#E5ECF6\",\"gridcolor\":\"white\",\"linecolor\":\"white\",\"showbackground\":true,\"ticks\":\"\",\"zerolinecolor\":\"white\",\"gridwidth\":2},\"yaxis\":{\"backgroundcolor\":\"#E5ECF6\",\"gridcolor\":\"white\",\"linecolor\":\"white\",\"showbackground\":true,\"ticks\":\"\",\"zerolinecolor\":\"white\",\"gridwidth\":2},\"zaxis\":{\"backgroundcolor\":\"#E5ECF6\",\"gridcolor\":\"white\",\"linecolor\":\"white\",\"showbackground\":true,\"ticks\":\"\",\"zerolinecolor\":\"white\",\"gridwidth\":2}},\"shapedefaults\":{\"line\":{\"color\":\"#2a3f5f\"}},\"annotationdefaults\":{\"arrowcolor\":\"#2a3f5f\",\"arrowhead\":0,\"arrowwidth\":1},\"geo\":{\"bgcolor\":\"white\",\"landcolor\":\"#E5ECF6\",\"subunitcolor\":\"white\",\"showland\":true,\"showlakes\":true,\"lakecolor\":\"white\"},\"title\":{\"x\":0.05},\"mapbox\":{\"style\":\"light\"}}},\"legend\":{\"tracegroupgap\":0},\"margin\":{\"t\":60}},                        {\"responsive\": true}                    ).then(function(){\n",
       "                            \n",
       "var gd = document.getElementById('36d820f9-0dc9-4b1b-94e3-2cdad3bde613');\n",
       "var x = new MutationObserver(function (mutations, observer) {{\n",
       "        var display = window.getComputedStyle(gd).display;\n",
       "        if (!display || display === 'none') {{\n",
       "            console.log([gd, 'removed!']);\n",
       "            Plotly.purge(gd);\n",
       "            observer.disconnect();\n",
       "        }}\n",
       "}});\n",
       "\n",
       "// Listen for the removal of the full notebook cells\n",
       "var notebookContainer = gd.closest('#notebook-container');\n",
       "if (notebookContainer) {{\n",
       "    x.observe(notebookContainer, {childList: true});\n",
       "}}\n",
       "\n",
       "// Listen for the clearing of the current output cell\n",
       "var outputEl = gd.closest('.output');\n",
       "if (outputEl) {{\n",
       "    x.observe(outputEl, {childList: true});\n",
       "}}\n",
       "\n",
       "                        })                };                });            </script>        </div>"
      ]
     },
     "metadata": {},
     "output_type": "display_data"
    }
   ],
   "source": [
    "px.pie(\n",
    "    data_frame=df[\"affiliation\"].value_counts(),\n",
    "    names=df[\"affiliation\"].value_counts().index,\n",
    "    values=df[\"affiliation\"].value_counts().values,\n",
    ")"
   ]
  },
  {
   "cell_type": "code",
   "execution_count": 24,
   "id": "33ae8a26",
   "metadata": {
    "execution": {
     "iopub.execute_input": "2023-06-05T09:19:29.328700Z",
     "iopub.status.busy": "2023-06-05T09:19:29.328173Z",
     "iopub.status.idle": "2023-06-05T09:19:29.428568Z",
     "shell.execute_reply": "2023-06-05T09:19:29.427381Z"
    },
    "papermill": {
     "duration": 0.123362,
     "end_time": "2023-06-05T09:19:29.431731",
     "exception": false,
     "start_time": "2023-06-05T09:19:29.308369",
     "status": "completed"
    },
    "tags": []
   },
   "outputs": [
    {
     "data": {
      "text/html": [
       "<div>                            <div id=\"b43b8c37-8f88-4291-91a5-62dfa24ce8c6\" class=\"plotly-graph-div\" style=\"height:525px; width:100%;\"></div>            <script type=\"text/javascript\">                require([\"plotly\"], function(Plotly) {                    window.PLOTLYENV=window.PLOTLYENV || {};                                    if (document.getElementById(\"b43b8c37-8f88-4291-91a5-62dfa24ce8c6\")) {                    Plotly.newPlot(                        \"b43b8c37-8f88-4291-91a5-62dfa24ce8c6\",                        [{\"branchvalues\":\"total\",\"domain\":{\"x\":[0.0,1.0],\"y\":[0.0,1.0]},\"hovertemplate\":\"labels=%{label}<br>count=%{value}<br>parent=%{parent}<br>id=%{id}<extra></extra>\",\"ids\":[\"Inazuma/Bow\",\"Liyue/Bow\",\"Mondstadt/Bow\",\"Snezhnaya/Bow\",\"Sumeru/Bow\",\"Inazuma/Catalyst\",\"Liyue/Catalyst\",\"Mondstadt/Catalyst\",\"Inazuma/Claymore\",\"Liyue/Claymore\",\"Mondstadt/Claymore\",\"Sumeru/Claymore\",\"Inazuma/Polearm\",\"Liyue/Polearm\",\"Mondstadt/Polearm\",\"Sumeru/Polearm\",\"Inazuma/Sword\",\"Liyue/Sword\",\"Mondstadt/Sword\",\"Sumeru/Sword\",\"Inazuma\",\"Liyue\",\"Mondstadt\",\"Snezhnaya\",\"Sumeru\"],\"labels\":[\"Bow\",\"Bow\",\"Bow\",\"Bow\",\"Bow\",\"Catalyst\",\"Catalyst\",\"Catalyst\",\"Claymore\",\"Claymore\",\"Claymore\",\"Claymore\",\"Polearm\",\"Polearm\",\"Polearm\",\"Polearm\",\"Sword\",\"Sword\",\"Sword\",\"Sword\",\"Inazuma\",\"Liyue\",\"Mondstadt\",\"Snezhnaya\",\"Sumeru\"],\"name\":\"\",\"parents\":[\"Inazuma\",\"Liyue\",\"Mondstadt\",\"Snezhnaya\",\"Sumeru\",\"Inazuma\",\"Liyue\",\"Mondstadt\",\"Inazuma\",\"Liyue\",\"Mondstadt\",\"Sumeru\",\"Inazuma\",\"Liyue\",\"Mondstadt\",\"Sumeru\",\"Inazuma\",\"Liyue\",\"Mondstadt\",\"Sumeru\",\"\",\"\",\"\",\"\",\"\"],\"values\":[3,2,4,1,2,3,2,5,2,3,4,1,2,6,1,2,4,3,4,1,14,16,18,1,6],\"type\":\"sunburst\"}],                        {\"template\":{\"data\":{\"histogram2dcontour\":[{\"type\":\"histogram2dcontour\",\"colorbar\":{\"outlinewidth\":0,\"ticks\":\"\"},\"colorscale\":[[0.0,\"#0d0887\"],[0.1111111111111111,\"#46039f\"],[0.2222222222222222,\"#7201a8\"],[0.3333333333333333,\"#9c179e\"],[0.4444444444444444,\"#bd3786\"],[0.5555555555555556,\"#d8576b\"],[0.6666666666666666,\"#ed7953\"],[0.7777777777777778,\"#fb9f3a\"],[0.8888888888888888,\"#fdca26\"],[1.0,\"#f0f921\"]]}],\"choropleth\":[{\"type\":\"choropleth\",\"colorbar\":{\"outlinewidth\":0,\"ticks\":\"\"}}],\"histogram2d\":[{\"type\":\"histogram2d\",\"colorbar\":{\"outlinewidth\":0,\"ticks\":\"\"},\"colorscale\":[[0.0,\"#0d0887\"],[0.1111111111111111,\"#46039f\"],[0.2222222222222222,\"#7201a8\"],[0.3333333333333333,\"#9c179e\"],[0.4444444444444444,\"#bd3786\"],[0.5555555555555556,\"#d8576b\"],[0.6666666666666666,\"#ed7953\"],[0.7777777777777778,\"#fb9f3a\"],[0.8888888888888888,\"#fdca26\"],[1.0,\"#f0f921\"]]}],\"heatmap\":[{\"type\":\"heatmap\",\"colorbar\":{\"outlinewidth\":0,\"ticks\":\"\"},\"colorscale\":[[0.0,\"#0d0887\"],[0.1111111111111111,\"#46039f\"],[0.2222222222222222,\"#7201a8\"],[0.3333333333333333,\"#9c179e\"],[0.4444444444444444,\"#bd3786\"],[0.5555555555555556,\"#d8576b\"],[0.6666666666666666,\"#ed7953\"],[0.7777777777777778,\"#fb9f3a\"],[0.8888888888888888,\"#fdca26\"],[1.0,\"#f0f921\"]]}],\"heatmapgl\":[{\"type\":\"heatmapgl\",\"colorbar\":{\"outlinewidth\":0,\"ticks\":\"\"},\"colorscale\":[[0.0,\"#0d0887\"],[0.1111111111111111,\"#46039f\"],[0.2222222222222222,\"#7201a8\"],[0.3333333333333333,\"#9c179e\"],[0.4444444444444444,\"#bd3786\"],[0.5555555555555556,\"#d8576b\"],[0.6666666666666666,\"#ed7953\"],[0.7777777777777778,\"#fb9f3a\"],[0.8888888888888888,\"#fdca26\"],[1.0,\"#f0f921\"]]}],\"contourcarpet\":[{\"type\":\"contourcarpet\",\"colorbar\":{\"outlinewidth\":0,\"ticks\":\"\"}}],\"contour\":[{\"type\":\"contour\",\"colorbar\":{\"outlinewidth\":0,\"ticks\":\"\"},\"colorscale\":[[0.0,\"#0d0887\"],[0.1111111111111111,\"#46039f\"],[0.2222222222222222,\"#7201a8\"],[0.3333333333333333,\"#9c179e\"],[0.4444444444444444,\"#bd3786\"],[0.5555555555555556,\"#d8576b\"],[0.6666666666666666,\"#ed7953\"],[0.7777777777777778,\"#fb9f3a\"],[0.8888888888888888,\"#fdca26\"],[1.0,\"#f0f921\"]]}],\"surface\":[{\"type\":\"surface\",\"colorbar\":{\"outlinewidth\":0,\"ticks\":\"\"},\"colorscale\":[[0.0,\"#0d0887\"],[0.1111111111111111,\"#46039f\"],[0.2222222222222222,\"#7201a8\"],[0.3333333333333333,\"#9c179e\"],[0.4444444444444444,\"#bd3786\"],[0.5555555555555556,\"#d8576b\"],[0.6666666666666666,\"#ed7953\"],[0.7777777777777778,\"#fb9f3a\"],[0.8888888888888888,\"#fdca26\"],[1.0,\"#f0f921\"]]}],\"mesh3d\":[{\"type\":\"mesh3d\",\"colorbar\":{\"outlinewidth\":0,\"ticks\":\"\"}}],\"scatter\":[{\"fillpattern\":{\"fillmode\":\"overlay\",\"size\":10,\"solidity\":0.2},\"type\":\"scatter\"}],\"parcoords\":[{\"type\":\"parcoords\",\"line\":{\"colorbar\":{\"outlinewidth\":0,\"ticks\":\"\"}}}],\"scatterpolargl\":[{\"type\":\"scatterpolargl\",\"marker\":{\"colorbar\":{\"outlinewidth\":0,\"ticks\":\"\"}}}],\"bar\":[{\"error_x\":{\"color\":\"#2a3f5f\"},\"error_y\":{\"color\":\"#2a3f5f\"},\"marker\":{\"line\":{\"color\":\"#E5ECF6\",\"width\":0.5},\"pattern\":{\"fillmode\":\"overlay\",\"size\":10,\"solidity\":0.2}},\"type\":\"bar\"}],\"scattergeo\":[{\"type\":\"scattergeo\",\"marker\":{\"colorbar\":{\"outlinewidth\":0,\"ticks\":\"\"}}}],\"scatterpolar\":[{\"type\":\"scatterpolar\",\"marker\":{\"colorbar\":{\"outlinewidth\":0,\"ticks\":\"\"}}}],\"histogram\":[{\"marker\":{\"pattern\":{\"fillmode\":\"overlay\",\"size\":10,\"solidity\":0.2}},\"type\":\"histogram\"}],\"scattergl\":[{\"type\":\"scattergl\",\"marker\":{\"colorbar\":{\"outlinewidth\":0,\"ticks\":\"\"}}}],\"scatter3d\":[{\"type\":\"scatter3d\",\"line\":{\"colorbar\":{\"outlinewidth\":0,\"ticks\":\"\"}},\"marker\":{\"colorbar\":{\"outlinewidth\":0,\"ticks\":\"\"}}}],\"scattermapbox\":[{\"type\":\"scattermapbox\",\"marker\":{\"colorbar\":{\"outlinewidth\":0,\"ticks\":\"\"}}}],\"scatterternary\":[{\"type\":\"scatterternary\",\"marker\":{\"colorbar\":{\"outlinewidth\":0,\"ticks\":\"\"}}}],\"scattercarpet\":[{\"type\":\"scattercarpet\",\"marker\":{\"colorbar\":{\"outlinewidth\":0,\"ticks\":\"\"}}}],\"carpet\":[{\"aaxis\":{\"endlinecolor\":\"#2a3f5f\",\"gridcolor\":\"white\",\"linecolor\":\"white\",\"minorgridcolor\":\"white\",\"startlinecolor\":\"#2a3f5f\"},\"baxis\":{\"endlinecolor\":\"#2a3f5f\",\"gridcolor\":\"white\",\"linecolor\":\"white\",\"minorgridcolor\":\"white\",\"startlinecolor\":\"#2a3f5f\"},\"type\":\"carpet\"}],\"table\":[{\"cells\":{\"fill\":{\"color\":\"#EBF0F8\"},\"line\":{\"color\":\"white\"}},\"header\":{\"fill\":{\"color\":\"#C8D4E3\"},\"line\":{\"color\":\"white\"}},\"type\":\"table\"}],\"barpolar\":[{\"marker\":{\"line\":{\"color\":\"#E5ECF6\",\"width\":0.5},\"pattern\":{\"fillmode\":\"overlay\",\"size\":10,\"solidity\":0.2}},\"type\":\"barpolar\"}],\"pie\":[{\"automargin\":true,\"type\":\"pie\"}]},\"layout\":{\"autotypenumbers\":\"strict\",\"colorway\":[\"#636efa\",\"#EF553B\",\"#00cc96\",\"#ab63fa\",\"#FFA15A\",\"#19d3f3\",\"#FF6692\",\"#B6E880\",\"#FF97FF\",\"#FECB52\"],\"font\":{\"color\":\"#2a3f5f\"},\"hovermode\":\"closest\",\"hoverlabel\":{\"align\":\"left\"},\"paper_bgcolor\":\"white\",\"plot_bgcolor\":\"#E5ECF6\",\"polar\":{\"bgcolor\":\"#E5ECF6\",\"angularaxis\":{\"gridcolor\":\"white\",\"linecolor\":\"white\",\"ticks\":\"\"},\"radialaxis\":{\"gridcolor\":\"white\",\"linecolor\":\"white\",\"ticks\":\"\"}},\"ternary\":{\"bgcolor\":\"#E5ECF6\",\"aaxis\":{\"gridcolor\":\"white\",\"linecolor\":\"white\",\"ticks\":\"\"},\"baxis\":{\"gridcolor\":\"white\",\"linecolor\":\"white\",\"ticks\":\"\"},\"caxis\":{\"gridcolor\":\"white\",\"linecolor\":\"white\",\"ticks\":\"\"}},\"coloraxis\":{\"colorbar\":{\"outlinewidth\":0,\"ticks\":\"\"}},\"colorscale\":{\"sequential\":[[0.0,\"#0d0887\"],[0.1111111111111111,\"#46039f\"],[0.2222222222222222,\"#7201a8\"],[0.3333333333333333,\"#9c179e\"],[0.4444444444444444,\"#bd3786\"],[0.5555555555555556,\"#d8576b\"],[0.6666666666666666,\"#ed7953\"],[0.7777777777777778,\"#fb9f3a\"],[0.8888888888888888,\"#fdca26\"],[1.0,\"#f0f921\"]],\"sequentialminus\":[[0.0,\"#0d0887\"],[0.1111111111111111,\"#46039f\"],[0.2222222222222222,\"#7201a8\"],[0.3333333333333333,\"#9c179e\"],[0.4444444444444444,\"#bd3786\"],[0.5555555555555556,\"#d8576b\"],[0.6666666666666666,\"#ed7953\"],[0.7777777777777778,\"#fb9f3a\"],[0.8888888888888888,\"#fdca26\"],[1.0,\"#f0f921\"]],\"diverging\":[[0,\"#8e0152\"],[0.1,\"#c51b7d\"],[0.2,\"#de77ae\"],[0.3,\"#f1b6da\"],[0.4,\"#fde0ef\"],[0.5,\"#f7f7f7\"],[0.6,\"#e6f5d0\"],[0.7,\"#b8e186\"],[0.8,\"#7fbc41\"],[0.9,\"#4d9221\"],[1,\"#276419\"]]},\"xaxis\":{\"gridcolor\":\"white\",\"linecolor\":\"white\",\"ticks\":\"\",\"title\":{\"standoff\":15},\"zerolinecolor\":\"white\",\"automargin\":true,\"zerolinewidth\":2},\"yaxis\":{\"gridcolor\":\"white\",\"linecolor\":\"white\",\"ticks\":\"\",\"title\":{\"standoff\":15},\"zerolinecolor\":\"white\",\"automargin\":true,\"zerolinewidth\":2},\"scene\":{\"xaxis\":{\"backgroundcolor\":\"#E5ECF6\",\"gridcolor\":\"white\",\"linecolor\":\"white\",\"showbackground\":true,\"ticks\":\"\",\"zerolinecolor\":\"white\",\"gridwidth\":2},\"yaxis\":{\"backgroundcolor\":\"#E5ECF6\",\"gridcolor\":\"white\",\"linecolor\":\"white\",\"showbackground\":true,\"ticks\":\"\",\"zerolinecolor\":\"white\",\"gridwidth\":2},\"zaxis\":{\"backgroundcolor\":\"#E5ECF6\",\"gridcolor\":\"white\",\"linecolor\":\"white\",\"showbackground\":true,\"ticks\":\"\",\"zerolinecolor\":\"white\",\"gridwidth\":2}},\"shapedefaults\":{\"line\":{\"color\":\"#2a3f5f\"}},\"annotationdefaults\":{\"arrowcolor\":\"#2a3f5f\",\"arrowhead\":0,\"arrowwidth\":1},\"geo\":{\"bgcolor\":\"white\",\"landcolor\":\"#E5ECF6\",\"subunitcolor\":\"white\",\"showland\":true,\"showlakes\":true,\"lakecolor\":\"white\"},\"title\":{\"x\":0.05},\"mapbox\":{\"style\":\"light\"}}},\"legend\":{\"tracegroupgap\":0},\"margin\":{\"t\":60}},                        {\"responsive\": true}                    ).then(function(){\n",
       "                            \n",
       "var gd = document.getElementById('b43b8c37-8f88-4291-91a5-62dfa24ce8c6');\n",
       "var x = new MutationObserver(function (mutations, observer) {{\n",
       "        var display = window.getComputedStyle(gd).display;\n",
       "        if (!display || display === 'none') {{\n",
       "            console.log([gd, 'removed!']);\n",
       "            Plotly.purge(gd);\n",
       "            observer.disconnect();\n",
       "        }}\n",
       "}});\n",
       "\n",
       "// Listen for the removal of the full notebook cells\n",
       "var notebookContainer = gd.closest('#notebook-container');\n",
       "if (notebookContainer) {{\n",
       "    x.observe(notebookContainer, {childList: true});\n",
       "}}\n",
       "\n",
       "// Listen for the clearing of the current output cell\n",
       "var outputEl = gd.closest('.output');\n",
       "if (outputEl) {{\n",
       "    x.observe(outputEl, {childList: true});\n",
       "}}\n",
       "\n",
       "                        })                };                });            </script>        </div>"
      ]
     },
     "metadata": {},
     "output_type": "display_data"
    }
   ],
   "source": [
    "px.sunburst(data_frame = df.dropna(), path = ['region', 'weapon_type'])"
   ]
  },
  {
   "cell_type": "code",
   "execution_count": 25,
   "id": "8cd3373a",
   "metadata": {
    "execution": {
     "iopub.execute_input": "2023-06-05T09:19:29.469498Z",
     "iopub.status.busy": "2023-06-05T09:19:29.469076Z",
     "iopub.status.idle": "2023-06-05T09:19:29.596297Z",
     "shell.execute_reply": "2023-06-05T09:19:29.594787Z"
    },
    "papermill": {
     "duration": 0.149402,
     "end_time": "2023-06-05T09:19:29.599184",
     "exception": false,
     "start_time": "2023-06-05T09:19:29.449782",
     "status": "completed"
    },
    "tags": []
   },
   "outputs": [
    {
     "data": {
      "text/html": [
       "<div>                            <div id=\"6f17c4a4-3c83-4108-80ef-41456ec7de92\" class=\"plotly-graph-div\" style=\"height:525px; width:100%;\"></div>            <script type=\"text/javascript\">                require([\"plotly\"], function(Plotly) {                    window.PLOTLYENV=window.PLOTLYENV || {};                                    if (document.getElementById(\"6f17c4a4-3c83-4108-80ef-41456ec7de92\")) {                    Plotly.newPlot(                        \"6f17c4a4-3c83-4108-80ef-41456ec7de92\",                        [{\"branchvalues\":\"total\",\"domain\":{\"x\":[0.0,1.0],\"y\":[0.0,1.0]},\"hovertemplate\":\"labels=%{label}<br>count=%{value}<br>parent=%{parent}<br>id=%{id}<extra></extra>\",\"ids\":[\"Mondstadt/Anemo/Bow\",\"Liyue/Cryo/Bow\",\"Mondstadt/Cryo/Bow\",\"Sumeru/Dendro/Bow\",\"Inazuma/Electro/Bow\",\"Mondstadt/Electro/Bow\",\"Inazuma/Geo/Bow\",\"Liyue/Hydro/Bow\",\"Snezhnaya/Hydro/Bow\",\"Inazuma/Pyro/Bow\",\"Mondstadt/Pyro/Bow\",\"Inazuma/Anemo/Catalyst\",\"Mondstadt/Anemo/Catalyst\",\"Inazuma/Electro/Catalyst\",\"Mondstadt/Electro/Catalyst\",\"Liyue/Geo/Catalyst\",\"Inazuma/Hydro/Catalyst\",\"Mondstadt/Hydro/Catalyst\",\"Liyue/Pyro/Catalyst\",\"Mondstadt/Pyro/Catalyst\",\"Inazuma/Anemo/Claymore\",\"Liyue/Cryo/Claymore\",\"Mondstadt/Cryo/Claymore\",\"Liyue/Electro/Claymore\",\"Mondstadt/Electro/Claymore\",\"Sumeru/Electro/Claymore\",\"Inazuma/Geo/Claymore\",\"Mondstadt/Geo/Claymore\",\"Liyue/Pyro/Claymore\",\"Mondstadt/Pyro/Claymore\",\"Liyue/Anemo/Polearm\",\"Liyue/Cryo/Polearm\",\"Mondstadt/Cryo/Polearm\",\"Inazuma/Electro/Polearm\",\"Sumeru/Electro/Polearm\",\"Liyue/Geo/Polearm\",\"Sumeru/Hydro/Polearm\",\"Inazuma/Pyro/Polearm\",\"Liyue/Pyro/Polearm\",\"Inazuma/Anemo/Sword\",\"Mondstadt/Anemo/Sword\",\"Inazuma/Cryo/Sword\",\"Liyue/Cryo/Sword\",\"Mondstadt/Cryo/Sword\",\"Inazuma/Electro/Sword\",\"Liyue/Electro/Sword\",\"Mondstadt/Geo/Sword\",\"Inazuma/Hydro/Sword\",\"Liyue/Hydro/Sword\",\"Sumeru/Hydro/Sword\",\"Mondstadt/Pyro/Sword\",\"Inazuma/Anemo\",\"Liyue/Anemo\",\"Mondstadt/Anemo\",\"Inazuma/Cryo\",\"Liyue/Cryo\",\"Mondstadt/Cryo\",\"Sumeru/Dendro\",\"Inazuma/Electro\",\"Liyue/Electro\",\"Mondstadt/Electro\",\"Sumeru/Electro\",\"Inazuma/Geo\",\"Liyue/Geo\",\"Mondstadt/Geo\",\"Inazuma/Hydro\",\"Liyue/Hydro\",\"Mondstadt/Hydro\",\"Snezhnaya/Hydro\",\"Sumeru/Hydro\",\"Inazuma/Pyro\",\"Liyue/Pyro\",\"Mondstadt/Pyro\",\"Inazuma\",\"Liyue\",\"Mondstadt\",\"Snezhnaya\",\"Sumeru\"],\"labels\":[\"Bow\",\"Bow\",\"Bow\",\"Bow\",\"Bow\",\"Bow\",\"Bow\",\"Bow\",\"Bow\",\"Bow\",\"Bow\",\"Catalyst\",\"Catalyst\",\"Catalyst\",\"Catalyst\",\"Catalyst\",\"Catalyst\",\"Catalyst\",\"Catalyst\",\"Catalyst\",\"Claymore\",\"Claymore\",\"Claymore\",\"Claymore\",\"Claymore\",\"Claymore\",\"Claymore\",\"Claymore\",\"Claymore\",\"Claymore\",\"Polearm\",\"Polearm\",\"Polearm\",\"Polearm\",\"Polearm\",\"Polearm\",\"Polearm\",\"Polearm\",\"Polearm\",\"Sword\",\"Sword\",\"Sword\",\"Sword\",\"Sword\",\"Sword\",\"Sword\",\"Sword\",\"Sword\",\"Sword\",\"Sword\",\"Sword\",\"Anemo\",\"Anemo\",\"Anemo\",\"Cryo\",\"Cryo\",\"Cryo\",\"Dendro\",\"Electro\",\"Electro\",\"Electro\",\"Electro\",\"Geo\",\"Geo\",\"Geo\",\"Hydro\",\"Hydro\",\"Hydro\",\"Hydro\",\"Hydro\",\"Pyro\",\"Pyro\",\"Pyro\",\"Inazuma\",\"Liyue\",\"Mondstadt\",\"Snezhnaya\",\"Sumeru\"],\"name\":\"\",\"parents\":[\"Mondstadt/Anemo\",\"Liyue/Cryo\",\"Mondstadt/Cryo\",\"Sumeru/Dendro\",\"Inazuma/Electro\",\"Mondstadt/Electro\",\"Inazuma/Geo\",\"Liyue/Hydro\",\"Snezhnaya/Hydro\",\"Inazuma/Pyro\",\"Mondstadt/Pyro\",\"Inazuma/Anemo\",\"Mondstadt/Anemo\",\"Inazuma/Electro\",\"Mondstadt/Electro\",\"Liyue/Geo\",\"Inazuma/Hydro\",\"Mondstadt/Hydro\",\"Liyue/Pyro\",\"Mondstadt/Pyro\",\"Inazuma/Anemo\",\"Liyue/Cryo\",\"Mondstadt/Cryo\",\"Liyue/Electro\",\"Mondstadt/Electro\",\"Sumeru/Electro\",\"Inazuma/Geo\",\"Mondstadt/Geo\",\"Liyue/Pyro\",\"Mondstadt/Pyro\",\"Liyue/Anemo\",\"Liyue/Cryo\",\"Mondstadt/Cryo\",\"Inazuma/Electro\",\"Sumeru/Electro\",\"Liyue/Geo\",\"Sumeru/Hydro\",\"Inazuma/Pyro\",\"Liyue/Pyro\",\"Inazuma/Anemo\",\"Mondstadt/Anemo\",\"Inazuma/Cryo\",\"Liyue/Cryo\",\"Mondstadt/Cryo\",\"Inazuma/Electro\",\"Liyue/Electro\",\"Mondstadt/Geo\",\"Inazuma/Hydro\",\"Liyue/Hydro\",\"Sumeru/Hydro\",\"Mondstadt/Pyro\",\"Inazuma\",\"Liyue\",\"Mondstadt\",\"Inazuma\",\"Liyue\",\"Mondstadt\",\"Sumeru\",\"Inazuma\",\"Liyue\",\"Mondstadt\",\"Sumeru\",\"Inazuma\",\"Liyue\",\"Mondstadt\",\"Inazuma\",\"Liyue\",\"Mondstadt\",\"Snezhnaya\",\"Sumeru\",\"Inazuma\",\"Liyue\",\"Mondstadt\",\"\",\"\",\"\",\"\",\"\"],\"values\":[1,1,1,2,1,1,1,1,1,1,1,1,1,1,1,1,1,2,1,1,1,1,1,1,1,1,1,1,1,1,1,1,1,1,1,2,1,1,2,1,1,1,1,1,1,1,1,1,1,1,1,3,1,3,1,4,4,2,4,2,3,2,2,3,2,2,2,2,1,2,2,4,4,14,16,18,1,6],\"type\":\"sunburst\"}],                        {\"template\":{\"data\":{\"histogram2dcontour\":[{\"type\":\"histogram2dcontour\",\"colorbar\":{\"outlinewidth\":0,\"ticks\":\"\"},\"colorscale\":[[0.0,\"#0d0887\"],[0.1111111111111111,\"#46039f\"],[0.2222222222222222,\"#7201a8\"],[0.3333333333333333,\"#9c179e\"],[0.4444444444444444,\"#bd3786\"],[0.5555555555555556,\"#d8576b\"],[0.6666666666666666,\"#ed7953\"],[0.7777777777777778,\"#fb9f3a\"],[0.8888888888888888,\"#fdca26\"],[1.0,\"#f0f921\"]]}],\"choropleth\":[{\"type\":\"choropleth\",\"colorbar\":{\"outlinewidth\":0,\"ticks\":\"\"}}],\"histogram2d\":[{\"type\":\"histogram2d\",\"colorbar\":{\"outlinewidth\":0,\"ticks\":\"\"},\"colorscale\":[[0.0,\"#0d0887\"],[0.1111111111111111,\"#46039f\"],[0.2222222222222222,\"#7201a8\"],[0.3333333333333333,\"#9c179e\"],[0.4444444444444444,\"#bd3786\"],[0.5555555555555556,\"#d8576b\"],[0.6666666666666666,\"#ed7953\"],[0.7777777777777778,\"#fb9f3a\"],[0.8888888888888888,\"#fdca26\"],[1.0,\"#f0f921\"]]}],\"heatmap\":[{\"type\":\"heatmap\",\"colorbar\":{\"outlinewidth\":0,\"ticks\":\"\"},\"colorscale\":[[0.0,\"#0d0887\"],[0.1111111111111111,\"#46039f\"],[0.2222222222222222,\"#7201a8\"],[0.3333333333333333,\"#9c179e\"],[0.4444444444444444,\"#bd3786\"],[0.5555555555555556,\"#d8576b\"],[0.6666666666666666,\"#ed7953\"],[0.7777777777777778,\"#fb9f3a\"],[0.8888888888888888,\"#fdca26\"],[1.0,\"#f0f921\"]]}],\"heatmapgl\":[{\"type\":\"heatmapgl\",\"colorbar\":{\"outlinewidth\":0,\"ticks\":\"\"},\"colorscale\":[[0.0,\"#0d0887\"],[0.1111111111111111,\"#46039f\"],[0.2222222222222222,\"#7201a8\"],[0.3333333333333333,\"#9c179e\"],[0.4444444444444444,\"#bd3786\"],[0.5555555555555556,\"#d8576b\"],[0.6666666666666666,\"#ed7953\"],[0.7777777777777778,\"#fb9f3a\"],[0.8888888888888888,\"#fdca26\"],[1.0,\"#f0f921\"]]}],\"contourcarpet\":[{\"type\":\"contourcarpet\",\"colorbar\":{\"outlinewidth\":0,\"ticks\":\"\"}}],\"contour\":[{\"type\":\"contour\",\"colorbar\":{\"outlinewidth\":0,\"ticks\":\"\"},\"colorscale\":[[0.0,\"#0d0887\"],[0.1111111111111111,\"#46039f\"],[0.2222222222222222,\"#7201a8\"],[0.3333333333333333,\"#9c179e\"],[0.4444444444444444,\"#bd3786\"],[0.5555555555555556,\"#d8576b\"],[0.6666666666666666,\"#ed7953\"],[0.7777777777777778,\"#fb9f3a\"],[0.8888888888888888,\"#fdca26\"],[1.0,\"#f0f921\"]]}],\"surface\":[{\"type\":\"surface\",\"colorbar\":{\"outlinewidth\":0,\"ticks\":\"\"},\"colorscale\":[[0.0,\"#0d0887\"],[0.1111111111111111,\"#46039f\"],[0.2222222222222222,\"#7201a8\"],[0.3333333333333333,\"#9c179e\"],[0.4444444444444444,\"#bd3786\"],[0.5555555555555556,\"#d8576b\"],[0.6666666666666666,\"#ed7953\"],[0.7777777777777778,\"#fb9f3a\"],[0.8888888888888888,\"#fdca26\"],[1.0,\"#f0f921\"]]}],\"mesh3d\":[{\"type\":\"mesh3d\",\"colorbar\":{\"outlinewidth\":0,\"ticks\":\"\"}}],\"scatter\":[{\"fillpattern\":{\"fillmode\":\"overlay\",\"size\":10,\"solidity\":0.2},\"type\":\"scatter\"}],\"parcoords\":[{\"type\":\"parcoords\",\"line\":{\"colorbar\":{\"outlinewidth\":0,\"ticks\":\"\"}}}],\"scatterpolargl\":[{\"type\":\"scatterpolargl\",\"marker\":{\"colorbar\":{\"outlinewidth\":0,\"ticks\":\"\"}}}],\"bar\":[{\"error_x\":{\"color\":\"#2a3f5f\"},\"error_y\":{\"color\":\"#2a3f5f\"},\"marker\":{\"line\":{\"color\":\"#E5ECF6\",\"width\":0.5},\"pattern\":{\"fillmode\":\"overlay\",\"size\":10,\"solidity\":0.2}},\"type\":\"bar\"}],\"scattergeo\":[{\"type\":\"scattergeo\",\"marker\":{\"colorbar\":{\"outlinewidth\":0,\"ticks\":\"\"}}}],\"scatterpolar\":[{\"type\":\"scatterpolar\",\"marker\":{\"colorbar\":{\"outlinewidth\":0,\"ticks\":\"\"}}}],\"histogram\":[{\"marker\":{\"pattern\":{\"fillmode\":\"overlay\",\"size\":10,\"solidity\":0.2}},\"type\":\"histogram\"}],\"scattergl\":[{\"type\":\"scattergl\",\"marker\":{\"colorbar\":{\"outlinewidth\":0,\"ticks\":\"\"}}}],\"scatter3d\":[{\"type\":\"scatter3d\",\"line\":{\"colorbar\":{\"outlinewidth\":0,\"ticks\":\"\"}},\"marker\":{\"colorbar\":{\"outlinewidth\":0,\"ticks\":\"\"}}}],\"scattermapbox\":[{\"type\":\"scattermapbox\",\"marker\":{\"colorbar\":{\"outlinewidth\":0,\"ticks\":\"\"}}}],\"scatterternary\":[{\"type\":\"scatterternary\",\"marker\":{\"colorbar\":{\"outlinewidth\":0,\"ticks\":\"\"}}}],\"scattercarpet\":[{\"type\":\"scattercarpet\",\"marker\":{\"colorbar\":{\"outlinewidth\":0,\"ticks\":\"\"}}}],\"carpet\":[{\"aaxis\":{\"endlinecolor\":\"#2a3f5f\",\"gridcolor\":\"white\",\"linecolor\":\"white\",\"minorgridcolor\":\"white\",\"startlinecolor\":\"#2a3f5f\"},\"baxis\":{\"endlinecolor\":\"#2a3f5f\",\"gridcolor\":\"white\",\"linecolor\":\"white\",\"minorgridcolor\":\"white\",\"startlinecolor\":\"#2a3f5f\"},\"type\":\"carpet\"}],\"table\":[{\"cells\":{\"fill\":{\"color\":\"#EBF0F8\"},\"line\":{\"color\":\"white\"}},\"header\":{\"fill\":{\"color\":\"#C8D4E3\"},\"line\":{\"color\":\"white\"}},\"type\":\"table\"}],\"barpolar\":[{\"marker\":{\"line\":{\"color\":\"#E5ECF6\",\"width\":0.5},\"pattern\":{\"fillmode\":\"overlay\",\"size\":10,\"solidity\":0.2}},\"type\":\"barpolar\"}],\"pie\":[{\"automargin\":true,\"type\":\"pie\"}]},\"layout\":{\"autotypenumbers\":\"strict\",\"colorway\":[\"#636efa\",\"#EF553B\",\"#00cc96\",\"#ab63fa\",\"#FFA15A\",\"#19d3f3\",\"#FF6692\",\"#B6E880\",\"#FF97FF\",\"#FECB52\"],\"font\":{\"color\":\"#2a3f5f\"},\"hovermode\":\"closest\",\"hoverlabel\":{\"align\":\"left\"},\"paper_bgcolor\":\"white\",\"plot_bgcolor\":\"#E5ECF6\",\"polar\":{\"bgcolor\":\"#E5ECF6\",\"angularaxis\":{\"gridcolor\":\"white\",\"linecolor\":\"white\",\"ticks\":\"\"},\"radialaxis\":{\"gridcolor\":\"white\",\"linecolor\":\"white\",\"ticks\":\"\"}},\"ternary\":{\"bgcolor\":\"#E5ECF6\",\"aaxis\":{\"gridcolor\":\"white\",\"linecolor\":\"white\",\"ticks\":\"\"},\"baxis\":{\"gridcolor\":\"white\",\"linecolor\":\"white\",\"ticks\":\"\"},\"caxis\":{\"gridcolor\":\"white\",\"linecolor\":\"white\",\"ticks\":\"\"}},\"coloraxis\":{\"colorbar\":{\"outlinewidth\":0,\"ticks\":\"\"}},\"colorscale\":{\"sequential\":[[0.0,\"#0d0887\"],[0.1111111111111111,\"#46039f\"],[0.2222222222222222,\"#7201a8\"],[0.3333333333333333,\"#9c179e\"],[0.4444444444444444,\"#bd3786\"],[0.5555555555555556,\"#d8576b\"],[0.6666666666666666,\"#ed7953\"],[0.7777777777777778,\"#fb9f3a\"],[0.8888888888888888,\"#fdca26\"],[1.0,\"#f0f921\"]],\"sequentialminus\":[[0.0,\"#0d0887\"],[0.1111111111111111,\"#46039f\"],[0.2222222222222222,\"#7201a8\"],[0.3333333333333333,\"#9c179e\"],[0.4444444444444444,\"#bd3786\"],[0.5555555555555556,\"#d8576b\"],[0.6666666666666666,\"#ed7953\"],[0.7777777777777778,\"#fb9f3a\"],[0.8888888888888888,\"#fdca26\"],[1.0,\"#f0f921\"]],\"diverging\":[[0,\"#8e0152\"],[0.1,\"#c51b7d\"],[0.2,\"#de77ae\"],[0.3,\"#f1b6da\"],[0.4,\"#fde0ef\"],[0.5,\"#f7f7f7\"],[0.6,\"#e6f5d0\"],[0.7,\"#b8e186\"],[0.8,\"#7fbc41\"],[0.9,\"#4d9221\"],[1,\"#276419\"]]},\"xaxis\":{\"gridcolor\":\"white\",\"linecolor\":\"white\",\"ticks\":\"\",\"title\":{\"standoff\":15},\"zerolinecolor\":\"white\",\"automargin\":true,\"zerolinewidth\":2},\"yaxis\":{\"gridcolor\":\"white\",\"linecolor\":\"white\",\"ticks\":\"\",\"title\":{\"standoff\":15},\"zerolinecolor\":\"white\",\"automargin\":true,\"zerolinewidth\":2},\"scene\":{\"xaxis\":{\"backgroundcolor\":\"#E5ECF6\",\"gridcolor\":\"white\",\"linecolor\":\"white\",\"showbackground\":true,\"ticks\":\"\",\"zerolinecolor\":\"white\",\"gridwidth\":2},\"yaxis\":{\"backgroundcolor\":\"#E5ECF6\",\"gridcolor\":\"white\",\"linecolor\":\"white\",\"showbackground\":true,\"ticks\":\"\",\"zerolinecolor\":\"white\",\"gridwidth\":2},\"zaxis\":{\"backgroundcolor\":\"#E5ECF6\",\"gridcolor\":\"white\",\"linecolor\":\"white\",\"showbackground\":true,\"ticks\":\"\",\"zerolinecolor\":\"white\",\"gridwidth\":2}},\"shapedefaults\":{\"line\":{\"color\":\"#2a3f5f\"}},\"annotationdefaults\":{\"arrowcolor\":\"#2a3f5f\",\"arrowhead\":0,\"arrowwidth\":1},\"geo\":{\"bgcolor\":\"white\",\"landcolor\":\"#E5ECF6\",\"subunitcolor\":\"white\",\"showland\":true,\"showlakes\":true,\"lakecolor\":\"white\"},\"title\":{\"x\":0.05},\"mapbox\":{\"style\":\"light\"}}},\"legend\":{\"tracegroupgap\":0},\"margin\":{\"t\":60}},                        {\"responsive\": true}                    ).then(function(){\n",
       "                            \n",
       "var gd = document.getElementById('6f17c4a4-3c83-4108-80ef-41456ec7de92');\n",
       "var x = new MutationObserver(function (mutations, observer) {{\n",
       "        var display = window.getComputedStyle(gd).display;\n",
       "        if (!display || display === 'none') {{\n",
       "            console.log([gd, 'removed!']);\n",
       "            Plotly.purge(gd);\n",
       "            observer.disconnect();\n",
       "        }}\n",
       "}});\n",
       "\n",
       "// Listen for the removal of the full notebook cells\n",
       "var notebookContainer = gd.closest('#notebook-container');\n",
       "if (notebookContainer) {{\n",
       "    x.observe(notebookContainer, {childList: true});\n",
       "}}\n",
       "\n",
       "// Listen for the clearing of the current output cell\n",
       "var outputEl = gd.closest('.output');\n",
       "if (outputEl) {{\n",
       "    x.observe(outputEl, {childList: true});\n",
       "}}\n",
       "\n",
       "                        })                };                });            </script>        </div>"
      ]
     },
     "metadata": {},
     "output_type": "display_data"
    }
   ],
   "source": [
    "px.sunburst(data_frame = df.dropna(), path = ['region', 'vision', 'weapon_type'])"
   ]
  },
  {
   "cell_type": "code",
   "execution_count": 26,
   "id": "0e577cce",
   "metadata": {
    "execution": {
     "iopub.execute_input": "2023-06-05T09:19:29.642711Z",
     "iopub.status.busy": "2023-06-05T09:19:29.641694Z",
     "iopub.status.idle": "2023-06-05T09:19:29.769333Z",
     "shell.execute_reply": "2023-06-05T09:19:29.767610Z"
    },
    "papermill": {
     "duration": 0.150873,
     "end_time": "2023-06-05T09:19:29.772735",
     "exception": false,
     "start_time": "2023-06-05T09:19:29.621862",
     "status": "completed"
    },
    "tags": []
   },
   "outputs": [
    {
     "data": {
      "text/html": [
       "<div>                            <div id=\"97570f18-9fd3-4472-b4fe-910a799d5a91\" class=\"plotly-graph-div\" style=\"height:525px; width:100%;\"></div>            <script type=\"text/javascript\">                require([\"plotly\"], function(Plotly) {                    window.PLOTLYENV=window.PLOTLYENV || {};                                    if (document.getElementById(\"97570f18-9fd3-4472-b4fe-910a799d5a91\")) {                    Plotly.newPlot(                        \"97570f18-9fd3-4472-b4fe-910a799d5a91\",                        [{\"branchvalues\":\"total\",\"domain\":{\"x\":[0.0,1.0],\"y\":[0.0,1.0]},\"hovertemplate\":\"labels=%{label}<br>count=%{value}<br>parent=%{parent}<br>id=%{id}<extra></extra>\",\"ids\":[\"Mondstadt/Bow/Anemo\",\"Inazuma/Catalyst/Anemo\",\"Mondstadt/Catalyst/Anemo\",\"Inazuma/Claymore/Anemo\",\"Liyue/Polearm/Anemo\",\"Inazuma/Sword/Anemo\",\"Mondstadt/Sword/Anemo\",\"Liyue/Bow/Cryo\",\"Mondstadt/Bow/Cryo\",\"Liyue/Claymore/Cryo\",\"Mondstadt/Claymore/Cryo\",\"Liyue/Polearm/Cryo\",\"Mondstadt/Polearm/Cryo\",\"Inazuma/Sword/Cryo\",\"Liyue/Sword/Cryo\",\"Mondstadt/Sword/Cryo\",\"Sumeru/Bow/Dendro\",\"Inazuma/Bow/Electro\",\"Mondstadt/Bow/Electro\",\"Inazuma/Catalyst/Electro\",\"Mondstadt/Catalyst/Electro\",\"Liyue/Claymore/Electro\",\"Mondstadt/Claymore/Electro\",\"Sumeru/Claymore/Electro\",\"Inazuma/Polearm/Electro\",\"Sumeru/Polearm/Electro\",\"Inazuma/Sword/Electro\",\"Liyue/Sword/Electro\",\"Inazuma/Bow/Geo\",\"Liyue/Catalyst/Geo\",\"Inazuma/Claymore/Geo\",\"Mondstadt/Claymore/Geo\",\"Liyue/Polearm/Geo\",\"Mondstadt/Sword/Geo\",\"Liyue/Bow/Hydro\",\"Snezhnaya/Bow/Hydro\",\"Inazuma/Catalyst/Hydro\",\"Mondstadt/Catalyst/Hydro\",\"Sumeru/Polearm/Hydro\",\"Inazuma/Sword/Hydro\",\"Liyue/Sword/Hydro\",\"Sumeru/Sword/Hydro\",\"Inazuma/Bow/Pyro\",\"Mondstadt/Bow/Pyro\",\"Liyue/Catalyst/Pyro\",\"Mondstadt/Catalyst/Pyro\",\"Liyue/Claymore/Pyro\",\"Mondstadt/Claymore/Pyro\",\"Inazuma/Polearm/Pyro\",\"Liyue/Polearm/Pyro\",\"Mondstadt/Sword/Pyro\",\"Inazuma/Bow\",\"Liyue/Bow\",\"Mondstadt/Bow\",\"Snezhnaya/Bow\",\"Sumeru/Bow\",\"Inazuma/Catalyst\",\"Liyue/Catalyst\",\"Mondstadt/Catalyst\",\"Inazuma/Claymore\",\"Liyue/Claymore\",\"Mondstadt/Claymore\",\"Sumeru/Claymore\",\"Inazuma/Polearm\",\"Liyue/Polearm\",\"Mondstadt/Polearm\",\"Sumeru/Polearm\",\"Inazuma/Sword\",\"Liyue/Sword\",\"Mondstadt/Sword\",\"Sumeru/Sword\",\"Inazuma\",\"Liyue\",\"Mondstadt\",\"Snezhnaya\",\"Sumeru\"],\"labels\":[\"Anemo\",\"Anemo\",\"Anemo\",\"Anemo\",\"Anemo\",\"Anemo\",\"Anemo\",\"Cryo\",\"Cryo\",\"Cryo\",\"Cryo\",\"Cryo\",\"Cryo\",\"Cryo\",\"Cryo\",\"Cryo\",\"Dendro\",\"Electro\",\"Electro\",\"Electro\",\"Electro\",\"Electro\",\"Electro\",\"Electro\",\"Electro\",\"Electro\",\"Electro\",\"Electro\",\"Geo\",\"Geo\",\"Geo\",\"Geo\",\"Geo\",\"Geo\",\"Hydro\",\"Hydro\",\"Hydro\",\"Hydro\",\"Hydro\",\"Hydro\",\"Hydro\",\"Hydro\",\"Pyro\",\"Pyro\",\"Pyro\",\"Pyro\",\"Pyro\",\"Pyro\",\"Pyro\",\"Pyro\",\"Pyro\",\"Bow\",\"Bow\",\"Bow\",\"Bow\",\"Bow\",\"Catalyst\",\"Catalyst\",\"Catalyst\",\"Claymore\",\"Claymore\",\"Claymore\",\"Claymore\",\"Polearm\",\"Polearm\",\"Polearm\",\"Polearm\",\"Sword\",\"Sword\",\"Sword\",\"Sword\",\"Inazuma\",\"Liyue\",\"Mondstadt\",\"Snezhnaya\",\"Sumeru\"],\"name\":\"\",\"parents\":[\"Mondstadt/Bow\",\"Inazuma/Catalyst\",\"Mondstadt/Catalyst\",\"Inazuma/Claymore\",\"Liyue/Polearm\",\"Inazuma/Sword\",\"Mondstadt/Sword\",\"Liyue/Bow\",\"Mondstadt/Bow\",\"Liyue/Claymore\",\"Mondstadt/Claymore\",\"Liyue/Polearm\",\"Mondstadt/Polearm\",\"Inazuma/Sword\",\"Liyue/Sword\",\"Mondstadt/Sword\",\"Sumeru/Bow\",\"Inazuma/Bow\",\"Mondstadt/Bow\",\"Inazuma/Catalyst\",\"Mondstadt/Catalyst\",\"Liyue/Claymore\",\"Mondstadt/Claymore\",\"Sumeru/Claymore\",\"Inazuma/Polearm\",\"Sumeru/Polearm\",\"Inazuma/Sword\",\"Liyue/Sword\",\"Inazuma/Bow\",\"Liyue/Catalyst\",\"Inazuma/Claymore\",\"Mondstadt/Claymore\",\"Liyue/Polearm\",\"Mondstadt/Sword\",\"Liyue/Bow\",\"Snezhnaya/Bow\",\"Inazuma/Catalyst\",\"Mondstadt/Catalyst\",\"Sumeru/Polearm\",\"Inazuma/Sword\",\"Liyue/Sword\",\"Sumeru/Sword\",\"Inazuma/Bow\",\"Mondstadt/Bow\",\"Liyue/Catalyst\",\"Mondstadt/Catalyst\",\"Liyue/Claymore\",\"Mondstadt/Claymore\",\"Inazuma/Polearm\",\"Liyue/Polearm\",\"Mondstadt/Sword\",\"Inazuma\",\"Liyue\",\"Mondstadt\",\"Snezhnaya\",\"Sumeru\",\"Inazuma\",\"Liyue\",\"Mondstadt\",\"Inazuma\",\"Liyue\",\"Mondstadt\",\"Sumeru\",\"Inazuma\",\"Liyue\",\"Mondstadt\",\"Sumeru\",\"Inazuma\",\"Liyue\",\"Mondstadt\",\"Sumeru\",\"\",\"\",\"\",\"\",\"\"],\"values\":[1,1,1,1,1,1,1,1,1,1,1,1,1,1,1,1,2,1,1,1,1,1,1,1,1,1,1,1,1,1,1,1,2,1,1,1,1,2,1,1,1,1,1,1,1,1,1,1,1,2,1,3,2,4,1,2,3,2,5,2,3,4,1,2,6,1,2,4,3,4,1,14,16,18,1,6],\"type\":\"sunburst\"}],                        {\"template\":{\"data\":{\"histogram2dcontour\":[{\"type\":\"histogram2dcontour\",\"colorbar\":{\"outlinewidth\":0,\"ticks\":\"\"},\"colorscale\":[[0.0,\"#0d0887\"],[0.1111111111111111,\"#46039f\"],[0.2222222222222222,\"#7201a8\"],[0.3333333333333333,\"#9c179e\"],[0.4444444444444444,\"#bd3786\"],[0.5555555555555556,\"#d8576b\"],[0.6666666666666666,\"#ed7953\"],[0.7777777777777778,\"#fb9f3a\"],[0.8888888888888888,\"#fdca26\"],[1.0,\"#f0f921\"]]}],\"choropleth\":[{\"type\":\"choropleth\",\"colorbar\":{\"outlinewidth\":0,\"ticks\":\"\"}}],\"histogram2d\":[{\"type\":\"histogram2d\",\"colorbar\":{\"outlinewidth\":0,\"ticks\":\"\"},\"colorscale\":[[0.0,\"#0d0887\"],[0.1111111111111111,\"#46039f\"],[0.2222222222222222,\"#7201a8\"],[0.3333333333333333,\"#9c179e\"],[0.4444444444444444,\"#bd3786\"],[0.5555555555555556,\"#d8576b\"],[0.6666666666666666,\"#ed7953\"],[0.7777777777777778,\"#fb9f3a\"],[0.8888888888888888,\"#fdca26\"],[1.0,\"#f0f921\"]]}],\"heatmap\":[{\"type\":\"heatmap\",\"colorbar\":{\"outlinewidth\":0,\"ticks\":\"\"},\"colorscale\":[[0.0,\"#0d0887\"],[0.1111111111111111,\"#46039f\"],[0.2222222222222222,\"#7201a8\"],[0.3333333333333333,\"#9c179e\"],[0.4444444444444444,\"#bd3786\"],[0.5555555555555556,\"#d8576b\"],[0.6666666666666666,\"#ed7953\"],[0.7777777777777778,\"#fb9f3a\"],[0.8888888888888888,\"#fdca26\"],[1.0,\"#f0f921\"]]}],\"heatmapgl\":[{\"type\":\"heatmapgl\",\"colorbar\":{\"outlinewidth\":0,\"ticks\":\"\"},\"colorscale\":[[0.0,\"#0d0887\"],[0.1111111111111111,\"#46039f\"],[0.2222222222222222,\"#7201a8\"],[0.3333333333333333,\"#9c179e\"],[0.4444444444444444,\"#bd3786\"],[0.5555555555555556,\"#d8576b\"],[0.6666666666666666,\"#ed7953\"],[0.7777777777777778,\"#fb9f3a\"],[0.8888888888888888,\"#fdca26\"],[1.0,\"#f0f921\"]]}],\"contourcarpet\":[{\"type\":\"contourcarpet\",\"colorbar\":{\"outlinewidth\":0,\"ticks\":\"\"}}],\"contour\":[{\"type\":\"contour\",\"colorbar\":{\"outlinewidth\":0,\"ticks\":\"\"},\"colorscale\":[[0.0,\"#0d0887\"],[0.1111111111111111,\"#46039f\"],[0.2222222222222222,\"#7201a8\"],[0.3333333333333333,\"#9c179e\"],[0.4444444444444444,\"#bd3786\"],[0.5555555555555556,\"#d8576b\"],[0.6666666666666666,\"#ed7953\"],[0.7777777777777778,\"#fb9f3a\"],[0.8888888888888888,\"#fdca26\"],[1.0,\"#f0f921\"]]}],\"surface\":[{\"type\":\"surface\",\"colorbar\":{\"outlinewidth\":0,\"ticks\":\"\"},\"colorscale\":[[0.0,\"#0d0887\"],[0.1111111111111111,\"#46039f\"],[0.2222222222222222,\"#7201a8\"],[0.3333333333333333,\"#9c179e\"],[0.4444444444444444,\"#bd3786\"],[0.5555555555555556,\"#d8576b\"],[0.6666666666666666,\"#ed7953\"],[0.7777777777777778,\"#fb9f3a\"],[0.8888888888888888,\"#fdca26\"],[1.0,\"#f0f921\"]]}],\"mesh3d\":[{\"type\":\"mesh3d\",\"colorbar\":{\"outlinewidth\":0,\"ticks\":\"\"}}],\"scatter\":[{\"fillpattern\":{\"fillmode\":\"overlay\",\"size\":10,\"solidity\":0.2},\"type\":\"scatter\"}],\"parcoords\":[{\"type\":\"parcoords\",\"line\":{\"colorbar\":{\"outlinewidth\":0,\"ticks\":\"\"}}}],\"scatterpolargl\":[{\"type\":\"scatterpolargl\",\"marker\":{\"colorbar\":{\"outlinewidth\":0,\"ticks\":\"\"}}}],\"bar\":[{\"error_x\":{\"color\":\"#2a3f5f\"},\"error_y\":{\"color\":\"#2a3f5f\"},\"marker\":{\"line\":{\"color\":\"#E5ECF6\",\"width\":0.5},\"pattern\":{\"fillmode\":\"overlay\",\"size\":10,\"solidity\":0.2}},\"type\":\"bar\"}],\"scattergeo\":[{\"type\":\"scattergeo\",\"marker\":{\"colorbar\":{\"outlinewidth\":0,\"ticks\":\"\"}}}],\"scatterpolar\":[{\"type\":\"scatterpolar\",\"marker\":{\"colorbar\":{\"outlinewidth\":0,\"ticks\":\"\"}}}],\"histogram\":[{\"marker\":{\"pattern\":{\"fillmode\":\"overlay\",\"size\":10,\"solidity\":0.2}},\"type\":\"histogram\"}],\"scattergl\":[{\"type\":\"scattergl\",\"marker\":{\"colorbar\":{\"outlinewidth\":0,\"ticks\":\"\"}}}],\"scatter3d\":[{\"type\":\"scatter3d\",\"line\":{\"colorbar\":{\"outlinewidth\":0,\"ticks\":\"\"}},\"marker\":{\"colorbar\":{\"outlinewidth\":0,\"ticks\":\"\"}}}],\"scattermapbox\":[{\"type\":\"scattermapbox\",\"marker\":{\"colorbar\":{\"outlinewidth\":0,\"ticks\":\"\"}}}],\"scatterternary\":[{\"type\":\"scatterternary\",\"marker\":{\"colorbar\":{\"outlinewidth\":0,\"ticks\":\"\"}}}],\"scattercarpet\":[{\"type\":\"scattercarpet\",\"marker\":{\"colorbar\":{\"outlinewidth\":0,\"ticks\":\"\"}}}],\"carpet\":[{\"aaxis\":{\"endlinecolor\":\"#2a3f5f\",\"gridcolor\":\"white\",\"linecolor\":\"white\",\"minorgridcolor\":\"white\",\"startlinecolor\":\"#2a3f5f\"},\"baxis\":{\"endlinecolor\":\"#2a3f5f\",\"gridcolor\":\"white\",\"linecolor\":\"white\",\"minorgridcolor\":\"white\",\"startlinecolor\":\"#2a3f5f\"},\"type\":\"carpet\"}],\"table\":[{\"cells\":{\"fill\":{\"color\":\"#EBF0F8\"},\"line\":{\"color\":\"white\"}},\"header\":{\"fill\":{\"color\":\"#C8D4E3\"},\"line\":{\"color\":\"white\"}},\"type\":\"table\"}],\"barpolar\":[{\"marker\":{\"line\":{\"color\":\"#E5ECF6\",\"width\":0.5},\"pattern\":{\"fillmode\":\"overlay\",\"size\":10,\"solidity\":0.2}},\"type\":\"barpolar\"}],\"pie\":[{\"automargin\":true,\"type\":\"pie\"}]},\"layout\":{\"autotypenumbers\":\"strict\",\"colorway\":[\"#636efa\",\"#EF553B\",\"#00cc96\",\"#ab63fa\",\"#FFA15A\",\"#19d3f3\",\"#FF6692\",\"#B6E880\",\"#FF97FF\",\"#FECB52\"],\"font\":{\"color\":\"#2a3f5f\"},\"hovermode\":\"closest\",\"hoverlabel\":{\"align\":\"left\"},\"paper_bgcolor\":\"white\",\"plot_bgcolor\":\"#E5ECF6\",\"polar\":{\"bgcolor\":\"#E5ECF6\",\"angularaxis\":{\"gridcolor\":\"white\",\"linecolor\":\"white\",\"ticks\":\"\"},\"radialaxis\":{\"gridcolor\":\"white\",\"linecolor\":\"white\",\"ticks\":\"\"}},\"ternary\":{\"bgcolor\":\"#E5ECF6\",\"aaxis\":{\"gridcolor\":\"white\",\"linecolor\":\"white\",\"ticks\":\"\"},\"baxis\":{\"gridcolor\":\"white\",\"linecolor\":\"white\",\"ticks\":\"\"},\"caxis\":{\"gridcolor\":\"white\",\"linecolor\":\"white\",\"ticks\":\"\"}},\"coloraxis\":{\"colorbar\":{\"outlinewidth\":0,\"ticks\":\"\"}},\"colorscale\":{\"sequential\":[[0.0,\"#0d0887\"],[0.1111111111111111,\"#46039f\"],[0.2222222222222222,\"#7201a8\"],[0.3333333333333333,\"#9c179e\"],[0.4444444444444444,\"#bd3786\"],[0.5555555555555556,\"#d8576b\"],[0.6666666666666666,\"#ed7953\"],[0.7777777777777778,\"#fb9f3a\"],[0.8888888888888888,\"#fdca26\"],[1.0,\"#f0f921\"]],\"sequentialminus\":[[0.0,\"#0d0887\"],[0.1111111111111111,\"#46039f\"],[0.2222222222222222,\"#7201a8\"],[0.3333333333333333,\"#9c179e\"],[0.4444444444444444,\"#bd3786\"],[0.5555555555555556,\"#d8576b\"],[0.6666666666666666,\"#ed7953\"],[0.7777777777777778,\"#fb9f3a\"],[0.8888888888888888,\"#fdca26\"],[1.0,\"#f0f921\"]],\"diverging\":[[0,\"#8e0152\"],[0.1,\"#c51b7d\"],[0.2,\"#de77ae\"],[0.3,\"#f1b6da\"],[0.4,\"#fde0ef\"],[0.5,\"#f7f7f7\"],[0.6,\"#e6f5d0\"],[0.7,\"#b8e186\"],[0.8,\"#7fbc41\"],[0.9,\"#4d9221\"],[1,\"#276419\"]]},\"xaxis\":{\"gridcolor\":\"white\",\"linecolor\":\"white\",\"ticks\":\"\",\"title\":{\"standoff\":15},\"zerolinecolor\":\"white\",\"automargin\":true,\"zerolinewidth\":2},\"yaxis\":{\"gridcolor\":\"white\",\"linecolor\":\"white\",\"ticks\":\"\",\"title\":{\"standoff\":15},\"zerolinecolor\":\"white\",\"automargin\":true,\"zerolinewidth\":2},\"scene\":{\"xaxis\":{\"backgroundcolor\":\"#E5ECF6\",\"gridcolor\":\"white\",\"linecolor\":\"white\",\"showbackground\":true,\"ticks\":\"\",\"zerolinecolor\":\"white\",\"gridwidth\":2},\"yaxis\":{\"backgroundcolor\":\"#E5ECF6\",\"gridcolor\":\"white\",\"linecolor\":\"white\",\"showbackground\":true,\"ticks\":\"\",\"zerolinecolor\":\"white\",\"gridwidth\":2},\"zaxis\":{\"backgroundcolor\":\"#E5ECF6\",\"gridcolor\":\"white\",\"linecolor\":\"white\",\"showbackground\":true,\"ticks\":\"\",\"zerolinecolor\":\"white\",\"gridwidth\":2}},\"shapedefaults\":{\"line\":{\"color\":\"#2a3f5f\"}},\"annotationdefaults\":{\"arrowcolor\":\"#2a3f5f\",\"arrowhead\":0,\"arrowwidth\":1},\"geo\":{\"bgcolor\":\"white\",\"landcolor\":\"#E5ECF6\",\"subunitcolor\":\"white\",\"showland\":true,\"showlakes\":true,\"lakecolor\":\"white\"},\"title\":{\"x\":0.05},\"mapbox\":{\"style\":\"light\"}}},\"legend\":{\"tracegroupgap\":0},\"margin\":{\"t\":60}},                        {\"responsive\": true}                    ).then(function(){\n",
       "                            \n",
       "var gd = document.getElementById('97570f18-9fd3-4472-b4fe-910a799d5a91');\n",
       "var x = new MutationObserver(function (mutations, observer) {{\n",
       "        var display = window.getComputedStyle(gd).display;\n",
       "        if (!display || display === 'none') {{\n",
       "            console.log([gd, 'removed!']);\n",
       "            Plotly.purge(gd);\n",
       "            observer.disconnect();\n",
       "        }}\n",
       "}});\n",
       "\n",
       "// Listen for the removal of the full notebook cells\n",
       "var notebookContainer = gd.closest('#notebook-container');\n",
       "if (notebookContainer) {{\n",
       "    x.observe(notebookContainer, {childList: true});\n",
       "}}\n",
       "\n",
       "// Listen for the clearing of the current output cell\n",
       "var outputEl = gd.closest('.output');\n",
       "if (outputEl) {{\n",
       "    x.observe(outputEl, {childList: true});\n",
       "}}\n",
       "\n",
       "                        })                };                });            </script>        </div>"
      ]
     },
     "metadata": {},
     "output_type": "display_data"
    }
   ],
   "source": [
    "px.sunburst(data_frame = df.dropna(), path = ['region', 'weapon_type', 'vision'])"
   ]
  }
 ],
 "metadata": {
  "kernelspec": {
   "display_name": "Python 3",
   "language": "python",
   "name": "python3"
  },
  "language_info": {
   "codemirror_mode": {
    "name": "ipython",
    "version": 3
   },
   "file_extension": ".py",
   "mimetype": "text/x-python",
   "name": "python",
   "nbconvert_exporter": "python",
   "pygments_lexer": "ipython3",
   "version": "3.7.12"
  },
  "papermill": {
   "default_parameters": {},
   "duration": 25.458124,
   "end_time": "2023-06-05T09:19:30.819270",
   "environment_variables": {},
   "exception": null,
   "input_path": "__notebook__.ipynb",
   "output_path": "__notebook__.ipynb",
   "parameters": {},
   "start_time": "2023-06-05T09:19:05.361146",
   "version": "2.4.0"
  }
 },
 "nbformat": 4,
 "nbformat_minor": 5
}
